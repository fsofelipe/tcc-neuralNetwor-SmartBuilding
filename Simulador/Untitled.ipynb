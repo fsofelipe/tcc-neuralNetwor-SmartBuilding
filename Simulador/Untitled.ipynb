{
 "cells": [
  {
   "cell_type": "code",
   "execution_count": 1,
   "metadata": {},
   "outputs": [],
   "source": [
    "import pandas as pd\n",
    "import numpy as np"
   ]
  },
  {
   "cell_type": "code",
   "execution_count": 3,
   "metadata": {},
   "outputs": [],
   "source": [
    "def getRandoms():\n",
    "    lista = np.random.rand(1,23)\n",
    "    lista = np.around(lista, decimals=2)\n",
    "    lista[0][0] = 0  # PortaServicoLeste\n",
    "    lista[0][3] = 0  # PortaCasalOeste\n",
    "    lista[0][6] = 0  # PortaBanheiroOeste\n",
    "    lista[0][7] = 1  # JanelaJardimNorte\n",
    "    lista[0][8] = 1  # JanelaJardimLeste\n",
    "    lista[0][10] = 0 # PortaSolteiroSul\n",
    "    lista[0][12] = 0 # PortaSalaNorte\n",
    "    lista[0][22] = 0 # JanelaSegundoSul\n",
    "    return lista\n",
    "    \n",
    "def getAll1():\n",
    "    lista = np.ones((1, 23), dtype=np.int)\n",
    "    lista[0][0] = 0  # PortaServicoLeste\n",
    "    lista[0][3] = 0  # PortaCasalOeste\n",
    "    lista[0][6] = 0  # PortaBanheiroOeste\n",
    "    lista[0][7] = 1  # JanelaJardimNorte\n",
    "    lista[0][8] = 1  # JanelaJardimLeste\n",
    "    lista[0][10] = 0 # PortaSolteiroSul\n",
    "    lista[0][12] = 0 # PortaSalaNorte\n",
    "    lista[0][22] = 0 # JanelaSegundoSul\n",
    "    return lista\n",
    "\n",
    "def getAll0():\n",
    "    lista = np.zeros((1, 23), dtype=np.int)\n",
    "    lista[0][0] = 0  # PortaServicoLeste\n",
    "    lista[0][3] = 0  # PortaCasalOeste\n",
    "    lista[0][6] = 0  # PortaBanheiroOeste\n",
    "    lista[0][7] = 1  # JanelaJardimNorte\n",
    "    lista[0][8] = 1  # JanelaJardimLeste\n",
    "    lista[0][10] = 0 # PortaSolteiroSul\n",
    "    lista[0][12] = 0 # PortaSalaNorte\n",
    "    lista[0][22] = 0 # JanelaSegundoSul\n",
    "    return lista"
   ]
  },
  {
   "cell_type": "code",
   "execution_count": 4,
   "metadata": {},
   "outputs": [
    {
     "name": "stdout",
     "output_type": "stream",
     "text": [
      "[[ 0.    0.83  0.52  0.    0.22  0.76  0.    1.    1.    0.87  0.    0.17\n",
      "   0.    0.44  0.6   0.07  0.24  0.05  0.41  0.17  0.08  0.67  0.  ]]\n"
     ]
    }
   ],
   "source": [
    "print getRandoms()"
   ]
  },
  {
   "cell_type": "code",
   "execution_count": null,
   "metadata": {},
   "outputs": [],
   "source": []
  }
 ],
 "metadata": {
  "kernelspec": {
   "display_name": "Python 2",
   "language": "python",
   "name": "python2"
  },
  "language_info": {
   "codemirror_mode": {
    "name": "ipython",
    "version": 2
   },
   "file_extension": ".py",
   "mimetype": "text/x-python",
   "name": "python",
   "nbconvert_exporter": "python",
   "pygments_lexer": "ipython2",
   "version": "2.7.12"
  }
 },
 "nbformat": 4,
 "nbformat_minor": 2
}
