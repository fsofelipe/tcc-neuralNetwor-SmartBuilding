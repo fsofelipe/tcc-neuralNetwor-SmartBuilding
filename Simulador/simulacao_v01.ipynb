{
 "cells": [
  {
   "cell_type": "code",
   "execution_count": 1,
   "metadata": {},
   "outputs": [],
   "source": [
    "import pandas as pd\n",
    "import numpy as np\n",
    "\n",
    "np.random.seed(79)\n",
    "\n",
    "%run Python/simulation.py\n",
    "%run Python/dataNumpy.py"
   ]
  },
  {
   "cell_type": "code",
   "execution_count": 2,
   "metadata": {},
   "outputs": [
    {
     "name": "stdout",
     "output_type": "stream",
     "text": [
      "48\n"
     ]
    }
   ],
   "source": [
    "header = ['Mes', 'Dia', 'Hora', \n",
    "         'Temperature', 'Wind_Speed', 'Wind_Direction', 'Humidity', 'Air_Density', 'Rain_Status',\n",
    "         'AreaServico_PMV', 'AreaServico_Temp', 'Circulacao_PMV', 'Circulacao_Temp', 'Casal_PMV', 'Casal_Temp', 'Banheiro_PMV', 'Banheiro_Temp', 'Jardim_PMV', 'Jardim_Temp', 'Solteiro_PMV', 'Solteiro_Temp', 'Sala_PMV', 'Sala_Temp', 'Mezanino_PMV', 'Mezanino_Temp',\n",
    "         'PortaServicoLeste', 'JanelaServicoSul', 'JanelaCasalNorte', 'PortaCasalOeste', 'JanelaCasalOeste', 'JanelaBanheiroLeste', 'PortaBanheiroOeste', 'JanelaJardimNorte', 'JanelaJardimLeste', 'JanelaSolteiroNorte', 'PortaSolteiroSul', 'JanelaSolteiroSul', 'PortaSalaNorte', 'JanelaSalaNorte', 'PortaSalaLeste', 'JanelaSalaSul', 'JanelaSalaOeste', 'PortaCozinhaLeste', 'JanelaCozinhaSul', 'JanelaMezaninoNorte', 'JanelaMezaninoSul', 'JanelaMezaninoOeste', 'JanelaSegundoSul' \n",
    "         ]\n",
    "\n",
    "print len(header)"
   ]
  },
  {
   "cell_type": "code",
   "execution_count": 3,
   "metadata": {},
   "outputs": [],
   "source": [
    "def changePort(PORT):\n",
    "    base = open('simulateAndExit_base.m', 'r')\n",
    "    f = open('simulateAndExit.m', 'w')\n",
    "    lines = base.readlines()\n",
    "    lines[37] = str(lines[37]).replace('50001', str(PORT))\n",
    "    with open('simulateAndExit.m', 'w') as file_handler:\n",
    "        for item in lines:\n",
    "            file_handler.write(\"{}\".format(item))\n",
    "            \n",
    "    base.close()\n",
    "    f.close()"
   ]
  },
  {
   "cell_type": "code",
   "execution_count": 4,
   "metadata": {},
   "outputs": [],
   "source": [
    "def getRandoms():\n",
    "    lista = np.random.rand(1,23)\n",
    "    lista = np.around(lista, decimals=2)\n",
    "    lista[0][0] = 0  # PortaServicoLeste\n",
    "    lista[0][3] = 0  # PortaCasalOeste\n",
    "    lista[0][6] = 0  # PortaBanheiroOeste\n",
    "    lista[0][7] = 1  # JanelaJardimNorte\n",
    "    lista[0][8] = 1  # JanelaJardimLeste\n",
    "    lista[0][10] = 0 # PortaSolteiroSul\n",
    "    lista[0][12] = 0 # PortaSalaNorte\n",
    "    lista[0][22] = 0 # JanelaSegundoSul\n",
    "    return lista\n",
    "    \n",
    "def getAll1():\n",
    "    lista = np.ones((1, 23), dtype=np.int)\n",
    "    lista[0][0] = 0  # PortaServicoLeste\n",
    "    lista[0][3] = 0  # PortaCasalOeste\n",
    "    lista[0][6] = 0  # PortaBanheiroOeste\n",
    "    lista[0][7] = 1  # JanelaJardimNorte\n",
    "    lista[0][8] = 1  # JanelaJardimLeste\n",
    "    lista[0][10] = 0 # PortaSolteiroSul\n",
    "    lista[0][12] = 0 # PortaSalaNorte\n",
    "    lista[0][22] = 0 # JanelaSegundoSul\n",
    "    return lista\n",
    "\n",
    "def getAll0():\n",
    "    lista = np.zeros((1, 23), dtype=np.int)\n",
    "    lista[0][0] = 0  # PortaServicoLeste\n",
    "    lista[0][3] = 0  # PortaCasalOeste\n",
    "    lista[0][6] = 0  # PortaBanheiroOeste\n",
    "    lista[0][7] = 1  # JanelaJardimNorte\n",
    "    lista[0][8] = 1  # JanelaJardimLeste\n",
    "    lista[0][10] = 0 # PortaSolteiroSul\n",
    "    lista[0][12] = 0 # PortaSalaNorte\n",
    "    lista[0][22] = 0 # JanelaSegundoSul\n",
    "    return lista"
   ]
  },
  {
   "cell_type": "code",
   "execution_count": 7,
   "metadata": {},
   "outputs": [],
   "source": [
    "testes = [\"%03d\" % i for i in xrange(33, 151)]"
   ]
  },
  {
   "cell_type": "code",
   "execution_count": null,
   "metadata": {
    "scrolled": true
   },
   "outputs": [
    {
     "name": "stdout",
     "output_type": "stream",
     "text": [
      "033\n",
      "PYTHON || simulacao.py: Iniciando simulacao\n",
      "PYTHON || simulacao.py: Esperando inicializacao do BCVTB\n",
      "PYTHON || simulation.py: Recebendo dados\n",
      "PYTHON || simulacao.py: SIMULACAO CONCLUIDA\n",
      "PYTHON || simulacao.py: TEMPO DA SIMULACAO: 0:07:17.723707\n",
      "FIM!\n",
      "034\n",
      "PYTHON || simulacao.py: Iniciando simulacao\n",
      "PYTHON || simulacao.py: Esperando inicializacao do BCVTB\n",
      "PYTHON || simulation.py: Recebendo dados\n",
      "PYTHON || simulacao.py: SIMULACAO CONCLUIDA\n",
      "PYTHON || simulacao.py: TEMPO DA SIMULACAO: 0:07:10.595454\n",
      "FIM!\n",
      "035\n",
      "PYTHON || simulacao.py: Iniciando simulacao\n",
      "PYTHON || simulacao.py: Esperando inicializacao do BCVTB\n",
      "PYTHON || simulation.py: Recebendo dados\n"
     ]
    }
   ],
   "source": [
    "for ID in testes:\n",
    "    print ID\n",
    "    PORT = int(\"52\"+ID)+1\n",
    "    changePort(PORT)\n",
    "    path = \"../Data/Canguçu/\"\n",
    "    fileName = \"simulation_random_\" + ID + \".csv\"\n",
    "\n",
    "    # data = [3]\n",
    "    # climaticos = [22]\n",
    "    # aberturas = [23]\n",
    "    # total = [48]\n",
    "\n",
    "    NP_data = np.zeros((1, 48))\n",
    "    NP_salvar = np.zeros((1, 48))\n",
    "\n",
    "    ## SIMULACAO\n",
    "    Simulate = Connection(PORT)\n",
    "    connec = Simulate.start()\n",
    "\n",
    "    while True:\n",
    "        data = connec[0].recv(1024)\n",
    "        #print (\"raw data:\")\n",
    "        #print (data)\n",
    "\n",
    "        if not data:\n",
    "            break\n",
    "\n",
    "        #dados direto do matlab em string\n",
    "        fromMatlab = data.decode(\"utf-8\")\n",
    "\n",
    "        #lista com\n",
    "        dataAndTime = fromMatlab.split(\",\")\n",
    "\n",
    "        weatherInText = dataAndTime[0].replace(\"[\", \"\")\n",
    "        weatherInText = weatherInText.replace(\"]\", \"\")\n",
    "\n",
    "        timeInfo = myTime.getTimeInfo(int(dataAndTime[1]))\n",
    "\n",
    "\n",
    "        #Gera uma lista com os dados climatologicos\n",
    "        weather = []\n",
    "        for x in weatherInText.split(\" \"):\n",
    "            weather.append(float(x))\n",
    "\n",
    "\n",
    "        np_timeInfo = np.array([timeInfo])\n",
    "        np_weather = np.array([weather])\n",
    "\n",
    "\n",
    "\n",
    "        #openings = [0, 0, 0, 0, 0, 0, 0, 0, 0, 0, 0, 0, 0, 0, 0, 0, 0, 0, 0, 0, 0, 0, 0]\n",
    "\n",
    "        #np_openings = getAll1()\n",
    "        #np_openings = getAll0()\n",
    "        np_openings = getRandoms()\n",
    "        sendList = np_openings.tolist()[0]\n",
    "\n",
    "\n",
    "\n",
    "        NP_data = np.column_stack((np_timeInfo, np_weather, np_openings))\n",
    "\n",
    "        NP_salvar = np.row_stack((NP_salvar, NP_data))\n",
    "\n",
    "        sendToMatlab = ', '.join(str(float(\"%.2f\" % e)) for e in sendList )\n",
    "\n",
    "        #print(\"OUTPUT DATA:\")\n",
    "        #print (sendToMatlab)\n",
    "        connec[0].sendall(str.encode(sendToMatlab))\n",
    "\n",
    "    Simulate.close()\n",
    "\n",
    "    arquivo = pd.DataFrame(NP_salvar)\n",
    "    arquivo.columns = header\n",
    "    arquivo = arquivo[2:]\n",
    "    arquivo = arquivo[:-1]\n",
    "    arquivo.to_csv(path + fileName, index=False)\n",
    "\n",
    "\n",
    "    print (\"FIM!\")\n"
   ]
  },
  {
   "cell_type": "code",
   "execution_count": 16,
   "metadata": {},
   "outputs": [],
   "source": [
    "arquivo.to_csv(path + fileName, index=False)"
   ]
  },
  {
   "cell_type": "code",
   "execution_count": null,
   "metadata": {},
   "outputs": [],
   "source": []
  }
 ],
 "metadata": {
  "kernelspec": {
   "display_name": "Python 2",
   "language": "python",
   "name": "python2"
  },
  "language_info": {
   "codemirror_mode": {
    "name": "ipython",
    "version": 2
   },
   "file_extension": ".py",
   "mimetype": "text/x-python",
   "name": "python",
   "nbconvert_exporter": "python",
   "pygments_lexer": "ipython2",
   "version": "2.7.12"
  }
 },
 "nbformat": 4,
 "nbformat_minor": 2
}
