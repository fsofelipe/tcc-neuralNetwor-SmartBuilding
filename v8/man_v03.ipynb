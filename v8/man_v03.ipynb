{
 "cells": [
  {
   "cell_type": "code",
   "execution_count": 1,
   "metadata": {},
   "outputs": [],
   "source": [
    "import pandas as pd\n",
    "import numpy as np\n",
    "from sklearn.utils import shuffle"
   ]
  },
  {
   "cell_type": "code",
   "execution_count": 2,
   "metadata": {},
   "outputs": [
    {
     "name": "stdout",
     "output_type": "stream",
     "text": [
      "48\n",
      "23\n",
      "23\n"
     ]
    }
   ],
   "source": [
    "header = ['Mes', 'Dia', 'Hora', \n",
    "         'Temperature', 'Wind_Speed', 'Wind_Direction', 'Humidity', 'Air_Density', 'Rain_Status',\n",
    "         'AreaServico_PMV', 'AreaServico_Temp', 'Circulacao_PMV', 'Circulacao_Temp', 'Casal_PMV', 'Casal_Temp', 'Banheiro_PMV', 'Banheiro_Temp', 'Jardim_PMV', 'Jardim_Temp', 'Solteiro_PMV', 'Solteiro_Temp', 'Sala_PMV', 'Sala_Temp', 'Mezanino_PMV', 'Mezanino_Temp',\n",
    "         'PortaServicoLeste', 'JanelaServicoSul', 'JanelaCasalNorte', 'PortaCasalOeste', 'JanelaCasalOeste', 'JanelaBanheiroLeste', 'PortaBanheiroOeste', 'JanelaJardimNorte', 'JanelaJardimLeste', 'JanelaSolteiroNorte', 'PortaSolteiroSul', 'JanelaSolteiroSul', 'PortaSalaNorte', 'JanelaSalaNorte', 'PortaSalaLeste', 'JanelaSalaSul', 'JanelaSalaOeste', 'PortaCozinhaLeste', 'JanelaCozinhaSul', 'JanelaMezaninoNorte', 'JanelaMezaninoSul', 'JanelaMezaninoOeste', 'JanelaSegundoSul' \n",
    "         ]\n",
    "header_input = ['Hora', 'Temperature', 'Wind_Speed', 'Wind_Direction', 'Humidity', 'Air_Density', 'Rain_Status',\n",
    "               'AreaServico_PMV', 'AreaServico_Temp', 'Circulacao_PMV', 'Circulacao_Temp', 'Casal_PMV', 'Casal_Temp', 'Banheiro_PMV', 'Banheiro_Temp', 'Jardim_PMV', 'Jardim_Temp', 'Solteiro_PMV', 'Solteiro_Temp', 'Sala_PMV', 'Sala_Temp', 'Mezanino_PMV', 'Mezanino_Temp'\n",
    "               ]\n",
    "header_output = [\n",
    "                'PortaServicoLeste', 'JanelaServicoSul', 'JanelaCasalNorte', 'PortaCasalOeste', 'JanelaCasalOeste', 'JanelaBanheiroLeste', 'PortaBanheiroOeste', 'JanelaJardimNorte', 'JanelaJardimLeste', 'JanelaSolteiroNorte', 'PortaSolteiroSul', 'JanelaSolteiroSul', 'PortaSalaNorte', 'JanelaSalaNorte', 'PortaSalaLeste', 'JanelaSalaSul', 'JanelaSalaOeste', 'PortaCozinhaLeste', 'JanelaCozinhaSul', 'JanelaMezaninoNorte', 'JanelaMezaninoSul', 'JanelaMezaninoOeste', 'JanelaSegundoSul'\n",
    "                ]\n",
    "print len(header)\n",
    "print (len(header_input))\n",
    "print (len(header_output))"
   ]
  },
  {
   "cell_type": "code",
   "execution_count": 3,
   "metadata": {},
   "outputs": [],
   "source": [
    "all1 = pd.read_csv('../Data/Canguçu/simulation_all1.csv')\n",
    "all0 = pd.read_csv('../Data/Canguçu/simulation_all0.csv')"
   ]
  },
  {
   "cell_type": "code",
   "execution_count": 4,
   "metadata": {},
   "outputs": [],
   "source": [
    "def is_better(dataFrame, it, PMV_label1, PMV_label2):\n",
    "    \"\"\"it = iterator\"\"\"\n",
    "    it = int(it)\n",
    "    if (it > 0 and it < (dataFrame['Mes'].count() - 1)):\n",
    "        if ((abs(dataFrame.iloc[it - 1][PMV_label1]) >= abs(dataFrame.iloc[it][PMV_label1])) and\n",
    "            (abs(dataFrame.iloc[it - 1][PMV_label2]) >= abs(dataFrame.iloc[it][PMV_label2]))):\n",
    "            return True\n",
    "        else:\n",
    "            return False\n",
    "    else:\n",
    "        return False\n",
    "    \n",
    "    #return (dataFrame.iloc(it))"
   ]
  },
  {
   "cell_type": "code",
   "execution_count": 5,
   "metadata": {},
   "outputs": [
    {
     "name": "stdout",
     "output_type": "stream",
     "text": [
      "150\n"
     ]
    }
   ],
   "source": [
    "testes = [\"%03d\" % i for i in xrange(1, 151)]\n",
    "print len(testes)"
   ]
  },
  {
   "cell_type": "code",
   "execution_count": 6,
   "metadata": {
    "scrolled": true
   },
   "outputs": [
    {
     "name": "stdout",
     "output_type": "stream",
     "text": [
      "All_1: 36.1643835616% | total: 3168\n",
      "All_0: 25.7876712329% | total: 2259\n",
      "Random_001: 38.801369863% | total: 3399\n",
      "Random_002: 38.9497716895% | total: 3412\n",
      "Random_003: 38.7328767123% | total: 3393\n",
      "Random_004: 38.4703196347% | total: 3370\n",
      "Random_005: 39.1780821918% | total: 3432\n",
      "Random_006: 39.1780821918% | total: 3432\n",
      "Random_007: 39.0753424658% | total: 3423\n",
      "Random_008: 38.7671232877% | total: 3396\n",
      "Random_009: 38.7671232877% | total: 3396\n",
      "Random_010: 38.7899543379% | total: 3398\n",
      "Random_011: 38.801369863% | total: 3399\n",
      "Random_012: 39.0410958904% | total: 3420\n",
      "Random_013: 38.8242009132% | total: 3401\n",
      "Random_014: 38.9497716895% | total: 3412\n",
      "Random_015: 38.6529680365% | total: 3386\n",
      "Random_016: 38.6872146119% | total: 3389\n",
      "Random_017: 39.4748858447% | total: 3458\n",
      "Random_018: 39.0068493151% | total: 3417\n",
      "Random_019: 38.8242009132% | total: 3401\n",
      "Random_020: 38.8356164384% | total: 3402\n",
      "Random_021: 39.0410958904% | total: 3420\n",
      "Random_022: 38.8926940639% | total: 3407\n",
      "Random_023: 39.0296803653% | total: 3419\n",
      "Random_024: 38.3789954338% | total: 3362\n",
      "Random_025: 39.2465753425% | total: 3438\n",
      "Random_026: 38.6415525114% | total: 3385\n",
      "Random_027: 39.1210045662% | total: 3427\n",
      "Random_028: 39.1552511416% | total: 3430\n",
      "Random_029: 38.50456621% | total: 3373\n",
      "Random_030: 38.9840182648% | total: 3415\n",
      "Random_031: 39.6575342466% | total: 3474\n",
      "Random_032: 39.4634703196% | total: 3457\n",
      "Random_033: 38.3789954338% | total: 3362\n",
      "Random_034: 38.9840182648% | total: 3415\n",
      "Random_035: 38.595890411% | total: 3381\n",
      "Random_036: 38.5844748858% | total: 3380\n",
      "Random_037: 38.9269406393% | total: 3410\n",
      "Random_038: 39.1438356164% | total: 3429\n",
      "Random_039: 38.9269406393% | total: 3410\n",
      "Random_040: 38.7671232877% | total: 3396\n",
      "Random_041: 38.9611872146% | total: 3413\n",
      "Random_042: 39.0068493151% | total: 3417\n"
     ]
    },
    {
     "ename": "KeyboardInterrupt",
     "evalue": "",
     "output_type": "error",
     "traceback": [
      "\u001b[0;31m---------------------------------------------------------------------------\u001b[0m",
      "\u001b[0;31mKeyboardInterrupt\u001b[0m                         Traceback (most recent call last)",
      "\u001b[0;32m<ipython-input-6-ccb6553a576a>\u001b[0m in \u001b[0;36m<module>\u001b[0;34m()\u001b[0m\n\u001b[1;32m     30\u001b[0m         \u001b[0;32mif\u001b[0m \u001b[0;34m(\u001b[0m\u001b[0mis_better\u001b[0m\u001b[0;34m(\u001b[0m\u001b[0marquivo\u001b[0m\u001b[0;34m,\u001b[0m \u001b[0mi\u001b[0m\u001b[0;34m,\u001b[0m \u001b[0;34m'Sala_PMV'\u001b[0m\u001b[0;34m,\u001b[0m \u001b[0;34m'Mezanino_PMV'\u001b[0m\u001b[0;34m)\u001b[0m\u001b[0;34m)\u001b[0m\u001b[0;34m:\u001b[0m\u001b[0;34m\u001b[0m\u001b[0m\n\u001b[1;32m     31\u001b[0m             \u001b[0mc\u001b[0m \u001b[0;34m=\u001b[0m \u001b[0mc\u001b[0m \u001b[0;34m+\u001b[0m \u001b[0;36m1\u001b[0m\u001b[0;34m\u001b[0m\u001b[0m\n\u001b[0;32m---> 32\u001b[0;31m             \u001b[0mselected\u001b[0m \u001b[0;34m=\u001b[0m \u001b[0mselected\u001b[0m\u001b[0;34m.\u001b[0m\u001b[0mappend\u001b[0m\u001b[0;34m(\u001b[0m\u001b[0marquivo\u001b[0m\u001b[0;34m.\u001b[0m\u001b[0miloc\u001b[0m\u001b[0;34m[\u001b[0m\u001b[0mi\u001b[0m\u001b[0;34m]\u001b[0m\u001b[0;34m)\u001b[0m\u001b[0;34m\u001b[0m\u001b[0m\n\u001b[0m\u001b[1;32m     33\u001b[0m \u001b[0;34m\u001b[0m\u001b[0m\n\u001b[1;32m     34\u001b[0m     \u001b[0;32mprint\u001b[0m \u001b[0;34m\"Random_\"\u001b[0m \u001b[0;34m+\u001b[0m \u001b[0mstr\u001b[0m\u001b[0;34m(\u001b[0m\u001b[0marq\u001b[0m\u001b[0;34m)\u001b[0m \u001b[0;34m+\u001b[0m \u001b[0;34m\": \"\u001b[0m \u001b[0;34m+\u001b[0m  \u001b[0mstr\u001b[0m\u001b[0;34m(\u001b[0m\u001b[0;34m(\u001b[0m\u001b[0mc\u001b[0m \u001b[0;34m*\u001b[0m \u001b[0;36m100.0\u001b[0m\u001b[0;34m)\u001b[0m\u001b[0;34m/\u001b[0m\u001b[0;36m8760.0\u001b[0m\u001b[0;34m)\u001b[0m \u001b[0;34m+\u001b[0m \u001b[0;34m\"%\"\u001b[0m \u001b[0;34m+\u001b[0m \u001b[0;34m\" | total: \"\u001b[0m \u001b[0;34m+\u001b[0m \u001b[0mstr\u001b[0m\u001b[0;34m(\u001b[0m\u001b[0mc\u001b[0m\u001b[0;34m)\u001b[0m\u001b[0;34m\u001b[0m\u001b[0m\n",
      "\u001b[0;32m/usr/local/lib/python2.7/dist-packages/pandas/core/frame.pyc\u001b[0m in \u001b[0;36mappend\u001b[0;34m(self, other, ignore_index, verify_integrity)\u001b[0m\n\u001b[1;32m   4545\u001b[0m             \u001b[0mto_concat\u001b[0m \u001b[0;34m=\u001b[0m \u001b[0;34m[\u001b[0m\u001b[0mself\u001b[0m\u001b[0;34m,\u001b[0m \u001b[0mother\u001b[0m\u001b[0;34m]\u001b[0m\u001b[0;34m\u001b[0m\u001b[0m\n\u001b[1;32m   4546\u001b[0m         return concat(to_concat, ignore_index=ignore_index,\n\u001b[0;32m-> 4547\u001b[0;31m                       verify_integrity=verify_integrity)\n\u001b[0m\u001b[1;32m   4548\u001b[0m \u001b[0;34m\u001b[0m\u001b[0m\n\u001b[1;32m   4549\u001b[0m     def join(self, other, on=None, how='left', lsuffix='', rsuffix='',\n",
      "\u001b[0;32m/usr/local/lib/python2.7/dist-packages/pandas/core/reshape/concat.pyc\u001b[0m in \u001b[0;36mconcat\u001b[0;34m(objs, axis, join, join_axes, ignore_index, keys, levels, names, verify_integrity, copy)\u001b[0m\n\u001b[1;32m    205\u001b[0m                        \u001b[0mverify_integrity\u001b[0m\u001b[0;34m=\u001b[0m\u001b[0mverify_integrity\u001b[0m\u001b[0;34m,\u001b[0m\u001b[0;34m\u001b[0m\u001b[0m\n\u001b[1;32m    206\u001b[0m                        copy=copy)\n\u001b[0;32m--> 207\u001b[0;31m     \u001b[0;32mreturn\u001b[0m \u001b[0mop\u001b[0m\u001b[0;34m.\u001b[0m\u001b[0mget_result\u001b[0m\u001b[0;34m(\u001b[0m\u001b[0;34m)\u001b[0m\u001b[0;34m\u001b[0m\u001b[0m\n\u001b[0m\u001b[1;32m    208\u001b[0m \u001b[0;34m\u001b[0m\u001b[0m\n\u001b[1;32m    209\u001b[0m \u001b[0;34m\u001b[0m\u001b[0m\n",
      "\u001b[0;32m/usr/local/lib/python2.7/dist-packages/pandas/core/reshape/concat.pyc\u001b[0m in \u001b[0;36mget_result\u001b[0;34m(self)\u001b[0m\n\u001b[1;32m    405\u001b[0m             new_data = concatenate_block_managers(\n\u001b[1;32m    406\u001b[0m                 \u001b[0mmgrs_indexers\u001b[0m\u001b[0;34m,\u001b[0m \u001b[0mself\u001b[0m\u001b[0;34m.\u001b[0m\u001b[0mnew_axes\u001b[0m\u001b[0;34m,\u001b[0m \u001b[0mconcat_axis\u001b[0m\u001b[0;34m=\u001b[0m\u001b[0mself\u001b[0m\u001b[0;34m.\u001b[0m\u001b[0maxis\u001b[0m\u001b[0;34m,\u001b[0m\u001b[0;34m\u001b[0m\u001b[0m\n\u001b[0;32m--> 407\u001b[0;31m                 copy=self.copy)\n\u001b[0m\u001b[1;32m    408\u001b[0m             \u001b[0;32mif\u001b[0m \u001b[0;32mnot\u001b[0m \u001b[0mself\u001b[0m\u001b[0;34m.\u001b[0m\u001b[0mcopy\u001b[0m\u001b[0;34m:\u001b[0m\u001b[0;34m\u001b[0m\u001b[0m\n\u001b[1;32m    409\u001b[0m                 \u001b[0mnew_data\u001b[0m\u001b[0;34m.\u001b[0m\u001b[0m_consolidate_inplace\u001b[0m\u001b[0;34m(\u001b[0m\u001b[0;34m)\u001b[0m\u001b[0;34m\u001b[0m\u001b[0m\n",
      "\u001b[0;32m/usr/local/lib/python2.7/dist-packages/pandas/core/internals.pyc\u001b[0m in \u001b[0;36mconcatenate_block_managers\u001b[0;34m(mgrs_indexers, axes, concat_axis, copy)\u001b[0m\n\u001b[1;32m   4830\u001b[0m     blocks = [make_block(\n\u001b[1;32m   4831\u001b[0m         \u001b[0mconcatenate_join_units\u001b[0m\u001b[0;34m(\u001b[0m\u001b[0mjoin_units\u001b[0m\u001b[0;34m,\u001b[0m \u001b[0mconcat_axis\u001b[0m\u001b[0;34m,\u001b[0m \u001b[0mcopy\u001b[0m\u001b[0;34m=\u001b[0m\u001b[0mcopy\u001b[0m\u001b[0;34m)\u001b[0m\u001b[0;34m,\u001b[0m\u001b[0;34m\u001b[0m\u001b[0m\n\u001b[0;32m-> 4832\u001b[0;31m         placement=placement) for placement, join_units in concat_plan]\n\u001b[0m\u001b[1;32m   4833\u001b[0m \u001b[0;34m\u001b[0m\u001b[0m\n\u001b[1;32m   4834\u001b[0m     \u001b[0;32mreturn\u001b[0m \u001b[0mBlockManager\u001b[0m\u001b[0;34m(\u001b[0m\u001b[0mblocks\u001b[0m\u001b[0;34m,\u001b[0m \u001b[0maxes\u001b[0m\u001b[0;34m)\u001b[0m\u001b[0;34m\u001b[0m\u001b[0m\n",
      "\u001b[0;32m/usr/local/lib/python2.7/dist-packages/pandas/core/internals.pyc\u001b[0m in \u001b[0;36mconcatenate_join_units\u001b[0;34m(join_units, concat_axis, copy)\u001b[0m\n\u001b[1;32m   4945\u001b[0m             \u001b[0mconcat_values\u001b[0m \u001b[0;34m=\u001b[0m \u001b[0mconcat_values\u001b[0m\u001b[0;34m.\u001b[0m\u001b[0mcopy\u001b[0m\u001b[0;34m(\u001b[0m\u001b[0;34m)\u001b[0m\u001b[0;34m\u001b[0m\u001b[0m\n\u001b[1;32m   4946\u001b[0m     \u001b[0;32melse\u001b[0m\u001b[0;34m:\u001b[0m\u001b[0;34m\u001b[0m\u001b[0m\n\u001b[0;32m-> 4947\u001b[0;31m         \u001b[0mconcat_values\u001b[0m \u001b[0;34m=\u001b[0m \u001b[0m_concat\u001b[0m\u001b[0;34m.\u001b[0m\u001b[0m_concat_compat\u001b[0m\u001b[0;34m(\u001b[0m\u001b[0mto_concat\u001b[0m\u001b[0;34m,\u001b[0m \u001b[0maxis\u001b[0m\u001b[0;34m=\u001b[0m\u001b[0mconcat_axis\u001b[0m\u001b[0;34m)\u001b[0m\u001b[0;34m\u001b[0m\u001b[0m\n\u001b[0m\u001b[1;32m   4948\u001b[0m \u001b[0;34m\u001b[0m\u001b[0m\n\u001b[1;32m   4949\u001b[0m     \u001b[0;32mreturn\u001b[0m \u001b[0mconcat_values\u001b[0m\u001b[0;34m\u001b[0m\u001b[0m\n",
      "\u001b[0;32m/usr/local/lib/python2.7/dist-packages/pandas/core/dtypes/concat.pyc\u001b[0m in \u001b[0;36m_concat_compat\u001b[0;34m(to_concat, axis)\u001b[0m\n\u001b[1;32m    164\u001b[0m                 \u001b[0mto_concat\u001b[0m \u001b[0;34m=\u001b[0m \u001b[0;34m[\u001b[0m\u001b[0mx\u001b[0m\u001b[0;34m.\u001b[0m\u001b[0mastype\u001b[0m\u001b[0;34m(\u001b[0m\u001b[0;34m'object'\u001b[0m\u001b[0;34m)\u001b[0m \u001b[0;32mfor\u001b[0m \u001b[0mx\u001b[0m \u001b[0;32min\u001b[0m \u001b[0mto_concat\u001b[0m\u001b[0;34m]\u001b[0m\u001b[0;34m\u001b[0m\u001b[0m\n\u001b[1;32m    165\u001b[0m \u001b[0;34m\u001b[0m\u001b[0m\n\u001b[0;32m--> 166\u001b[0;31m     \u001b[0;32mreturn\u001b[0m \u001b[0mnp\u001b[0m\u001b[0;34m.\u001b[0m\u001b[0mconcatenate\u001b[0m\u001b[0;34m(\u001b[0m\u001b[0mto_concat\u001b[0m\u001b[0;34m,\u001b[0m \u001b[0maxis\u001b[0m\u001b[0;34m=\u001b[0m\u001b[0maxis\u001b[0m\u001b[0;34m)\u001b[0m\u001b[0;34m\u001b[0m\u001b[0m\n\u001b[0m\u001b[1;32m    167\u001b[0m \u001b[0;34m\u001b[0m\u001b[0m\n\u001b[1;32m    168\u001b[0m \u001b[0;34m\u001b[0m\u001b[0m\n",
      "\u001b[0;31mKeyboardInterrupt\u001b[0m: "
     ]
    }
   ],
   "source": [
    "selected = pd.DataFrame(columns=header)\n",
    "tot = 0\n",
    "c = 0\n",
    "\n",
    "for i in xrange(1, all1['Mes'].count() - 1):\n",
    "    if (is_better(all1, i, 'Sala_PMV', 'Mezanino_PMV')):\n",
    "        #print i\n",
    "        c = c + 1\n",
    "        selected = selected.append(all1.iloc[i])\n",
    "\n",
    "print \"All_1: \" +  str((c * 100.0)/8760.0) + \"%\" + \" | total: \" + str(c)\n",
    "\n",
    "\n",
    "tot = tot + c\n",
    "c = 0\n",
    "for i in xrange(1, all0['Mes'].count() - 1):\n",
    "    if (is_better(all0, i, 'Sala_PMV', 'Mezanino_PMV')):\n",
    "        #print i\n",
    "        c = c + 1\n",
    "        selected = selected.append(all0.iloc[i])\n",
    "\n",
    "print \"All_0: \" +  str((c * 100.0)/8760.0) + \"%\" + \" | total: \" + str(c)\n",
    "\n",
    "for arq in testes:\n",
    "    arquivo = pd.read_csv('../Data/Canguçu/simulation_random_' + str(arq) +'.csv')\n",
    "    tot = tot + c\n",
    "    c = 0\n",
    "    \n",
    "    for i in xrange(1, arquivo['Mes'].count() - 1):\n",
    "        if (is_better(arquivo, i, 'Sala_PMV', 'Mezanino_PMV')):\n",
    "            c = c + 1\n",
    "            selected = selected.append(arquivo.iloc[i])\n",
    "    \n",
    "    print \"Random_\" + str(arq) + \": \" +  str((c * 100.0)/8760.0) + \"%\" + \" | total: \" + str(c)\n",
    "\n",
    "print tot"
   ]
  },
  {
   "cell_type": "code",
   "execution_count": null,
   "metadata": {},
   "outputs": [],
   "source": [
    "total = shuffle(selected)"
   ]
  },
  {
   "cell_type": "code",
   "execution_count": null,
   "metadata": {},
   "outputs": [],
   "source": [
    "input_file = total[header_input]\n",
    "output_file = total[header_output]"
   ]
  },
  {
   "cell_type": "code",
   "execution_count": null,
   "metadata": {},
   "outputs": [],
   "source": [
    "total.to_csv(\"Selected/v03_total.csv\", index=False)\n",
    "input_file.to_csv(\"Selected/v03_input.csv\", index=False)\n",
    "output_file.to_csv(\"Selected/v03_output.csv\", index=False)"
   ]
  },
  {
   "cell_type": "code",
   "execution_count": null,
   "metadata": {},
   "outputs": [],
   "source": [
    "total.describe()"
   ]
  },
  {
   "cell_type": "code",
   "execution_count": 18,
   "metadata": {},
   "outputs": [
    {
     "data": {
      "text/plain": [
       "4612"
      ]
     },
     "execution_count": 18,
     "metadata": {},
     "output_type": "execute_result"
    }
   ],
   "source": [
    "all0['Temperature'].idxmin()"
   ]
  },
  {
   "cell_type": "code",
   "execution_count": 19,
   "metadata": {},
   "outputs": [
    {
     "data": {
      "text/plain": [
       "Mes                      7.000000\n",
       "Dia                     12.000000\n",
       "Hora                     4.000000\n",
       "Temperature              1.500000\n",
       "Wind_Speed               4.900000\n",
       "Wind_Direction         299.000000\n",
       "Humidity                99.000000\n",
       "Air_Density              1.214668\n",
       "Rain_Status              0.000000\n",
       "AreaServico_PMV         -1.898431\n",
       "AreaServico_Temp        16.127440\n",
       "Circulacao_PMV          -1.565105\n",
       "Circulacao_Temp         17.518529\n",
       "Casal_PMV               -3.657721\n",
       "Casal_Temp              19.481752\n",
       "Banheiro_PMV            -2.524125\n",
       "Banheiro_Temp           13.445211\n",
       "Jardim_PMV              -2.425717\n",
       "Jardim_Temp             13.586386\n",
       "Solteiro_PMV            -3.270185\n",
       "Solteiro_Temp           20.709248\n",
       "Sala_PMV                -1.873544\n",
       "Sala_Temp               19.015872\n",
       "Mezanino_PMV            -1.613798\n",
       "Mezanino_Temp           18.001001\n",
       "PortaServicoLeste        0.000000\n",
       "JanelaServicoSul         0.000000\n",
       "JanelaCasalNorte         0.000000\n",
       "PortaCasalOeste          0.000000\n",
       "JanelaCasalOeste         0.000000\n",
       "JanelaBanheiroLeste      0.000000\n",
       "PortaBanheiroOeste       0.000000\n",
       "JanelaJardimNorte        1.000000\n",
       "JanelaJardimLeste        1.000000\n",
       "JanelaSolteiroNorte      0.000000\n",
       "PortaSolteiroSul         0.000000\n",
       "JanelaSolteiroSul        0.000000\n",
       "PortaSalaNorte           0.000000\n",
       "JanelaSalaNorte          0.000000\n",
       "PortaSalaLeste           0.000000\n",
       "JanelaSalaSul            0.000000\n",
       "JanelaSalaOeste          0.000000\n",
       "PortaCozinhaLeste        0.000000\n",
       "JanelaCozinhaSul         0.000000\n",
       "JanelaMezaninoNorte      0.000000\n",
       "JanelaMezaninoSul        0.000000\n",
       "JanelaMezaninoOeste      0.000000\n",
       "JanelaSegundoSul         0.000000\n",
       "Name: 4612, dtype: float64"
      ]
     },
     "execution_count": 19,
     "metadata": {},
     "output_type": "execute_result"
    }
   ],
   "source": [
    "all0.iloc[4612]"
   ]
  },
  {
   "cell_type": "code",
   "execution_count": null,
   "metadata": {},
   "outputs": [],
   "source": []
  }
 ],
 "metadata": {
  "kernelspec": {
   "display_name": "Python 2",
   "language": "python",
   "name": "python2"
  },
  "language_info": {
   "codemirror_mode": {
    "name": "ipython",
    "version": 2
   },
   "file_extension": ".py",
   "mimetype": "text/x-python",
   "name": "python",
   "nbconvert_exporter": "python",
   "pygments_lexer": "ipython2",
   "version": "2.7.12"
  }
 },
 "nbformat": 4,
 "nbformat_minor": 2
}
