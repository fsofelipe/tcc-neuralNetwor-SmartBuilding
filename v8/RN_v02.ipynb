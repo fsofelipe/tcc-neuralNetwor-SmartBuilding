{
 "cells": [
  {
   "cell_type": "code",
   "execution_count": 2,
   "metadata": {},
   "outputs": [
    {
     "name": "stderr",
     "output_type": "stream",
     "text": [
      "Using TensorFlow backend.\n"
     ]
    }
   ],
   "source": [
    "import pandas as pd\n",
    "import numpy as np\n",
    "\n",
    "import tensorflow as tf\n",
    "\n",
    "from keras.models import Sequential\n",
    "from keras.layers import Dense, Dropout, Activation\n",
    "from keras import optimizers\n",
    "\n",
    "np.random.seed(7)\n",
    "from sklearn.preprocessing import Normalizer\n",
    "from keras.callbacks import EarlyStopping\n",
    "\n",
    "from keras import backend as K\n",
    "from keras.utils.generic_utils import get_custom_objects\n",
    "import numpy as np\n"
   ]
  },
  {
   "cell_type": "code",
   "execution_count": 3,
   "metadata": {},
   "outputs": [
    {
     "name": "stdout",
     "output_type": "stream",
     "text": [
      "12\n",
      "9\n"
     ]
    }
   ],
   "source": [
    "headerInput = ['Hora', 'Temperature', 'Wind_Speed', 'Wind_Direction', 'Humidity', 'Air_Density', 'Jardim_PMV','Jardim_Temp','Sala_PMV','Sala_Temp','Mezanino_PMV','Mezanino_Temp']\n",
    "headerOutput = ['JanelaSalaNorte','PortaSalaLeste','JanelaSalaSul','JanelaSalaOeste','PortaCozinhaLeste','JanelaCozinhaSul','JanelaMezaninoNorte','JanelaMezaninoSul','JanelaMezaninoOeste']\n",
    "\n",
    "print len(headerInput)\n",
    "print len(headerOutput)"
   ]
  },
  {
   "cell_type": "code",
   "execution_count": 4,
   "metadata": {},
   "outputs": [],
   "source": [
    "Input = pd.read_csv(\"Selected/v02_input.csv\")\n",
    "Output = pd.read_csv(\"Selected/v02_output.csv\")\n",
    "\n",
    "Input_pd = Input[headerInput]\n",
    "Output_pd = Output[headerOutput]\n",
    "\n",
    "scaler_in = Normalizer().fit(Input_pd)\n",
    "Input_Norm = scaler_in.transform(Input_pd)\n",
    "Input_np = np.array(Input_pd)\n",
    "\n",
    "Output_Norm = np.array(Output_pd)\n"
   ]
  },
  {
   "cell_type": "markdown",
   "metadata": {},
   "source": [
    "**Cria** entradas para testes na rede <br>\n",
    "**Normaliza** entradas para testes na rede "
   ]
  },
  {
   "cell_type": "code",
   "execution_count": 5,
   "metadata": {},
   "outputs": [],
   "source": [
    "header = ['Mes', 'Dia', 'Hora', \n",
    "         'Temperature', 'Wind_Speed', 'Wind_Direction', 'Humidity', 'Air_Density', 'Rain_Status',\n",
    "         'AreaServico_PMV', 'AreaServico_Temp', 'Circulacao_PMV', 'Circulacao_Temp', 'Casal_PMV', 'Casal_Temp', 'Banheiro_PMV', 'Banheiro_Temp', 'Jardim_PMV', 'Jardim_Temp', 'Solteiro_PMV', 'Solteiro_Temp', 'Sala_PMV', 'Sala_Temp', 'Mezanino_PMV', 'Mezanino_Temp'\n",
    "         ]\n",
    "verao = pd.DataFrame([[11, 12, 13.000000, 32.800000, 3.500000, 322.000000, 39.000000, 1.066291, 0.000000, 0.489916, 27.627043, 0.442085, 27.478200, -0.514111, 29.523684, 0.423624, 27.716838, 2.027013, 32.011196, -1.767618, 25.996711, 0.060116, 25.994876, 1.637796, 31.163378]],\n",
    "                     columns=header)\n",
    "inverno = pd.DataFrame([[7.000000, 12.000000, 4.000000, 1.500000, 4.900000, 299.000000, 99.000000, 1.214668, 0.000000, -1.898431, 16.127440, -1.565105, 17.518529, -3.657721, 19.481752, -2.524125, 13.445211, -2.425717, 13.586386,-3.270185, 20.709248, -1.873544, 19.015872, -1.613798, 18.001001]],\n",
    "                      columns=header)\n",
    "\n",
    "verao = verao[headerInput]\n",
    "inverno = inverno[headerInput]\n",
    "\n",
    "verao_norm = scaler_in.transform(verao)\n",
    "inverno_norm = scaler_in.transform(inverno)"
   ]
  },
  {
   "cell_type": "code",
   "execution_count": 6,
   "metadata": {},
   "outputs": [
    {
     "name": "stdout",
     "output_type": "stream",
     "text": [
      "_________________________________________________________________\n",
      "Layer (type)                 Output Shape              Param #   \n",
      "=================================================================\n",
      "dense_1 (Dense)              (None, 40)                520       \n",
      "_________________________________________________________________\n",
      "dense_2 (Dense)              (None, 40)                1640      \n",
      "_________________________________________________________________\n",
      "dense_3 (Dense)              (None, 40)                1640      \n",
      "_________________________________________________________________\n",
      "dense_4 (Dense)              (None, 40)                1640      \n",
      "_________________________________________________________________\n",
      "dense_5 (Dense)              (None, 40)                1640      \n",
      "_________________________________________________________________\n",
      "dense_6 (Dense)              (None, 9)                 369       \n",
      "=================================================================\n",
      "Total params: 7,449\n",
      "Trainable params: 7,449\n",
      "Non-trainable params: 0\n",
      "_________________________________________________________________\n",
      "Train on 39547 samples, validate on 16949 samples\n",
      "Epoch 1/35\n",
      "39547/39547 [==============================] - 1s - loss: 0.0990 - mean_absolute_error: 0.2732 - acc: 0.1188 - val_loss: 0.1007 - val_mean_absolute_error: 0.2762 - val_acc: 0.0993\n",
      "Epoch 2/35\n",
      "39547/39547 [==============================] - 1s - loss: 0.0988 - mean_absolute_error: 0.2731 - acc: 0.1198 - val_loss: 0.1006 - val_mean_absolute_error: 0.2761 - val_acc: 0.1092\n",
      "Epoch 3/35\n",
      "39547/39547 [==============================] - 0s - loss: 0.0987 - mean_absolute_error: 0.2730 - acc: 0.1128 - val_loss: 0.1005 - val_mean_absolute_error: 0.2760 - val_acc: 0.1042\n",
      "Epoch 4/35\n",
      "39547/39547 [==============================] - 0s - loss: 0.0986 - mean_absolute_error: 0.2729 - acc: 0.1150 - val_loss: 0.1007 - val_mean_absolute_error: 0.2761 - val_acc: 0.1199\n",
      "Epoch 5/35\n",
      "39547/39547 [==============================] - 0s - loss: 0.0985 - mean_absolute_error: 0.2728 - acc: 0.1156 - val_loss: 0.1005 - val_mean_absolute_error: 0.2760 - val_acc: 0.1117\n",
      "Epoch 6/35\n",
      "39547/39547 [==============================] - 1s - loss: 0.0985 - mean_absolute_error: 0.2727 - acc: 0.1260 - val_loss: 0.1007 - val_mean_absolute_error: 0.2761 - val_acc: 0.0994\n",
      "Epoch 7/35\n",
      "39547/39547 [==============================] - 0s - loss: 0.0984 - mean_absolute_error: 0.2726 - acc: 0.1230 - val_loss: 0.1003 - val_mean_absolute_error: 0.2758 - val_acc: 0.1139\n",
      "Epoch 8/35\n",
      "39547/39547 [==============================] - 0s - loss: 0.0982 - mean_absolute_error: 0.2724 - acc: 0.1138 - val_loss: 0.0995 - val_mean_absolute_error: 0.2750 - val_acc: 0.1091\n",
      "Epoch 9/35\n",
      "39547/39547 [==============================] - 1s - loss: 0.0980 - mean_absolute_error: 0.2722 - acc: 0.1125 - val_loss: 0.0999 - val_mean_absolute_error: 0.2754 - val_acc: 0.0959\n",
      "Epoch 10/35\n",
      "39547/39547 [==============================] - 1s - loss: 0.0982 - mean_absolute_error: 0.2724 - acc: 0.1121 - val_loss: 0.0994 - val_mean_absolute_error: 0.2748 - val_acc: 0.1028\n",
      "Epoch 11/35\n",
      "39547/39547 [==============================] - 0s - loss: 0.0978 - mean_absolute_error: 0.2719 - acc: 0.1259 - val_loss: 0.1081 - val_mean_absolute_error: 0.2827 - val_acc: 0.1950\n",
      "Epoch 12/35\n",
      "39547/39547 [==============================] - 1s - loss: 0.0978 - mean_absolute_error: 0.2719 - acc: 0.1185 - val_loss: 0.0979 - val_mean_absolute_error: 0.2729 - val_acc: 0.1073\n",
      "Epoch 13/35\n",
      "39547/39547 [==============================] - 1s - loss: 0.0973 - mean_absolute_error: 0.2713 - acc: 0.1170 - val_loss: 0.0976 - val_mean_absolute_error: 0.2727 - val_acc: 0.1285\n",
      "Epoch 14/35\n",
      "39547/39547 [==============================] - 0s - loss: 0.0976 - mean_absolute_error: 0.2717 - acc: 0.1157 - val_loss: 0.0988 - val_mean_absolute_error: 0.2741 - val_acc: 0.1214\n",
      "Epoch 15/35\n",
      "39547/39547 [==============================] - 1s - loss: 0.0978 - mean_absolute_error: 0.2718 - acc: 0.1251 - val_loss: 0.0998 - val_mean_absolute_error: 0.2750 - val_acc: 0.1066\n",
      "Epoch 16/35\n",
      "39547/39547 [==============================] - 0s - loss: 0.0979 - mean_absolute_error: 0.2720 - acc: 0.1234 - val_loss: 0.1062 - val_mean_absolute_error: 0.2809 - val_acc: 0.2046\n",
      "Epoch 17/35\n",
      "39547/39547 [==============================] - 1s - loss: 0.0976 - mean_absolute_error: 0.2716 - acc: 0.1255 - val_loss: 0.0997 - val_mean_absolute_error: 0.2751 - val_acc: 0.1099\n",
      "Epoch 18/35\n",
      "39547/39547 [==============================] - 1s - loss: 0.0978 - mean_absolute_error: 0.2719 - acc: 0.1222 - val_loss: 0.1008 - val_mean_absolute_error: 0.2761 - val_acc: 0.0982\n",
      "Epoch 19/35\n",
      "39547/39547 [==============================] - 1s - loss: 0.0972 - mean_absolute_error: 0.2712 - acc: 0.1233 - val_loss: 0.1001 - val_mean_absolute_error: 0.2755 - val_acc: 0.1092\n",
      "Epoch 20/35\n",
      "39547/39547 [==============================] - 1s - loss: 0.0976 - mean_absolute_error: 0.2717 - acc: 0.1204 - val_loss: 0.0986 - val_mean_absolute_error: 0.2736 - val_acc: 0.1069\n",
      "Epoch 21/35\n",
      "39547/39547 [==============================] - 0s - loss: 0.0980 - mean_absolute_error: 0.2721 - acc: 0.1091 - val_loss: 0.0986 - val_mean_absolute_error: 0.2738 - val_acc: 0.1090\n",
      "Epoch 22/35\n",
      "39547/39547 [==============================] - 1s - loss: 0.0983 - mean_absolute_error: 0.2724 - acc: 0.1138 - val_loss: 0.0990 - val_mean_absolute_error: 0.2743 - val_acc: 0.1014\n",
      "Epoch 23/35\n",
      "39547/39547 [==============================] - 1s - loss: 0.0978 - mean_absolute_error: 0.2718 - acc: 0.1126 - val_loss: 0.0997 - val_mean_absolute_error: 0.2751 - val_acc: 0.1014\n",
      "Epoch 24/35\n",
      "39547/39547 [==============================] - 1s - loss: 0.0977 - mean_absolute_error: 0.2717 - acc: 0.1153 - val_loss: 0.0980 - val_mean_absolute_error: 0.2731 - val_acc: 0.1038\n",
      "Epoch 25/35\n",
      "39547/39547 [==============================] - 1s - loss: 0.0976 - mean_absolute_error: 0.2716 - acc: 0.1172 - val_loss: 0.1091 - val_mean_absolute_error: 0.2834 - val_acc: 0.1090\n",
      "Epoch 26/35\n",
      "39547/39547 [==============================] - 1s - loss: 0.0977 - mean_absolute_error: 0.2718 - acc: 0.1237 - val_loss: 0.0994 - val_mean_absolute_error: 0.2748 - val_acc: 0.1109\n",
      "Epoch 27/35\n",
      "39547/39547 [==============================] - 1s - loss: 0.0976 - mean_absolute_error: 0.2716 - acc: 0.1247 - val_loss: 0.0978 - val_mean_absolute_error: 0.2728 - val_acc: 0.1085\n",
      "Epoch 28/35\n",
      "39547/39547 [==============================] - 0s - loss: 0.0973 - mean_absolute_error: 0.2711 - acc: 0.1257 - val_loss: 0.0977 - val_mean_absolute_error: 0.2727 - val_acc: 0.1211\n",
      "Epoch 29/35\n",
      "39547/39547 [==============================] - 1s - loss: 0.0977 - mean_absolute_error: 0.2716 - acc: 0.1253 - val_loss: 0.0995 - val_mean_absolute_error: 0.2747 - val_acc: 0.1088\n",
      "Epoch 30/35\n",
      "39547/39547 [==============================] - 1s - loss: 0.0978 - mean_absolute_error: 0.2718 - acc: 0.1174 - val_loss: 0.0989 - val_mean_absolute_error: 0.2739 - val_acc: 0.1365\n",
      "Epoch 31/35\n",
      "39547/39547 [==============================] - 1s - loss: 0.0973 - mean_absolute_error: 0.2712 - acc: 0.1200 - val_loss: 0.0995 - val_mean_absolute_error: 0.2746 - val_acc: 0.1009\n",
      "Epoch 32/35\n",
      "39547/39547 [==============================] - 1s - loss: 0.0981 - mean_absolute_error: 0.2722 - acc: 0.1079 - val_loss: 0.0993 - val_mean_absolute_error: 0.2746 - val_acc: 0.1609\n",
      "Epoch 33/35\n",
      "39547/39547 [==============================] - 0s - loss: 0.0977 - mean_absolute_error: 0.2717 - acc: 0.1187 - val_loss: 0.1001 - val_mean_absolute_error: 0.2754 - val_acc: 0.1069\n",
      "Epoch 34/35\n",
      "39547/39547 [==============================] - 1s - loss: 0.0979 - mean_absolute_error: 0.2719 - acc: 0.1120 - val_loss: 0.1003 - val_mean_absolute_error: 0.2758 - val_acc: 0.1050\n",
      "Epoch 35/35\n",
      "39547/39547 [==============================] - 1s - loss: 0.0981 - mean_absolute_error: 0.2722 - acc: 0.1125 - val_loss: 0.1002 - val_mean_absolute_error: 0.2756 - val_acc: 0.1339\n"
     ]
    },
    {
     "data": {
      "text/plain": [
       "<keras.callbacks.History at 0x7f5ea3901650>"
      ]
     },
     "execution_count": 6,
     "metadata": {},
     "output_type": "execute_result"
    }
   ],
   "source": [
    "model = Sequential()\n",
    "model.add(Dense(40, input_shape=(12, ), kernel_initializer='random_normal', activation='tanh'))\n",
    "model.add(Dense(40, activation='tanh'))\n",
    "model.add(Dense(40, activation='tanh'))\n",
    "model.add(Dense(40, activation='tanh'))\n",
    "model.add(Dense(40, activation='relu'))\n",
    "model.add(Dense(9, activation='sigmoid'))\n",
    "model.summary()\n",
    "sgd = optimizers.SGD(lr=0.1, decay=1e-5, momentum=0.3, nesterov=True)\n",
    "\n",
    "\n",
    "model.compile(optimizer=sgd, loss='mean_squared_error', metrics=['mae', 'acc'])\n",
    "\n",
    "model.fit(Input_np, Output_Norm, validation_split=0.3, epochs=35, batch_size=100)\n",
    "\n"
   ]
  },
  {
   "cell_type": "markdown",
   "metadata": {},
   "source": []
  },
  {
   "cell_type": "code",
   "execution_count": 7,
   "metadata": {},
   "outputs": [
    {
     "name": "stdout",
     "output_type": "stream",
     "text": [
      "Verão\n",
      "[[ 0.49507231  0.48104483  0.49271482  0.48310167  0.49004775  0.48541814\n",
      "   0.50177163  0.47992846  0.48745358]]\n",
      "Inverno\n",
      "[[ 0.48328418  0.47243547  0.47534117  0.4718793   0.47618115  0.46995202\n",
      "   0.49132237  0.46514803  0.46658549]]\n"
     ]
    }
   ],
   "source": [
    "teste_verao = model.predict(verao_norm)\n",
    "teste_inverno = model.predict(inverno_norm)\n",
    "print \"Verão\"\n",
    "print teste_verao\n",
    "print \"Inverno\"\n",
    "print teste_inverno"
   ]
  },
  {
   "cell_type": "code",
   "execution_count": 8,
   "metadata": {},
   "outputs": [
    {
     "data": {
      "text/html": [
       "<div>\n",
       "<style>\n",
       "    .dataframe thead tr:only-child th {\n",
       "        text-align: right;\n",
       "    }\n",
       "\n",
       "    .dataframe thead th {\n",
       "        text-align: left;\n",
       "    }\n",
       "\n",
       "    .dataframe tbody tr th {\n",
       "        vertical-align: top;\n",
       "    }\n",
       "</style>\n",
       "<table border=\"1\" class=\"dataframe\">\n",
       "  <thead>\n",
       "    <tr style=\"text-align: right;\">\n",
       "      <th></th>\n",
       "      <th>JanelaSalaNorte</th>\n",
       "      <th>PortaSalaLeste</th>\n",
       "      <th>JanelaSalaSul</th>\n",
       "      <th>JanelaSalaOeste</th>\n",
       "      <th>PortaCozinhaLeste</th>\n",
       "      <th>JanelaCozinhaSul</th>\n",
       "      <th>JanelaMezaninoNorte</th>\n",
       "      <th>JanelaMezaninoSul</th>\n",
       "      <th>JanelaMezaninoOeste</th>\n",
       "    </tr>\n",
       "  </thead>\n",
       "  <tbody>\n",
       "    <tr>\n",
       "      <th>0</th>\n",
       "      <td>0.30</td>\n",
       "      <td>0.30</td>\n",
       "      <td>0.20</td>\n",
       "      <td>0.67</td>\n",
       "      <td>0.72</td>\n",
       "      <td>0.01</td>\n",
       "      <td>0.50</td>\n",
       "      <td>0.74</td>\n",
       "      <td>0.20</td>\n",
       "    </tr>\n",
       "    <tr>\n",
       "      <th>1</th>\n",
       "      <td>0.75</td>\n",
       "      <td>0.78</td>\n",
       "      <td>0.77</td>\n",
       "      <td>0.23</td>\n",
       "      <td>0.78</td>\n",
       "      <td>0.21</td>\n",
       "      <td>0.29</td>\n",
       "      <td>0.70</td>\n",
       "      <td>0.48</td>\n",
       "    </tr>\n",
       "    <tr>\n",
       "      <th>2</th>\n",
       "      <td>0.27</td>\n",
       "      <td>0.23</td>\n",
       "      <td>0.66</td>\n",
       "      <td>0.23</td>\n",
       "      <td>0.49</td>\n",
       "      <td>0.31</td>\n",
       "      <td>0.48</td>\n",
       "      <td>0.89</td>\n",
       "      <td>0.51</td>\n",
       "    </tr>\n",
       "    <tr>\n",
       "      <th>3</th>\n",
       "      <td>0.62</td>\n",
       "      <td>0.43</td>\n",
       "      <td>0.66</td>\n",
       "      <td>0.90</td>\n",
       "      <td>0.50</td>\n",
       "      <td>0.99</td>\n",
       "      <td>0.99</td>\n",
       "      <td>0.31</td>\n",
       "      <td>0.21</td>\n",
       "    </tr>\n",
       "    <tr>\n",
       "      <th>4</th>\n",
       "      <td>1.00</td>\n",
       "      <td>1.00</td>\n",
       "      <td>1.00</td>\n",
       "      <td>1.00</td>\n",
       "      <td>1.00</td>\n",
       "      <td>1.00</td>\n",
       "      <td>1.00</td>\n",
       "      <td>1.00</td>\n",
       "      <td>1.00</td>\n",
       "    </tr>\n",
       "  </tbody>\n",
       "</table>\n",
       "</div>"
      ],
      "text/plain": [
       "   JanelaSalaNorte  PortaSalaLeste  JanelaSalaSul  JanelaSalaOeste  \\\n",
       "0             0.30            0.30           0.20             0.67   \n",
       "1             0.75            0.78           0.77             0.23   \n",
       "2             0.27            0.23           0.66             0.23   \n",
       "3             0.62            0.43           0.66             0.90   \n",
       "4             1.00            1.00           1.00             1.00   \n",
       "\n",
       "   PortaCozinhaLeste  JanelaCozinhaSul  JanelaMezaninoNorte  \\\n",
       "0               0.72              0.01                 0.50   \n",
       "1               0.78              0.21                 0.29   \n",
       "2               0.49              0.31                 0.48   \n",
       "3               0.50              0.99                 0.99   \n",
       "4               1.00              1.00                 1.00   \n",
       "\n",
       "   JanelaMezaninoSul  JanelaMezaninoOeste  \n",
       "0               0.74                 0.20  \n",
       "1               0.70                 0.48  \n",
       "2               0.89                 0.51  \n",
       "3               0.31                 0.21  \n",
       "4               1.00                 1.00  "
      ]
     },
     "execution_count": 8,
     "metadata": {},
     "output_type": "execute_result"
    }
   ],
   "source": [
    "Output_pd.head()"
   ]
  },
  {
   "cell_type": "code",
   "execution_count": null,
   "metadata": {},
   "outputs": [],
   "source": []
  }
 ],
 "metadata": {
  "kernelspec": {
   "display_name": "Python 2",
   "language": "python",
   "name": "python2"
  },
  "language_info": {
   "codemirror_mode": {
    "name": "ipython",
    "version": 2
   },
   "file_extension": ".py",
   "mimetype": "text/x-python",
   "name": "python",
   "nbconvert_exporter": "python",
   "pygments_lexer": "ipython2",
   "version": "2.7.12"
  }
 },
 "nbformat": 4,
 "nbformat_minor": 2
}
