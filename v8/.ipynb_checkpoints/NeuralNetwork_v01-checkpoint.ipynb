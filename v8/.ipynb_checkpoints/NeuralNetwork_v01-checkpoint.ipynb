{
 "cells": [
  {
   "cell_type": "markdown",
   "metadata": {},
   "source": [
    "Importa bibliotecas, **frameworks** e arquivos .py<br>\n",
    "keras: rede neural<br>\n",
    "numpy: estrutura de dados<br>\n",
    "pandas: estrutura de dados<br>\n",
    "sklearn: normalização de dados\n"
   ]
  },
  {
   "cell_type": "code",
   "execution_count": 1,
   "metadata": {
    "scrolled": true
   },
   "outputs": [
    {
     "name": "stderr",
     "output_type": "stream",
     "text": [
      "Using TensorFlow backend.\n"
     ]
    }
   ],
   "source": [
    "import pandas as pd\n",
    "import numpy as np\n",
    "\n",
    "from keras.models import Sequential\n",
    "from keras.layers import Dense, Dropout, Activation\n",
    "from keras import optimizers\n",
    "from keras.models import load_model\n",
    "\n",
    "np.random.seed(7)\n",
    "\n",
    "%run Python/simulation.py\n",
    "%run Python/dataNumpy.py\n",
    "import sys\n",
    "\n",
    "from sklearn.preprocessing import Normalizer"
   ]
  },
  {
   "cell_type": "code",
   "execution_count": 2,
   "metadata": {},
   "outputs": [
    {
     "name": "stdout",
     "output_type": "stream",
     "text": [
      "13\n",
      "10\n"
     ]
    }
   ],
   "source": [
    "headerInput = ['Hora', 'Temperature', 'Wind_Speed', 'Wind_Direction', 'Humidity', 'Air_Density', 'Rain_Status', 'Jardim_PMV','Jardim_Temp','Sala_PMV','Sala_Temp','Mezanino_PMV','Mezanino_Temp']\n",
    "headerOutput = ['PortaSalaNorte','JanelaSalaNorte','PortaSalaLeste','JanelaSalaSul','JanelaSalaOeste','PortaCozinhaLeste','JanelaCozinhaSul','JanelaMezaninoNorte','JanelaMezaninoSul','JanelaMezaninoOeste']\n",
    "\n",
    "print(len(headerInput))\n",
    "print(len(headerOutput))"
   ]
  },
  {
   "cell_type": "markdown",
   "metadata": {},
   "source": [
    "Carrega **dataset**<br>\n",
    "**Normaliza** os dados<br>\n",
    "Divide em **trainingset e testset**"
   ]
  },
  {
   "cell_type": "code",
   "execution_count": 3,
   "metadata": {
    "scrolled": true
   },
   "outputs": [
    {
     "name": "stdout",
     "output_type": "stream",
     "text": [
      "Data Set: 37986\n",
      "Training Set [70%]: 26591\n",
      "Test Set[30%]: 11395\n",
      "\n",
      "X_training.shape: (26591, 13)\n",
      "Y_training.shape: (26591, 10)\n",
      "X_test.shape: (11395, 13)\n",
      "Y_test.shape: (11395, 10)\n"
     ]
    }
   ],
   "source": [
    "Input = pd.read_csv(\"Selected/v01_input.csv\")\n",
    "Output = pd.read_csv(\"Selected/v01_output.csv\")\n",
    "\n",
    "Input_pd = Input[headerInput]\n",
    "Output_pd = Output[headerOutput]\n",
    "\n",
    "scaler_in = Normalizer().fit(Input_pd)\n",
    "Input_Norm = scaler_in.transform(Input_pd)\n",
    "\n",
    "#scaler_out = Normalizer().fit(Output_pd)\n",
    "#Output_Norm = scaler_out.transform(Output_pd)\n",
    "\n",
    "Output_Norm = np.array(Output_pd)\n",
    "\n",
    "print(\"Data Set: \" + str(Input_Norm.shape[0]))\n",
    "print(\"Training Set [70%]: \"+ str(int(Input_Norm.shape[0]*0.7)+1) )\n",
    "print(\"Test Set[30%]: \" + str(int(Output_Norm.shape[0]*0.3))+ \"\\n\")\n",
    "\n",
    "\n",
    "X_training = Input_Norm[:-int(Input_Norm.shape[0]*0.3)]\n",
    "Y_training = Output_Norm[:-int(Output_Norm.shape[0]*0.3)]\n",
    "\n",
    "X_test = Input_Norm[int((Input_Norm.shape[0]*0.7)+1):]\n",
    "Y_test = Output_Norm[int( (Output_Norm.shape[0]*0.7)+1) :]\n",
    "\n",
    "print \"X_training.shape: \" + str(X_training.shape)\n",
    "print \"Y_training.shape: \" + str(Y_training.shape)\n",
    "print \"X_test.shape: \" + str(X_test.shape)\n",
    "print \"Y_test.shape: \" + str(Y_test.shape)"
   ]
  },
  {
   "cell_type": "markdown",
   "metadata": {},
   "source": [
    "Função que permite alterar a PORTA da conexão TCP entre o energy plus, matlab e bcvtb"
   ]
  },
  {
   "cell_type": "code",
   "execution_count": 4,
   "metadata": {},
   "outputs": [],
   "source": [
    "def changePort(PORT):\n",
    "    base = open('simulateAndExit_base.m', 'r')\n",
    "    f = open('simulateAndExit.m', 'w')\n",
    "    lines = base.readlines()\n",
    "    lines[37] = str(lines[37]).replace('50001', str(PORT))\n",
    "    with open('simulateAndExit.m', 'w') as file_handler:\n",
    "        for item in lines:\n",
    "            file_handler.write(\"{}\".format(item))\n",
    "            \n",
    "    base.close()\n",
    "    f.close()"
   ]
  },
  {
   "cell_type": "markdown",
   "metadata": {},
   "source": [
    "Modelo de rede neural testada"
   ]
  },
  {
   "cell_type": "code",
   "execution_count": 25,
   "metadata": {
    "scrolled": true
   },
   "outputs": [
    {
     "name": "stdout",
     "output_type": "stream",
     "text": [
      "_________________________________________________________________\n",
      "Layer (type)                 Output Shape              Param #   \n",
      "=================================================================\n",
      "dense_31 (Dense)             (None, 13)                182       \n",
      "_________________________________________________________________\n",
      "dense_32 (Dense)             (None, 27)                378       \n",
      "_________________________________________________________________\n",
      "dense_33 (Dense)             (None, 40)                1120      \n",
      "_________________________________________________________________\n",
      "dense_34 (Dense)             (None, 10)                410       \n",
      "=================================================================\n",
      "Total params: 2,090\n",
      "Trainable params: 2,090\n",
      "Non-trainable params: 0\n",
      "_________________________________________________________________\n",
      "Train on 26591 samples, validate on 11395 samples\n",
      "Epoch 1/35\n",
      "26591/26591 [==============================] - 0s - loss: 16.3067 - mean_absolute_error: 0.4717 - acc: 0.0966 - val_loss: 16.1811 - val_mean_absolute_error: 0.4702 - val_acc: 0.0892\n",
      "Epoch 2/35\n",
      "26591/26591 [==============================] - 0s - loss: 16.2160 - mean_absolute_error: 0.4733 - acc: 0.0955 - val_loss: 16.1809 - val_mean_absolute_error: 0.4717 - val_acc: 0.0934\n",
      "Epoch 3/35\n",
      "26591/26591 [==============================] - 0s - loss: 16.2160 - mean_absolute_error: 0.4749 - acc: 0.1004 - val_loss: 16.1811 - val_mean_absolute_error: 0.4730 - val_acc: 0.0919\n",
      "Epoch 4/35\n",
      "26591/26591 [==============================] - 0s - loss: 16.2159 - mean_absolute_error: 0.4762 - acc: 0.0990 - val_loss: 16.1810 - val_mean_absolute_error: 0.4743 - val_acc: 0.0897\n",
      "Epoch 5/35\n",
      "26591/26591 [==============================] - 0s - loss: 16.2159 - mean_absolute_error: 0.4775 - acc: 0.1064 - val_loss: 16.1809 - val_mean_absolute_error: 0.4758 - val_acc: 0.1363\n",
      "Epoch 6/35\n",
      "26591/26591 [==============================] - 0s - loss: 16.2159 - mean_absolute_error: 0.4788 - acc: 0.1071 - val_loss: 16.1808 - val_mean_absolute_error: 0.4768 - val_acc: 0.0903\n",
      "Epoch 7/35\n",
      "26591/26591 [==============================] - 0s - loss: 16.2159 - mean_absolute_error: 0.4800 - acc: 0.1024 - val_loss: 16.1810 - val_mean_absolute_error: 0.4779 - val_acc: 0.0921\n",
      "Epoch 8/35\n",
      "26591/26591 [==============================] - 0s - loss: 16.2159 - mean_absolute_error: 0.4811 - acc: 0.0995 - val_loss: 16.1809 - val_mean_absolute_error: 0.4792 - val_acc: 0.0918\n",
      "Epoch 9/35\n",
      "26591/26591 [==============================] - 0s - loss: 16.2159 - mean_absolute_error: 0.4821 - acc: 0.0988 - val_loss: 16.1809 - val_mean_absolute_error: 0.4801 - val_acc: 0.0889\n",
      "Epoch 10/35\n",
      "26591/26591 [==============================] - 0s - loss: 16.2159 - mean_absolute_error: 0.4831 - acc: 0.1020 - val_loss: 16.1809 - val_mean_absolute_error: 0.4812 - val_acc: 0.0971\n",
      "Epoch 11/35\n",
      "26591/26591 [==============================] - 0s - loss: 16.2159 - mean_absolute_error: 0.4841 - acc: 0.0995 - val_loss: 16.1809 - val_mean_absolute_error: 0.4821 - val_acc: 0.1692\n",
      "Epoch 12/35\n",
      "26591/26591 [==============================] - 0s - loss: 16.2159 - mean_absolute_error: 0.4851 - acc: 0.1086 - val_loss: 16.1808 - val_mean_absolute_error: 0.4827 - val_acc: 0.0940\n",
      "Epoch 13/35\n",
      "26591/26591 [==============================] - 0s - loss: 16.2159 - mean_absolute_error: 0.4860 - acc: 0.0992 - val_loss: 16.1808 - val_mean_absolute_error: 0.4838 - val_acc: 0.1010\n",
      "Epoch 14/35\n",
      "26591/26591 [==============================] - 0s - loss: 16.2159 - mean_absolute_error: 0.4869 - acc: 0.1000 - val_loss: 16.1808 - val_mean_absolute_error: 0.4846 - val_acc: 0.0914\n",
      "Epoch 15/35\n",
      "26591/26591 [==============================] - 0s - loss: 16.2159 - mean_absolute_error: 0.4877 - acc: 0.1066 - val_loss: 16.1808 - val_mean_absolute_error: 0.4857 - val_acc: 0.0928\n",
      "Epoch 16/35\n",
      "26591/26591 [==============================] - 0s - loss: 16.2158 - mean_absolute_error: 0.4886 - acc: 0.1006 - val_loss: 16.1808 - val_mean_absolute_error: 0.4865 - val_acc: 0.0905\n",
      "Epoch 17/35\n",
      "26591/26591 [==============================] - 0s - loss: 16.2159 - mean_absolute_error: 0.4894 - acc: 0.1029 - val_loss: 16.1808 - val_mean_absolute_error: 0.4874 - val_acc: 0.0909\n",
      "Epoch 18/35\n",
      "26591/26591 [==============================] - 0s - loss: 16.2159 - mean_absolute_error: 0.4902 - acc: 0.1029 - val_loss: 16.1808 - val_mean_absolute_error: 0.4881 - val_acc: 0.0922\n",
      "Epoch 19/35\n",
      "26591/26591 [==============================] - 0s - loss: 16.2158 - mean_absolute_error: 0.4909 - acc: 0.1020 - val_loss: 16.1808 - val_mean_absolute_error: 0.4890 - val_acc: 0.1378\n",
      "Epoch 20/35\n",
      "26591/26591 [==============================] - 0s - loss: 16.2158 - mean_absolute_error: 0.4918 - acc: 0.1010 - val_loss: 16.1809 - val_mean_absolute_error: 0.4894 - val_acc: 0.0931\n",
      "Epoch 21/35\n",
      "26591/26591 [==============================] - 0s - loss: 16.2159 - mean_absolute_error: 0.4925 - acc: 0.1035 - val_loss: 16.1808 - val_mean_absolute_error: 0.4904 - val_acc: 0.0930\n",
      "Epoch 22/35\n",
      "26591/26591 [==============================] - 0s - loss: 16.2159 - mean_absolute_error: 0.4933 - acc: 0.1005 - val_loss: 16.1809 - val_mean_absolute_error: 0.4912 - val_acc: 0.0890\n",
      "Epoch 23/35\n",
      "26591/26591 [==============================] - 0s - loss: 16.2158 - mean_absolute_error: 0.4939 - acc: 0.1052 - val_loss: 16.1808 - val_mean_absolute_error: 0.4917 - val_acc: 0.0919\n",
      "Epoch 24/35\n",
      "26591/26591 [==============================] - 0s - loss: 16.2159 - mean_absolute_error: 0.4946 - acc: 0.1028 - val_loss: 16.1808 - val_mean_absolute_error: 0.4926 - val_acc: 0.0914\n",
      "Epoch 25/35\n",
      "26591/26591 [==============================] - 0s - loss: 16.2158 - mean_absolute_error: 0.4953 - acc: 0.1032 - val_loss: 16.1808 - val_mean_absolute_error: 0.4934 - val_acc: 0.1227\n",
      "Epoch 26/35\n",
      "26591/26591 [==============================] - 0s - loss: 16.2158 - mean_absolute_error: 0.4960 - acc: 0.1083 - val_loss: 16.1809 - val_mean_absolute_error: 0.4943 - val_acc: 0.0916\n",
      "Epoch 27/35\n",
      "26591/26591 [==============================] - 0s - loss: 16.2158 - mean_absolute_error: 0.4967 - acc: 0.1034 - val_loss: 16.1808 - val_mean_absolute_error: 0.4943 - val_acc: 0.0931\n",
      "Epoch 28/35\n",
      "26591/26591 [==============================] - 0s - loss: 16.2158 - mean_absolute_error: 0.4973 - acc: 0.1055 - val_loss: 16.1808 - val_mean_absolute_error: 0.4948 - val_acc: 0.0921\n",
      "Epoch 29/35\n",
      "26591/26591 [==============================] - 0s - loss: 16.2159 - mean_absolute_error: 0.4979 - acc: 0.1021 - val_loss: 16.1808 - val_mean_absolute_error: 0.4957 - val_acc: 0.0900\n",
      "Epoch 30/35\n",
      "26591/26591 [==============================] - 0s - loss: 16.2158 - mean_absolute_error: 0.4986 - acc: 0.1022 - val_loss: 16.1808 - val_mean_absolute_error: 0.4963 - val_acc: 0.0905\n",
      "Epoch 31/35\n",
      "26591/26591 [==============================] - 0s - loss: 16.2158 - mean_absolute_error: 0.4993 - acc: 0.1039 - val_loss: 16.1810 - val_mean_absolute_error: 0.4966 - val_acc: 0.0933\n",
      "Epoch 32/35\n",
      "26591/26591 [==============================] - 0s - loss: 16.2158 - mean_absolute_error: 0.4998 - acc: 0.0976 - val_loss: 16.1807 - val_mean_absolute_error: 0.4976 - val_acc: 0.0929\n",
      "Epoch 33/35\n",
      "26591/26591 [==============================] - 0s - loss: 16.2158 - mean_absolute_error: 0.5004 - acc: 0.0973 - val_loss: 16.1808 - val_mean_absolute_error: 0.4984 - val_acc: 0.0905\n",
      "Epoch 34/35\n",
      "26591/26591 [==============================] - 0s - loss: 16.2158 - mean_absolute_error: 0.5011 - acc: 0.1044 - val_loss: 16.1808 - val_mean_absolute_error: 0.4989 - val_acc: 0.0963\n",
      "Epoch 35/35\n",
      "26591/26591 [==============================] - 0s - loss: 16.2158 - mean_absolute_error: 0.5017 - acc: 0.1048 - val_loss: 16.1810 - val_mean_absolute_error: 0.4997 - val_acc: 0.0892\n"
     ]
    },
    {
     "data": {
      "text/plain": [
       "<keras.callbacks.History at 0x7fe6edb50d50>"
      ]
     },
     "execution_count": 25,
     "metadata": {},
     "output_type": "execute_result"
    }
   ],
   "source": [
    "model = Sequential()\n",
    "model.add(Dense(13, input_shape=(13, ), kernel_initializer='random_normal', activation='linear'))\n",
    "model.add(Dense(27, activation='softsign'))\n",
    "model.add(Dense(40, activation='softsign'))\n",
    "model.add(Dense(10, activation='relu'))\n",
    "model.summary()\n",
    "\n",
    "sgd = optimizers.SGD(lr=0.01, decay=1e-6, momentum=0.3)\n",
    "\n",
    "# For a mean squared error regression problem\n",
    "model.compile(optimizer=sgd, loss='categorical_crossentropy', metrics=['mae', 'acc'])\n",
    "\n",
    "model.fit(X_training, Y_training, validation_data=(X_test, Y_test), epochs=35, batch_size=100)"
   ]
  },
  {
   "cell_type": "markdown",
   "metadata": {},
   "source": [
    "Regristra a rede neural, altera a porta da conexão TCP "
   ]
  },
  {
   "cell_type": "code",
   "execution_count": 26,
   "metadata": {},
   "outputs": [],
   "source": [
    "ID = \"021\"\n",
    "PORT = int(\"50\"+ID)\n",
    "changePort(PORT)\n",
    "\n",
    "model.save(\"Output_RN/v01_RN_\"+ ID +\"_model.h5\")\n",
    "# serialize model to JSON\n",
    "model_json = model.to_json()\n",
    "with open(\"Output_RN/v01_RN_\"+ ID +\"_jason.json\", \"w\") as json_file:\n",
    "    json_file.write(model_json)\n",
    "    \n",
    "json_file.close()"
   ]
  },
  {
   "cell_type": "code",
   "execution_count": 27,
   "metadata": {
    "scrolled": true
   },
   "outputs": [
    {
     "name": "stdout",
     "output_type": "stream",
     "text": [
      "PYTHON || simulacao.py: Iniciando simulacao\n",
      "PYTHON || simulacao.py: Esperando inicializacao do BCVTB\n",
      "PYTHON || simulation.py: Recebendo dados\n",
      "PYTHON || simulacao.py: SIMULACAO CONCLUIDA\n",
      "PYTHON || simulacao.py: TEMPO DA SIMULACAO: 0:00:21.581306\n",
      "FIM!\n"
     ]
    }
   ],
   "source": [
    "## SIMULACAO\n",
    "Simulate = Connection(PORT)\n",
    "connec = Simulate.start()\n",
    "\n",
    "NP_data = np.zeros((1, 23))\n",
    "NP_saida = np.zeros((1, 10))\n",
    "\n",
    "while True:\n",
    "    data = connec[0].recv(1024)\n",
    "    #print (\"raw data:\")\n",
    "    #print (data)\n",
    "    \n",
    "    if not data:\n",
    "        break\n",
    "\n",
    "    #dados direto do matlab em string\n",
    "    fromMatlab = data.decode(\"utf-8\")\n",
    "\n",
    "    #lista com\n",
    "    dataAndTime = fromMatlab.split(\",\")\n",
    "\n",
    "    weatherInText = dataAndTime[0].replace(\"[\", \"\")\n",
    "    weatherInText = weatherInText.replace(\"]\", \"\")\n",
    "\n",
    "    timeInfo = myTime.getTimeInfo(int(dataAndTime[1]))\n",
    "\n",
    "\n",
    "    #Gera uma lista com os dados climatologicos\n",
    "    weather = []\n",
    "    for x in weatherInText.split(\" \"):\n",
    "        weather.append(float(x))\n",
    "\n",
    "    ##        Hora, TempExterna,\n",
    "    \"\"\"\n",
    "    'Hora',\n",
    "    'TempExterna', 'ArVeloc', 'ArDirecao', 'Umidade', 'ArDensidade', 'StatusChuva',\n",
    "    'PMV_JardimInverno', 'Temp_JardimInverno',\n",
    "    'PMV_SalaCozinha', 'Temp_SalaCozinha',\n",
    "    'PMV_Mezanino', 'Temp_Mezanino'\n",
    "    \"\"\"\n",
    "    \n",
    "    \"\"\"\n",
    "    print \"timeInfo:\"\n",
    "    print timeInfo\n",
    "    \n",
    "    print \"weather: \" + str(len(weather))\n",
    "    print weather[19]\n",
    "    \"\"\"\n",
    "    \n",
    "    inputRN = pd.DataFrame([[timeInfo[2], weather[0], weather[1], weather[2], weather[3], weather[7], weather[8],\n",
    "                weather[19], weather[20], weather[23], weather[24], weather[25], weather[26]]], columns=headerInput)\n",
    "    \n",
    "    inputRN_np = np.array(inputRN)\n",
    "    \n",
    "    #print \"PMV SALA: \" + str(weather[23])\n",
    "    \n",
    "    np_inputRN = scaler_in.transform(inputRN_np)\n",
    "    \n",
    "    #print \"np_inputRN.shape: \" + str(np_inputRN.shape)\n",
    "    #print \"np_inputRN:\"\n",
    "    #print np_inputRN\n",
    "    \n",
    "    \n",
    "    #np_outputRN = model.predict_on_batch(np_inputRN)\n",
    "    print np_inputRN\n",
    "    np_outputRN = model.predict(np_inputRN, verbose=0)\n",
    "\n",
    "    #print \"np_outputRN:\"\n",
    "    #print np_outputRN\n",
    "    \n",
    "    np_timeInfo = np.array([timeInfo[2]])\n",
    "    np_weather = np.array([weather])\n",
    "\n",
    "    sendList = np_outputRN.tolist()[0]\n",
    "\n",
    "    np_save = np.column_stack((inputRN_np, np_outputRN))\n",
    "    \n",
    "\n",
    "    \n",
    "    NP_data = np.row_stack((NP_data, np_save))\n",
    "    NP_saida = np.row_stack((NP_saida, np_outputRN))\n",
    "    \n",
    "    #l = pd.Series(np_save[0,:], index = Input + Output)\n",
    "\n",
    "    \n",
    "    sendToMatlab = ', '.join(str(float(\"%.2f\" % e)) for e in sendList )\n",
    "\n",
    "    #print(\"OUTPUT DATA:\")\n",
    "    #print (sendToMatlab)\n",
    "    connec[0].sendall(str.encode(sendToMatlab))\n",
    "\n",
    "   \n",
    "\n",
    "\n",
    "Simulate.close()\n",
    "\n",
    "arquivo = pd.DataFrame(NP_data)\n",
    "arquivo.columns=headerInput+headerOutput\n",
    "arquivo = arquivo[2:]\n",
    "arquivo = arquivo[:-1]\n",
    "arquivo.to_csv(\"Output_RN/v01_RN_\"+ ID +\".csv\", index=False)\n",
    "\n",
    "\n",
    "saida = pd.DataFrame(NP_saida)\n",
    "saida.columns=headerOutput\n",
    "saida = saida[2:]\n",
    "saida = saida[:-1]\n",
    "saida.to_csv(\"Output_RN/v01_RN_\"+ ID +\"_saida.csv\", index=False)\n",
    "\n",
    "\n",
    "\n",
    "print (\"FIM!\")\n"
   ]
  },
  {
   "cell_type": "code",
   "execution_count": null,
   "metadata": {},
   "outputs": [],
   "source": []
  }
 ],
 "metadata": {
  "kernelspec": {
   "display_name": "Python 2",
   "language": "python",
   "name": "python2"
  },
  "language_info": {
   "codemirror_mode": {
    "name": "ipython",
    "version": 2
   },
   "file_extension": ".py",
   "mimetype": "text/x-python",
   "name": "python",
   "nbconvert_exporter": "python",
   "pygments_lexer": "ipython2",
   "version": "2.7.12"
  }
 },
 "nbformat": 4,
 "nbformat_minor": 2
}
