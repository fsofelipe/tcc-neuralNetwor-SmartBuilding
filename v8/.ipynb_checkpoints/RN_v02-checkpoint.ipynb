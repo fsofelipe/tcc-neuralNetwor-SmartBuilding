{
 "cells": [
  {
   "cell_type": "code",
   "execution_count": 43,
   "metadata": {},
   "outputs": [],
   "source": [
    "import pandas as pd\n",
    "import numpy as np\n",
    "\n",
    "import tensorflow as tf\n",
    "\n",
    "from keras.models import Sequential\n",
    "from keras.layers import Dense, Dropout, Activation\n",
    "from keras import optimizers\n",
    "\n",
    "np.random.seed(7)\n",
    "from sklearn.preprocessing import Normalizer\n",
    "from keras.callbacks import EarlyStopping\n",
    "\n",
    "from keras import backend as K\n",
    "from keras.utils.generic_utils import get_custom_objects\n",
    "import numpy as np\n"
   ]
  },
  {
   "cell_type": "code",
   "execution_count": 2,
   "metadata": {},
   "outputs": [],
   "source": [
    "headerInput = ['Hora', 'Temperature', 'Wind_Speed', 'Wind_Direction', 'Humidity', 'Air_Density', 'Rain_Status', 'Jardim_PMV','Jardim_Temp','Sala_PMV','Sala_Temp','Mezanino_PMV','Mezanino_Temp']\n",
    "headerOutput = ['PortaSalaNorte','JanelaSalaNorte','PortaSalaLeste','JanelaSalaSul','JanelaSalaOeste','PortaCozinhaLeste','JanelaCozinhaSul','JanelaMezaninoNorte','JanelaMezaninoSul','JanelaMezaninoOeste']"
   ]
  },
  {
   "cell_type": "code",
   "execution_count": 4,
   "metadata": {},
   "outputs": [],
   "source": [
    "Input = pd.read_csv(\"Selected/v02_input.csv\")\n",
    "Output = pd.read_csv(\"Selected/v02_output.csv\")\n",
    "\n",
    "Input_pd = Input[headerInput]\n",
    "Output_pd = Output[headerOutput]\n",
    "\n",
    "scaler_in = Normalizer().fit(Input_pd)\n",
    "Input_Norm = scaler_in.transform(Input_pd)\n",
    "Input_np = np.array(Input_pd)\n",
    "\n",
    "Output_Norm = np.array(Output_pd)\n"
   ]
  },
  {
   "cell_type": "markdown",
   "metadata": {},
   "source": [
    "**Cria** entradas para testes na rede <br>\n",
    "**Normaliza** entradas para testes na rede "
   ]
  },
  {
   "cell_type": "code",
   "execution_count": 28,
   "metadata": {},
   "outputs": [],
   "source": [
    "header = ['Mes', 'Dia', 'Hora', \n",
    "         'Temperature', 'Wind_Speed', 'Wind_Direction', 'Humidity', 'Air_Density', 'Rain_Status',\n",
    "         'AreaServico_PMV', 'AreaServico_Temp', 'Circulacao_PMV', 'Circulacao_Temp', 'Casal_PMV', 'Casal_Temp', 'Banheiro_PMV', 'Banheiro_Temp', 'Jardim_PMV', 'Jardim_Temp', 'Solteiro_PMV', 'Solteiro_Temp', 'Sala_PMV', 'Sala_Temp', 'Mezanino_PMV', 'Mezanino_Temp'\n",
    "         ]\n",
    "verao = pd.DataFrame([[11, 12, 13.000000, 32.800000, 3.500000, 322.000000, 39.000000, 1.066291, 0.000000, 0.489916, 27.627043, 0.442085, 27.478200, -0.514111, 29.523684, 0.423624, 27.716838, 2.027013, 32.011196, -1.767618, 25.996711, 0.060116, 25.994876, 1.637796, 31.163378]],\n",
    "                     columns=header)\n",
    "inverno = pd.DataFrame([[7.000000, 12.000000, 4.000000, 1.500000, 4.900000, 299.000000, 99.000000, 1.214668, 0.000000, -1.898431, 16.127440, -1.565105, 17.518529, -3.657721, 19.481752, -2.524125, 13.445211, -2.425717, 13.586386,-3.270185, 20.709248, -1.873544, 19.015872, -1.613798, 18.001001]],\n",
    "                      columns=header)\n",
    "\n",
    "verao = verao[headerInput]\n",
    "inverno = inverno[headerInput]\n",
    "\n",
    "verao_norm = scaler_in.transform(verao)\n",
    "inverno_norm = scaler_in.transform(inverno)"
   ]
  },
  {
   "cell_type": "code",
   "execution_count": 53,
   "metadata": {},
   "outputs": [
    {
     "name": "stdout",
     "output_type": "stream",
     "text": [
      "_________________________________________________________________\n",
      "Layer (type)                 Output Shape              Param #   \n",
      "=================================================================\n",
      "dense_40 (Dense)             (None, 40)                560       \n",
      "_________________________________________________________________\n",
      "dense_41 (Dense)             (None, 40)                1640      \n",
      "_________________________________________________________________\n",
      "dense_42 (Dense)             (None, 40)                1640      \n",
      "_________________________________________________________________\n",
      "dense_43 (Dense)             (None, 40)                1640      \n",
      "_________________________________________________________________\n",
      "dense_44 (Dense)             (None, 40)                1640      \n",
      "_________________________________________________________________\n",
      "dense_45 (Dense)             (None, 10)                410       \n",
      "=================================================================\n",
      "Total params: 7,530\n",
      "Trainable params: 7,530\n",
      "Non-trainable params: 0\n",
      "_________________________________________________________________\n",
      "Train on 39547 samples, validate on 16949 samples\n",
      "Epoch 1/35\n",
      "39547/39547 [==============================] - 1s - loss: 0.0903 - mean_absolute_error: 0.2542 - acc: 0.1056 - val_loss: 0.0907 - val_mean_absolute_error: 0.2523 - val_acc: 0.1058\n",
      "Epoch 2/35\n",
      "39547/39547 [==============================] - 1s - loss: 0.0889 - mean_absolute_error: 0.2487 - acc: 0.1122 - val_loss: 0.0905 - val_mean_absolute_error: 0.2511 - val_acc: 0.1646\n",
      "Epoch 3/35\n",
      "39547/39547 [==============================] - 1s - loss: 0.0888 - mean_absolute_error: 0.2479 - acc: 0.1091 - val_loss: 0.0905 - val_mean_absolute_error: 0.2508 - val_acc: 0.0969\n",
      "Epoch 4/35\n",
      "39547/39547 [==============================] - 0s - loss: 0.0886 - mean_absolute_error: 0.2475 - acc: 0.1091 - val_loss: 0.0902 - val_mean_absolute_error: 0.2500 - val_acc: 0.1595\n",
      "Epoch 5/35\n",
      "39547/39547 [==============================] - 0s - loss: 0.0884 - mean_absolute_error: 0.2472 - acc: 0.1102 - val_loss: 0.0899 - val_mean_absolute_error: 0.2496 - val_acc: 0.0965\n",
      "Epoch 6/35\n",
      "39547/39547 [==============================] - 1s - loss: 0.0883 - mean_absolute_error: 0.2472 - acc: 0.1087 - val_loss: 0.0893 - val_mean_absolute_error: 0.2493 - val_acc: 0.1389\n",
      "Epoch 7/35\n",
      "39547/39547 [==============================] - 1s - loss: 0.0882 - mean_absolute_error: 0.2470 - acc: 0.1086 - val_loss: 0.0894 - val_mean_absolute_error: 0.2492 - val_acc: 0.1086\n",
      "Epoch 8/35\n",
      "39547/39547 [==============================] - 0s - loss: 0.0879 - mean_absolute_error: 0.2466 - acc: 0.1065 - val_loss: 0.0900 - val_mean_absolute_error: 0.2493 - val_acc: 0.1602\n",
      "Epoch 9/35\n",
      "39547/39547 [==============================] - 1s - loss: 0.0880 - mean_absolute_error: 0.2467 - acc: 0.1067 - val_loss: 0.0892 - val_mean_absolute_error: 0.2493 - val_acc: 0.0939\n",
      "Epoch 10/35\n",
      "39547/39547 [==============================] - 1s - loss: 0.0879 - mean_absolute_error: 0.2463 - acc: 0.1073 - val_loss: 0.0894 - val_mean_absolute_error: 0.2492 - val_acc: 0.0981\n",
      "Epoch 11/35\n",
      "39547/39547 [==============================] - 1s - loss: 0.0877 - mean_absolute_error: 0.2464 - acc: 0.1063 - val_loss: 0.0899 - val_mean_absolute_error: 0.2488 - val_acc: 0.1290\n",
      "Epoch 12/35\n",
      "39547/39547 [==============================] - 1s - loss: 0.0876 - mean_absolute_error: 0.2461 - acc: 0.1125 - val_loss: 0.0900 - val_mean_absolute_error: 0.2491 - val_acc: 0.1029\n",
      "Epoch 13/35\n",
      "39547/39547 [==============================] - 1s - loss: 0.0881 - mean_absolute_error: 0.2467 - acc: 0.1119 - val_loss: 0.0899 - val_mean_absolute_error: 0.2493 - val_acc: 0.1030\n",
      "Epoch 14/35\n",
      "39547/39547 [==============================] - 0s - loss: 0.0877 - mean_absolute_error: 0.2459 - acc: 0.1094 - val_loss: 0.0904 - val_mean_absolute_error: 0.2500 - val_acc: 0.1596\n",
      "Epoch 15/35\n",
      "39547/39547 [==============================] - 0s - loss: 0.0877 - mean_absolute_error: 0.2458 - acc: 0.1093 - val_loss: 0.0883 - val_mean_absolute_error: 0.2477 - val_acc: 0.1004\n",
      "Epoch 16/35\n",
      "39547/39547 [==============================] - 0s - loss: 0.0877 - mean_absolute_error: 0.2463 - acc: 0.1128 - val_loss: 0.0904 - val_mean_absolute_error: 0.2503 - val_acc: 0.1499\n",
      "Epoch 17/35\n",
      "39547/39547 [==============================] - 0s - loss: 0.0877 - mean_absolute_error: 0.2458 - acc: 0.1080 - val_loss: 0.0894 - val_mean_absolute_error: 0.2487 - val_acc: 0.0981\n",
      "Epoch 18/35\n",
      "39547/39547 [==============================] - 1s - loss: 0.0877 - mean_absolute_error: 0.2459 - acc: 0.1090 - val_loss: 0.0959 - val_mean_absolute_error: 0.2536 - val_acc: 0.1552\n",
      "Epoch 19/35\n",
      "39547/39547 [==============================] - 0s - loss: 0.0878 - mean_absolute_error: 0.2457 - acc: 0.1086 - val_loss: 0.0886 - val_mean_absolute_error: 0.2476 - val_acc: 0.1231\n",
      "Epoch 20/35\n",
      "39547/39547 [==============================] - 1s - loss: 0.0878 - mean_absolute_error: 0.2455 - acc: 0.1113 - val_loss: 0.0885 - val_mean_absolute_error: 0.2471 - val_acc: 0.0955\n",
      "Epoch 21/35\n",
      "39547/39547 [==============================] - 1s - loss: 0.0873 - mean_absolute_error: 0.2450 - acc: 0.1103 - val_loss: 0.0890 - val_mean_absolute_error: 0.2479 - val_acc: 0.1150\n",
      "Epoch 22/35\n",
      "39547/39547 [==============================] - 1s - loss: 0.0872 - mean_absolute_error: 0.2448 - acc: 0.1058 - val_loss: 0.0897 - val_mean_absolute_error: 0.2492 - val_acc: 0.0965\n",
      "Epoch 23/35\n",
      "39547/39547 [==============================] - 1s - loss: 0.0874 - mean_absolute_error: 0.2450 - acc: 0.1059 - val_loss: 0.0865 - val_mean_absolute_error: 0.2444 - val_acc: 0.1014\n",
      "Epoch 24/35\n",
      "39547/39547 [==============================] - 1s - loss: 0.0872 - mean_absolute_error: 0.2448 - acc: 0.1031 - val_loss: 0.0867 - val_mean_absolute_error: 0.2443 - val_acc: 0.1034\n",
      "Epoch 25/35\n",
      "39547/39547 [==============================] - 1s - loss: 0.0871 - mean_absolute_error: 0.2446 - acc: 0.1061 - val_loss: 0.0894 - val_mean_absolute_error: 0.2486 - val_acc: 0.0997\n",
      "Epoch 26/35\n",
      "39547/39547 [==============================] - 1s - loss: 0.0878 - mean_absolute_error: 0.2456 - acc: 0.1115 - val_loss: 0.0873 - val_mean_absolute_error: 0.2453 - val_acc: 0.1061\n",
      "Epoch 27/35\n",
      "39547/39547 [==============================] - 1s - loss: 0.0877 - mean_absolute_error: 0.2455 - acc: 0.1062 - val_loss: 0.0893 - val_mean_absolute_error: 0.2483 - val_acc: 0.1116\n",
      "Epoch 28/35\n",
      "39547/39547 [==============================] - 1s - loss: 0.0881 - mean_absolute_error: 0.2458 - acc: 0.1084 - val_loss: 0.0902 - val_mean_absolute_error: 0.2493 - val_acc: 0.1036\n",
      "Epoch 29/35\n",
      "39547/39547 [==============================] - 0s - loss: 0.0880 - mean_absolute_error: 0.2457 - acc: 0.1093 - val_loss: 0.0879 - val_mean_absolute_error: 0.2466 - val_acc: 0.0961\n",
      "Epoch 30/35\n",
      "39547/39547 [==============================] - 0s - loss: 0.0880 - mean_absolute_error: 0.2457 - acc: 0.1136 - val_loss: 0.0900 - val_mean_absolute_error: 0.2480 - val_acc: 0.0988\n",
      "Epoch 31/35\n",
      "39547/39547 [==============================] - 0s - loss: 0.0879 - mean_absolute_error: 0.2455 - acc: 0.1121 - val_loss: 0.0875 - val_mean_absolute_error: 0.2458 - val_acc: 0.1076\n",
      "Epoch 32/35\n",
      "39547/39547 [==============================] - 0s - loss: 0.0882 - mean_absolute_error: 0.2460 - acc: 0.1131 - val_loss: 0.0904 - val_mean_absolute_error: 0.2495 - val_acc: 0.1319\n",
      "Epoch 33/35\n",
      "39547/39547 [==============================] - 0s - loss: 0.0882 - mean_absolute_error: 0.2459 - acc: 0.1148 - val_loss: 0.0892 - val_mean_absolute_error: 0.2485 - val_acc: 0.0941\n",
      "Epoch 34/35\n",
      "39547/39547 [==============================] - 0s - loss: 0.0879 - mean_absolute_error: 0.2459 - acc: 0.1105 - val_loss: 0.0903 - val_mean_absolute_error: 0.2492 - val_acc: 0.1073\n",
      "Epoch 35/35\n",
      "39547/39547 [==============================] - 0s - loss: 0.0887 - mean_absolute_error: 0.2464 - acc: 0.1084 - val_loss: 0.0897 - val_mean_absolute_error: 0.2486 - val_acc: 0.1090\n"
     ]
    },
    {
     "data": {
      "text/plain": [
       "<keras.callbacks.History at 0x7f0e36fdc150>"
      ]
     },
     "execution_count": 53,
     "metadata": {},
     "output_type": "execute_result"
    }
   ],
   "source": [
    "model = Sequential()\n",
    "model.add(Dense(40, input_shape=(13, ), kernel_initializer='random_normal', activation='tanh'))\n",
    "model.add(Dense(40, activation='tanh'))\n",
    "model.add(Dense(40, activation='tanh'))\n",
    "model.add(Dense(40, activation='tanh'))\n",
    "model.add(Dense(40, activation='relu'))\n",
    "model.add(Dense(10, activation='sigmoid'))\n",
    "model.summary()\n",
    "sgd = optimizers.SGD(lr=0.1, decay=1e-5, momentum=0.3, nesterov=True)\n",
    "\n",
    "\n",
    "model.compile(optimizer=sgd, loss='mean_squared_error', metrics=['mae', 'acc'])\n",
    "\n",
    "model.fit(Input_np, Output_Norm, validation_split=0.3, epochs=35, batch_size=100)\n",
    "\n"
   ]
  },
  {
   "cell_type": "markdown",
   "metadata": {},
   "source": []
  },
  {
   "cell_type": "code",
   "execution_count": 55,
   "metadata": {},
   "outputs": [
    {
     "name": "stdout",
     "output_type": "stream",
     "text": [
      "Verão\n",
      "[[ 0.185164    0.47665849  0.50071484  0.50068927  0.47379196  0.48159462\n",
      "   0.49049658  0.49758449  0.47244331  0.48135918]]\n",
      "Inverno\n",
      "[[ 0.15760677  0.45215726  0.47061422  0.46881729  0.44280034  0.4517391\n",
      "   0.46245745  0.46691313  0.44139674  0.45058125]]\n"
     ]
    }
   ],
   "source": [
    "teste_verao = model.predict(verao_norm)\n",
    "teste_inverno = model.predict(inverno_norm)\n",
    "print \"Verão\"\n",
    "print teste_verao\n",
    "print \"Inverno\"\n",
    "print teste_inverno"
   ]
  },
  {
   "cell_type": "code",
   "execution_count": null,
   "metadata": {},
   "outputs": [],
   "source": []
  }
 ],
 "metadata": {
  "kernelspec": {
   "display_name": "Python 2",
   "language": "python",
   "name": "python2"
  },
  "language_info": {
   "codemirror_mode": {
    "name": "ipython",
    "version": 2
   },
   "file_extension": ".py",
   "mimetype": "text/x-python",
   "name": "python",
   "nbconvert_exporter": "python",
   "pygments_lexer": "ipython2",
   "version": "2.7.12"
  }
 },
 "nbformat": 4,
 "nbformat_minor": 2
}
