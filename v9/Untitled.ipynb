{
 "cells": [
  {
   "cell_type": "code",
   "execution_count": 1,
   "metadata": {},
   "outputs": [],
   "source": [
    "import pandas as pd\n",
    "import numpy as np\n",
    "from sklearn.utils import shuffle"
   ]
  },
  {
   "cell_type": "code",
   "execution_count": 2,
   "metadata": {},
   "outputs": [
    {
     "name": "stdout",
     "output_type": "stream",
     "text": [
      "48\n",
      "23\n",
      "23\n"
     ]
    }
   ],
   "source": [
    "header = ['Mes', 'Dia', 'Hora', \n",
    "         'Temperature', 'Wind_Speed', 'Wind_Direction', 'Humidity', 'Air_Density', 'Rain_Status',\n",
    "         'AreaServico_PMV', 'AreaServico_Temp', 'Circulacao_PMV', 'Circulacao_Temp', 'Casal_PMV', 'Casal_Temp', 'Banheiro_PMV', 'Banheiro_Temp', 'Jardim_PMV', 'Jardim_Temp', 'Solteiro_PMV', 'Solteiro_Temp', 'Sala_PMV', 'Sala_Temp', 'Mezanino_PMV', 'Mezanino_Temp',\n",
    "         'PortaServicoLeste', 'JanelaServicoSul', 'JanelaCasalNorte', 'PortaCasalOeste', 'JanelaCasalOeste', 'JanelaBanheiroLeste', 'PortaBanheiroOeste', 'JanelaJardimNorte', 'JanelaJardimLeste', 'JanelaSolteiroNorte', 'PortaSolteiroSul', 'JanelaSolteiroSul', 'PortaSalaNorte', 'JanelaSalaNorte', 'PortaSalaLeste', 'JanelaSalaSul', 'JanelaSalaOeste', 'PortaCozinhaLeste', 'JanelaCozinhaSul', 'JanelaMezaninoNorte', 'JanelaMezaninoSul', 'JanelaMezaninoOeste', 'JanelaSegundoSul' \n",
    "         ]\n",
    "header_input = ['Hora', 'Temperature', 'Wind_Speed', 'Wind_Direction', 'Humidity', 'Air_Density', 'Rain_Status',\n",
    "               'AreaServico_PMV', 'AreaServico_Temp', 'Circulacao_PMV', 'Circulacao_Temp', 'Casal_PMV', 'Casal_Temp', 'Banheiro_PMV', 'Banheiro_Temp', 'Jardim_PMV', 'Jardim_Temp', 'Solteiro_PMV', 'Solteiro_Temp', 'Sala_PMV', 'Sala_Temp', 'Mezanino_PMV', 'Mezanino_Temp'\n",
    "               ]\n",
    "header_output = [\n",
    "                'PortaServicoLeste', 'JanelaServicoSul', 'JanelaCasalNorte', 'PortaCasalOeste', 'JanelaCasalOeste', 'JanelaBanheiroLeste', 'PortaBanheiroOeste', 'JanelaJardimNorte', 'JanelaJardimLeste', 'JanelaSolteiroNorte', 'PortaSolteiroSul', 'JanelaSolteiroSul', 'PortaSalaNorte', 'JanelaSalaNorte', 'PortaSalaLeste', 'JanelaSalaSul', 'JanelaSalaOeste', 'PortaCozinhaLeste', 'JanelaCozinhaSul', 'JanelaMezaninoNorte', 'JanelaMezaninoSul', 'JanelaMezaninoOeste', 'JanelaSegundoSul'\n",
    "                ]\n",
    "print len(header)\n",
    "print (len(header_input))\n",
    "print (len(header_output))"
   ]
  },
  {
   "cell_type": "code",
   "execution_count": 3,
   "metadata": {},
   "outputs": [],
   "source": [
    "def is_better_sig(dataFrame, it, PMV_label1, PMV_label2):\n",
    "    \"\"\"it = iterator\"\"\"\n",
    "    it = int(it)\n",
    "    if (it > 0 and it < (dataFrame['Hora'].count() - 1)):\n",
    "        if (((abs(dataFrame.iloc[it - 1][PMV_label1]) - abs(dataFrame.iloc[it][PMV_label1])) >= (abs(dataFrame.iloc[it][PMV_label1]) * 0.1)) and\n",
    "            ((abs(dataFrame.iloc[it - 1][PMV_label2]) - abs(dataFrame.iloc[it][PMV_label2])) >= (abs(dataFrame.iloc[it][PMV_label2]) * 0.1))):\n",
    "            return True\n",
    "        else:\n",
    "            return False\n",
    "    else:\n",
    "        return False\n",
    "    \n",
    "    \n",
    "    \n",
    "    \n",
    "    #return (dataFrame.iloc(it))"
   ]
  },
  {
   "cell_type": "code",
   "execution_count": 4,
   "metadata": {},
   "outputs": [
    {
     "name": "stdout",
     "output_type": "stream",
     "text": [
      "10\n"
     ]
    }
   ],
   "source": [
    "testes = [\"%03d\" % i for i in xrange(01, 11)]\n",
    "print len(testes)"
   ]
  },
  {
   "cell_type": "code",
   "execution_count": 6,
   "metadata": {},
   "outputs": [
    {
     "name": "stdout",
     "output_type": "stream",
     "text": [
      "Random_001: 11.7237442922% | total: 1027\n",
      "Random_002: 11.8493150685% | total: 1038\n",
      "Random_003: 12.0776255708% | total: 1058\n",
      "Random_004: 11.6095890411% | total: 1017\n",
      "Random_005: 12.0091324201% | total: 1052\n",
      "Random_006: 11.8607305936% | total: 1039\n",
      "Random_007: 11.6324200913% | total: 1019\n",
      "Random_008: 11.8378995434% | total: 1037\n",
      "Random_009: 11.9520547945% | total: 1047\n",
      "Random_010: 12.0091324201% | total: 1052\n"
     ]
    },
    {
     "ename": "NameError",
     "evalue": "name 'selected' is not defined",
     "output_type": "error",
     "traceback": [
      "\u001b[0;31m---------------------------------------------------------------------------\u001b[0m",
      "\u001b[0;31mNameError\u001b[0m                                 Traceback (most recent call last)",
      "\u001b[0;32m<ipython-input-6-63a79a75d5d8>\u001b[0m in \u001b[0;36m<module>\u001b[0;34m()\u001b[0m\n\u001b[1;32m     13\u001b[0m     \u001b[0;32mprint\u001b[0m \u001b[0;34m\"Random_\"\u001b[0m \u001b[0;34m+\u001b[0m \u001b[0mstr\u001b[0m\u001b[0;34m(\u001b[0m\u001b[0marq\u001b[0m\u001b[0;34m)\u001b[0m \u001b[0;34m+\u001b[0m \u001b[0;34m\": \"\u001b[0m \u001b[0;34m+\u001b[0m  \u001b[0mstr\u001b[0m\u001b[0;34m(\u001b[0m\u001b[0;34m(\u001b[0m\u001b[0mc\u001b[0m \u001b[0;34m*\u001b[0m \u001b[0;36m100.0\u001b[0m\u001b[0;34m)\u001b[0m\u001b[0;34m/\u001b[0m\u001b[0;36m8760.0\u001b[0m\u001b[0;34m)\u001b[0m \u001b[0;34m+\u001b[0m \u001b[0;34m\"%\"\u001b[0m \u001b[0;34m+\u001b[0m \u001b[0;34m\" | total: \"\u001b[0m \u001b[0;34m+\u001b[0m \u001b[0mstr\u001b[0m\u001b[0;34m(\u001b[0m\u001b[0mc\u001b[0m\u001b[0;34m)\u001b[0m\u001b[0;34m\u001b[0m\u001b[0m\n\u001b[1;32m     14\u001b[0m \u001b[0;34m\u001b[0m\u001b[0m\n\u001b[0;32m---> 15\u001b[0;31m \u001b[0mselected\u001b[0m \u001b[0;34m=\u001b[0m \u001b[0mselected\u001b[0m\u001b[0;34m.\u001b[0m\u001b[0mappend\u001b[0m\u001b[0;34m(\u001b[0m\u001b[0msel\u001b[0m\u001b[0;34m)\u001b[0m\u001b[0;34m\u001b[0m\u001b[0m\n\u001b[0m",
      "\u001b[0;31mNameError\u001b[0m: name 'selected' is not defined"
     ]
    }
   ],
   "source": [
    "sel = pd.DataFrame(columns=header)\n",
    "sel.describe()\n",
    "\n",
    "for arq in testes:\n",
    "    arquivo = pd.read_csv('../Data/Canguçu/simulation_random_' + str(arq) +'.csv')\n",
    "    c = 0\n",
    "    \n",
    "    for i in xrange(1, arquivo['Mes'].count() - 1):\n",
    "        if (is_better_sig(arquivo, i, 'Sala_PMV', 'Mezanino_PMV')):\n",
    "            c = c + 1\n",
    "            sel = sel.append(arquivo.iloc[i])\n",
    "    \n",
    "    print \"Random_\" + str(arq) + \": \" +  str((c * 100.0)/8760.0) + \"%\" + \" | total: \" + str(c)\n",
    "\n",
    "selected = selected.append(sel)"
   ]
  },
  {
   "cell_type": "code",
   "execution_count": null,
   "metadata": {},
   "outputs": [],
   "source": []
  }
 ],
 "metadata": {
  "kernelspec": {
   "display_name": "Python 2",
   "language": "python",
   "name": "python2"
  },
  "language_info": {
   "codemirror_mode": {
    "name": "ipython",
    "version": 2
   },
   "file_extension": ".py",
   "mimetype": "text/x-python",
   "name": "python",
   "nbconvert_exporter": "python",
   "pygments_lexer": "ipython2",
   "version": "2.7.12"
  }
 },
 "nbformat": 4,
 "nbformat_minor": 2
}
