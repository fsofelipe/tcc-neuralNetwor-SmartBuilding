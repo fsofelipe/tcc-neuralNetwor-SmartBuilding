{
 "cells": [
  {
   "cell_type": "markdown",
   "metadata": {},
   "source": [
    "# Avaliacao da simulação com atuação da rede neural:\n",
    "Melhora qualquer <br>\n",
    "Melhora significativa"
   ]
  },
  {
   "cell_type": "code",
   "execution_count": 1,
   "metadata": {},
   "outputs": [],
   "source": [
    "import pandas as pd\n",
    "import numpy as np"
   ]
  },
  {
   "cell_type": "code",
   "execution_count": 2,
   "metadata": {},
   "outputs": [],
   "source": [
    "headerInput = ['Hora', 'Temperature', 'Wind_Speed', 'Wind_Direction', 'Humidity', 'Air_Density', 'Rain_Status', 'Jardim_PMV','Jardim_Temp','Sala_PMV','Sala_Temp','Mezanino_PMV','Mezanino_Temp']\n",
    "headerOutput = ['PortaSalaNorte','JanelaSalaNorte','PortaSalaLeste','JanelaSalaSul','JanelaSalaOeste','PortaCozinhaLeste','JanelaCozinhaSul','JanelaMezaninoNorte','JanelaMezaninoSul','JanelaMezaninoOeste']\n",
    "header = headerInput+headerOutput"
   ]
  },
  {
   "cell_type": "code",
   "execution_count": 3,
   "metadata": {},
   "outputs": [],
   "source": [
    "def is_better_sig(dataFrame, it, PMV_label1, PMV_label2):\n",
    "    \"\"\"it = iterator\"\"\"\n",
    "    it = int(it)\n",
    "    if (it > 0 and it < (dataFrame['Hora'].count() - 1)):\n",
    "        if (((abs(dataFrame.iloc[it - 1][PMV_label1]) - abs(dataFrame.iloc[it][PMV_label1])) >= (abs(dataFrame.iloc[it][PMV_label1]) * 0.1)) and\n",
    "            ((abs(dataFrame.iloc[it - 1][PMV_label2]) - abs(dataFrame.iloc[it][PMV_label2])) >= (abs(dataFrame.iloc[it][PMV_label2]) * 0.1))):\n",
    "            return True\n",
    "        else:\n",
    "            return False\n",
    "    else:\n",
    "        return False"
   ]
  },
  {
   "cell_type": "code",
   "execution_count": 4,
   "metadata": {},
   "outputs": [],
   "source": [
    "def is_better(dataFrame, it, PMV_label1, PMV_label2):\n",
    "    \"\"\"it = iterator\"\"\"\n",
    "    it = int(it)\n",
    "    if (it > 0 and it < (dataFrame['Hora'].count() - 1)):\n",
    "        if ((abs(dataFrame.iloc[it - 1][PMV_label1]) >= abs(dataFrame.iloc[it][PMV_label1])) and\n",
    "            (abs(dataFrame.iloc[it - 1][PMV_label2]) >= abs(dataFrame.iloc[it][PMV_label2]))):\n",
    "            return True\n",
    "        else:\n",
    "            return False\n",
    "    else:\n",
    "        return False"
   ]
  },
  {
   "cell_type": "markdown",
   "metadata": {},
   "source": [
    "#### Gera lista de leitura de arquivo \n",
    "#### Seleciona o dataset"
   ]
  },
  {
   "cell_type": "code",
   "execution_count": 19,
   "metadata": {},
   "outputs": [],
   "source": [
    "dataset = '08'"
   ]
  },
  {
   "cell_type": "code",
   "execution_count": 20,
   "metadata": {},
   "outputs": [],
   "source": [
    "all1 = pd.read_csv('../../Data/Canguçu/simulation_all1.csv')\n",
    "all0 = pd.read_csv('../../Data/Canguçu/simulation_all0.csv')\n",
    "SE   = pd.read_csv('../../Data/Canguçu/simulation_SE_001.csv')"
   ]
  },
  {
   "cell_type": "markdown",
   "metadata": {},
   "source": [
    "# Avalia qualquer melhora"
   ]
  },
  {
   "cell_type": "code",
   "execution_count": 48,
   "metadata": {},
   "outputs": [
    {
     "name": "stdout",
     "output_type": "stream",
     "text": [
      "all0 | Conforto: 25.7876712329% | total: 2259\n",
      "all1 | Conforto: 36.1643835616% | total: 3168\n",
      "SE | Conforto: 21.8721461187% | total: 1916\n"
     ]
    }
   ],
   "source": [
    "c = 0\n",
    "for i in xrange(1, all0['Hora'].count() - 1):\n",
    "    if (is_better(all0, i, 'Sala_PMV', 'Mezanino_PMV')):\n",
    "        c = c + 1\n",
    "print (\"all0 | Conforto: \" +  str((c * 100.0)/8760.0) + \"%\" + \" | total: \" + str(c))  \n",
    "\n",
    "c = 0\n",
    "for i in xrange(1, all1['Hora'].count() - 1):\n",
    "    if (is_better(all1, i, 'Sala_PMV', 'Mezanino_PMV')):\n",
    "        c = c + 1\n",
    "print (\"all1 | Conforto: \" +  str((c * 100.0)/8760.0) + \"%\" + \" | total: \" + str(c)) \n",
    "\n",
    "c=0\n",
    "for i in xrange(1, SE['Hora'].count() - 1):\n",
    "    if (is_better(SE, i, 'Sala_PMV', 'Mezanino_PMV')):\n",
    "        c = c + 1\n",
    "print (\"SE | Conforto: \" +  str((c * 100.0)/8760.0) + \"%\" + \" | total: \" + str(c)) "
   ]
  },
  {
   "cell_type": "code",
   "execution_count": 23,
   "metadata": {},
   "outputs": [],
   "source": [
    "testes = [\"%02d\" % i for i in xrange(1, 8)]\n",
    "testes = testes + ['12', '13']"
   ]
  },
  {
   "cell_type": "code",
   "execution_count": 24,
   "metadata": {
    "scrolled": false
   },
   "outputs": [
    {
     "name": "stdout",
     "output_type": "stream",
     "text": [
      "Topologia: 01 | Conforto: 34.4406392694% | total: 3017\n",
      "Topologia: 02 | Conforto: 34.9543378995% | total: 3062\n",
      "Topologia: 03 | Conforto: 35.3082191781% | total: 3093\n",
      "Topologia: 04 | Conforto: 33.8470319635% | total: 2965\n",
      "Topologia: 05 | Conforto: 33.5616438356% | total: 2940\n",
      "Topologia: 06 | Conforto: 35.1826484018% | total: 3082\n",
      "Topologia: 07 | Conforto: 34.8173515982% | total: 3050\n",
      "Topologia: 12 | Conforto: 34.2351598174% | total: 2999\n",
      "Topologia: 13 | Conforto: 34.303652968% | total: 3005\n"
     ]
    }
   ],
   "source": [
    "for topologia in testes:\n",
    "    arquivo = pd.read_csv('Resultados/RN_d'+ dataset + '_t' + topologia +'.csv')\n",
    "    c = 0\n",
    "    for i in xrange(1, arquivo['Hora'].count() - 1):\n",
    "        if (is_better(arquivo, i, 'Sala_PMV', 'Mezanino_PMV')):\n",
    "            c = c + 1\n",
    "    print (\"Topologia: \"  +topologia + \" | Conforto: \" +  str((c * 100.0)/8760.0) + \"%\" + \" | total: \" + str(c))        \n"
   ]
  },
  {
   "cell_type": "code",
   "execution_count": 25,
   "metadata": {},
   "outputs": [
    {
     "name": "stdout",
     "output_type": "stream",
     "text": [
      "150\n"
     ]
    }
   ],
   "source": [
    "randoms = [\"%03d\" % i for i in xrange(1, 151)]\n",
    "print len(randoms)"
   ]
  },
  {
   "cell_type": "code",
   "execution_count": 26,
   "metadata": {
    "scrolled": true
   },
   "outputs": [
    {
     "name": "stdout",
     "output_type": "stream",
     "text": [
      "3399\n",
      "3412\n",
      "3393\n",
      "3370\n",
      "3432\n",
      "3432\n",
      "3423\n",
      "3396\n",
      "3396\n",
      "3398\n",
      "3399\n",
      "3420\n",
      "3401\n",
      "3412\n",
      "3386\n",
      "3389\n",
      "3458\n",
      "3417\n",
      "3401\n",
      "3402\n",
      "3420\n",
      "3407\n",
      "3419\n",
      "3362\n",
      "3438\n",
      "3385\n",
      "3427\n",
      "3430\n",
      "3373\n",
      "3415\n",
      "3474\n",
      "3457\n",
      "3362\n",
      "3415\n",
      "3381\n",
      "3380\n",
      "3410\n",
      "3429\n",
      "3410\n",
      "3396\n",
      "3413\n",
      "3417\n",
      "3392\n",
      "3397\n",
      "3426\n",
      "3417\n",
      "3457\n",
      "3404\n",
      "3383\n",
      "3427\n",
      "3385\n",
      "3437\n",
      "3439\n",
      "3447\n",
      "3397\n",
      "3388\n",
      "3386\n",
      "3394\n",
      "3420\n",
      "3418\n",
      "3424\n",
      "3415\n",
      "3408\n",
      "3408\n",
      "3425\n",
      "3422\n",
      "3409\n",
      "3409\n",
      "3438\n",
      "3371\n",
      "3436\n",
      "3384\n",
      "3419\n",
      "3403\n",
      "3379\n",
      "3405\n",
      "3405\n",
      "3425\n",
      "3444\n",
      "3407\n",
      "3384\n",
      "3380\n",
      "3428\n",
      "3406\n",
      "3407\n",
      "3425\n",
      "3414\n",
      "3377\n",
      "3377\n",
      "3396\n",
      "3393\n",
      "3448\n",
      "3405\n",
      "3426\n",
      "3414\n",
      "3418\n",
      "3441\n",
      "3403\n",
      "3343\n",
      "3416\n",
      "3383\n",
      "3432\n",
      "3404\n",
      "3412\n",
      "3419\n",
      "3419\n",
      "3413\n",
      "3394\n",
      "3385\n",
      "3410\n",
      "3387\n",
      "3410\n",
      "3362\n",
      "3424\n",
      "3429\n",
      "3454\n",
      "3418\n",
      "3395\n",
      "3434\n",
      "3418\n",
      "3380\n",
      "3409\n",
      "3383\n",
      "3365\n",
      "3422\n",
      "3419\n",
      "3387\n",
      "3415\n",
      "3405\n",
      "3387\n",
      "3392\n",
      "3410\n",
      "3394\n",
      "3421\n",
      "3441\n",
      "3374\n",
      "3384\n",
      "3440\n",
      "3387\n",
      "3378\n",
      "3420\n",
      "3430\n",
      "3441\n",
      "3369\n",
      "3431\n",
      "3389\n",
      "3394\n",
      "3409\n",
      "3466\n",
      "3382\n"
     ]
    }
   ],
   "source": [
    "for arq in randoms:\n",
    "    arquivo = pd.read_csv('../../Data/Canguçu/simulation_random_' + str(arq) +'.csv')\n",
    "    c = 0\n",
    "    \n",
    "    for i in xrange(1, arquivo['Mes'].count() - 1):\n",
    "        if (is_better(arquivo, i, 'Sala_PMV', 'Mezanino_PMV')):\n",
    "            c = c + 1\n",
    "\n",
    "    \n",
    "    print str(c)\n",
    "\n"
   ]
  },
  {
   "cell_type": "markdown",
   "metadata": {},
   "source": [
    "# Avalia melhora significativa:"
   ]
  },
  {
   "cell_type": "code",
   "execution_count": 27,
   "metadata": {},
   "outputs": [
    {
     "name": "stdout",
     "output_type": "stream",
     "text": [
      "all0 | Conforto: 5.70776255708% | total: 500\n",
      "all1 | Conforto: 10.9474885845% | total: 959\n",
      "SE | Conforto: 7.97945205479% | total: 699\n"
     ]
    }
   ],
   "source": [
    "c = 0\n",
    "for i in xrange(1, all0['Hora'].count() - 1):\n",
    "    if (is_better_sig(all0, i, 'Sala_PMV', 'Mezanino_PMV')):\n",
    "        c = c + 1\n",
    "print (\"all0 | Conforto: \" +  str((c * 100.0)/8760.0) + \"%\" + \" | total: \" + str(c))  \n",
    "\n",
    "c = 0\n",
    "for i in xrange(1, all1['Hora'].count() - 1):\n",
    "    if (is_better_sig(all1, i, 'Sala_PMV', 'Mezanino_PMV')):\n",
    "        c = c + 1\n",
    "print (\"all1 | Conforto: \" +  str((c * 100.0)/8760.0) + \"%\" + \" | total: \" + str(c)) \n",
    "\n",
    "c=0\n",
    "for i in xrange(1, SE['Hora'].count() - 1):\n",
    "    if (is_better_sig(SE, i, 'Sala_PMV', 'Mezanino_PMV')):\n",
    "        c = c + 1\n",
    "print (\"SE | Conforto: \" +  str((c * 100.0)/8760.0) + \"%\" + \" | total: \" + str(c)) "
   ]
  },
  {
   "cell_type": "code",
   "execution_count": 31,
   "metadata": {},
   "outputs": [],
   "source": [
    "testes = [\"%02d\" % i for i in xrange(1, 8)]\n",
    "testes = testes + ['12', '13']"
   ]
  },
  {
   "cell_type": "code",
   "execution_count": 32,
   "metadata": {
    "scrolled": true
   },
   "outputs": [
    {
     "name": "stdout",
     "output_type": "stream",
     "text": [
      "Topologia: 01 | Conforto: 14.8287671233% | total: 1299\n",
      "Topologia: 02 | Conforto: 15.6735159817% | total: 1373\n",
      "Topologia: 03 | Conforto: 16.8607305936% | total: 1477\n",
      "Topologia: 04 | Conforto: 14.3378995434% | total: 1256\n",
      "Topologia: 05 | Conforto: 13.196347032% | total: 1156\n",
      "Topologia: 06 | Conforto: 16.6552511416% | total: 1459\n",
      "Topologia: 07 | Conforto: 15.9817351598% | total: 1400\n",
      "Topologia: 12 | Conforto: 15.1598173516% | total: 1328\n",
      "Topologia: 13 | Conforto: 16.1757990868% | total: 1417\n"
     ]
    }
   ],
   "source": [
    "for topologia in testes:\n",
    "    arquivo = pd.read_csv('Resultados/RN_d'+ dataset + '_t' + topologia +'.csv')\n",
    "    c = 0\n",
    "    for i in xrange(1, arquivo['Hora'].count() - 1):\n",
    "        if (is_better_sig(arquivo, i, 'Sala_PMV', 'Mezanino_PMV')):\n",
    "            c = c + 1\n",
    "    print (\"Topologia: \"  +topologia + \" | Conforto: \" +  str((c * 100.0)/8760.0) + \"%\" + \" | total: \" + str(c))        \n"
   ]
  },
  {
   "cell_type": "code",
   "execution_count": 33,
   "metadata": {},
   "outputs": [],
   "source": [
    "randoms = [\"%03d\" % i for i in xrange(1, 151)]"
   ]
  },
  {
   "cell_type": "code",
   "execution_count": 34,
   "metadata": {
    "scrolled": true
   },
   "outputs": [
    {
     "name": "stdout",
     "output_type": "stream",
     "text": [
      "1027\n",
      "1038\n",
      "1058\n",
      "1017\n",
      "1052\n",
      "1039\n",
      "1019\n",
      "1037\n",
      "1047\n",
      "1052\n",
      "1020\n",
      "1033\n",
      "1038\n",
      "1029\n",
      "1015\n",
      "1003\n",
      "1022\n",
      "1077\n",
      "1025\n",
      "1035\n",
      "1048\n",
      "1034\n",
      "1020\n",
      "1044\n",
      "1059\n",
      "1063\n",
      "1039\n",
      "1039\n",
      "1024\n",
      "1030\n",
      "1038\n",
      "1059\n",
      "1032\n",
      "1034\n",
      "1027\n",
      "1014\n",
      "1024\n",
      "1033\n",
      "1030\n",
      "1061\n",
      "1006\n",
      "1049\n",
      "1039\n",
      "1025\n",
      "1045\n",
      "1049\n",
      "1038\n",
      "1014\n",
      "1033\n",
      "1035\n",
      "1029\n",
      "1042\n",
      "1054\n",
      "1072\n",
      "1054\n",
      "1013\n",
      "1035\n",
      "1057\n",
      "1038\n",
      "1036\n",
      "1033\n",
      "1034\n",
      "1017\n",
      "1048\n",
      "1047\n",
      "1062\n",
      "1047\n",
      "1041\n",
      "1041\n",
      "1044\n",
      "1016\n",
      "1014\n",
      "1039\n",
      "1042\n",
      "1021\n",
      "1026\n",
      "1052\n",
      "1023\n",
      "1023\n",
      "1017\n",
      "1051\n",
      "1019\n",
      "1069\n",
      "1045\n",
      "1010\n",
      "1031\n",
      "1031\n",
      "1028\n",
      "1027\n",
      "1034\n",
      "1033\n",
      "1063\n",
      "1017\n",
      "1031\n",
      "1031\n",
      "1039\n",
      "1015\n",
      "1004\n",
      "1021\n",
      "1055\n",
      "1007\n",
      "1039\n",
      "1014\n",
      "1067\n",
      "1045\n",
      "1051\n",
      "1052\n",
      "1033\n",
      "1053\n",
      "1042\n",
      "1013\n",
      "1047\n",
      "1052\n",
      "1039\n",
      "1017\n",
      "1046\n",
      "1009\n",
      "1037\n",
      "1050\n",
      "1042\n",
      "1035\n",
      "1046\n",
      "1038\n",
      "1033\n",
      "1016\n",
      "1045\n",
      "1006\n",
      "1043\n",
      "1037\n",
      "1028\n",
      "1037\n",
      "1020\n",
      "1044\n",
      "1017\n",
      "1030\n",
      "1061\n",
      "1035\n",
      "1033\n",
      "1025\n",
      "1016\n",
      "1023\n",
      "1039\n",
      "1028\n",
      "1035\n",
      "1037\n",
      "1016\n",
      "1011\n",
      "1028\n",
      "1023\n",
      "1036\n"
     ]
    }
   ],
   "source": [
    "for arq in randoms:\n",
    "    arquivo = pd.read_csv('../../Data/Canguçu/simulation_random_' + str(arq) +'.csv')\n",
    "    c = 0\n",
    "    \n",
    "    for i in xrange(1, arquivo['Mes'].count() - 1):\n",
    "        if (is_better_sig(arquivo, i, 'Sala_PMV', 'Mezanino_PMV')):\n",
    "            c = c + 1\n",
    "\n",
    "    \n",
    "    print str(c)\n",
    "\n"
   ]
  },
  {
   "cell_type": "markdown",
   "metadata": {},
   "source": [
    "# Avalia horas em conforto:"
   ]
  },
  {
   "cell_type": "code",
   "execution_count": 47,
   "metadata": {},
   "outputs": [
    {
     "name": "stdout",
     "output_type": "stream",
     "text": [
      "all1: 6.51826484018% | total: 571\n",
      "all0: 41.8378995434% | total: 3665\n",
      "SE: 46.3926940639% | total: 4064\n"
     ]
    }
   ],
   "source": [
    "c = all1[((all1['Sala_PMV'] >= -Range) & (all1['Sala_PMV'] <= Range)) & ((all1['Mezanino_PMV'] >= -Range) & (all1['Mezanino_PMV'] <= Range))].Sala_PMV.count()\n",
    "print \"all1: \" + str((c * 100.0)/8760.0) + \"%\" + \" | total: \" + str(c)\n",
    "\n",
    "c = all0[((all0['Sala_PMV'] >= -Range) & (all0['Sala_PMV'] <= Range)) & ((all0['Mezanino_PMV'] >= -Range) & (all0['Mezanino_PMV'] <= Range))].Sala_PMV.count()\n",
    "print \"all0: \" + str((c * 100.0)/8760.0) + \"%\" + \" | total: \" + str(c)\n",
    "\n",
    "c = SE[((SE['Sala_PMV'] >= -Range) & (SE['Sala_PMV'] <= Range)) & ((SE['Mezanino_PMV'] >= -Range) & (SE['Mezanino_PMV'] <= Range))].Sala_PMV.count()\n",
    "print \"SE: \" + str((c * 100.0)/8760.0) + \"%\" + \" | total: \" + str(c)"
   ]
  },
  {
   "cell_type": "code",
   "execution_count": 47,
   "metadata": {},
   "outputs": [],
   "source": [
    "topologia = [\"%02d\" % i for i in xrange(1, 8)]\n",
    "topologia = topologia + ['12', '13']\n",
    "Range = 0.7"
   ]
  },
  {
   "cell_type": "code",
   "execution_count": 48,
   "metadata": {
    "scrolled": true
   },
   "outputs": [
    {
     "name": "stdout",
     "output_type": "stream",
     "text": [
      "01: 25.102739726% | total: 2199\n",
      "02: 23.698630137% | total: 2076\n",
      "03: 22.7625570776% | total: 1994\n",
      "04: 27.7054794521% | total: 2427\n",
      "05: 30.3767123288% | total: 2661\n",
      "06: 22.9908675799% | total: 2014\n",
      "07: 23.4817351598% | total: 2057\n",
      "12: 25.9931506849% | total: 2277\n",
      "13: 23.1849315068% | total: 2031\n"
     ]
    }
   ],
   "source": [
    "for top in topologia:\n",
    "    arquivo = pd.read_csv('Resultados/RN_d'+ dataset + '_t' + top +'.csv')\n",
    "    c = 0\n",
    "    \n",
    "    x = arquivo[((arquivo['Sala_PMV'] >= -Range) & (arquivo['Sala_PMV'] <= Range)) & ((arquivo['Mezanino_PMV'] >= -Range) & (arquivo['Mezanino_PMV'] <= Range))]\n",
    "    c = x.Sala_PMV.count()\n",
    "    \n",
    "    print str(top)+\": \" + str((c * 100.0)/8760.0) + \"%\" + \" | total: \" + str(c)\n",
    "    \n",
    "    \n",
    "  "
   ]
  },
  {
   "cell_type": "code",
   "execution_count": 43,
   "metadata": {},
   "outputs": [],
   "source": [
    "randoms = [\"%03d\" % i for i in xrange(1, 151)]"
   ]
  },
  {
   "cell_type": "code",
   "execution_count": 44,
   "metadata": {
    "scrolled": true
   },
   "outputs": [
    {
     "name": "stdout",
     "output_type": "stream",
     "text": [
      "695\n",
      "697\n",
      "697\n",
      "697\n",
      "689\n",
      "694\n",
      "698\n",
      "694\n",
      "695\n",
      "695\n",
      "689\n",
      "689\n",
      "698\n",
      "696\n",
      "691\n",
      "702\n",
      "685\n",
      "699\n",
      "687\n",
      "696\n",
      "687\n",
      "687\n",
      "696\n",
      "694\n",
      "693\n",
      "684\n",
      "683\n",
      "692\n",
      "680\n",
      "694\n",
      "690\n",
      "702\n",
      "691\n",
      "690\n",
      "678\n",
      "698\n",
      "698\n",
      "690\n",
      "690\n",
      "681\n",
      "681\n",
      "695\n",
      "686\n",
      "699\n",
      "700\n",
      "687\n",
      "678\n",
      "695\n",
      "684\n",
      "686\n",
      "696\n",
      "685\n",
      "689\n",
      "696\n",
      "688\n",
      "689\n",
      "698\n",
      "696\n",
      "695\n",
      "703\n",
      "697\n",
      "691\n",
      "693\n",
      "699\n",
      "692\n",
      "689\n",
      "691\n",
      "680\n",
      "699\n",
      "683\n",
      "690\n",
      "686\n",
      "691\n",
      "681\n",
      "681\n",
      "699\n",
      "697\n",
      "697\n",
      "689\n",
      "690\n",
      "684\n",
      "694\n",
      "678\n",
      "686\n",
      "696\n",
      "701\n",
      "697\n",
      "697\n",
      "680\n",
      "696\n",
      "688\n",
      "683\n",
      "696\n",
      "698\n",
      "697\n",
      "695\n",
      "686\n",
      "698\n",
      "679\n",
      "685\n",
      "695\n",
      "696\n",
      "686\n",
      "704\n",
      "697\n",
      "683\n",
      "695\n",
      "688\n",
      "687\n",
      "698\n",
      "704\n",
      "678\n",
      "692\n",
      "698\n",
      "698\n",
      "694\n",
      "701\n",
      "692\n",
      "702\n",
      "695\n",
      "708\n",
      "684\n",
      "705\n",
      "693\n",
      "690\n",
      "694\n",
      "691\n",
      "690\n",
      "686\n",
      "695\n",
      "708\n",
      "701\n",
      "708\n",
      "679\n",
      "688\n",
      "687\n",
      "695\n",
      "696\n",
      "702\n",
      "696\n",
      "697\n",
      "693\n",
      "705\n",
      "682\n",
      "693\n",
      "682\n",
      "695\n",
      "700\n",
      "697\n",
      "710\n"
     ]
    }
   ],
   "source": [
    "for arq in randoms:\n",
    "    arquivo = pd.read_csv('../../Data/Canguçu/simulation_random_' + str(arq) +'.csv')\n",
    "    c = 0\n",
    "    x = arquivo[((arquivo['Sala_PMV'] >= -Range) & (arquivo['Sala_PMV'] <= Range)) & ((arquivo['Mezanino_PMV'] >= -Range) & (arquivo['Mezanino_PMV'] <= Range))]\n",
    "    c = x.Sala_PMV.count()\n",
    "\n",
    "    \n",
    "    print str(c)"
   ]
  },
  {
   "cell_type": "code",
   "execution_count": null,
   "metadata": {},
   "outputs": [],
   "source": []
  }
 ],
 "metadata": {
  "kernelspec": {
   "display_name": "Python 2",
   "language": "python",
   "name": "python2"
  },
  "language_info": {
   "codemirror_mode": {
    "name": "ipython",
    "version": 2
   },
   "file_extension": ".py",
   "mimetype": "text/x-python",
   "name": "python",
   "nbconvert_exporter": "python",
   "pygments_lexer": "ipython2",
   "version": "2.7.12"
  }
 },
 "nbformat": 4,
 "nbformat_minor": 2
}
