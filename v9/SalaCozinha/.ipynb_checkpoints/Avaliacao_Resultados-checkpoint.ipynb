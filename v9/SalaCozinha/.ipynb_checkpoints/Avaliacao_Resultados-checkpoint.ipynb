{
 "cells": [
  {
   "cell_type": "markdown",
   "metadata": {},
   "source": [
    "# Avaliacao da simulação com atuação da rede neural:\n",
    "Melhora qualquer <br>\n",
    "Melhora significativa"
   ]
  },
  {
   "cell_type": "code",
   "execution_count": 1,
   "metadata": {},
   "outputs": [],
   "source": [
    "import pandas as pd\n",
    "import numpy as np"
   ]
  },
  {
   "cell_type": "code",
   "execution_count": 3,
   "metadata": {},
   "outputs": [],
   "source": [
    "headerInput = ['Hora', 'Temperature', 'Wind_Speed', 'Wind_Direction', 'Humidity', 'Air_Density', 'Rain_Status', 'Jardim_PMV','Jardim_Temp','Sala_PMV','Sala_Temp','Mezanino_PMV','Mezanino_Temp']\n",
    "headerOutput = ['PortaSalaNorte','JanelaSalaNorte','PortaSalaLeste','JanelaSalaSul','JanelaSalaOeste','PortaCozinhaLeste','JanelaCozinhaSul','JanelaMezaninoNorte','JanelaMezaninoSul','JanelaMezaninoOeste']\n",
    "header = headerInput+headerOutput"
   ]
  },
  {
   "cell_type": "code",
   "execution_count": 4,
   "metadata": {},
   "outputs": [],
   "source": [
    "headerInput = ['Temperature', 'Wind_Speed', 'Wind_Direction', 'Humidity', 'Air_Density', 'Jardim_PMV','Jardim_Temp','Sala_PMV','Sala_Temp','Mezanino_PMV','Mezanino_Temp']\n",
    "headerOutput = ['PortaSalaNorte','JanelaSalaNorte','PortaSalaLeste','JanelaSalaSul','JanelaSalaOeste','PortaCozinhaLeste','JanelaCozinhaSul','JanelaMezaninoNorte','JanelaMezaninoSul','JanelaMezaninoOeste']"
   ]
  },
  {
   "cell_type": "code",
   "execution_count": 2,
   "metadata": {},
   "outputs": [],
   "source": [
    "def is_better_sig(dataFrame, it, PMV_label1, PMV_label2):\n",
    "    \"\"\"it = iterator\"\"\"\n",
    "    it = int(it)\n",
    "    if (it > 0 and it < (dataFrame['Temperature'].count() - 1)):\n",
    "        if (((abs(dataFrame.iloc[it - 1][PMV_label1]) - abs(dataFrame.iloc[it][PMV_label1])) >= (abs(dataFrame.iloc[it][PMV_label1]) * 0.1)) and\n",
    "            ((abs(dataFrame.iloc[it - 1][PMV_label2]) - abs(dataFrame.iloc[it][PMV_label2])) >= (abs(dataFrame.iloc[it][PMV_label2]) * 0.1))):\n",
    "            return True\n",
    "        else:\n",
    "            return False\n",
    "    else:\n",
    "        return False"
   ]
  },
  {
   "cell_type": "code",
   "execution_count": 3,
   "metadata": {},
   "outputs": [],
   "source": [
    "def is_better(dataFrame, it, PMV_label1, PMV_label2):\n",
    "    \"\"\"it = iterator\"\"\"\n",
    "    it = int(it)\n",
    "    if (it > 0 and it < (dataFrame['Temperature'].count() - 1)):\n",
    "        if ((abs(dataFrame.iloc[it - 1][PMV_label1]) >= abs(dataFrame.iloc[it][PMV_label1])) and\n",
    "            (abs(dataFrame.iloc[it - 1][PMV_label2]) >= abs(dataFrame.iloc[it][PMV_label2]))):\n",
    "            return True\n",
    "        else:\n",
    "            return False\n",
    "    else:\n",
    "        return False"
   ]
  },
  {
   "cell_type": "markdown",
   "metadata": {},
   "source": [
    "#### Gera lista de leitura de arquivo \n",
    "#### Seleciona o dataset"
   ]
  },
  {
   "cell_type": "code",
   "execution_count": 4,
   "metadata": {},
   "outputs": [],
   "source": [
    "dataset = '05'"
   ]
  },
  {
   "cell_type": "code",
   "execution_count": 5,
   "metadata": {},
   "outputs": [],
   "source": [
    "all1 = pd.read_csv('../../Data/Canguçu/simulation_all1.csv')\n",
    "all0 = pd.read_csv('../../Data/Canguçu/simulation_all0.csv')\n",
    "SE   = pd.read_csv('../../Data/Canguçu/simulation_SE_001.csv')"
   ]
  },
  {
   "cell_type": "markdown",
   "metadata": {},
   "source": [
    "# Avalia qualquer melhora"
   ]
  },
  {
   "cell_type": "code",
   "execution_count": 6,
   "metadata": {},
   "outputs": [
    {
     "name": "stdout",
     "output_type": "stream",
     "text": [
      "all0 | Conforto: 25.7876712329% | total: 2259\n",
      "all1 | Conforto: 36.1643835616% | total: 3168\n",
      "SE | Conforto: 21.8721461187% | total: 1916\n"
     ]
    }
   ],
   "source": [
    "c = 0\n",
    "for i in xrange(1, all0['Hora'].count() - 1):\n",
    "    if (is_better(all0, i, 'Sala_PMV', 'Mezanino_PMV')):\n",
    "        c = c + 1\n",
    "print (\"all0 | Conforto: \" +  str((c * 100.0)/8760.0) + \"%\" + \" | total: \" + str(c))  \n",
    "\n",
    "c = 0\n",
    "for i in xrange(1, all1['Hora'].count() - 1):\n",
    "    if (is_better(all1, i, 'Sala_PMV', 'Mezanino_PMV')):\n",
    "        c = c + 1\n",
    "print (\"all1 | Conforto: \" +  str((c * 100.0)/8760.0) + \"%\" + \" | total: \" + str(c)) \n",
    "\n",
    "c=0\n",
    "for i in xrange(1, SE['Hora'].count() - 1):\n",
    "    if (is_better(SE, i, 'Sala_PMV', 'Mezanino_PMV')):\n",
    "        c = c + 1\n",
    "print (\"SE | Conforto: \" +  str((c * 100.0)/8760.0) + \"%\" + \" | total: \" + str(c)) "
   ]
  },
  {
   "cell_type": "code",
   "execution_count": 6,
   "metadata": {},
   "outputs": [],
   "source": [
    "testes = [\"%02d\" % i for i in xrange(1, 10)]"
   ]
  },
  {
   "cell_type": "code",
   "execution_count": 7,
   "metadata": {
    "scrolled": false
   },
   "outputs": [
    {
     "name": "stdout",
     "output_type": "stream",
     "text": [
      "Topologia: 01 | Conforto: 34.0753424658% | total: 2985\n",
      "Topologia: 02 | Conforto: 34.0753424658% | total: 2985\n",
      "Topologia: 03 | Conforto: 34.098173516% | total: 2987\n",
      "Topologia: 04 | Conforto: 34.0296803653% | total: 2981\n",
      "Topologia: 05 | Conforto: 34.1095890411% | total: 2988\n",
      "Topologia: 06 | Conforto: 34.0867579909% | total: 2986\n",
      "Topologia: 07 | Conforto: 34.2351598174% | total: 2999\n"
     ]
    },
    {
     "ename": "IOError",
     "evalue": "File Resultados/RN_d05_t08.csv does not exist",
     "output_type": "error",
     "traceback": [
      "\u001b[0;31m---------------------------------------------------------------------------\u001b[0m",
      "\u001b[0;31mIOError\u001b[0m                                   Traceback (most recent call last)",
      "\u001b[0;32m<ipython-input-7-6e3cda36b2f1>\u001b[0m in \u001b[0;36m<module>\u001b[0;34m()\u001b[0m\n\u001b[1;32m      1\u001b[0m \u001b[0;32mfor\u001b[0m \u001b[0mtopologia\u001b[0m \u001b[0;32min\u001b[0m \u001b[0mtestes\u001b[0m\u001b[0;34m:\u001b[0m\u001b[0;34m\u001b[0m\u001b[0m\n\u001b[0;32m----> 2\u001b[0;31m     \u001b[0marquivo\u001b[0m \u001b[0;34m=\u001b[0m \u001b[0mpd\u001b[0m\u001b[0;34m.\u001b[0m\u001b[0mread_csv\u001b[0m\u001b[0;34m(\u001b[0m\u001b[0;34m'Resultados/RN_d'\u001b[0m\u001b[0;34m+\u001b[0m \u001b[0mdataset\u001b[0m \u001b[0;34m+\u001b[0m \u001b[0;34m'_t'\u001b[0m \u001b[0;34m+\u001b[0m \u001b[0mtopologia\u001b[0m \u001b[0;34m+\u001b[0m\u001b[0;34m'.csv'\u001b[0m\u001b[0;34m)\u001b[0m\u001b[0;34m\u001b[0m\u001b[0m\n\u001b[0m\u001b[1;32m      3\u001b[0m     \u001b[0mc\u001b[0m \u001b[0;34m=\u001b[0m \u001b[0;36m0\u001b[0m\u001b[0;34m\u001b[0m\u001b[0m\n\u001b[1;32m      4\u001b[0m     \u001b[0;32mfor\u001b[0m \u001b[0mi\u001b[0m \u001b[0;32min\u001b[0m \u001b[0mxrange\u001b[0m\u001b[0;34m(\u001b[0m\u001b[0;36m1\u001b[0m\u001b[0;34m,\u001b[0m \u001b[0marquivo\u001b[0m\u001b[0;34m[\u001b[0m\u001b[0;34m'Temperature'\u001b[0m\u001b[0;34m]\u001b[0m\u001b[0;34m.\u001b[0m\u001b[0mcount\u001b[0m\u001b[0;34m(\u001b[0m\u001b[0;34m)\u001b[0m \u001b[0;34m-\u001b[0m \u001b[0;36m1\u001b[0m\u001b[0;34m)\u001b[0m\u001b[0;34m:\u001b[0m\u001b[0;34m\u001b[0m\u001b[0m\n\u001b[1;32m      5\u001b[0m         \u001b[0;32mif\u001b[0m \u001b[0;34m(\u001b[0m\u001b[0mis_better\u001b[0m\u001b[0;34m(\u001b[0m\u001b[0marquivo\u001b[0m\u001b[0;34m,\u001b[0m \u001b[0mi\u001b[0m\u001b[0;34m,\u001b[0m \u001b[0;34m'Sala_PMV'\u001b[0m\u001b[0;34m,\u001b[0m \u001b[0;34m'Mezanino_PMV'\u001b[0m\u001b[0;34m)\u001b[0m\u001b[0;34m)\u001b[0m\u001b[0;34m:\u001b[0m\u001b[0;34m\u001b[0m\u001b[0m\n",
      "\u001b[0;32m/usr/local/lib/python2.7/dist-packages/pandas/io/parsers.pyc\u001b[0m in \u001b[0;36mparser_f\u001b[0;34m(filepath_or_buffer, sep, delimiter, header, names, index_col, usecols, squeeze, prefix, mangle_dupe_cols, dtype, engine, converters, true_values, false_values, skipinitialspace, skiprows, nrows, na_values, keep_default_na, na_filter, verbose, skip_blank_lines, parse_dates, infer_datetime_format, keep_date_col, date_parser, dayfirst, iterator, chunksize, compression, thousands, decimal, lineterminator, quotechar, quoting, escapechar, comment, encoding, dialect, tupleize_cols, error_bad_lines, warn_bad_lines, skipfooter, skip_footer, doublequote, delim_whitespace, as_recarray, compact_ints, use_unsigned, low_memory, buffer_lines, memory_map, float_precision)\u001b[0m\n\u001b[1;32m    653\u001b[0m                     skip_blank_lines=skip_blank_lines)\n\u001b[1;32m    654\u001b[0m \u001b[0;34m\u001b[0m\u001b[0m\n\u001b[0;32m--> 655\u001b[0;31m         \u001b[0;32mreturn\u001b[0m \u001b[0m_read\u001b[0m\u001b[0;34m(\u001b[0m\u001b[0mfilepath_or_buffer\u001b[0m\u001b[0;34m,\u001b[0m \u001b[0mkwds\u001b[0m\u001b[0;34m)\u001b[0m\u001b[0;34m\u001b[0m\u001b[0m\n\u001b[0m\u001b[1;32m    656\u001b[0m \u001b[0;34m\u001b[0m\u001b[0m\n\u001b[1;32m    657\u001b[0m     \u001b[0mparser_f\u001b[0m\u001b[0;34m.\u001b[0m\u001b[0m__name__\u001b[0m \u001b[0;34m=\u001b[0m \u001b[0mname\u001b[0m\u001b[0;34m\u001b[0m\u001b[0m\n",
      "\u001b[0;32m/usr/local/lib/python2.7/dist-packages/pandas/io/parsers.pyc\u001b[0m in \u001b[0;36m_read\u001b[0;34m(filepath_or_buffer, kwds)\u001b[0m\n\u001b[1;32m    403\u001b[0m \u001b[0;34m\u001b[0m\u001b[0m\n\u001b[1;32m    404\u001b[0m     \u001b[0;31m# Create the parser.\u001b[0m\u001b[0;34m\u001b[0m\u001b[0;34m\u001b[0m\u001b[0m\n\u001b[0;32m--> 405\u001b[0;31m     \u001b[0mparser\u001b[0m \u001b[0;34m=\u001b[0m \u001b[0mTextFileReader\u001b[0m\u001b[0;34m(\u001b[0m\u001b[0mfilepath_or_buffer\u001b[0m\u001b[0;34m,\u001b[0m \u001b[0;34m**\u001b[0m\u001b[0mkwds\u001b[0m\u001b[0;34m)\u001b[0m\u001b[0;34m\u001b[0m\u001b[0m\n\u001b[0m\u001b[1;32m    406\u001b[0m \u001b[0;34m\u001b[0m\u001b[0m\n\u001b[1;32m    407\u001b[0m     \u001b[0;32mif\u001b[0m \u001b[0mchunksize\u001b[0m \u001b[0;32mor\u001b[0m \u001b[0miterator\u001b[0m\u001b[0;34m:\u001b[0m\u001b[0;34m\u001b[0m\u001b[0m\n",
      "\u001b[0;32m/usr/local/lib/python2.7/dist-packages/pandas/io/parsers.pyc\u001b[0m in \u001b[0;36m__init__\u001b[0;34m(self, f, engine, **kwds)\u001b[0m\n\u001b[1;32m    762\u001b[0m             \u001b[0mself\u001b[0m\u001b[0;34m.\u001b[0m\u001b[0moptions\u001b[0m\u001b[0;34m[\u001b[0m\u001b[0;34m'has_index_names'\u001b[0m\u001b[0;34m]\u001b[0m \u001b[0;34m=\u001b[0m \u001b[0mkwds\u001b[0m\u001b[0;34m[\u001b[0m\u001b[0;34m'has_index_names'\u001b[0m\u001b[0;34m]\u001b[0m\u001b[0;34m\u001b[0m\u001b[0m\n\u001b[1;32m    763\u001b[0m \u001b[0;34m\u001b[0m\u001b[0m\n\u001b[0;32m--> 764\u001b[0;31m         \u001b[0mself\u001b[0m\u001b[0;34m.\u001b[0m\u001b[0m_make_engine\u001b[0m\u001b[0;34m(\u001b[0m\u001b[0mself\u001b[0m\u001b[0;34m.\u001b[0m\u001b[0mengine\u001b[0m\u001b[0;34m)\u001b[0m\u001b[0;34m\u001b[0m\u001b[0m\n\u001b[0m\u001b[1;32m    765\u001b[0m \u001b[0;34m\u001b[0m\u001b[0m\n\u001b[1;32m    766\u001b[0m     \u001b[0;32mdef\u001b[0m \u001b[0mclose\u001b[0m\u001b[0;34m(\u001b[0m\u001b[0mself\u001b[0m\u001b[0;34m)\u001b[0m\u001b[0;34m:\u001b[0m\u001b[0;34m\u001b[0m\u001b[0m\n",
      "\u001b[0;32m/usr/local/lib/python2.7/dist-packages/pandas/io/parsers.pyc\u001b[0m in \u001b[0;36m_make_engine\u001b[0;34m(self, engine)\u001b[0m\n\u001b[1;32m    983\u001b[0m     \u001b[0;32mdef\u001b[0m \u001b[0m_make_engine\u001b[0m\u001b[0;34m(\u001b[0m\u001b[0mself\u001b[0m\u001b[0;34m,\u001b[0m \u001b[0mengine\u001b[0m\u001b[0;34m=\u001b[0m\u001b[0;34m'c'\u001b[0m\u001b[0;34m)\u001b[0m\u001b[0;34m:\u001b[0m\u001b[0;34m\u001b[0m\u001b[0m\n\u001b[1;32m    984\u001b[0m         \u001b[0;32mif\u001b[0m \u001b[0mengine\u001b[0m \u001b[0;34m==\u001b[0m \u001b[0;34m'c'\u001b[0m\u001b[0;34m:\u001b[0m\u001b[0;34m\u001b[0m\u001b[0m\n\u001b[0;32m--> 985\u001b[0;31m             \u001b[0mself\u001b[0m\u001b[0;34m.\u001b[0m\u001b[0m_engine\u001b[0m \u001b[0;34m=\u001b[0m \u001b[0mCParserWrapper\u001b[0m\u001b[0;34m(\u001b[0m\u001b[0mself\u001b[0m\u001b[0;34m.\u001b[0m\u001b[0mf\u001b[0m\u001b[0;34m,\u001b[0m \u001b[0;34m**\u001b[0m\u001b[0mself\u001b[0m\u001b[0;34m.\u001b[0m\u001b[0moptions\u001b[0m\u001b[0;34m)\u001b[0m\u001b[0;34m\u001b[0m\u001b[0m\n\u001b[0m\u001b[1;32m    986\u001b[0m         \u001b[0;32melse\u001b[0m\u001b[0;34m:\u001b[0m\u001b[0;34m\u001b[0m\u001b[0m\n\u001b[1;32m    987\u001b[0m             \u001b[0;32mif\u001b[0m \u001b[0mengine\u001b[0m \u001b[0;34m==\u001b[0m \u001b[0;34m'python'\u001b[0m\u001b[0;34m:\u001b[0m\u001b[0;34m\u001b[0m\u001b[0m\n",
      "\u001b[0;32m/usr/local/lib/python2.7/dist-packages/pandas/io/parsers.pyc\u001b[0m in \u001b[0;36m__init__\u001b[0;34m(self, src, **kwds)\u001b[0m\n\u001b[1;32m   1603\u001b[0m         \u001b[0mkwds\u001b[0m\u001b[0;34m[\u001b[0m\u001b[0;34m'allow_leading_cols'\u001b[0m\u001b[0;34m]\u001b[0m \u001b[0;34m=\u001b[0m \u001b[0mself\u001b[0m\u001b[0;34m.\u001b[0m\u001b[0mindex_col\u001b[0m \u001b[0;32mis\u001b[0m \u001b[0;32mnot\u001b[0m \u001b[0mFalse\u001b[0m\u001b[0;34m\u001b[0m\u001b[0m\n\u001b[1;32m   1604\u001b[0m \u001b[0;34m\u001b[0m\u001b[0m\n\u001b[0;32m-> 1605\u001b[0;31m         \u001b[0mself\u001b[0m\u001b[0;34m.\u001b[0m\u001b[0m_reader\u001b[0m \u001b[0;34m=\u001b[0m \u001b[0mparsers\u001b[0m\u001b[0;34m.\u001b[0m\u001b[0mTextReader\u001b[0m\u001b[0;34m(\u001b[0m\u001b[0msrc\u001b[0m\u001b[0;34m,\u001b[0m \u001b[0;34m**\u001b[0m\u001b[0mkwds\u001b[0m\u001b[0;34m)\u001b[0m\u001b[0;34m\u001b[0m\u001b[0m\n\u001b[0m\u001b[1;32m   1606\u001b[0m \u001b[0;34m\u001b[0m\u001b[0m\n\u001b[1;32m   1607\u001b[0m         \u001b[0;31m# XXX\u001b[0m\u001b[0;34m\u001b[0m\u001b[0;34m\u001b[0m\u001b[0m\n",
      "\u001b[0;32mpandas/_libs/parsers.pyx\u001b[0m in \u001b[0;36mpandas._libs.parsers.TextReader.__cinit__ (pandas/_libs/parsers.c:4209)\u001b[0;34m()\u001b[0m\n",
      "\u001b[0;32mpandas/_libs/parsers.pyx\u001b[0m in \u001b[0;36mpandas._libs.parsers.TextReader._setup_parser_source (pandas/_libs/parsers.c:8873)\u001b[0;34m()\u001b[0m\n",
      "\u001b[0;31mIOError\u001b[0m: File Resultados/RN_d05_t08.csv does not exist"
     ]
    }
   ],
   "source": [
    "for topologia in testes:\n",
    "    arquivo = pd.read_csv('Resultados/RN_d'+ dataset + '_t' + topologia +'.csv')\n",
    "    c = 0\n",
    "    for i in xrange(1, arquivo['Temperature'].count() - 1):\n",
    "        if (is_better(arquivo, i, 'Sala_PMV', 'Mezanino_PMV')):\n",
    "            c = c + 1\n",
    "    print (\"Topologia: \"  +topologia + \" | Conforto: \" +  str((c * 100.0)/8760.0) + \"%\" + \" | total: \" + str(c))        \n"
   ]
  },
  {
   "cell_type": "code",
   "execution_count": 8,
   "metadata": {},
   "outputs": [
    {
     "name": "stdout",
     "output_type": "stream",
     "text": [
      "150\n"
     ]
    }
   ],
   "source": [
    "randoms = [\"%03d\" % i for i in xrange(1, 151)]\n",
    "print len(randoms)"
   ]
  },
  {
   "cell_type": "code",
   "execution_count": 9,
   "metadata": {
    "scrolled": true
   },
   "outputs": [
    {
     "name": "stdout",
     "output_type": "stream",
     "text": [
      "3399\n",
      "3412\n",
      "3393\n",
      "3370\n",
      "3432\n",
      "3432\n",
      "3423\n",
      "3396\n",
      "3396\n",
      "3398\n",
      "3399\n",
      "3420\n",
      "3401\n",
      "3412\n",
      "3386\n",
      "3389\n",
      "3458\n",
      "3417\n",
      "3401\n",
      "3402\n",
      "3420\n",
      "3407\n",
      "3419\n",
      "3362\n",
      "3438\n",
      "3385\n",
      "3427\n",
      "3430\n",
      "3373\n",
      "3415\n",
      "3474\n",
      "3457\n",
      "3362\n",
      "3415\n",
      "3381\n",
      "3380\n",
      "3410\n",
      "3429\n",
      "3410\n",
      "3396\n",
      "3413\n",
      "3417\n",
      "3392\n",
      "3397\n",
      "3426\n",
      "3417\n",
      "3457\n",
      "3404\n",
      "3383\n",
      "3427\n",
      "3385\n",
      "3437\n",
      "3439\n",
      "3447\n",
      "3397\n",
      "3388\n",
      "3386\n",
      "3394\n",
      "3420\n",
      "3418\n",
      "3424\n",
      "3415\n",
      "3408\n",
      "3408\n",
      "3425\n",
      "3422\n",
      "3409\n",
      "3409\n",
      "3438\n",
      "3371\n",
      "3436\n",
      "3384\n",
      "3419\n",
      "3403\n",
      "3379\n",
      "3405\n",
      "3405\n",
      "3425\n",
      "3444\n",
      "3407\n",
      "3384\n",
      "3380\n",
      "3428\n",
      "3406\n",
      "3407\n",
      "3425\n",
      "3414\n",
      "3377\n",
      "3377\n",
      "3396\n",
      "3393\n",
      "3448\n",
      "3405\n",
      "3426\n",
      "3414\n",
      "3418\n",
      "3441\n",
      "3403\n",
      "3343\n",
      "3416\n",
      "3383\n",
      "3432\n",
      "3404\n",
      "3412\n",
      "3419\n",
      "3419\n",
      "3413\n",
      "3394\n",
      "3385\n",
      "3410\n",
      "3387\n",
      "3410\n",
      "3362\n",
      "3424\n",
      "3429\n",
      "3454\n",
      "3418\n",
      "3395\n",
      "3434\n",
      "3418\n",
      "3380\n",
      "3409\n",
      "3383\n",
      "3365\n",
      "3422\n",
      "3419\n",
      "3387\n",
      "3415\n",
      "3405\n",
      "3387\n",
      "3392\n",
      "3410\n",
      "3394\n",
      "3421\n",
      "3441\n",
      "3374\n",
      "3384\n",
      "3440\n",
      "3387\n",
      "3378\n",
      "3420\n",
      "3430\n",
      "3441\n",
      "3369\n",
      "3431\n",
      "3389\n",
      "3394\n",
      "3409\n",
      "3466\n",
      "3382\n"
     ]
    }
   ],
   "source": [
    "for arq in randoms:\n",
    "    arquivo = pd.read_csv('../../Data/Canguçu/simulation_random_' + str(arq) +'.csv')\n",
    "    c = 0\n",
    "    \n",
    "    for i in xrange(1, arquivo['Mes'].count() - 1):\n",
    "        if (is_better(arquivo, i, 'Sala_PMV', 'Mezanino_PMV')):\n",
    "            c = c + 1\n",
    "\n",
    "    \n",
    "    print arq + \",\" + str(c)\n",
    "\n"
   ]
  },
  {
   "cell_type": "markdown",
   "metadata": {},
   "source": [
    "# Avalia melhora significativa:"
   ]
  },
  {
   "cell_type": "code",
   "execution_count": 27,
   "metadata": {},
   "outputs": [
    {
     "name": "stdout",
     "output_type": "stream",
     "text": [
      "all0 | Conforto: 5.70776255708% | total: 500\n",
      "all1 | Conforto: 10.9474885845% | total: 959\n",
      "SE | Conforto: 7.97945205479% | total: 699\n"
     ]
    }
   ],
   "source": [
    "c = 0\n",
    "for i in xrange(1, all0['Hora'].count() - 1):\n",
    "    if (is_better_sig(all0, i, 'Sala_PMV', 'Mezanino_PMV')):\n",
    "        c = c + 1\n",
    "print (\"all0 | Conforto: \" +  str((c * 100.0)/8760.0) + \"%\" + \" | total: \" + str(c))  \n",
    "\n",
    "c = 0\n",
    "for i in xrange(1, all1['Hora'].count() - 1):\n",
    "    if (is_better_sig(all1, i, 'Sala_PMV', 'Mezanino_PMV')):\n",
    "        c = c + 1\n",
    "print (\"all1 | Conforto: \" +  str((c * 100.0)/8760.0) + \"%\" + \" | total: \" + str(c)) \n",
    "\n",
    "c=0\n",
    "for i in xrange(1, SE['Hora'].count() - 1):\n",
    "    if (is_better_sig(SE, i, 'Sala_PMV', 'Mezanino_PMV')):\n",
    "        c = c + 1\n",
    "print (\"SE | Conforto: \" +  str((c * 100.0)/8760.0) + \"%\" + \" | total: \" + str(c)) "
   ]
  },
  {
   "cell_type": "code",
   "execution_count": 24,
   "metadata": {},
   "outputs": [],
   "source": [
    "testes = [\"%02d\" % i for i in xrange(1, 13)]\n"
   ]
  },
  {
   "cell_type": "code",
   "execution_count": 25,
   "metadata": {
    "scrolled": true
   },
   "outputs": [
    {
     "name": "stdout",
     "output_type": "stream",
     "text": [
      "Topologia: 01 | Conforto: 15.9246575342% | total: 1395\n",
      "Topologia: 02 | Conforto: 13.7557077626% | total: 1205\n",
      "Topologia: 03 | Conforto: 15.4680365297% | total: 1355\n",
      "Topologia: 04 | Conforto: 15.4794520548% | total: 1356\n",
      "Topologia: 05 | Conforto: 16.1301369863% | total: 1413\n",
      "Topologia: 06 | Conforto: 16.6552511416% | total: 1459\n",
      "Topologia: 07 | Conforto: 16.5753424658% | total: 1452\n",
      "Topologia: 08 | Conforto: 15.4109589041% | total: 1350\n",
      "Topologia: 09 | Conforto: 15.4109589041% | total: 1350\n",
      "Topologia: 10 | Conforto: 15.9360730594% | total: 1396\n",
      "Topologia: 11 | Conforto: 15.4794520548% | total: 1356\n",
      "Topologia: 12 | Conforto: 16.9634703196% | total: 1486\n"
     ]
    }
   ],
   "source": [
    "for topologia in testes:\n",
    "    arquivo = pd.read_csv('Resultados/RN_d'+ dataset + '_t' + topologia +'.csv')\n",
    "    c = 0\n",
    "    for i in xrange(1, arquivo['Temperature'].count() - 1):\n",
    "        if (is_better_sig(arquivo, i, 'Sala_PMV', 'Mezanino_PMV')):\n",
    "            c = c + 1\n",
    "    print (\"Topologia: \"  +topologia + \" | Conforto: \" +  str((c * 100.0)/8760.0) + \"%\" + \" | total: \" + str(c))        \n"
   ]
  },
  {
   "cell_type": "code",
   "execution_count": 10,
   "metadata": {},
   "outputs": [],
   "source": [
    "randoms = [\"%03d\" % i for i in xrange(1, 151)]"
   ]
  },
  {
   "cell_type": "code",
   "execution_count": 11,
   "metadata": {
    "scrolled": true
   },
   "outputs": [
    {
     "name": "stdout",
     "output_type": "stream",
     "text": [
      "001,1027\n",
      "002,1038\n",
      "003,1058\n",
      "004,1017\n",
      "005,1052\n",
      "006,1039\n",
      "007,1019\n",
      "008,1037\n",
      "009,1047\n",
      "010,1052\n",
      "011,1020\n",
      "012,1033\n",
      "013,1038\n",
      "014,1029\n",
      "015,1015\n",
      "016,1003\n",
      "017,1022\n",
      "018,1077\n",
      "019,1025\n",
      "020,1035\n",
      "021,1048\n",
      "022,1034\n",
      "023,1020\n",
      "024,1044\n",
      "025,1059\n",
      "026,1063\n",
      "027,1039\n",
      "028,1039\n",
      "029,1024\n",
      "030,1030\n",
      "031,1038\n",
      "032,1059\n",
      "033,1032\n",
      "034,1034\n",
      "035,1027\n",
      "036,1014\n",
      "037,1024\n",
      "038,1033\n",
      "039,1030\n",
      "040,1061\n",
      "041,1006\n",
      "042,1049\n",
      "043,1039\n",
      "044,1025\n",
      "045,1045\n",
      "046,1049\n",
      "047,1038\n",
      "048,1014\n",
      "049,1033\n",
      "050,1035\n",
      "051,1029\n",
      "052,1042\n",
      "053,1054\n",
      "054,1072\n",
      "055,1054\n",
      "056,1013\n",
      "057,1035\n",
      "058,1057\n",
      "059,1038\n",
      "060,1036\n",
      "061,1033\n",
      "062,1034\n",
      "063,1017\n",
      "064,1048\n",
      "065,1047\n",
      "066,1062\n",
      "067,1047\n",
      "068,1041\n",
      "069,1041\n",
      "070,1044\n",
      "071,1016\n",
      "072,1014\n",
      "073,1039\n",
      "074,1042\n",
      "075,1021\n",
      "076,1026\n",
      "077,1052\n",
      "078,1023\n",
      "079,1023\n",
      "080,1017\n",
      "081,1051\n",
      "082,1019\n",
      "083,1069\n",
      "084,1045\n",
      "085,1010\n",
      "086,1031\n",
      "087,1031\n",
      "088,1028\n",
      "089,1027\n",
      "090,1034\n",
      "091,1033\n",
      "092,1063\n",
      "093,1017\n",
      "094,1031\n",
      "095,1031\n",
      "096,1039\n",
      "097,1015\n",
      "098,1004\n",
      "099,1021\n",
      "100,1055\n",
      "101,1007\n",
      "102,1039\n",
      "103,1014\n",
      "104,1067\n",
      "105,1045\n",
      "106,1051\n",
      "107,1052\n",
      "108,1033\n",
      "109,1053\n",
      "110,1042\n",
      "111,1013\n",
      "112,1047\n",
      "113,1052\n",
      "114,1039\n",
      "115,1017\n",
      "116,1046\n",
      "117,1009\n",
      "118,1037\n",
      "119,1050\n",
      "120,1042\n",
      "121,1035\n",
      "122,1046\n",
      "123,1038\n",
      "124,1033\n",
      "125,1016\n",
      "126,1045\n",
      "127,1006\n",
      "128,1043\n",
      "129,1037\n",
      "130,1028\n",
      "131,1037\n",
      "132,1020\n",
      "133,1044\n",
      "134,1017\n",
      "135,1030\n",
      "136,1061\n",
      "137,1035\n",
      "138,1033\n",
      "139,1025\n",
      "140,1016\n",
      "141,1023\n",
      "142,1039\n",
      "143,1028\n",
      "144,1035\n",
      "145,1037\n",
      "146,1016\n",
      "147,1011\n",
      "148,1028\n",
      "149,1023\n",
      "150,1036\n"
     ]
    }
   ],
   "source": [
    "for arq in randoms:\n",
    "    arquivo = pd.read_csv('../../Data/Canguçu/simulation_random_' + str(arq) +'.csv')\n",
    "    c = 0\n",
    "    \n",
    "    for i in xrange(1, arquivo['Mes'].count() - 1):\n",
    "        if (is_better_sig(arquivo, i, 'Sala_PMV', 'Mezanino_PMV')):\n",
    "            c = c + 1\n",
    "\n",
    "    \n",
    "    print arq + \",\" + str(c)\n",
    "\n"
   ]
  },
  {
   "cell_type": "markdown",
   "metadata": {},
   "source": [
    "# Avalia horas em conforto:"
   ]
  },
  {
   "cell_type": "code",
   "execution_count": 32,
   "metadata": {},
   "outputs": [
    {
     "name": "stdout",
     "output_type": "stream",
     "text": [
      "all1: 6.51826484018% | total: 571\n",
      "all0: 41.8378995434% | total: 3665\n",
      "SE: 46.3926940639% | total: 4064\n"
     ]
    }
   ],
   "source": [
    "c = all1[((all1['Sala_PMV'] >= -Range) & (all1['Sala_PMV'] <= Range)) & ((all1['Mezanino_PMV'] >= -Range) & (all1['Mezanino_PMV'] <= Range))].Sala_PMV.count()\n",
    "print \"all1: \" + str((c * 100.0)/8760.0) + \"%\" + \" | total: \" + str(c)\n",
    "\n",
    "c = all0[((all0['Sala_PMV'] >= -Range) & (all0['Sala_PMV'] <= Range)) & ((all0['Mezanino_PMV'] >= -Range) & (all0['Mezanino_PMV'] <= Range))].Sala_PMV.count()\n",
    "print \"all0: \" + str((c * 100.0)/8760.0) + \"%\" + \" | total: \" + str(c)\n",
    "\n",
    "c = SE[((SE['Sala_PMV'] >= -Range) & (SE['Sala_PMV'] <= Range)) & ((SE['Mezanino_PMV'] >= -Range) & (SE['Mezanino_PMV'] <= Range))].Sala_PMV.count()\n",
    "print \"SE: \" + str((c * 100.0)/8760.0) + \"%\" + \" | total: \" + str(c)"
   ]
  },
  {
   "cell_type": "code",
   "execution_count": 26,
   "metadata": {},
   "outputs": [],
   "source": [
    "topologia = [\"%02d\" % i for i in xrange(1, 13)]\n",
    "\n",
    "Range = 0.7\n",
    "dataset='10'"
   ]
  },
  {
   "cell_type": "code",
   "execution_count": 27,
   "metadata": {
    "scrolled": true
   },
   "outputs": [
    {
     "name": "stdout",
     "output_type": "stream",
     "text": [
      "01: 23.5388127854% | total: 2062\n",
      "02: 27.397260274% | total: 2400\n",
      "03: 24.6803652968% | total: 2162\n",
      "04: 24.303652968% | total: 2129\n",
      "05: 23.6301369863% | total: 2070\n",
      "06: 23.2648401826% | total: 2038\n",
      "07: 23.9269406393% | total: 2096\n",
      "08: 24.303652968% | total: 2129\n",
      "09: 24.303652968% | total: 2129\n",
      "10: 23.7442922374% | total: 2080\n",
      "11: 24.3150684932% | total: 2130\n",
      "12: 22.8310502283% | total: 2000\n"
     ]
    }
   ],
   "source": [
    "for top in topologia:\n",
    "    arquivo = pd.read_csv('Resultados/RN_d'+ dataset + '_t' + top +'.csv')\n",
    "    c = 0\n",
    "    \n",
    "    x = arquivo[((arquivo['Sala_PMV'] >= -Range) & (arquivo['Sala_PMV'] <= Range)) & ((arquivo['Mezanino_PMV'] >= -Range) & (arquivo['Mezanino_PMV'] <= Range))]\n",
    "    c = x.Sala_PMV.count()\n",
    "    \n",
    "    print str(top)+\": \" + str((c * 100.0)/8760.0) + \"%\" + \" | total: \" + str(c)\n",
    "    \n",
    "    \n",
    "  "
   ]
  },
  {
   "cell_type": "code",
   "execution_count": 43,
   "metadata": {},
   "outputs": [],
   "source": [
    "randoms = [\"%03d\" % i for i in xrange(1, 151)]"
   ]
  },
  {
   "cell_type": "code",
   "execution_count": 44,
   "metadata": {
    "scrolled": true
   },
   "outputs": [
    {
     "name": "stdout",
     "output_type": "stream",
     "text": [
      "695\n",
      "697\n",
      "697\n",
      "697\n",
      "689\n",
      "694\n",
      "698\n",
      "694\n",
      "695\n",
      "695\n",
      "689\n",
      "689\n",
      "698\n",
      "696\n",
      "691\n",
      "702\n",
      "685\n",
      "699\n",
      "687\n",
      "696\n",
      "687\n",
      "687\n",
      "696\n",
      "694\n",
      "693\n",
      "684\n",
      "683\n",
      "692\n",
      "680\n",
      "694\n",
      "690\n",
      "702\n",
      "691\n",
      "690\n",
      "678\n",
      "698\n",
      "698\n",
      "690\n",
      "690\n",
      "681\n",
      "681\n",
      "695\n",
      "686\n",
      "699\n",
      "700\n",
      "687\n",
      "678\n",
      "695\n",
      "684\n",
      "686\n",
      "696\n",
      "685\n",
      "689\n",
      "696\n",
      "688\n",
      "689\n",
      "698\n",
      "696\n",
      "695\n",
      "703\n",
      "697\n",
      "691\n",
      "693\n",
      "699\n",
      "692\n",
      "689\n",
      "691\n",
      "680\n",
      "699\n",
      "683\n",
      "690\n",
      "686\n",
      "691\n",
      "681\n",
      "681\n",
      "699\n",
      "697\n",
      "697\n",
      "689\n",
      "690\n",
      "684\n",
      "694\n",
      "678\n",
      "686\n",
      "696\n",
      "701\n",
      "697\n",
      "697\n",
      "680\n",
      "696\n",
      "688\n",
      "683\n",
      "696\n",
      "698\n",
      "697\n",
      "695\n",
      "686\n",
      "698\n",
      "679\n",
      "685\n",
      "695\n",
      "696\n",
      "686\n",
      "704\n",
      "697\n",
      "683\n",
      "695\n",
      "688\n",
      "687\n",
      "698\n",
      "704\n",
      "678\n",
      "692\n",
      "698\n",
      "698\n",
      "694\n",
      "701\n",
      "692\n",
      "702\n",
      "695\n",
      "708\n",
      "684\n",
      "705\n",
      "693\n",
      "690\n",
      "694\n",
      "691\n",
      "690\n",
      "686\n",
      "695\n",
      "708\n",
      "701\n",
      "708\n",
      "679\n",
      "688\n",
      "687\n",
      "695\n",
      "696\n",
      "702\n",
      "696\n",
      "697\n",
      "693\n",
      "705\n",
      "682\n",
      "693\n",
      "682\n",
      "695\n",
      "700\n",
      "697\n",
      "710\n"
     ]
    }
   ],
   "source": [
    "for arq in randoms:\n",
    "    arquivo = pd.read_csv('../../Data/Canguçu/simulation_random_' + str(arq) +'.csv')\n",
    "    c = 0\n",
    "    x = arquivo[((arquivo['Sala_PMV'] >= -Range) & (arquivo['Sala_PMV'] <= Range)) & ((arquivo['Mezanino_PMV'] >= -Range) & (arquivo['Mezanino_PMV'] <= Range))]\n",
    "    c = x.Sala_PMV.count()\n",
    "\n",
    "    \n",
    "    print str(c)"
   ]
  },
  {
   "cell_type": "code",
   "execution_count": null,
   "metadata": {},
   "outputs": [],
   "source": []
  }
 ],
 "metadata": {
  "kernelspec": {
   "display_name": "Python 2",
   "language": "python",
   "name": "python2"
  },
  "language_info": {
   "codemirror_mode": {
    "name": "ipython",
    "version": 2
   },
   "file_extension": ".py",
   "mimetype": "text/x-python",
   "name": "python",
   "nbconvert_exporter": "python",
   "pygments_lexer": "ipython2",
   "version": "2.7.12"
  }
 },
 "nbformat": 4,
 "nbformat_minor": 2
}
