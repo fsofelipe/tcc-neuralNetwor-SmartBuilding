{
 "cells": [
  {
   "cell_type": "markdown",
   "metadata": {},
   "source": [
    "Importa bibliotecas, **frameworks** e arquivos .py<br>\n",
    "keras: rede neural<br>\n",
    "numpy: estrutura de dados<br>\n",
    "pandas: estrutura de dados<br>\n",
    "sklearn: normalização de dados\n"
   ]
  },
  {
   "cell_type": "code",
   "execution_count": 1,
   "metadata": {
    "scrolled": true
   },
   "outputs": [
    {
     "name": "stderr",
     "output_type": "stream",
     "text": [
      "Using TensorFlow backend.\n"
     ]
    }
   ],
   "source": [
    "import pandas as pd\n",
    "import numpy as np\n",
    "\n",
    "from keras.models import Sequential\n",
    "from keras.layers import Dense, Dropout, Activation\n",
    "from keras import optimizers\n",
    "from keras.models import load_model\n",
    "from keras.models import model_from_json\n",
    "\n",
    "np.random.seed(7)\n",
    "\n",
    "%run Python/simulation.py\n",
    "%run Python/dataNumpy.py\n",
    "import sys\n",
    "\n",
    "from sklearn.preprocessing import Normalizer\n"
   ]
  },
  {
   "cell_type": "code",
   "execution_count": 2,
   "metadata": {},
   "outputs": [
    {
     "name": "stdout",
     "output_type": "stream",
     "text": [
      "13\n",
      "10\n"
     ]
    }
   ],
   "source": [
    "headerInput = ['Hora', 'Temperature', 'Wind_Speed', 'Wind_Direction', 'Humidity', 'Air_Density', 'Rain_Status', 'Jardim_PMV','Jardim_Temp','Sala_PMV','Sala_Temp','Mezanino_PMV','Mezanino_Temp']\n",
    "headerOutput = ['PortaSalaNorte','JanelaSalaNorte','PortaSalaLeste','JanelaSalaSul','JanelaSalaOeste','PortaCozinhaLeste','JanelaCozinhaSul','JanelaMezaninoNorte','JanelaMezaninoSul','JanelaMezaninoOeste']\n",
    "\n",
    "print(len(headerInput))\n",
    "print(len(headerOutput))"
   ]
  },
  {
   "cell_type": "markdown",
   "metadata": {},
   "source": [
    "Carrega dataset e gera um objeto **normalizador**"
   ]
  },
  {
   "cell_type": "code",
   "execution_count": 3,
   "metadata": {},
   "outputs": [],
   "source": [
    "aux_1 = pd.read_csv(\"../Selected/d06_input.csv\")\n",
    "\n",
    "aux_2 = aux_1[headerInput]\n",
    "\n",
    "scaler_in = Normalizer().fit(aux_2)\n",
    "aux_3 = scaler_in.transform(aux_2)"
   ]
  },
  {
   "cell_type": "markdown",
   "metadata": {},
   "source": [
    "Função que permite alterar a PORTA da conexão TCP entre o energy plus, matlab e bcvtb"
   ]
  },
  {
   "cell_type": "code",
   "execution_count": 4,
   "metadata": {},
   "outputs": [],
   "source": [
    "def changePort(PORT):\n",
    "    base = open('simulateAndExit_base.m', 'r')\n",
    "    f = open('simulateAndExit.m', 'w')\n",
    "    lines = base.readlines()\n",
    "    lines[37] = str(lines[37]).replace('50001', str(PORT))\n",
    "    with open('simulateAndExit.m', 'w') as file_handler:\n",
    "        for item in lines:\n",
    "            file_handler.write(\"{}\".format(item))\n",
    "            \n",
    "    base.close()\n",
    "    f.close()"
   ]
  },
  {
   "cell_type": "markdown",
   "metadata": {},
   "source": [
    "Altera a porta da conexão TCP <br>\n",
    "Define o arquivo de saida da rede <br>"
   ]
  },
  {
   "cell_type": "code",
   "execution_count": 5,
   "metadata": {},
   "outputs": [],
   "source": [
    "dataset = '06'\n",
    "\n",
    "ID = \"001\"\n",
    "PORT = int(\"50\"+ID)\n",
    "changePort(PORT)\n",
    "\n",
    "\n",
    "topology = '01'\n",
    "\n",
    "filePath = 'Resultados/'\n",
    "fileName = 'RN_d' + dataset + '_t' + topology "
   ]
  },
  {
   "cell_type": "markdown",
   "metadata": {},
   "source": [
    "**Carrega** o modelo e os pesos de **rede neural** já testada"
   ]
  },
  {
   "cell_type": "code",
   "execution_count": 7,
   "metadata": {},
   "outputs": [
    {
     "name": "stdout",
     "output_type": "stream",
     "text": [
      "Loaded model from disk\n",
      "_________________________________________________________________\n",
      "Layer (type)                 Output Shape              Param #   \n",
      "=================================================================\n",
      "dense_1 (Dense)              (None, 40)                560       \n",
      "_________________________________________________________________\n",
      "dense_2 (Dense)              (None, 40)                1640      \n",
      "_________________________________________________________________\n",
      "dense_3 (Dense)              (None, 40)                1640      \n",
      "_________________________________________________________________\n",
      "dense_4 (Dense)              (None, 40)                1640      \n",
      "_________________________________________________________________\n",
      "dense_5 (Dense)              (None, 40)                1640      \n",
      "_________________________________________________________________\n",
      "dense_6 (Dense)              (None, 10)                410       \n",
      "=================================================================\n",
      "Total params: 7,530\n",
      "Trainable params: 7,530\n",
      "Non-trainable params: 0\n",
      "_________________________________________________________________\n",
      "Compilado\n"
     ]
    }
   ],
   "source": [
    "# load json and create model\n",
    "json_file = open('Topologias/RN_d' + dataset + '_t'+ topology +'_modelo.json', 'r')\n",
    "loaded_model_json = json_file.read()\n",
    "json_file.close()\n",
    "loaded_model = model_from_json(loaded_model_json)\n",
    "# load weights into new model\n",
    "loaded_model.load_weights(\"Topologias/RN_d\" + dataset + \"_t\" + topology +\"_pesos.h5\")\n",
    "print(\"Loaded model from disk\")\n",
    "\n",
    "sgd = optimizers.SGD(lr=0.1, decay=1e-5, momentum=0.3, nesterov=True)\n",
    "loaded_model.compile(optimizer=sgd, loss='mean_squared_error', metrics=['mae', 'acc'])\n",
    "loaded_model.summary()\n",
    "\n",
    "print \"Compilado\""
   ]
  },
  {
   "cell_type": "code",
   "execution_count": 8,
   "metadata": {
    "scrolled": true
   },
   "outputs": [
    {
     "name": "stdout",
     "output_type": "stream",
     "text": [
      "PYTHON || simulacao.py: Iniciando simulacao\n",
      "PYTHON || simulacao.py: Esperando inicializacao do BCVTB\n"
     ]
    },
    {
     "ename": "KeyboardInterrupt",
     "evalue": "",
     "output_type": "error",
     "traceback": [
      "\u001b[0;31m---------------------------------------------------------------------------\u001b[0m",
      "\u001b[0;31mKeyboardInterrupt\u001b[0m                         Traceback (most recent call last)",
      "\u001b[0;32m<ipython-input-8-2e5d249b69bf>\u001b[0m in \u001b[0;36m<module>\u001b[0;34m()\u001b[0m\n\u001b[1;32m      1\u001b[0m \u001b[0;31m## SIMULACAO\u001b[0m\u001b[0;34m\u001b[0m\u001b[0;34m\u001b[0m\u001b[0m\n\u001b[1;32m      2\u001b[0m \u001b[0mSimulate\u001b[0m \u001b[0;34m=\u001b[0m \u001b[0mConnection\u001b[0m\u001b[0;34m(\u001b[0m\u001b[0mPORT\u001b[0m\u001b[0;34m)\u001b[0m\u001b[0;34m\u001b[0m\u001b[0m\n\u001b[0;32m----> 3\u001b[0;31m \u001b[0mconnec\u001b[0m \u001b[0;34m=\u001b[0m \u001b[0mSimulate\u001b[0m\u001b[0;34m.\u001b[0m\u001b[0mstart\u001b[0m\u001b[0;34m(\u001b[0m\u001b[0;34m)\u001b[0m\u001b[0;34m\u001b[0m\u001b[0m\n\u001b[0m\u001b[1;32m      4\u001b[0m \u001b[0;34m\u001b[0m\u001b[0m\n\u001b[1;32m      5\u001b[0m \u001b[0mNP_data\u001b[0m \u001b[0;34m=\u001b[0m \u001b[0mnp\u001b[0m\u001b[0;34m.\u001b[0m\u001b[0mzeros\u001b[0m\u001b[0;34m(\u001b[0m\u001b[0;34m(\u001b[0m\u001b[0;36m1\u001b[0m\u001b[0;34m,\u001b[0m \u001b[0;36m23\u001b[0m\u001b[0;34m)\u001b[0m\u001b[0;34m)\u001b[0m\u001b[0;34m\u001b[0m\u001b[0m\n",
      "\u001b[0;32m/home/felipe/tcc-neuralNetwor-SmartBuilding/v9/SalaCozinha/Python/simulation.py\u001b[0m in \u001b[0;36mstart\u001b[0;34m(self)\u001b[0m\n\u001b[1;32m     17\u001b[0m     \u001b[0;32mdef\u001b[0m \u001b[0mstart\u001b[0m\u001b[0;34m(\u001b[0m\u001b[0mself\u001b[0m\u001b[0;34m)\u001b[0m\u001b[0;34m:\u001b[0m\u001b[0;34m\u001b[0m\u001b[0m\n\u001b[1;32m     18\u001b[0m         \u001b[0;32mprint\u001b[0m\u001b[0;34m(\u001b[0m\u001b[0;34m\"PYTHON || simulacao.py: Iniciando simulacao\\nPYTHON || simulacao.py: Esperando inicializacao do BCVTB\"\u001b[0m\u001b[0;34m)\u001b[0m\u001b[0;34m\u001b[0m\u001b[0m\n\u001b[0;32m---> 19\u001b[0;31m         \u001b[0mconn\u001b[0m\u001b[0;34m,\u001b[0m \u001b[0maddr\u001b[0m \u001b[0;34m=\u001b[0m \u001b[0mself\u001b[0m\u001b[0;34m.\u001b[0m\u001b[0ms\u001b[0m\u001b[0;34m.\u001b[0m\u001b[0maccept\u001b[0m\u001b[0;34m(\u001b[0m\u001b[0;34m)\u001b[0m\u001b[0;34m\u001b[0m\u001b[0m\n\u001b[0m\u001b[1;32m     20\u001b[0m         \u001b[0;32mprint\u001b[0m\u001b[0;34m(\u001b[0m\u001b[0;34m\"PYTHON || simulation.py: Recebendo dados\"\u001b[0m\u001b[0;34m)\u001b[0m\u001b[0;34m\u001b[0m\u001b[0m\n\u001b[1;32m     21\u001b[0m \u001b[0;34m\u001b[0m\u001b[0m\n",
      "\u001b[0;32m/usr/lib/python2.7/socket.pyc\u001b[0m in \u001b[0;36maccept\u001b[0;34m(self)\u001b[0m\n\u001b[1;32m    204\u001b[0m \u001b[0;34m\u001b[0m\u001b[0m\n\u001b[1;32m    205\u001b[0m     \u001b[0;32mdef\u001b[0m \u001b[0maccept\u001b[0m\u001b[0;34m(\u001b[0m\u001b[0mself\u001b[0m\u001b[0;34m)\u001b[0m\u001b[0;34m:\u001b[0m\u001b[0;34m\u001b[0m\u001b[0m\n\u001b[0;32m--> 206\u001b[0;31m         \u001b[0msock\u001b[0m\u001b[0;34m,\u001b[0m \u001b[0maddr\u001b[0m \u001b[0;34m=\u001b[0m \u001b[0mself\u001b[0m\u001b[0;34m.\u001b[0m\u001b[0m_sock\u001b[0m\u001b[0;34m.\u001b[0m\u001b[0maccept\u001b[0m\u001b[0;34m(\u001b[0m\u001b[0;34m)\u001b[0m\u001b[0;34m\u001b[0m\u001b[0m\n\u001b[0m\u001b[1;32m    207\u001b[0m         \u001b[0;32mreturn\u001b[0m \u001b[0m_socketobject\u001b[0m\u001b[0;34m(\u001b[0m\u001b[0m_sock\u001b[0m\u001b[0;34m=\u001b[0m\u001b[0msock\u001b[0m\u001b[0;34m)\u001b[0m\u001b[0;34m,\u001b[0m \u001b[0maddr\u001b[0m\u001b[0;34m\u001b[0m\u001b[0m\n\u001b[1;32m    208\u001b[0m     \u001b[0maccept\u001b[0m\u001b[0;34m.\u001b[0m\u001b[0m__doc__\u001b[0m \u001b[0;34m=\u001b[0m \u001b[0m_realsocket\u001b[0m\u001b[0;34m.\u001b[0m\u001b[0maccept\u001b[0m\u001b[0;34m.\u001b[0m\u001b[0m__doc__\u001b[0m\u001b[0;34m\u001b[0m\u001b[0m\n",
      "\u001b[0;31mKeyboardInterrupt\u001b[0m: "
     ]
    }
   ],
   "source": [
    "## SIMULACAO\n",
    "Simulate = Connection(PORT)\n",
    "connec = Simulate.start()\n",
    "\n",
    "NP_data = np.zeros((1, 23))\n",
    "NP_saida = np.zeros((1, 10))\n",
    "\n",
    "while True:\n",
    "    data = connec[0].recv(1024)\n",
    "    #print (\"raw data:\")\n",
    "    #print (data)\n",
    "    \n",
    "    if not data:\n",
    "        break\n",
    "\n",
    "    #dados direto do matlab em string\n",
    "    fromMatlab = data.decode(\"utf-8\")\n",
    "\n",
    "    #lista com\n",
    "    dataAndTime = fromMatlab.split(\",\")\n",
    "\n",
    "    weatherInText = dataAndTime[0].replace(\"[\", \"\")\n",
    "    weatherInText = weatherInText.replace(\"]\", \"\")\n",
    "\n",
    "    timeInfo = myTime.getTimeInfo(int(dataAndTime[1]))\n",
    "\n",
    "\n",
    "    #Gera uma lista com os dados climatologicos\n",
    "    weather = []\n",
    "    for x in weatherInText.split(\" \"):\n",
    "        weather.append(float(x))\n",
    "\n",
    "    ##        Hora, TempExterna,\n",
    "    \"\"\"\n",
    "    'Hora',\n",
    "    'TempExterna', 'ArVeloc', 'ArDirecao', 'Umidade', 'ArDensidade', 'StatusChuva',\n",
    "    'PMV_JardimInverno', 'Temp_JardimInverno',\n",
    "    'PMV_SalaCozinha', 'Temp_SalaCozinha',\n",
    "    'PMV_Mezanino', 'Temp_Mezanino'\n",
    "    \"\"\"\n",
    "    \n",
    "    \"\"\"\n",
    "    print \"timeInfo:\"\n",
    "    print timeInfo\n",
    "    \n",
    "    print \"weather: \" + str(len(weather))\n",
    "    print weather[19]\n",
    "    \"\"\"\n",
    "    \n",
    "    inputRN = pd.DataFrame([[timeInfo[2], weather[0], weather[1], weather[2], weather[3], weather[7], weather[8],\n",
    "                weather[19], weather[20], weather[23], weather[24], weather[25], weather[26]]], columns=headerInput)\n",
    "    \n",
    "    inputRN_np = np.array(inputRN)\n",
    "       \n",
    "    np_inputRN = scaler_in.transform(inputRN_np)\n",
    "    \n",
    "    #print \"np_inputRN:\"\n",
    "    #print np_inputRN\n",
    "   \n",
    "    #np_outputRN = model.predict_on_batch(np_inputRN)\n",
    "    np_outputRN = np.around(loaded_model.predict(np_inputRN, verbose=0), 2)\n",
    "    \n",
    "    #np_outputRN = np_outputRN, 2) #ARREDONDA\n",
    "    \n",
    "\n",
    "    \n",
    "    arred = np.around(np_outputRN[0], 2)\n",
    "    \n",
    "    novo = arred.tolist()\n",
    "    \n",
    "    novo = [0] + novo[1:]\n",
    "    \n",
    "    np_outputRN = np.array([novo])\n",
    "    \n",
    "    #print np_outputRN.shape\n",
    "    \n",
    "    \n",
    "    np_timeInfo = np.array([timeInfo[2]])\n",
    "    np_weather = np.array([weather])\n",
    "    \n",
    "    \n",
    "    \n",
    "\n",
    "    np_save = np.column_stack((inputRN_np, np_outputRN))\n",
    "    \n",
    "    \n",
    "    sendList = np_outputRN.tolist()[0]\n",
    "\n",
    "    \n",
    "    print np_outputRN\n",
    "    \n",
    "    \n",
    "    NP_data = np.row_stack((NP_data, np_save))\n",
    "    NP_saida = np.row_stack((NP_saida, np_outputRN))\n",
    "    \n",
    "    #l = pd.Series(np_save[0,:], index = Input + Output)\n",
    "\n",
    "    \n",
    "    sendToMatlab = ', '.join(str(float(\"%.2f\" % e)) for e in sendList )\n",
    "\n",
    "    #print(\"OUTPUT DATA:\")\n",
    "    #print (sendToMatlab)\n",
    "    connec[0].sendall(str.encode(sendToMatlab))\n",
    "\n",
    "   \n",
    "\n",
    "\n",
    "Simulate.close()\n",
    "\n",
    "arquivo = pd.DataFrame(NP_data)\n",
    "arquivo.columns=headerInput+headerOutput\n",
    "arquivo = arquivo[2:]\n",
    "arquivo = arquivo[:-1]\n",
    "arquivo.to_csv(filePath + fileName + \".csv\", index=False)\n",
    "\n",
    "\n",
    "saida = pd.DataFrame(NP_saida)\n",
    "saida.columns=headerOutput\n",
    "saida = saida[2:]\n",
    "saida = saida[:-1]\n",
    "saida.to_csv(filePath + fileName + \"_saida.csv\", index=False)\n",
    "\n",
    "\n",
    "\n",
    "print (\"FIM!\")"
   ]
  },
  {
   "cell_type": "code",
   "execution_count": null,
   "metadata": {},
   "outputs": [],
   "source": []
  }
 ],
 "metadata": {
  "kernelspec": {
   "display_name": "Python 2",
   "language": "python",
   "name": "python2"
  },
  "language_info": {
   "codemirror_mode": {
    "name": "ipython",
    "version": 2
   },
   "file_extension": ".py",
   "mimetype": "text/x-python",
   "name": "python",
   "nbconvert_exporter": "python",
   "pygments_lexer": "ipython2",
   "version": "2.7.12"
  }
 },
 "nbformat": 4,
 "nbformat_minor": 2
}
