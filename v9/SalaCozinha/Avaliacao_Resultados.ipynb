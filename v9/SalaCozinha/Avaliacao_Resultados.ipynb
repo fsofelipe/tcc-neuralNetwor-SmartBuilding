{
 "cells": [
  {
   "cell_type": "markdown",
   "metadata": {},
   "source": [
    "# Avaliacao da simulação com atuação da rede neural:\n",
    "Melhora qualquer <br>\n",
    "Melhora significativa"
   ]
  },
  {
   "cell_type": "code",
   "execution_count": 1,
   "metadata": {},
   "outputs": [],
   "source": [
    "import pandas as pd\n",
    "import numpy as np"
   ]
  },
  {
   "cell_type": "code",
   "execution_count": 3,
   "metadata": {},
   "outputs": [],
   "source": [
    "headerInput = ['Hora', 'Temperature', 'Wind_Speed', 'Wind_Direction', 'Humidity', 'Air_Density', 'Rain_Status', 'Jardim_PMV','Jardim_Temp','Sala_PMV','Sala_Temp','Mezanino_PMV','Mezanino_Temp']\n",
    "headerOutput = ['PortaSalaNorte','JanelaSalaNorte','PortaSalaLeste','JanelaSalaSul','JanelaSalaOeste','PortaCozinhaLeste','JanelaCozinhaSul','JanelaMezaninoNorte','JanelaMezaninoSul','JanelaMezaninoOeste']\n",
    "header = headerInput+headerOutput"
   ]
  },
  {
   "cell_type": "code",
   "execution_count": 4,
   "metadata": {},
   "outputs": [],
   "source": [
    "headerInput = ['Temperature', 'Wind_Speed', 'Wind_Direction', 'Humidity', 'Air_Density', 'Jardim_PMV','Jardim_Temp','Sala_PMV','Sala_Temp','Mezanino_PMV','Mezanino_Temp']\n",
    "headerOutput = ['PortaSalaNorte','JanelaSalaNorte','PortaSalaLeste','JanelaSalaSul','JanelaSalaOeste','PortaCozinhaLeste','JanelaCozinhaSul','JanelaMezaninoNorte','JanelaMezaninoSul','JanelaMezaninoOeste']"
   ]
  },
  {
   "cell_type": "code",
   "execution_count": 2,
   "metadata": {},
   "outputs": [],
   "source": [
    "def is_better_sig(dataFrame, it, PMV_label1, PMV_label2):\n",
    "    \"\"\"it = iterator\"\"\"\n",
    "    it = int(it)\n",
    "    if (it > 0 and it < (dataFrame['Temperature'].count() - 1)):\n",
    "        if (((abs(dataFrame.iloc[it - 1][PMV_label1]) - abs(dataFrame.iloc[it][PMV_label1])) >= (abs(dataFrame.iloc[it][PMV_label1]) * 0.1)) and\n",
    "            ((abs(dataFrame.iloc[it - 1][PMV_label2]) - abs(dataFrame.iloc[it][PMV_label2])) >= (abs(dataFrame.iloc[it][PMV_label2]) * 0.1))):\n",
    "            return True\n",
    "        else:\n",
    "            return False\n",
    "    else:\n",
    "        return False"
   ]
  },
  {
   "cell_type": "code",
   "execution_count": 3,
   "metadata": {},
   "outputs": [],
   "source": [
    "def is_better(dataFrame, it, PMV_label1, PMV_label2):\n",
    "    \"\"\"it = iterator\"\"\"\n",
    "    it = int(it)\n",
    "    if (it > 0 and it < (dataFrame['Temperature'].count() - 1)):\n",
    "        if ((abs(dataFrame.iloc[it - 1][PMV_label1]) >= abs(dataFrame.iloc[it][PMV_label1])) and\n",
    "            (abs(dataFrame.iloc[it - 1][PMV_label2]) >= abs(dataFrame.iloc[it][PMV_label2]))):\n",
    "            return True\n",
    "        else:\n",
    "            return False\n",
    "    else:\n",
    "        return False"
   ]
  },
  {
   "cell_type": "markdown",
   "metadata": {},
   "source": [
    "#### Gera lista de leitura de arquivo \n",
    "#### Seleciona o dataset"
   ]
  },
  {
   "cell_type": "code",
   "execution_count": 26,
   "metadata": {},
   "outputs": [],
   "source": [
    "dataset = '11'"
   ]
  },
  {
   "cell_type": "code",
   "execution_count": 5,
   "metadata": {},
   "outputs": [],
   "source": [
    "all1 = pd.read_csv('../../Data/Canguçu/simulation_all1.csv')\n",
    "all0 = pd.read_csv('../../Data/Canguçu/simulation_all0.csv')\n",
    "SE   = pd.read_csv('../../Data/Canguçu/simulation_SE_001.csv')"
   ]
  },
  {
   "cell_type": "markdown",
   "metadata": {},
   "source": [
    "# Avalia qualquer melhora"
   ]
  },
  {
   "cell_type": "code",
   "execution_count": 6,
   "metadata": {},
   "outputs": [
    {
     "name": "stdout",
     "output_type": "stream",
     "text": [
      "all0 | Conforto: 25.7876712329% | total: 2259\n",
      "all1 | Conforto: 36.1643835616% | total: 3168\n",
      "SE | Conforto: 21.8721461187% | total: 1916\n"
     ]
    }
   ],
   "source": [
    "c = 0\n",
    "for i in xrange(1, all0['Hora'].count() - 1):\n",
    "    if (is_better(all0, i, 'Sala_PMV', 'Mezanino_PMV')):\n",
    "        c = c + 1\n",
    "print (\"all0 | Conforto: \" +  str((c * 100.0)/8760.0) + \"%\" + \" | total: \" + str(c))  \n",
    "\n",
    "c = 0\n",
    "for i in xrange(1, all1['Hora'].count() - 1):\n",
    "    if (is_better(all1, i, 'Sala_PMV', 'Mezanino_PMV')):\n",
    "        c = c + 1\n",
    "print (\"all1 | Conforto: \" +  str((c * 100.0)/8760.0) + \"%\" + \" | total: \" + str(c)) \n",
    "\n",
    "c=0\n",
    "for i in xrange(1, SE['Hora'].count() - 1):\n",
    "    if (is_better(SE, i, 'Sala_PMV', 'Mezanino_PMV')):\n",
    "        c = c + 1\n",
    "print (\"SE | Conforto: \" +  str((c * 100.0)/8760.0) + \"%\" + \" | total: \" + str(c)) "
   ]
  },
  {
   "cell_type": "code",
   "execution_count": 8,
   "metadata": {},
   "outputs": [],
   "source": [
    "testes = [\"%02d\" % i for i in xrange(1, 10)]"
   ]
  },
  {
   "cell_type": "code",
   "execution_count": 27,
   "metadata": {
    "scrolled": false
   },
   "outputs": [
    {
     "name": "stdout",
     "output_type": "stream",
     "text": [
      "Topologia: 01 | Conforto: 34.1210045662% | total: 2989\n",
      "Topologia: 02 | Conforto: 34.0867579909% | total: 2986\n",
      "Topologia: 03 | Conforto: 33.9726027397% | total: 2976\n",
      "Topologia: 04 | Conforto: 34.0639269406% | total: 2984\n",
      "Topologia: 05 | Conforto: 34.098173516% | total: 2987\n",
      "Topologia: 06 | Conforto: 34.0068493151% | total: 2979\n",
      "Topologia: 07 | Conforto: 34.0525114155% | total: 2983\n",
      "Topologia: 08 | Conforto: 34.0753424658% | total: 2985\n",
      "Topologia: 09 | Conforto: 34.1210045662% | total: 2989\n"
     ]
    }
   ],
   "source": [
    "for topologia in testes:\n",
    "    arquivo = pd.read_csv('Resultados/RN_d'+ dataset + '_t' + topologia +'.csv')\n",
    "    c = 0\n",
    "    for i in xrange(1, arquivo['Temperature'].count() - 1):\n",
    "        if (is_better(arquivo, i, 'Sala_PMV', 'Mezanino_PMV')):\n",
    "            c = c + 1\n",
    "    print (\"Topologia: \"  +topologia + \" | Conforto: \" +  str((c * 100.0)/8760.0) + \"%\" + \" | total: \" + str(c))        \n"
   ]
  },
  {
   "cell_type": "code",
   "execution_count": 8,
   "metadata": {},
   "outputs": [
    {
     "name": "stdout",
     "output_type": "stream",
     "text": [
      "150\n"
     ]
    }
   ],
   "source": [
    "randoms = [\"%03d\" % i for i in xrange(1, 151)]\n",
    "print len(randoms)"
   ]
  },
  {
   "cell_type": "code",
   "execution_count": 9,
   "metadata": {
    "scrolled": true
   },
   "outputs": [
    {
     "name": "stdout",
     "output_type": "stream",
     "text": [
      "3399\n",
      "3412\n",
      "3393\n",
      "3370\n",
      "3432\n",
      "3432\n",
      "3423\n",
      "3396\n",
      "3396\n",
      "3398\n",
      "3399\n",
      "3420\n",
      "3401\n",
      "3412\n",
      "3386\n",
      "3389\n",
      "3458\n",
      "3417\n",
      "3401\n",
      "3402\n",
      "3420\n",
      "3407\n",
      "3419\n",
      "3362\n",
      "3438\n",
      "3385\n",
      "3427\n",
      "3430\n",
      "3373\n",
      "3415\n",
      "3474\n",
      "3457\n",
      "3362\n",
      "3415\n",
      "3381\n",
      "3380\n",
      "3410\n",
      "3429\n",
      "3410\n",
      "3396\n",
      "3413\n",
      "3417\n",
      "3392\n",
      "3397\n",
      "3426\n",
      "3417\n",
      "3457\n",
      "3404\n",
      "3383\n",
      "3427\n",
      "3385\n",
      "3437\n",
      "3439\n",
      "3447\n",
      "3397\n",
      "3388\n",
      "3386\n",
      "3394\n",
      "3420\n",
      "3418\n",
      "3424\n",
      "3415\n",
      "3408\n",
      "3408\n",
      "3425\n",
      "3422\n",
      "3409\n",
      "3409\n",
      "3438\n",
      "3371\n",
      "3436\n",
      "3384\n",
      "3419\n",
      "3403\n",
      "3379\n",
      "3405\n",
      "3405\n",
      "3425\n",
      "3444\n",
      "3407\n",
      "3384\n",
      "3380\n",
      "3428\n",
      "3406\n",
      "3407\n",
      "3425\n",
      "3414\n",
      "3377\n",
      "3377\n",
      "3396\n",
      "3393\n",
      "3448\n",
      "3405\n",
      "3426\n",
      "3414\n",
      "3418\n",
      "3441\n",
      "3403\n",
      "3343\n",
      "3416\n",
      "3383\n",
      "3432\n",
      "3404\n",
      "3412\n",
      "3419\n",
      "3419\n",
      "3413\n",
      "3394\n",
      "3385\n",
      "3410\n",
      "3387\n",
      "3410\n",
      "3362\n",
      "3424\n",
      "3429\n",
      "3454\n",
      "3418\n",
      "3395\n",
      "3434\n",
      "3418\n",
      "3380\n",
      "3409\n",
      "3383\n",
      "3365\n",
      "3422\n",
      "3419\n",
      "3387\n",
      "3415\n",
      "3405\n",
      "3387\n",
      "3392\n",
      "3410\n",
      "3394\n",
      "3421\n",
      "3441\n",
      "3374\n",
      "3384\n",
      "3440\n",
      "3387\n",
      "3378\n",
      "3420\n",
      "3430\n",
      "3441\n",
      "3369\n",
      "3431\n",
      "3389\n",
      "3394\n",
      "3409\n",
      "3466\n",
      "3382\n"
     ]
    }
   ],
   "source": [
    "for arq in randoms:\n",
    "    arquivo = pd.read_csv('../../Data/Canguçu/simulation_random_' + str(arq) +'.csv')\n",
    "    c = 0\n",
    "    \n",
    "    for i in xrange(1, arquivo['Mes'].count() - 1):\n",
    "        if (is_better(arquivo, i, 'Sala_PMV', 'Mezanino_PMV')):\n",
    "            c = c + 1\n",
    "\n",
    "    \n",
    "    print arq + \",\" + str(c)\n",
    "\n"
   ]
  },
  {
   "cell_type": "markdown",
   "metadata": {},
   "source": [
    "# Avalia melhora significativa:"
   ]
  },
  {
   "cell_type": "code",
   "execution_count": 10,
   "metadata": {},
   "outputs": [
    {
     "name": "stdout",
     "output_type": "stream",
     "text": [
      "all0 | Conforto: 5.70776255708% | total: 500\n",
      "all1 | Conforto: 10.9474885845% | total: 959\n",
      "SE | Conforto: 7.97945205479% | total: 699\n"
     ]
    }
   ],
   "source": [
    "c = 0\n",
    "for i in xrange(1, all0['Hora'].count() - 1):\n",
    "    if (is_better_sig(all0, i, 'Sala_PMV', 'Mezanino_PMV')):\n",
    "        c = c + 1\n",
    "print (\"all0 | Conforto: \" +  str((c * 100.0)/8760.0) + \"%\" + \" | total: \" + str(c))  \n",
    "\n",
    "c = 0\n",
    "for i in xrange(1, all1['Hora'].count() - 1):\n",
    "    if (is_better_sig(all1, i, 'Sala_PMV', 'Mezanino_PMV')):\n",
    "        c = c + 1\n",
    "print (\"all1 | Conforto: \" +  str((c * 100.0)/8760.0) + \"%\" + \" | total: \" + str(c)) \n",
    "\n",
    "c=0\n",
    "for i in xrange(1, SE['Hora'].count() - 1):\n",
    "    if (is_better_sig(SE, i, 'Sala_PMV', 'Mezanino_PMV')):\n",
    "        c = c + 1\n",
    "print (\"SE | Conforto: \" +  str((c * 100.0)/8760.0) + \"%\" + \" | total: \" + str(c)) "
   ]
  },
  {
   "cell_type": "code",
   "execution_count": 11,
   "metadata": {},
   "outputs": [],
   "source": [
    "testes = [\"%02d\" % i for i in xrange(1, 10)]\n"
   ]
  },
  {
   "cell_type": "code",
   "execution_count": 28,
   "metadata": {
    "scrolled": true
   },
   "outputs": [
    {
     "name": "stdout",
     "output_type": "stream",
     "text": [
      "Topologia: 01 | Conforto: 15.9817351598% | total: 1400\n",
      "Topologia: 02 | Conforto: 15.8561643836% | total: 1389\n",
      "Topologia: 03 | Conforto: 15.6621004566% | total: 1372\n",
      "Topologia: 04 | Conforto: 15.9360730594% | total: 1396\n",
      "Topologia: 05 | Conforto: 15.6392694064% | total: 1370\n",
      "Topologia: 06 | Conforto: 15.6506849315% | total: 1371\n",
      "Topologia: 07 | Conforto: 15.6164383562% | total: 1368\n",
      "Topologia: 08 | Conforto: 15.7191780822% | total: 1377\n",
      "Topologia: 09 | Conforto: 15.8105022831% | total: 1385\n"
     ]
    }
   ],
   "source": [
    "for topologia in testes:\n",
    "    arquivo = pd.read_csv('Resultados/RN_d'+ dataset + '_t' + topologia +'.csv')\n",
    "    c = 0\n",
    "    for i in xrange(1, arquivo['Temperature'].count() - 1):\n",
    "        if (is_better_sig(arquivo, i, 'Sala_PMV', 'Mezanino_PMV')):\n",
    "            c = c + 1\n",
    "    print (\"Topologia: \"  +topologia + \" | Conforto: \" +  str((c * 100.0)/8760.0) + \"%\" + \" | total: \" + str(c))        \n"
   ]
  },
  {
   "cell_type": "code",
   "execution_count": 10,
   "metadata": {},
   "outputs": [],
   "source": [
    "randoms = [\"%03d\" % i for i in xrange(1, 151)]"
   ]
  },
  {
   "cell_type": "code",
   "execution_count": 11,
   "metadata": {
    "scrolled": true
   },
   "outputs": [
    {
     "name": "stdout",
     "output_type": "stream",
     "text": [
      "001,1027\n",
      "002,1038\n",
      "003,1058\n",
      "004,1017\n",
      "005,1052\n",
      "006,1039\n",
      "007,1019\n",
      "008,1037\n",
      "009,1047\n",
      "010,1052\n",
      "011,1020\n",
      "012,1033\n",
      "013,1038\n",
      "014,1029\n",
      "015,1015\n",
      "016,1003\n",
      "017,1022\n",
      "018,1077\n",
      "019,1025\n",
      "020,1035\n",
      "021,1048\n",
      "022,1034\n",
      "023,1020\n",
      "024,1044\n",
      "025,1059\n",
      "026,1063\n",
      "027,1039\n",
      "028,1039\n",
      "029,1024\n",
      "030,1030\n",
      "031,1038\n",
      "032,1059\n",
      "033,1032\n",
      "034,1034\n",
      "035,1027\n",
      "036,1014\n",
      "037,1024\n",
      "038,1033\n",
      "039,1030\n",
      "040,1061\n",
      "041,1006\n",
      "042,1049\n",
      "043,1039\n",
      "044,1025\n",
      "045,1045\n",
      "046,1049\n",
      "047,1038\n",
      "048,1014\n",
      "049,1033\n",
      "050,1035\n",
      "051,1029\n",
      "052,1042\n",
      "053,1054\n",
      "054,1072\n",
      "055,1054\n",
      "056,1013\n",
      "057,1035\n",
      "058,1057\n",
      "059,1038\n",
      "060,1036\n",
      "061,1033\n",
      "062,1034\n",
      "063,1017\n",
      "064,1048\n",
      "065,1047\n",
      "066,1062\n",
      "067,1047\n",
      "068,1041\n",
      "069,1041\n",
      "070,1044\n",
      "071,1016\n",
      "072,1014\n",
      "073,1039\n",
      "074,1042\n",
      "075,1021\n",
      "076,1026\n",
      "077,1052\n",
      "078,1023\n",
      "079,1023\n",
      "080,1017\n",
      "081,1051\n",
      "082,1019\n",
      "083,1069\n",
      "084,1045\n",
      "085,1010\n",
      "086,1031\n",
      "087,1031\n",
      "088,1028\n",
      "089,1027\n",
      "090,1034\n",
      "091,1033\n",
      "092,1063\n",
      "093,1017\n",
      "094,1031\n",
      "095,1031\n",
      "096,1039\n",
      "097,1015\n",
      "098,1004\n",
      "099,1021\n",
      "100,1055\n",
      "101,1007\n",
      "102,1039\n",
      "103,1014\n",
      "104,1067\n",
      "105,1045\n",
      "106,1051\n",
      "107,1052\n",
      "108,1033\n",
      "109,1053\n",
      "110,1042\n",
      "111,1013\n",
      "112,1047\n",
      "113,1052\n",
      "114,1039\n",
      "115,1017\n",
      "116,1046\n",
      "117,1009\n",
      "118,1037\n",
      "119,1050\n",
      "120,1042\n",
      "121,1035\n",
      "122,1046\n",
      "123,1038\n",
      "124,1033\n",
      "125,1016\n",
      "126,1045\n",
      "127,1006\n",
      "128,1043\n",
      "129,1037\n",
      "130,1028\n",
      "131,1037\n",
      "132,1020\n",
      "133,1044\n",
      "134,1017\n",
      "135,1030\n",
      "136,1061\n",
      "137,1035\n",
      "138,1033\n",
      "139,1025\n",
      "140,1016\n",
      "141,1023\n",
      "142,1039\n",
      "143,1028\n",
      "144,1035\n",
      "145,1037\n",
      "146,1016\n",
      "147,1011\n",
      "148,1028\n",
      "149,1023\n",
      "150,1036\n"
     ]
    }
   ],
   "source": [
    "for arq in randoms:\n",
    "    arquivo = pd.read_csv('../../Data/Canguçu/simulation_random_' + str(arq) +'.csv')\n",
    "    c = 0\n",
    "    \n",
    "    for i in xrange(1, arquivo['Mes'].count() - 1):\n",
    "        if (is_better_sig(arquivo, i, 'Sala_PMV', 'Mezanino_PMV')):\n",
    "            c = c + 1\n",
    "\n",
    "    \n",
    "    print arq + \",\" + str(c)\n",
    "\n"
   ]
  },
  {
   "cell_type": "markdown",
   "metadata": {},
   "source": [
    "# Avalia horas em conforto:"
   ]
  },
  {
   "cell_type": "code",
   "execution_count": 14,
   "metadata": {},
   "outputs": [],
   "source": [
    "Range = 0.7"
   ]
  },
  {
   "cell_type": "code",
   "execution_count": 15,
   "metadata": {},
   "outputs": [
    {
     "name": "stdout",
     "output_type": "stream",
     "text": [
      "all1: 6.51826484018% | total: 571\n",
      "all0: 41.8378995434% | total: 3665\n",
      "SE: 46.3926940639% | total: 4064\n"
     ]
    }
   ],
   "source": [
    "c = all1[((all1['Sala_PMV'] >= -Range) & (all1['Sala_PMV'] <= Range)) & ((all1['Mezanino_PMV'] >= -Range) & (all1['Mezanino_PMV'] <= Range))].Sala_PMV.count()\n",
    "print \"all1: \" + str((c * 100.0)/8760.0) + \"%\" + \" | total: \" + str(c)\n",
    "\n",
    "c = all0[((all0['Sala_PMV'] >= -Range) & (all0['Sala_PMV'] <= Range)) & ((all0['Mezanino_PMV'] >= -Range) & (all0['Mezanino_PMV'] <= Range))].Sala_PMV.count()\n",
    "print \"all0: \" + str((c * 100.0)/8760.0) + \"%\" + \" | total: \" + str(c)\n",
    "\n",
    "c = SE[((SE['Sala_PMV'] >= -Range) & (SE['Sala_PMV'] <= Range)) & ((SE['Mezanino_PMV'] >= -Range) & (SE['Mezanino_PMV'] <= Range))].Sala_PMV.count()\n",
    "print \"SE: \" + str((c * 100.0)/8760.0) + \"%\" + \" | total: \" + str(c)"
   ]
  },
  {
   "cell_type": "code",
   "execution_count": 30,
   "metadata": {},
   "outputs": [],
   "source": [
    "topologia = [\"%02d\" % i for i in xrange(1, 10)]\n",
    "\n",
    "Range = 0.7\n"
   ]
  },
  {
   "cell_type": "code",
   "execution_count": 31,
   "metadata": {
    "scrolled": true
   },
   "outputs": [
    {
     "name": "stdout",
     "output_type": "stream",
     "text": [
      "01: 23.4817351598% | total: 2057\n",
      "02: 23.7100456621% | total: 2077\n",
      "03: 23.8470319635% | total: 2089\n",
      "04: 23.4132420091% | total: 2051\n",
      "05: 24.0867579909% | total: 2110\n",
      "06: 24.1324200913% | total: 2114\n",
      "07: 24.1666666667% | total: 2117\n",
      "08: 23.7328767123% | total: 2079\n",
      "09: 23.698630137% | total: 2076\n"
     ]
    }
   ],
   "source": [
    "for top in topologia:\n",
    "    arquivo = pd.read_csv('Resultados/RN_d'+ dataset + '_t' + top +'.csv')\n",
    "    c = 0\n",
    "    \n",
    "    x = arquivo[((arquivo['Sala_PMV'] >= -Range) & (arquivo['Sala_PMV'] <= Range)) & ((arquivo['Mezanino_PMV'] >= -Range) & (arquivo['Mezanino_PMV'] <= Range))]\n",
    "    c = x.Sala_PMV.count()\n",
    "    \n",
    "    print str(top)+\": \" + str((c * 100.0)/8760.0) + \"%\" + \" | total: \" + str(c)\n",
    "    \n",
    "    \n",
    "  "
   ]
  },
  {
   "cell_type": "code",
   "execution_count": 43,
   "metadata": {},
   "outputs": [],
   "source": [
    "randoms = [\"%03d\" % i for i in xrange(1, 151)]"
   ]
  },
  {
   "cell_type": "code",
   "execution_count": 44,
   "metadata": {
    "scrolled": true
   },
   "outputs": [
    {
     "name": "stdout",
     "output_type": "stream",
     "text": [
      "695\n",
      "697\n",
      "697\n",
      "697\n",
      "689\n",
      "694\n",
      "698\n",
      "694\n",
      "695\n",
      "695\n",
      "689\n",
      "689\n",
      "698\n",
      "696\n",
      "691\n",
      "702\n",
      "685\n",
      "699\n",
      "687\n",
      "696\n",
      "687\n",
      "687\n",
      "696\n",
      "694\n",
      "693\n",
      "684\n",
      "683\n",
      "692\n",
      "680\n",
      "694\n",
      "690\n",
      "702\n",
      "691\n",
      "690\n",
      "678\n",
      "698\n",
      "698\n",
      "690\n",
      "690\n",
      "681\n",
      "681\n",
      "695\n",
      "686\n",
      "699\n",
      "700\n",
      "687\n",
      "678\n",
      "695\n",
      "684\n",
      "686\n",
      "696\n",
      "685\n",
      "689\n",
      "696\n",
      "688\n",
      "689\n",
      "698\n",
      "696\n",
      "695\n",
      "703\n",
      "697\n",
      "691\n",
      "693\n",
      "699\n",
      "692\n",
      "689\n",
      "691\n",
      "680\n",
      "699\n",
      "683\n",
      "690\n",
      "686\n",
      "691\n",
      "681\n",
      "681\n",
      "699\n",
      "697\n",
      "697\n",
      "689\n",
      "690\n",
      "684\n",
      "694\n",
      "678\n",
      "686\n",
      "696\n",
      "701\n",
      "697\n",
      "697\n",
      "680\n",
      "696\n",
      "688\n",
      "683\n",
      "696\n",
      "698\n",
      "697\n",
      "695\n",
      "686\n",
      "698\n",
      "679\n",
      "685\n",
      "695\n",
      "696\n",
      "686\n",
      "704\n",
      "697\n",
      "683\n",
      "695\n",
      "688\n",
      "687\n",
      "698\n",
      "704\n",
      "678\n",
      "692\n",
      "698\n",
      "698\n",
      "694\n",
      "701\n",
      "692\n",
      "702\n",
      "695\n",
      "708\n",
      "684\n",
      "705\n",
      "693\n",
      "690\n",
      "694\n",
      "691\n",
      "690\n",
      "686\n",
      "695\n",
      "708\n",
      "701\n",
      "708\n",
      "679\n",
      "688\n",
      "687\n",
      "695\n",
      "696\n",
      "702\n",
      "696\n",
      "697\n",
      "693\n",
      "705\n",
      "682\n",
      "693\n",
      "682\n",
      "695\n",
      "700\n",
      "697\n",
      "710\n"
     ]
    }
   ],
   "source": [
    "for arq in randoms:\n",
    "    arquivo = pd.read_csv('../../Data/Canguçu/simulation_random_' + str(arq) +'.csv')\n",
    "    c = 0\n",
    "    x = arquivo[((arquivo['Sala_PMV'] >= -Range) & (arquivo['Sala_PMV'] <= Range)) & ((arquivo['Mezanino_PMV'] >= -Range) & (arquivo['Mezanino_PMV'] <= Range))]\n",
    "    c = x.Sala_PMV.count()\n",
    "\n",
    "    \n",
    "    print str(c)"
   ]
  },
  {
   "cell_type": "code",
   "execution_count": null,
   "metadata": {},
   "outputs": [],
   "source": []
  }
 ],
 "metadata": {
  "kernelspec": {
   "display_name": "Python 2",
   "language": "python",
   "name": "python2"
  },
  "language_info": {
   "codemirror_mode": {
    "name": "ipython",
    "version": 2
   },
   "file_extension": ".py",
   "mimetype": "text/x-python",
   "name": "python",
   "nbconvert_exporter": "python",
   "pygments_lexer": "ipython2",
   "version": "2.7.12"
  }
 },
 "nbformat": 4,
 "nbformat_minor": 2
}
