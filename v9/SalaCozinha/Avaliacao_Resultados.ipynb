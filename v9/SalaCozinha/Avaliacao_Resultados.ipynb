{
 "cells": [
  {
   "cell_type": "code",
   "execution_count": 1,
   "metadata": {},
   "outputs": [],
   "source": [
    "import pandas as pd\n",
    "import numpy as np"
   ]
  },
  {
   "cell_type": "code",
   "execution_count": 2,
   "metadata": {},
   "outputs": [],
   "source": [
    "headerInput = ['Hora', 'Temperature', 'Wind_Speed', 'Wind_Direction', 'Humidity', 'Air_Density', 'Rain_Status', 'Jardim_PMV','Jardim_Temp','Sala_PMV','Sala_Temp','Mezanino_PMV','Mezanino_Temp']\n",
    "headerOutput = ['PortaSalaNorte','JanelaSalaNorte','PortaSalaLeste','JanelaSalaSul','JanelaSalaOeste','PortaCozinhaLeste','JanelaCozinhaSul','JanelaMezaninoNorte','JanelaMezaninoSul','JanelaMezaninoOeste']\n",
    "header = headerInput+headerOutput"
   ]
  },
  {
   "cell_type": "code",
   "execution_count": 3,
   "metadata": {},
   "outputs": [],
   "source": [
    "def is_better(dataFrame, it, PMV_label1, PMV_label2):\n",
    "    \"\"\"it = iterator\"\"\"\n",
    "    it = int(it)\n",
    "    if (it > 0 and it < (dataFrame['Hora'].count() - 1)):\n",
    "        if ((abs(dataFrame.iloc[it - 1][PMV_label1]) >= abs(dataFrame.iloc[it][PMV_label1])) and\n",
    "            (abs(dataFrame.iloc[it - 1][PMV_label2]) >= abs(dataFrame.iloc[it][PMV_label2]))):\n",
    "            return True\n",
    "        else:\n",
    "            return False\n",
    "    else:\n",
    "        return False\n",
    "    \n",
    "    #return (dataFrame.iloc(it))"
   ]
  },
  {
   "cell_type": "code",
   "execution_count": 4,
   "metadata": {},
   "outputs": [],
   "source": [
    "arquivo = pd.read_csv('Resultados/RN_t01_d3.csv')"
   ]
  },
  {
   "cell_type": "code",
   "execution_count": 5,
   "metadata": {},
   "outputs": [
    {
     "name": "stdout",
     "output_type": "stream",
     "text": [
      "Conforto: 34.1210045662% | total: 2989\n"
     ]
    }
   ],
   "source": [
    "selected = pd.DataFrame(columns=header)\n",
    "c = 0\n",
    "for i in xrange(1, arquivo['Hora'].count() - 1):\n",
    "    if (is_better(arquivo, i, 'Sala_PMV', 'Mezanino_PMV')):\n",
    "        c = c + 1\n",
    "        selected = selected.append(arquivo.iloc[i])\n",
    "    \n",
    "print \"Conforto: \" +  str((c * 100.0)/8760.0) + \"%\" + \" | total: \" + str(c)"
   ]
  },
  {
   "cell_type": "code",
   "execution_count": 6,
   "metadata": {},
   "outputs": [],
   "source": [
    "arquivo = pd.read_csv('Resultados/RN_t02_d3.csv')"
   ]
  },
  {
   "cell_type": "code",
   "execution_count": 7,
   "metadata": {},
   "outputs": [
    {
     "name": "stdout",
     "output_type": "stream",
     "text": [
      "Conforto: 33.3789954338% | total: 2924\n"
     ]
    }
   ],
   "source": [
    "selected = pd.DataFrame(columns=header)\n",
    "c = 0\n",
    "for i in xrange(1, arquivo['Hora'].count() - 1):\n",
    "    if (is_better(arquivo, i, 'Sala_PMV', 'Mezanino_PMV')):\n",
    "        c = c + 1\n",
    "        selected = selected.append(arquivo.iloc[i])\n",
    "    \n",
    "print \"Conforto: \" +  str((c * 100.0)/8760.0) + \"%\" + \" | total: \" + str(c)"
   ]
  },
  {
   "cell_type": "code",
   "execution_count": 8,
   "metadata": {},
   "outputs": [],
   "source": [
    "arquivo = pd.read_csv('Resultados/RN_t03_d3.csv')"
   ]
  },
  {
   "cell_type": "code",
   "execution_count": 9,
   "metadata": {},
   "outputs": [
    {
     "name": "stdout",
     "output_type": "stream",
     "text": [
      "Conforto: 34.3835616438% | total: 3012\n"
     ]
    }
   ],
   "source": [
    "selected = pd.DataFrame(columns=header)\n",
    "c = 0\n",
    "for i in xrange(1, arquivo['Hora'].count() - 1):\n",
    "    if (is_better(arquivo, i, 'Sala_PMV', 'Mezanino_PMV')):\n",
    "        c = c + 1\n",
    "        selected = selected.append(arquivo.iloc[i])\n",
    "    \n",
    "print \"Conforto: \" +  str((c * 100.0)/8760.0) + \"%\" + \" | total: \" + str(c)"
   ]
  },
  {
   "cell_type": "code",
   "execution_count": 10,
   "metadata": {},
   "outputs": [],
   "source": [
    "arquivo = pd.read_csv('Resultados/RN_t04_d3.csv')"
   ]
  },
  {
   "cell_type": "code",
   "execution_count": 11,
   "metadata": {},
   "outputs": [
    {
     "name": "stdout",
     "output_type": "stream",
     "text": [
      "Conforto: 34.3378995434% | total: 3008\n"
     ]
    }
   ],
   "source": [
    "selected = pd.DataFrame(columns=header)\n",
    "c = 0\n",
    "for i in xrange(1, arquivo['Hora'].count() - 1):\n",
    "    if (is_better(arquivo, i, 'Sala_PMV', 'Mezanino_PMV')):\n",
    "        c = c + 1\n",
    "        selected = selected.append(arquivo.iloc[i])\n",
    "    \n",
    "print \"Conforto: \" +  str((c * 100.0)/8760.0) + \"%\" + \" | total: \" + str(c)"
   ]
  },
  {
   "cell_type": "code",
   "execution_count": 12,
   "metadata": {},
   "outputs": [],
   "source": [
    "arquivo = pd.read_csv('Resultados/RN_t05_d3.csv')"
   ]
  },
  {
   "cell_type": "code",
   "execution_count": 13,
   "metadata": {},
   "outputs": [
    {
     "name": "stdout",
     "output_type": "stream",
     "text": [
      "Conforto: 34.3264840183% | total: 3007\n"
     ]
    }
   ],
   "source": [
    "selected = pd.DataFrame(columns=header)\n",
    "c = 0\n",
    "for i in xrange(1, arquivo['Hora'].count() - 1):\n",
    "    if (is_better(arquivo, i, 'Sala_PMV', 'Mezanino_PMV')):\n",
    "        c = c + 1\n",
    "        selected = selected.append(arquivo.iloc[i])\n",
    "    \n",
    "print \"Conforto: \" +  str((c * 100.0)/8760.0) + \"%\" + \" | total: \" + str(c)"
   ]
  },
  {
   "cell_type": "code",
   "execution_count": 14,
   "metadata": {},
   "outputs": [],
   "source": [
    "arquivo = pd.read_csv('Resultados/RN_t06_d3.csv')"
   ]
  },
  {
   "cell_type": "code",
   "execution_count": 15,
   "metadata": {},
   "outputs": [
    {
     "name": "stdout",
     "output_type": "stream",
     "text": [
      "Conforto: 34.5205479452% | total: 3024\n"
     ]
    }
   ],
   "source": [
    "selected = pd.DataFrame(columns=header)\n",
    "c = 0\n",
    "for i in xrange(1, arquivo['Hora'].count() - 1):\n",
    "    if (is_better(arquivo, i, 'Sala_PMV', 'Mezanino_PMV')):\n",
    "        c = c + 1\n",
    "        selected = selected.append(arquivo.iloc[i])\n",
    "    \n",
    "print \"Conforto: \" +  str((c * 100.0)/8760.0) + \"%\" + \" | total: \" + str(c)"
   ]
  },
  {
   "cell_type": "code",
   "execution_count": 16,
   "metadata": {},
   "outputs": [],
   "source": [
    "arquivo = pd.read_csv('Resultados/RN_t07_d3.csv')"
   ]
  },
  {
   "cell_type": "code",
   "execution_count": 17,
   "metadata": {},
   "outputs": [
    {
     "name": "stdout",
     "output_type": "stream",
     "text": [
      "Conforto: 34.3607305936% | total: 3010\n"
     ]
    }
   ],
   "source": [
    "selected = pd.DataFrame(columns=header)\n",
    "c = 0\n",
    "for i in xrange(1, arquivo['Hora'].count() - 1):\n",
    "    if (is_better(arquivo, i, 'Sala_PMV', 'Mezanino_PMV')):\n",
    "        c = c + 1\n",
    "        selected = selected.append(arquivo.iloc[i])\n",
    "    \n",
    "print \"Conforto: \" +  str((c * 100.0)/8760.0) + \"%\" + \" | total: \" + str(c)"
   ]
  },
  {
   "cell_type": "code",
   "execution_count": null,
   "metadata": {},
   "outputs": [],
   "source": []
  }
 ],
 "metadata": {
  "kernelspec": {
   "display_name": "Python 2",
   "language": "python",
   "name": "python2"
  },
  "language_info": {
   "codemirror_mode": {
    "name": "ipython",
    "version": 2
   },
   "file_extension": ".py",
   "mimetype": "text/x-python",
   "name": "python",
   "nbconvert_exporter": "python",
   "pygments_lexer": "ipython2",
   "version": "2.7.12"
  }
 },
 "nbformat": 4,
 "nbformat_minor": 2
}
