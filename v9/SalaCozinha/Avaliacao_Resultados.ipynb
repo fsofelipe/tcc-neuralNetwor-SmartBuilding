{
 "cells": [
  {
   "cell_type": "markdown",
   "metadata": {},
   "source": [
    "# Avaliacao da simulação com atuação da rede neural:\n",
    "Melhora qualquer <br>\n",
    "Melhora significativa"
   ]
  },
  {
   "cell_type": "code",
   "execution_count": 2,
   "metadata": {},
   "outputs": [],
   "source": [
    "import pandas as pd\n",
    "import numpy as np"
   ]
  },
  {
   "cell_type": "code",
   "execution_count": 3,
   "metadata": {},
   "outputs": [],
   "source": [
    "headerInput = ['Hora', 'Temperature', 'Wind_Speed', 'Wind_Direction', 'Humidity', 'Air_Density', 'Rain_Status', 'Jardim_PMV','Jardim_Temp','Sala_PMV','Sala_Temp','Mezanino_PMV','Mezanino_Temp']\n",
    "headerOutput = ['PortaSalaNorte','JanelaSalaNorte','PortaSalaLeste','JanelaSalaSul','JanelaSalaOeste','PortaCozinhaLeste','JanelaCozinhaSul','JanelaMezaninoNorte','JanelaMezaninoSul','JanelaMezaninoOeste']\n",
    "header = headerInput+headerOutput"
   ]
  },
  {
   "cell_type": "code",
   "execution_count": 4,
   "metadata": {},
   "outputs": [],
   "source": [
    "headerInput = ['Temperature', 'Wind_Speed', 'Wind_Direction', 'Humidity', 'Air_Density', 'Jardim_PMV','Jardim_Temp','Sala_PMV','Sala_Temp','Mezanino_PMV','Mezanino_Temp']\n",
    "headerOutput = ['PortaSalaNorte','JanelaSalaNorte','PortaSalaLeste','JanelaSalaSul','JanelaSalaOeste','PortaCozinhaLeste','JanelaCozinhaSul','JanelaMezaninoNorte','JanelaMezaninoSul','JanelaMezaninoOeste']"
   ]
  },
  {
   "cell_type": "code",
   "execution_count": 13,
   "metadata": {},
   "outputs": [],
   "source": [
    "def is_better_sig(dataFrame, it, PMV_label1, PMV_label2):\n",
    "    \"\"\"it = iterator\"\"\"\n",
    "    it = int(it)\n",
    "    if (it > 0 and it < (dataFrame['Temperature'].count() - 1)):\n",
    "        if (((abs(dataFrame.iloc[it - 1][PMV_label1]) - abs(dataFrame.iloc[it][PMV_label1])) >= (abs(dataFrame.iloc[it][PMV_label1]) * 0.1)) and\n",
    "            ((abs(dataFrame.iloc[it - 1][PMV_label2]) - abs(dataFrame.iloc[it][PMV_label2])) >= (abs(dataFrame.iloc[it][PMV_label2]) * 0.1))):\n",
    "            return True\n",
    "        else:\n",
    "            return False\n",
    "    else:\n",
    "        return False"
   ]
  },
  {
   "cell_type": "code",
   "execution_count": 14,
   "metadata": {},
   "outputs": [],
   "source": [
    "def is_better(dataFrame, it, PMV_label1, PMV_label2):\n",
    "    \"\"\"it = iterator\"\"\"\n",
    "    it = int(it)\n",
    "    if (it > 0 and it < (dataFrame['Temperature'].count() - 1)):\n",
    "        if ((abs(dataFrame.iloc[it - 1][PMV_label1]) >= abs(dataFrame.iloc[it][PMV_label1])) and\n",
    "            (abs(dataFrame.iloc[it - 1][PMV_label2]) >= abs(dataFrame.iloc[it][PMV_label2]))):\n",
    "            return True\n",
    "        else:\n",
    "            return False\n",
    "    else:\n",
    "        return False"
   ]
  },
  {
   "cell_type": "markdown",
   "metadata": {},
   "source": [
    "#### Gera lista de leitura de arquivo \n",
    "#### Seleciona o dataset"
   ]
  },
  {
   "cell_type": "code",
   "execution_count": 15,
   "metadata": {},
   "outputs": [],
   "source": [
    "dataset = '10'"
   ]
  },
  {
   "cell_type": "code",
   "execution_count": 28,
   "metadata": {},
   "outputs": [],
   "source": [
    "all1 = pd.read_csv('../../Data/Canguçu/simulation_all1.csv')\n",
    "all0 = pd.read_csv('../../Data/Canguçu/simulation_all0.csv')\n",
    "SE   = pd.read_csv('../../Data/Canguçu/simulation_SE_001.csv')"
   ]
  },
  {
   "cell_type": "markdown",
   "metadata": {},
   "source": [
    "# Avalia qualquer melhora"
   ]
  },
  {
   "cell_type": "code",
   "execution_count": 48,
   "metadata": {},
   "outputs": [
    {
     "name": "stdout",
     "output_type": "stream",
     "text": [
      "all0 | Conforto: 25.7876712329% | total: 2259\n",
      "all1 | Conforto: 36.1643835616% | total: 3168\n",
      "SE | Conforto: 21.8721461187% | total: 1916\n"
     ]
    }
   ],
   "source": [
    "c = 0\n",
    "for i in xrange(1, all0['Hora'].count() - 1):\n",
    "    if (is_better(all0, i, 'Sala_PMV', 'Mezanino_PMV')):\n",
    "        c = c + 1\n",
    "print (\"all0 | Conforto: \" +  str((c * 100.0)/8760.0) + \"%\" + \" | total: \" + str(c))  \n",
    "\n",
    "c = 0\n",
    "for i in xrange(1, all1['Hora'].count() - 1):\n",
    "    if (is_better(all1, i, 'Sala_PMV', 'Mezanino_PMV')):\n",
    "        c = c + 1\n",
    "print (\"all1 | Conforto: \" +  str((c * 100.0)/8760.0) + \"%\" + \" | total: \" + str(c)) \n",
    "\n",
    "c=0\n",
    "for i in xrange(1, SE['Hora'].count() - 1):\n",
    "    if (is_better(SE, i, 'Sala_PMV', 'Mezanino_PMV')):\n",
    "        c = c + 1\n",
    "print (\"SE | Conforto: \" +  str((c * 100.0)/8760.0) + \"%\" + \" | total: \" + str(c)) "
   ]
  },
  {
   "cell_type": "code",
   "execution_count": 22,
   "metadata": {},
   "outputs": [],
   "source": [
    "testes = [\"%02d\" % i for i in xrange(1, 13)]"
   ]
  },
  {
   "cell_type": "code",
   "execution_count": 23,
   "metadata": {
    "scrolled": false
   },
   "outputs": [
    {
     "name": "stdout",
     "output_type": "stream",
     "text": [
      "Topologia: 01 | Conforto: 34.2922374429% | total: 3004\n",
      "Topologia: 02 | Conforto: 33.5844748858% | total: 2942\n",
      "Topologia: 03 | Conforto: 34.5319634703% | total: 3025\n",
      "Topologia: 04 | Conforto: 34.3835616438% | total: 3012\n",
      "Topologia: 05 | Conforto: 35.0114155251% | total: 3067\n",
      "Topologia: 06 | Conforto: 34.8744292237% | total: 3055\n",
      "Topologia: 07 | Conforto: 35.0456621005% | total: 3070\n",
      "Topologia: 08 | Conforto: 34.6347031963% | total: 3034\n",
      "Topologia: 09 | Conforto: 34.4748858447% | total: 3020\n",
      "Topologia: 10 | Conforto: 34.6575342466% | total: 3036\n",
      "Topologia: 11 | Conforto: 34.5091324201% | total: 3023\n",
      "Topologia: 12 | Conforto: 34.9771689498% | total: 3064\n"
     ]
    }
   ],
   "source": [
    "for topologia in testes:\n",
    "    arquivo = pd.read_csv('Resultados/RN_d'+ dataset + '_t' + topologia +'.csv')\n",
    "    c = 0\n",
    "    for i in xrange(1, arquivo['Temperature'].count() - 1):\n",
    "        if (is_better(arquivo, i, 'Sala_PMV', 'Mezanino_PMV')):\n",
    "            c = c + 1\n",
    "    print (\"Topologia: \"  +topologia + \" | Conforto: \" +  str((c * 100.0)/8760.0) + \"%\" + \" | total: \" + str(c))        \n"
   ]
  },
  {
   "cell_type": "code",
   "execution_count": 25,
   "metadata": {},
   "outputs": [
    {
     "name": "stdout",
     "output_type": "stream",
     "text": [
      "150\n"
     ]
    }
   ],
   "source": [
    "randoms = [\"%03d\" % i for i in xrange(1, 151)]\n",
    "print len(randoms)"
   ]
  },
  {
   "cell_type": "code",
   "execution_count": 26,
   "metadata": {
    "scrolled": true
   },
   "outputs": [
    {
     "name": "stdout",
     "output_type": "stream",
     "text": [
      "3399\n",
      "3412\n",
      "3393\n",
      "3370\n",
      "3432\n",
      "3432\n",
      "3423\n",
      "3396\n",
      "3396\n",
      "3398\n",
      "3399\n",
      "3420\n",
      "3401\n",
      "3412\n",
      "3386\n",
      "3389\n",
      "3458\n",
      "3417\n",
      "3401\n",
      "3402\n",
      "3420\n",
      "3407\n",
      "3419\n",
      "3362\n",
      "3438\n",
      "3385\n",
      "3427\n",
      "3430\n",
      "3373\n",
      "3415\n",
      "3474\n",
      "3457\n",
      "3362\n",
      "3415\n",
      "3381\n",
      "3380\n",
      "3410\n",
      "3429\n",
      "3410\n",
      "3396\n",
      "3413\n",
      "3417\n",
      "3392\n",
      "3397\n",
      "3426\n",
      "3417\n",
      "3457\n",
      "3404\n",
      "3383\n",
      "3427\n",
      "3385\n",
      "3437\n",
      "3439\n",
      "3447\n",
      "3397\n",
      "3388\n",
      "3386\n",
      "3394\n",
      "3420\n",
      "3418\n",
      "3424\n",
      "3415\n",
      "3408\n",
      "3408\n",
      "3425\n",
      "3422\n",
      "3409\n",
      "3409\n",
      "3438\n",
      "3371\n",
      "3436\n",
      "3384\n",
      "3419\n",
      "3403\n",
      "3379\n",
      "3405\n",
      "3405\n",
      "3425\n",
      "3444\n",
      "3407\n",
      "3384\n",
      "3380\n",
      "3428\n",
      "3406\n",
      "3407\n",
      "3425\n",
      "3414\n",
      "3377\n",
      "3377\n",
      "3396\n",
      "3393\n",
      "3448\n",
      "3405\n",
      "3426\n",
      "3414\n",
      "3418\n",
      "3441\n",
      "3403\n",
      "3343\n",
      "3416\n",
      "3383\n",
      "3432\n",
      "3404\n",
      "3412\n",
      "3419\n",
      "3419\n",
      "3413\n",
      "3394\n",
      "3385\n",
      "3410\n",
      "3387\n",
      "3410\n",
      "3362\n",
      "3424\n",
      "3429\n",
      "3454\n",
      "3418\n",
      "3395\n",
      "3434\n",
      "3418\n",
      "3380\n",
      "3409\n",
      "3383\n",
      "3365\n",
      "3422\n",
      "3419\n",
      "3387\n",
      "3415\n",
      "3405\n",
      "3387\n",
      "3392\n",
      "3410\n",
      "3394\n",
      "3421\n",
      "3441\n",
      "3374\n",
      "3384\n",
      "3440\n",
      "3387\n",
      "3378\n",
      "3420\n",
      "3430\n",
      "3441\n",
      "3369\n",
      "3431\n",
      "3389\n",
      "3394\n",
      "3409\n",
      "3466\n",
      "3382\n"
     ]
    }
   ],
   "source": [
    "for arq in randoms:\n",
    "    arquivo = pd.read_csv('../../Data/Canguçu/simulation_random_' + str(arq) +'.csv')\n",
    "    c = 0\n",
    "    \n",
    "    for i in xrange(1, arquivo['Mes'].count() - 1):\n",
    "        if (is_better(arquivo, i, 'Sala_PMV', 'Mezanino_PMV')):\n",
    "            c = c + 1\n",
    "\n",
    "    \n",
    "    print str(c)\n",
    "\n"
   ]
  },
  {
   "cell_type": "markdown",
   "metadata": {},
   "source": [
    "# Avalia melhora significativa:"
   ]
  },
  {
   "cell_type": "code",
   "execution_count": 27,
   "metadata": {},
   "outputs": [
    {
     "name": "stdout",
     "output_type": "stream",
     "text": [
      "all0 | Conforto: 5.70776255708% | total: 500\n",
      "all1 | Conforto: 10.9474885845% | total: 959\n",
      "SE | Conforto: 7.97945205479% | total: 699\n"
     ]
    }
   ],
   "source": [
    "c = 0\n",
    "for i in xrange(1, all0['Hora'].count() - 1):\n",
    "    if (is_better_sig(all0, i, 'Sala_PMV', 'Mezanino_PMV')):\n",
    "        c = c + 1\n",
    "print (\"all0 | Conforto: \" +  str((c * 100.0)/8760.0) + \"%\" + \" | total: \" + str(c))  \n",
    "\n",
    "c = 0\n",
    "for i in xrange(1, all1['Hora'].count() - 1):\n",
    "    if (is_better_sig(all1, i, 'Sala_PMV', 'Mezanino_PMV')):\n",
    "        c = c + 1\n",
    "print (\"all1 | Conforto: \" +  str((c * 100.0)/8760.0) + \"%\" + \" | total: \" + str(c)) \n",
    "\n",
    "c=0\n",
    "for i in xrange(1, SE['Hora'].count() - 1):\n",
    "    if (is_better_sig(SE, i, 'Sala_PMV', 'Mezanino_PMV')):\n",
    "        c = c + 1\n",
    "print (\"SE | Conforto: \" +  str((c * 100.0)/8760.0) + \"%\" + \" | total: \" + str(c)) "
   ]
  },
  {
   "cell_type": "code",
   "execution_count": 24,
   "metadata": {},
   "outputs": [],
   "source": [
    "testes = [\"%02d\" % i for i in xrange(1, 13)]\n"
   ]
  },
  {
   "cell_type": "code",
   "execution_count": 25,
   "metadata": {
    "scrolled": true
   },
   "outputs": [
    {
     "name": "stdout",
     "output_type": "stream",
     "text": [
      "Topologia: 01 | Conforto: 15.9246575342% | total: 1395\n",
      "Topologia: 02 | Conforto: 13.7557077626% | total: 1205\n",
      "Topologia: 03 | Conforto: 15.4680365297% | total: 1355\n",
      "Topologia: 04 | Conforto: 15.4794520548% | total: 1356\n",
      "Topologia: 05 | Conforto: 16.1301369863% | total: 1413\n",
      "Topologia: 06 | Conforto: 16.6552511416% | total: 1459\n",
      "Topologia: 07 | Conforto: 16.5753424658% | total: 1452\n",
      "Topologia: 08 | Conforto: 15.4109589041% | total: 1350\n",
      "Topologia: 09 | Conforto: 15.4109589041% | total: 1350\n",
      "Topologia: 10 | Conforto: 15.9360730594% | total: 1396\n",
      "Topologia: 11 | Conforto: 15.4794520548% | total: 1356\n",
      "Topologia: 12 | Conforto: 16.9634703196% | total: 1486\n"
     ]
    }
   ],
   "source": [
    "for topologia in testes:\n",
    "    arquivo = pd.read_csv('Resultados/RN_d'+ dataset + '_t' + topologia +'.csv')\n",
    "    c = 0\n",
    "    for i in xrange(1, arquivo['Temperature'].count() - 1):\n",
    "        if (is_better_sig(arquivo, i, 'Sala_PMV', 'Mezanino_PMV')):\n",
    "            c = c + 1\n",
    "    print (\"Topologia: \"  +topologia + \" | Conforto: \" +  str((c * 100.0)/8760.0) + \"%\" + \" | total: \" + str(c))        \n"
   ]
  },
  {
   "cell_type": "code",
   "execution_count": 33,
   "metadata": {},
   "outputs": [],
   "source": [
    "randoms = [\"%03d\" % i for i in xrange(1, 151)]"
   ]
  },
  {
   "cell_type": "code",
   "execution_count": 34,
   "metadata": {
    "scrolled": true
   },
   "outputs": [
    {
     "name": "stdout",
     "output_type": "stream",
     "text": [
      "1027\n",
      "1038\n",
      "1058\n",
      "1017\n",
      "1052\n",
      "1039\n",
      "1019\n",
      "1037\n",
      "1047\n",
      "1052\n",
      "1020\n",
      "1033\n",
      "1038\n",
      "1029\n",
      "1015\n",
      "1003\n",
      "1022\n",
      "1077\n",
      "1025\n",
      "1035\n",
      "1048\n",
      "1034\n",
      "1020\n",
      "1044\n",
      "1059\n",
      "1063\n",
      "1039\n",
      "1039\n",
      "1024\n",
      "1030\n",
      "1038\n",
      "1059\n",
      "1032\n",
      "1034\n",
      "1027\n",
      "1014\n",
      "1024\n",
      "1033\n",
      "1030\n",
      "1061\n",
      "1006\n",
      "1049\n",
      "1039\n",
      "1025\n",
      "1045\n",
      "1049\n",
      "1038\n",
      "1014\n",
      "1033\n",
      "1035\n",
      "1029\n",
      "1042\n",
      "1054\n",
      "1072\n",
      "1054\n",
      "1013\n",
      "1035\n",
      "1057\n",
      "1038\n",
      "1036\n",
      "1033\n",
      "1034\n",
      "1017\n",
      "1048\n",
      "1047\n",
      "1062\n",
      "1047\n",
      "1041\n",
      "1041\n",
      "1044\n",
      "1016\n",
      "1014\n",
      "1039\n",
      "1042\n",
      "1021\n",
      "1026\n",
      "1052\n",
      "1023\n",
      "1023\n",
      "1017\n",
      "1051\n",
      "1019\n",
      "1069\n",
      "1045\n",
      "1010\n",
      "1031\n",
      "1031\n",
      "1028\n",
      "1027\n",
      "1034\n",
      "1033\n",
      "1063\n",
      "1017\n",
      "1031\n",
      "1031\n",
      "1039\n",
      "1015\n",
      "1004\n",
      "1021\n",
      "1055\n",
      "1007\n",
      "1039\n",
      "1014\n",
      "1067\n",
      "1045\n",
      "1051\n",
      "1052\n",
      "1033\n",
      "1053\n",
      "1042\n",
      "1013\n",
      "1047\n",
      "1052\n",
      "1039\n",
      "1017\n",
      "1046\n",
      "1009\n",
      "1037\n",
      "1050\n",
      "1042\n",
      "1035\n",
      "1046\n",
      "1038\n",
      "1033\n",
      "1016\n",
      "1045\n",
      "1006\n",
      "1043\n",
      "1037\n",
      "1028\n",
      "1037\n",
      "1020\n",
      "1044\n",
      "1017\n",
      "1030\n",
      "1061\n",
      "1035\n",
      "1033\n",
      "1025\n",
      "1016\n",
      "1023\n",
      "1039\n",
      "1028\n",
      "1035\n",
      "1037\n",
      "1016\n",
      "1011\n",
      "1028\n",
      "1023\n",
      "1036\n"
     ]
    }
   ],
   "source": [
    "for arq in randoms:\n",
    "    arquivo = pd.read_csv('../../Data/Canguçu/simulation_random_' + str(arq) +'.csv')\n",
    "    c = 0\n",
    "    \n",
    "    for i in xrange(1, arquivo['Mes'].count() - 1):\n",
    "        if (is_better_sig(arquivo, i, 'Sala_PMV', 'Mezanino_PMV')):\n",
    "            c = c + 1\n",
    "\n",
    "    \n",
    "    print str(c)\n",
    "\n"
   ]
  },
  {
   "cell_type": "markdown",
   "metadata": {},
   "source": [
    "# Avalia horas em conforto:"
   ]
  },
  {
   "cell_type": "code",
   "execution_count": 32,
   "metadata": {},
   "outputs": [
    {
     "name": "stdout",
     "output_type": "stream",
     "text": [
      "all1: 6.51826484018% | total: 571\n",
      "all0: 41.8378995434% | total: 3665\n",
      "SE: 46.3926940639% | total: 4064\n"
     ]
    }
   ],
   "source": [
    "c = all1[((all1['Sala_PMV'] >= -Range) & (all1['Sala_PMV'] <= Range)) & ((all1['Mezanino_PMV'] >= -Range) & (all1['Mezanino_PMV'] <= Range))].Sala_PMV.count()\n",
    "print \"all1: \" + str((c * 100.0)/8760.0) + \"%\" + \" | total: \" + str(c)\n",
    "\n",
    "c = all0[((all0['Sala_PMV'] >= -Range) & (all0['Sala_PMV'] <= Range)) & ((all0['Mezanino_PMV'] >= -Range) & (all0['Mezanino_PMV'] <= Range))].Sala_PMV.count()\n",
    "print \"all0: \" + str((c * 100.0)/8760.0) + \"%\" + \" | total: \" + str(c)\n",
    "\n",
    "c = SE[((SE['Sala_PMV'] >= -Range) & (SE['Sala_PMV'] <= Range)) & ((SE['Mezanino_PMV'] >= -Range) & (SE['Mezanino_PMV'] <= Range))].Sala_PMV.count()\n",
    "print \"SE: \" + str((c * 100.0)/8760.0) + \"%\" + \" | total: \" + str(c)"
   ]
  },
  {
   "cell_type": "code",
   "execution_count": 26,
   "metadata": {},
   "outputs": [],
   "source": [
    "topologia = [\"%02d\" % i for i in xrange(1, 13)]\n",
    "\n",
    "Range = 0.7\n",
    "dataset='10'"
   ]
  },
  {
   "cell_type": "code",
   "execution_count": 27,
   "metadata": {
    "scrolled": true
   },
   "outputs": [
    {
     "name": "stdout",
     "output_type": "stream",
     "text": [
      "01: 23.5388127854% | total: 2062\n",
      "02: 27.397260274% | total: 2400\n",
      "03: 24.6803652968% | total: 2162\n",
      "04: 24.303652968% | total: 2129\n",
      "05: 23.6301369863% | total: 2070\n",
      "06: 23.2648401826% | total: 2038\n",
      "07: 23.9269406393% | total: 2096\n",
      "08: 24.303652968% | total: 2129\n",
      "09: 24.303652968% | total: 2129\n",
      "10: 23.7442922374% | total: 2080\n",
      "11: 24.3150684932% | total: 2130\n",
      "12: 22.8310502283% | total: 2000\n"
     ]
    }
   ],
   "source": [
    "for top in topologia:\n",
    "    arquivo = pd.read_csv('Resultados/RN_d'+ dataset + '_t' + top +'.csv')\n",
    "    c = 0\n",
    "    \n",
    "    x = arquivo[((arquivo['Sala_PMV'] >= -Range) & (arquivo['Sala_PMV'] <= Range)) & ((arquivo['Mezanino_PMV'] >= -Range) & (arquivo['Mezanino_PMV'] <= Range))]\n",
    "    c = x.Sala_PMV.count()\n",
    "    \n",
    "    print str(top)+\": \" + str((c * 100.0)/8760.0) + \"%\" + \" | total: \" + str(c)\n",
    "    \n",
    "    \n",
    "  "
   ]
  },
  {
   "cell_type": "code",
   "execution_count": 43,
   "metadata": {},
   "outputs": [],
   "source": [
    "randoms = [\"%03d\" % i for i in xrange(1, 151)]"
   ]
  },
  {
   "cell_type": "code",
   "execution_count": 44,
   "metadata": {
    "scrolled": true
   },
   "outputs": [
    {
     "name": "stdout",
     "output_type": "stream",
     "text": [
      "695\n",
      "697\n",
      "697\n",
      "697\n",
      "689\n",
      "694\n",
      "698\n",
      "694\n",
      "695\n",
      "695\n",
      "689\n",
      "689\n",
      "698\n",
      "696\n",
      "691\n",
      "702\n",
      "685\n",
      "699\n",
      "687\n",
      "696\n",
      "687\n",
      "687\n",
      "696\n",
      "694\n",
      "693\n",
      "684\n",
      "683\n",
      "692\n",
      "680\n",
      "694\n",
      "690\n",
      "702\n",
      "691\n",
      "690\n",
      "678\n",
      "698\n",
      "698\n",
      "690\n",
      "690\n",
      "681\n",
      "681\n",
      "695\n",
      "686\n",
      "699\n",
      "700\n",
      "687\n",
      "678\n",
      "695\n",
      "684\n",
      "686\n",
      "696\n",
      "685\n",
      "689\n",
      "696\n",
      "688\n",
      "689\n",
      "698\n",
      "696\n",
      "695\n",
      "703\n",
      "697\n",
      "691\n",
      "693\n",
      "699\n",
      "692\n",
      "689\n",
      "691\n",
      "680\n",
      "699\n",
      "683\n",
      "690\n",
      "686\n",
      "691\n",
      "681\n",
      "681\n",
      "699\n",
      "697\n",
      "697\n",
      "689\n",
      "690\n",
      "684\n",
      "694\n",
      "678\n",
      "686\n",
      "696\n",
      "701\n",
      "697\n",
      "697\n",
      "680\n",
      "696\n",
      "688\n",
      "683\n",
      "696\n",
      "698\n",
      "697\n",
      "695\n",
      "686\n",
      "698\n",
      "679\n",
      "685\n",
      "695\n",
      "696\n",
      "686\n",
      "704\n",
      "697\n",
      "683\n",
      "695\n",
      "688\n",
      "687\n",
      "698\n",
      "704\n",
      "678\n",
      "692\n",
      "698\n",
      "698\n",
      "694\n",
      "701\n",
      "692\n",
      "702\n",
      "695\n",
      "708\n",
      "684\n",
      "705\n",
      "693\n",
      "690\n",
      "694\n",
      "691\n",
      "690\n",
      "686\n",
      "695\n",
      "708\n",
      "701\n",
      "708\n",
      "679\n",
      "688\n",
      "687\n",
      "695\n",
      "696\n",
      "702\n",
      "696\n",
      "697\n",
      "693\n",
      "705\n",
      "682\n",
      "693\n",
      "682\n",
      "695\n",
      "700\n",
      "697\n",
      "710\n"
     ]
    }
   ],
   "source": [
    "for arq in randoms:\n",
    "    arquivo = pd.read_csv('../../Data/Canguçu/simulation_random_' + str(arq) +'.csv')\n",
    "    c = 0\n",
    "    x = arquivo[((arquivo['Sala_PMV'] >= -Range) & (arquivo['Sala_PMV'] <= Range)) & ((arquivo['Mezanino_PMV'] >= -Range) & (arquivo['Mezanino_PMV'] <= Range))]\n",
    "    c = x.Sala_PMV.count()\n",
    "\n",
    "    \n",
    "    print str(c)"
   ]
  },
  {
   "cell_type": "code",
   "execution_count": null,
   "metadata": {},
   "outputs": [],
   "source": []
  }
 ],
 "metadata": {
  "kernelspec": {
   "display_name": "Python 2",
   "language": "python",
   "name": "python2"
  },
  "language_info": {
   "codemirror_mode": {
    "name": "ipython",
    "version": 2
   },
   "file_extension": ".py",
   "mimetype": "text/x-python",
   "name": "python",
   "nbconvert_exporter": "python",
   "pygments_lexer": "ipython2",
   "version": "2.7.12"
  }
 },
 "nbformat": 4,
 "nbformat_minor": 2
}
