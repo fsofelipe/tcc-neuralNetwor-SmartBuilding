{
 "cells": [
  {
   "cell_type": "markdown",
   "metadata": {},
   "source": [
    "# Avaliacao da simulação com atuação da rede neural:\n",
    "Melhora qualquer <br>\n",
    "Melhora significativa"
   ]
  },
  {
   "cell_type": "code",
   "execution_count": 2,
   "metadata": {},
   "outputs": [],
   "source": [
    "import pandas as pd\n",
    "import numpy as np"
   ]
  },
  {
   "cell_type": "code",
   "execution_count": 3,
   "metadata": {},
   "outputs": [],
   "source": [
    "headerInput = ['Hora', 'Temperature', 'Wind_Speed', 'Wind_Direction', 'Humidity', 'Air_Density', 'Rain_Status', 'Jardim_PMV','Jardim_Temp','Sala_PMV','Sala_Temp','Mezanino_PMV','Mezanino_Temp']\n",
    "headerOutput = ['PortaSalaNorte','JanelaSalaNorte','PortaSalaLeste','JanelaSalaSul','JanelaSalaOeste','PortaCozinhaLeste','JanelaCozinhaSul','JanelaMezaninoNorte','JanelaMezaninoSul','JanelaMezaninoOeste']\n",
    "header = headerInput+headerOutput"
   ]
  },
  {
   "cell_type": "code",
   "execution_count": 4,
   "metadata": {},
   "outputs": [],
   "source": [
    "def is_better_sig(dataFrame, it, PMV_label1, PMV_label2):\n",
    "    \"\"\"it = iterator\"\"\"\n",
    "    it = int(it)\n",
    "    if (it > 0 and it < (dataFrame['Hora'].count() - 1)):\n",
    "        if (((abs(dataFrame.iloc[it - 1][PMV_label1]) - abs(dataFrame.iloc[it][PMV_label1])) >= (abs(dataFrame.iloc[it][PMV_label1]) * 0.1)) and\n",
    "            ((abs(dataFrame.iloc[it - 1][PMV_label2]) - abs(dataFrame.iloc[it][PMV_label2])) >= (abs(dataFrame.iloc[it][PMV_label2]) * 0.1))):\n",
    "            return True\n",
    "        else:\n",
    "            return False\n",
    "    else:\n",
    "        return False"
   ]
  },
  {
   "cell_type": "code",
   "execution_count": 18,
   "metadata": {},
   "outputs": [],
   "source": [
    "def is_better(dataFrame, it, PMV_label1, PMV_label2):\n",
    "    \"\"\"it = iterator\"\"\"\n",
    "    it = int(it)\n",
    "    if (it > 0 and it < (dataFrame['Hora'].count() - 1)):\n",
    "        if ((abs(dataFrame.iloc[it - 1][PMV_label1]) >= abs(dataFrame.iloc[it][PMV_label1])) and\n",
    "            (abs(dataFrame.iloc[it - 1][PMV_label2]) >= abs(dataFrame.iloc[it][PMV_label2]))):\n",
    "            return True\n",
    "        else:\n",
    "            return False\n",
    "    else:\n",
    "        return False"
   ]
  },
  {
   "cell_type": "markdown",
   "metadata": {},
   "source": [
    "#### Gera lista de leitura de arquivo \n",
    "#### Seleciona o dataset"
   ]
  },
  {
   "cell_type": "code",
   "execution_count": 19,
   "metadata": {},
   "outputs": [],
   "source": [
    "conforto_melhora = []\n",
    "testes = [\"%02d\" % i for i in xrange(1, 8)]\n",
    "dataset = '3'"
   ]
  },
  {
   "cell_type": "markdown",
   "metadata": {},
   "source": [
    "# Avalia qualquer melhora"
   ]
  },
  {
   "cell_type": "code",
   "execution_count": 20,
   "metadata": {},
   "outputs": [
    {
     "name": "stdout",
     "output_type": "stream",
     "text": [
      "Topologia: 01 | Conforto: 34.1095890411% | total: 2988\n",
      "Topologia: 02 | Conforto: 33.401826484% | total: 2926\n",
      "Topologia: 03 | Conforto: 34.5091324201% | total: 3023\n",
      "Topologia: 04 | Conforto: 34.2808219178% | total: 3003\n",
      "Topologia: 05 | Conforto: 34.3378995434% | total: 3008\n",
      "Topologia: 06 | Conforto: 34.5319634703% | total: 3025\n",
      "Topologia: 07 | Conforto: 34.4063926941% | total: 3014\n"
     ]
    }
   ],
   "source": [
    "for topologia in testes:\n",
    "    arquivo = pd.read_csv('Resultados/RN_d'+ dataset + '_t' + topologia +'.csv')\n",
    "    selected = pd.DataFrame(columns=header)\n",
    "    c = 0\n",
    "    for i in xrange(1, arquivo['Hora'].count() - 1):\n",
    "        if (is_better(arquivo, i, 'Sala_PMV', 'Mezanino_PMV')):\n",
    "            c = c + 1\n",
    "            selected = selected.append(arquivo.iloc[i])\n",
    "\n",
    "    conforto_melhora.append(\"Topologia: \"  +topologia + \" | Conforto: \" +  str((c * 100.0)/8760.0) + \"%\" + \" | total: \" + str(c))        \n",
    "    print conforto_melhora[len(conforto_melhora)-1]"
   ]
  },
  {
   "cell_type": "markdown",
   "metadata": {},
   "source": [
    "# Avalia melhora significativa:"
   ]
  },
  {
   "cell_type": "code",
   "execution_count": 17,
   "metadata": {},
   "outputs": [
    {
     "name": "stdout",
     "output_type": "stream",
     "text": [
      "Topologia: 01 | Conforto: 15.8675799087% | total: 1390\n",
      "Topologia: 02 | Conforto: 12.4086757991% | total: 1087\n",
      "Topologia: 03 | Conforto: 15.102739726% | total: 1323\n",
      "Topologia: 04 | Conforto: 15.0456621005% | total: 1318\n",
      "Topologia: 05 | Conforto: 16.8835616438% | total: 1479\n",
      "Topologia: 06 | Conforto: 15.1940639269% | total: 1331\n",
      "Topologia: 07 | Conforto: 16.9520547945% | total: 1485\n"
     ]
    }
   ],
   "source": [
    "for topologia in testes:\n",
    "    arquivo = pd.read_csv('Resultados/RN_d'+ dataset + '_t' + topologia +'.csv')\n",
    "\n",
    "    c = 0\n",
    "    for i in xrange(1, arquivo['Hora'].count() - 1):\n",
    "        if (is_better_sig(arquivo, i, 'Sala_PMV', 'Mezanino_PMV')):\n",
    "            c = c + 1\n",
    "\n",
    "\n",
    "    conforto_melhora.append(\"Topologia: \"  +topologia + \" | Conforto: \" +  str((c * 100.0)/8760.0) + \"%\" + \" | total: \" + str(c))        \n",
    "    print conforto_melhora[len(conforto_melhora)-1]"
   ]
  },
  {
   "cell_type": "markdown",
   "metadata": {},
   "source": [
    "# Avalia horas em conforto:"
   ]
  },
  {
   "cell_type": "code",
   "execution_count": 1,
   "metadata": {},
   "outputs": [],
   "source": [
    "conforto_melhora = []\n",
    "topologia = [\"%02d\" % i for i in xrange(1, 8)]\n",
    "dataset = '06'\n",
    "Range = 0.7"
   ]
  },
  {
   "cell_type": "code",
   "execution_count": 5,
   "metadata": {},
   "outputs": [
    {
     "name": "stdout",
     "output_type": "stream",
     "text": [
      "01: 23.5273972603% | total: 2061\n",
      "02: 27.1917808219% | total: 2382\n",
      "03: 25.0913242009% | total: 2198\n",
      "04: 24.9429223744% | total: 2185\n",
      "05: 24.2579908676% | total: 2125\n",
      "06: 25.5365296804% | total: 2237\n",
      "07: 22.9794520548% | total: 2013\n"
     ]
    }
   ],
   "source": [
    "for top in topologia:\n",
    "    arquivo = pd.read_csv('Resultados/RN_d'+ dataset + '_t' + top +'.csv')\n",
    "    c = 0\n",
    "    \n",
    "    x = arquivo[((arquivo['Sala_PMV'] >= -Range) & (arquivo['Sala_PMV'] <= Range)) & ((arquivo['Mezanino_PMV'] >= -Range) & (arquivo['Mezanino_PMV'] <= Range))]\n",
    "    c = x.Sala_PMV.count()\n",
    "    \n",
    "    print str(top)+\": \" + str((c * 100.0)/8760.0) + \"%\" + \" | total: \" + str(c)\n",
    "    \n",
    "    \n",
    "  "
   ]
  },
  {
   "cell_type": "code",
   "execution_count": null,
   "metadata": {},
   "outputs": [],
   "source": []
  }
 ],
 "metadata": {
  "kernelspec": {
   "display_name": "Python 2",
   "language": "python",
   "name": "python2"
  },
  "language_info": {
   "codemirror_mode": {
    "name": "ipython",
    "version": 2
   },
   "file_extension": ".py",
   "mimetype": "text/x-python",
   "name": "python",
   "nbconvert_exporter": "python",
   "pygments_lexer": "ipython2",
   "version": "2.7.12"
  }
 },
 "nbformat": 4,
 "nbformat_minor": 2
}
