{
 "cells": [
  {
   "cell_type": "code",
   "execution_count": 1,
   "metadata": {},
   "outputs": [],
   "source": [
    "import pandas as pd\n",
    "import numpy as np\n",
    "import matplotlib as ptl\n",
    "%matplotlib inline"
   ]
  },
  {
   "cell_type": "code",
   "execution_count": 2,
   "metadata": {},
   "outputs": [
    {
     "name": "stdout",
     "output_type": "stream",
     "text": [
      "48\n",
      "23\n",
      "23\n"
     ]
    }
   ],
   "source": [
    "header = ['Mes', 'Dia', 'Hora', \n",
    "         'Temperature', 'Wind_Speed', 'Wind_Direction', 'Humidity', 'Air_Density', 'Rain_Status',\n",
    "         'AreaServico_PMV', 'AreaServico_Temp', 'Circulacao_PMV', 'Circulacao_Temp', 'Casal_PMV', 'Casal_Temp', 'Banheiro_PMV', 'Banheiro_Temp', 'Jardim_PMV', 'Jardim_Temp', 'Solteiro_PMV', 'Solteiro_Temp', 'Sala_PMV', 'Sala_Temp', 'Mezanino_PMV', 'Mezanino_Temp',\n",
    "         'PortaServicoLeste', 'JanelaServicoSul', 'JanelaCasalNorte', 'PortaCasalOeste', 'JanelaCasalOeste', 'JanelaBanheiroLeste', 'PortaBanheiroOeste', 'JanelaJardimNorte', 'JanelaJardimLeste', 'JanelaSolteiroNorte', 'PortaSolteiroSul', 'JanelaSolteiroSul', 'PortaSalaNorte', 'JanelaSalaNorte', 'PortaSalaLeste', 'JanelaSalaSul', 'JanelaSalaOeste', 'PortaCozinhaLeste', 'JanelaCozinhaSul', 'JanelaMezaninoNorte', 'JanelaMezaninoSul', 'JanelaMezaninoOeste', 'JanelaSegundoSul' \n",
    "         ]\n",
    "header_input = ['Hora', 'Temperature', 'Wind_Speed', 'Wind_Direction', 'Humidity', 'Air_Density', 'Rain_Status',\n",
    "               'AreaServico_PMV', 'AreaServico_Temp', 'Circulacao_PMV', 'Circulacao_Temp', 'Casal_PMV', 'Casal_Temp', 'Banheiro_PMV', 'Banheiro_Temp', 'Jardim_PMV', 'Jardim_Temp', 'Solteiro_PMV', 'Solteiro_Temp', 'Sala_PMV', 'Sala_Temp', 'Mezanino_PMV', 'Mezanino_Temp'\n",
    "               ]\n",
    "header_output = [\n",
    "                'PortaServicoLeste', 'JanelaServicoSul', 'JanelaCasalNorte', 'PortaCasalOeste', 'JanelaCasalOeste', 'JanelaBanheiroLeste', 'PortaBanheiroOeste', 'JanelaJardimNorte', 'JanelaJardimLeste', 'JanelaSolteiroNorte', 'PortaSolteiroSul', 'JanelaSolteiroSul', 'PortaSalaNorte', 'JanelaSalaNorte', 'PortaSalaLeste', 'JanelaSalaSul', 'JanelaSalaOeste', 'PortaCozinhaLeste', 'JanelaCozinhaSul', 'JanelaMezaninoNorte', 'JanelaMezaninoSul', 'JanelaMezaninoOeste', 'JanelaSegundoSul'\n",
    "                ]\n",
    "print len(header)\n",
    "print (len(header_input))\n",
    "print (len(header_output))"
   ]
  },
  {
   "cell_type": "code",
   "execution_count": 6,
   "metadata": {},
   "outputs": [],
   "source": [
    "all1 = pd.read_csv('../../Data/Canguçu/simulation_all1.csv')\n",
    "all0 = pd.read_csv('../../Data/Canguçu/simulation_all0.csv')\n",
    "SE = pd.read_csv('../../Data/Canguçu/simulation_SE_000.csv')"
   ]
  },
  {
   "cell_type": "code",
   "execution_count": 4,
   "metadata": {},
   "outputs": [],
   "source": [
    "topologias = [\"%02d\" % i for i in xrange(1, 8)]\n",
    "dataset = 5\n",
    "randoms = [\"%03d\" % i for i in xrange(1, 151)]\n",
    "Range = 0.7"
   ]
  },
  {
   "cell_type": "code",
   "execution_count": 36,
   "metadata": {},
   "outputs": [
    {
     "data": {
      "text/plain": [
       "1991"
      ]
     },
     "execution_count": 36,
     "metadata": {},
     "output_type": "execute_result"
    }
   ],
   "source": [
    "all1[((all1['Sala_PMV'] >= -Range) & (all1['Sala_PMV'] <= Range)) & ((all1['Mezanino_PMV'] >= -Range) & (all1['Mezanino_PMV'] <= Range))].Sala_PMV.count()"
   ]
  },
  {
   "cell_type": "code",
   "execution_count": 37,
   "metadata": {},
   "outputs": [
    {
     "data": {
      "text/plain": [
       "7203"
      ]
     },
     "execution_count": 37,
     "metadata": {},
     "output_type": "execute_result"
    }
   ],
   "source": [
    "all0[((all0['Sala_PMV'] >= -Range) & (all0['Sala_PMV'] <= Range)) & ((all0['Mezanino_PMV'] >= -Range) & (all0['Mezanino_PMV'] <= Range))].Sala_PMV.count()"
   ]
  },
  {
   "cell_type": "code",
   "execution_count": 7,
   "metadata": {},
   "outputs": [
    {
     "data": {
      "text/plain": [
       "4064"
      ]
     },
     "execution_count": 7,
     "metadata": {},
     "output_type": "execute_result"
    }
   ],
   "source": [
    "SE[((SE['Sala_PMV'] >= -Range) & (SE['Sala_PMV'] <= Range)) & ((SE['Mezanino_PMV'] >= -Range) & (SE['Mezanino_PMV'] <= Range))].Sala_PMV.count()"
   ]
  },
  {
   "cell_type": "code",
   "execution_count": 39,
   "metadata": {
    "scrolled": true
   },
   "outputs": [
    {
     "name": "stdout",
     "output_type": "stream",
     "text": [
      "001,2362\n",
      "002,2358\n",
      "003,2359\n",
      "004,2338\n",
      "005,2380\n",
      "006,2356\n",
      "007,2372\n",
      "008,2359\n",
      "009,2360\n",
      "010,2369\n",
      "011,2348\n",
      "012,2358\n",
      "013,2354\n",
      "014,2358\n",
      "015,2348\n",
      "016,2352\n",
      "017,2363\n",
      "018,2365\n",
      "019,2367\n",
      "020,2362\n",
      "021,2366\n",
      "022,2354\n",
      "023,2365\n",
      "024,2347\n",
      "025,2351\n",
      "026,2361\n",
      "027,2351\n",
      "028,2366\n",
      "029,2359\n",
      "030,2354\n",
      "031,2357\n",
      "032,2367\n",
      "033,2338\n",
      "034,2352\n",
      "035,2347\n",
      "036,2337\n",
      "037,2339\n",
      "038,2350\n",
      "039,2356\n",
      "040,2361\n",
      "041,2375\n",
      "042,2361\n",
      "043,2342\n",
      "044,2364\n",
      "045,2344\n",
      "046,2364\n",
      "047,2363\n",
      "048,2360\n",
      "049,2359\n",
      "050,2364\n",
      "051,2345\n",
      "052,2369\n",
      "053,2348\n",
      "054,2367\n",
      "055,2346\n",
      "056,2343\n",
      "057,2358\n",
      "058,2360\n",
      "059,2366\n",
      "060,2361\n",
      "061,2362\n",
      "062,2357\n",
      "063,2350\n",
      "064,2360\n",
      "065,2370\n",
      "066,2366\n",
      "067,2374\n",
      "068,2343\n",
      "069,2328\n",
      "070,2362\n",
      "071,2357\n",
      "072,2348\n",
      "073,2340\n",
      "074,2369\n",
      "075,2352\n",
      "076,2357\n",
      "077,2349\n",
      "078,2355\n",
      "079,2332\n",
      "080,2349\n",
      "081,2348\n",
      "082,2373\n",
      "083,2346\n",
      "084,2362\n",
      "085,2354\n",
      "086,2359\n",
      "087,2353\n",
      "088,2353\n",
      "089,2359\n",
      "090,2364\n",
      "091,2366\n",
      "092,2354\n",
      "093,2360\n",
      "094,2363\n",
      "095,2346\n",
      "096,2366\n",
      "097,2345\n",
      "098,2358\n",
      "099,2351\n",
      "100,2346\n",
      "101,2343\n",
      "102,2374\n",
      "103,2355\n",
      "104,2369\n",
      "105,2374\n",
      "106,2350\n",
      "107,2362\n",
      "108,2358\n",
      "109,2358\n",
      "110,2359\n",
      "111,2347\n",
      "112,2366\n",
      "113,2344\n",
      "114,2353\n",
      "115,2360\n",
      "116,2353\n",
      "117,2360\n",
      "118,2361\n",
      "119,2359\n",
      "120,2360\n",
      "121,2363\n",
      "122,2349\n",
      "123,2365\n",
      "124,2338\n",
      "125,2352\n",
      "126,2367\n",
      "127,2352\n",
      "128,2348\n",
      "129,2373\n",
      "130,2343\n",
      "131,2359\n",
      "132,2355\n",
      "133,2354\n",
      "134,2363\n",
      "135,2359\n",
      "136,2344\n",
      "137,2359\n",
      "138,2352\n",
      "139,2365\n",
      "140,2357\n",
      "141,2366\n",
      "142,2343\n",
      "143,2368\n",
      "144,2331\n",
      "145,2363\n",
      "146,2360\n",
      "147,2350\n",
      "148,2348\n",
      "149,2355\n",
      "150,2364\n"
     ]
    }
   ],
   "source": [
    "for rad in randoms:\n",
    "    arquivo = pd.read_csv('../../Data/Canguçu/simulation_random_' + str(rad) +'.csv')\n",
    "    x = arquivo[((arquivo['Sala_PMV'] >= -Range) & (arquivo['Sala_PMV'] <= Range)) & ((arquivo['Mezanino_PMV'] >= -Range) & (arquivo['Mezanino_PMV'] <= Range))].Sala_PMV.count()\n",
    "    print rad + \",\" + str(x)"
   ]
  },
  {
   "cell_type": "code",
   "execution_count": 40,
   "metadata": {
    "scrolled": true
   },
   "outputs": [
    {
     "name": "stdout",
     "output_type": "stream",
     "text": [
      "4905\n",
      "4939\n",
      "4889\n",
      "4926\n",
      "4989\n",
      "4961\n",
      "4912\n"
     ]
    }
   ],
   "source": [
    "for top in topologias:\n",
    "    arquivo = pd.read_csv('Resultados/RN_d' + str(dataset) + '_t' + top +'.csv')\n",
    "    x = arquivo[((arquivo['Sala_PMV'] >= -Range) & (arquivo['Sala_PMV'] <= Range)) & ((arquivo['Mezanino_PMV'] >= -Range) & (arquivo['Mezanino_PMV'] <= Range))].Sala_PMV.count()\n",
    "    print str(x)"
   ]
  },
  {
   "cell_type": "code",
   "execution_count": 49,
   "metadata": {},
   "outputs": [],
   "source": [
    "def categoriza(dataframe):\n",
    "    dataframe['Categoria'] = dataframe.Categoria.apply(lambda cat: 0 if cat  else bairro)\n",
    "    #df.Bairro.apply(lambda bairro: 'JARDIM AMERICA' if bairro=='JARDIM AM\\xc3\\x89RICA' else bairro)\n",
    "    np.where(dataframe['Sala_PMV']<-3.5 , 0, 1)\n",
    "    dataframe['Categoria'] = np.where((dataframe['Sala_PMV']>=-3.5 & dataframe['Sala_PMV']<-2.5), 1, 2)\n",
    "    dataframe['Categoria'] = np.where((dataframe['Sala_PMV']>=-2.5 & dataframe['Sala_PMV']<-1.5), 2, 3)\n",
    "    dataframe['Categoria'] = np.where((dataframe['Sala_PMV']>=-1.5 & dataframe['Sala_PMV']<-0.5), 3, 4)\n",
    "    dataframe['Categoria'] = np.where((dataframe['Sala_PMV']>=-0.5 & dataframe['Sala_PMV']<+0.5), 4, 5)\n",
    "    dataframe['Categoria'] = np.where((dataframe['Sala_PMV']>=+0.5 & dataframe['Sala_PMV']<+1.5), 5, 6)\n",
    "    dataframe['Categoria'] = np.where((dataframe['Sala_PMV']>=+1.5 & dataframe['Sala_PMV']<+2.5), 6, 7)\n",
    "    dataframe['Categoria'] = np.where((dataframe['Sala_PMV']>=+2.5 & dataframe['Sala_PMV']<+3.5), 7, 8)\n",
    "    dataframe['Categoria'] = np.where(dataframe['Sala_PMV']>=+3.5, 8, 9)\n",
    "    return dataframe"
   ]
  },
  {
   "cell_type": "code",
   "execution_count": 50,
   "metadata": {},
   "outputs": [
    {
     "ename": "TypeError",
     "evalue": "cannot compare a dtyped [float64] array with a scalar of type [bool]",
     "output_type": "error",
     "traceback": [
      "\u001b[0;31m---------------------------------------------------------------------------\u001b[0m",
      "\u001b[0;31mTypeError\u001b[0m                                 Traceback (most recent call last)",
      "\u001b[0;32m<ipython-input-50-9e1c728de507>\u001b[0m in \u001b[0;36m<module>\u001b[0;34m()\u001b[0m\n\u001b[0;32m----> 1\u001b[0;31m \u001b[0mnewAll1\u001b[0m \u001b[0;34m=\u001b[0m \u001b[0mcategoriza\u001b[0m\u001b[0;34m(\u001b[0m\u001b[0mall1\u001b[0m\u001b[0;34m)\u001b[0m\u001b[0;34m\u001b[0m\u001b[0m\n\u001b[0m",
      "\u001b[0;32m<ipython-input-49-d7ab58d92b07>\u001b[0m in \u001b[0;36mcategoriza\u001b[0;34m(dataframe)\u001b[0m\n\u001b[1;32m      1\u001b[0m \u001b[0;32mdef\u001b[0m \u001b[0mcategoriza\u001b[0m\u001b[0;34m(\u001b[0m\u001b[0mdataframe\u001b[0m\u001b[0;34m)\u001b[0m\u001b[0;34m:\u001b[0m\u001b[0;34m\u001b[0m\u001b[0m\n\u001b[1;32m      2\u001b[0m     \u001b[0mdataframe\u001b[0m\u001b[0;34m[\u001b[0m\u001b[0;34m'Categoria'\u001b[0m\u001b[0;34m]\u001b[0m \u001b[0;34m=\u001b[0m \u001b[0mnp\u001b[0m\u001b[0;34m.\u001b[0m\u001b[0mwhere\u001b[0m\u001b[0;34m(\u001b[0m\u001b[0mdataframe\u001b[0m\u001b[0;34m[\u001b[0m\u001b[0;34m'Sala_PMV'\u001b[0m\u001b[0;34m]\u001b[0m\u001b[0;34m<\u001b[0m\u001b[0;34m-\u001b[0m\u001b[0;36m3.5\u001b[0m \u001b[0;34m,\u001b[0m \u001b[0;36m0\u001b[0m\u001b[0;34m,\u001b[0m \u001b[0;36m1\u001b[0m\u001b[0;34m)\u001b[0m\u001b[0;34m\u001b[0m\u001b[0m\n\u001b[0;32m----> 3\u001b[0;31m     \u001b[0mdataframe\u001b[0m\u001b[0;34m[\u001b[0m\u001b[0;34m'Categoria'\u001b[0m\u001b[0;34m]\u001b[0m \u001b[0;34m=\u001b[0m \u001b[0mnp\u001b[0m\u001b[0;34m.\u001b[0m\u001b[0mwhere\u001b[0m\u001b[0;34m(\u001b[0m\u001b[0;34m(\u001b[0m\u001b[0mdataframe\u001b[0m\u001b[0;34m[\u001b[0m\u001b[0;34m'Sala_PMV'\u001b[0m\u001b[0;34m]\u001b[0m\u001b[0;34m>=\u001b[0m\u001b[0;34m-\u001b[0m\u001b[0;36m3.5\u001b[0m \u001b[0;34m&\u001b[0m \u001b[0mdataframe\u001b[0m\u001b[0;34m[\u001b[0m\u001b[0;34m'Sala_PMV'\u001b[0m\u001b[0;34m]\u001b[0m\u001b[0;34m<\u001b[0m\u001b[0;34m-\u001b[0m\u001b[0;36m2.5\u001b[0m\u001b[0;34m)\u001b[0m\u001b[0;34m,\u001b[0m \u001b[0;36m1\u001b[0m\u001b[0;34m,\u001b[0m \u001b[0;36m2\u001b[0m\u001b[0;34m)\u001b[0m\u001b[0;34m\u001b[0m\u001b[0m\n\u001b[0m\u001b[1;32m      4\u001b[0m     \u001b[0mdataframe\u001b[0m\u001b[0;34m[\u001b[0m\u001b[0;34m'Categoria'\u001b[0m\u001b[0;34m]\u001b[0m \u001b[0;34m=\u001b[0m \u001b[0mnp\u001b[0m\u001b[0;34m.\u001b[0m\u001b[0mwhere\u001b[0m\u001b[0;34m(\u001b[0m\u001b[0;34m(\u001b[0m\u001b[0mdataframe\u001b[0m\u001b[0;34m[\u001b[0m\u001b[0;34m'Sala_PMV'\u001b[0m\u001b[0;34m]\u001b[0m\u001b[0;34m>=\u001b[0m\u001b[0;34m-\u001b[0m\u001b[0;36m2.5\u001b[0m \u001b[0;34m&\u001b[0m \u001b[0mdataframe\u001b[0m\u001b[0;34m[\u001b[0m\u001b[0;34m'Sala_PMV'\u001b[0m\u001b[0;34m]\u001b[0m\u001b[0;34m<\u001b[0m\u001b[0;34m-\u001b[0m\u001b[0;36m1.5\u001b[0m\u001b[0;34m)\u001b[0m\u001b[0;34m,\u001b[0m \u001b[0;36m2\u001b[0m\u001b[0;34m,\u001b[0m \u001b[0;36m3\u001b[0m\u001b[0;34m)\u001b[0m\u001b[0;34m\u001b[0m\u001b[0m\n\u001b[1;32m      5\u001b[0m     \u001b[0mdataframe\u001b[0m\u001b[0;34m[\u001b[0m\u001b[0;34m'Categoria'\u001b[0m\u001b[0;34m]\u001b[0m \u001b[0;34m=\u001b[0m \u001b[0mnp\u001b[0m\u001b[0;34m.\u001b[0m\u001b[0mwhere\u001b[0m\u001b[0;34m(\u001b[0m\u001b[0;34m(\u001b[0m\u001b[0mdataframe\u001b[0m\u001b[0;34m[\u001b[0m\u001b[0;34m'Sala_PMV'\u001b[0m\u001b[0;34m]\u001b[0m\u001b[0;34m>=\u001b[0m\u001b[0;34m-\u001b[0m\u001b[0;36m1.5\u001b[0m \u001b[0;34m&\u001b[0m \u001b[0mdataframe\u001b[0m\u001b[0;34m[\u001b[0m\u001b[0;34m'Sala_PMV'\u001b[0m\u001b[0;34m]\u001b[0m\u001b[0;34m<\u001b[0m\u001b[0;34m-\u001b[0m\u001b[0;36m0.5\u001b[0m\u001b[0;34m)\u001b[0m\u001b[0;34m,\u001b[0m \u001b[0;36m3\u001b[0m\u001b[0;34m,\u001b[0m \u001b[0;36m4\u001b[0m\u001b[0;34m)\u001b[0m\u001b[0;34m\u001b[0m\u001b[0m\n",
      "\u001b[0;32m/usr/local/lib/python2.7/dist-packages/pandas/core/ops.pyc\u001b[0m in \u001b[0;36mwrapper\u001b[0;34m(self, other)\u001b[0m\n\u001b[1;32m    933\u001b[0m                       is_integer_dtype(np.asarray(other)) else fill_bool)\n\u001b[1;32m    934\u001b[0m             return filler(self._constructor(\n\u001b[0;32m--> 935\u001b[0;31m                 \u001b[0mna_op\u001b[0m\u001b[0;34m(\u001b[0m\u001b[0mself\u001b[0m\u001b[0;34m.\u001b[0m\u001b[0mvalues\u001b[0m\u001b[0;34m,\u001b[0m \u001b[0mother\u001b[0m\u001b[0;34m)\u001b[0m\u001b[0;34m,\u001b[0m\u001b[0;34m\u001b[0m\u001b[0m\n\u001b[0m\u001b[1;32m    936\u001b[0m                 index=self.index)).__finalize__(self)\n\u001b[1;32m    937\u001b[0m \u001b[0;34m\u001b[0m\u001b[0m\n",
      "\u001b[0;32m/usr/local/lib/python2.7/dist-packages/pandas/core/ops.pyc\u001b[0m in \u001b[0;36mna_op\u001b[0;34m(x, y)\u001b[0m\n\u001b[1;32m    903\u001b[0m                     raise TypeError(\"cannot compare a dtyped [{0}] array with \"\n\u001b[1;32m    904\u001b[0m                                     \"a scalar of type [{1}]\".format(\n\u001b[0;32m--> 905\u001b[0;31m                                         x.dtype, type(y).__name__))\n\u001b[0m\u001b[1;32m    906\u001b[0m \u001b[0;34m\u001b[0m\u001b[0m\n\u001b[1;32m    907\u001b[0m         \u001b[0;32mreturn\u001b[0m \u001b[0mresult\u001b[0m\u001b[0;34m\u001b[0m\u001b[0m\n",
      "\u001b[0;31mTypeError\u001b[0m: cannot compare a dtyped [float64] array with a scalar of type [bool]"
     ]
    }
   ],
   "source": [
    "newAll1 = categoriza(all1)"
   ]
  },
  {
   "cell_type": "code",
   "execution_count": null,
   "metadata": {},
   "outputs": [],
   "source": []
  }
 ],
 "metadata": {
  "kernelspec": {
   "display_name": "Python 2",
   "language": "python",
   "name": "python2"
  },
  "language_info": {
   "codemirror_mode": {
    "name": "ipython",
    "version": 2
   },
   "file_extension": ".py",
   "mimetype": "text/x-python",
   "name": "python",
   "nbconvert_exporter": "python",
   "pygments_lexer": "ipython2",
   "version": "2.7.12"
  }
 },
 "nbformat": 4,
 "nbformat_minor": 2
}
