{
 "cells": [
  {
   "cell_type": "code",
   "execution_count": 1,
   "metadata": {},
   "outputs": [],
   "source": [
    "import pandas as pd\n",
    "import numpy as np"
   ]
  },
  {
   "cell_type": "code",
   "execution_count": 2,
   "metadata": {},
   "outputs": [],
   "source": [
    "headerInput = ['Hora', 'Temperature', 'Wind_Speed', 'Wind_Direction', 'Humidity', 'Air_Density', 'Rain_Status', 'Jardim_PMV','Jardim_Temp','Sala_PMV','Sala_Temp','Mezanino_PMV','Mezanino_Temp']\n",
    "headerOutput = ['PortaSalaNorte','JanelaSalaNorte','PortaSalaLeste','JanelaSalaSul','JanelaSalaOeste','PortaCozinhaLeste','JanelaCozinhaSul','JanelaMezaninoNorte','JanelaMezaninoSul','JanelaMezaninoOeste']\n",
    "header = headerInput+headerOutput"
   ]
  },
  {
   "cell_type": "markdown",
   "metadata": {},
   "source": [
    "# Avaliacao d3\n",
    "Qualquer melhora"
   ]
  },
  {
   "cell_type": "code",
   "execution_count": 5,
   "metadata": {},
   "outputs": [],
   "source": [
    "def is_better(dataFrame, it, PMV_label1, PMV_label2):\n",
    "    \"\"\"it = iterator\"\"\"\n",
    "    it = int(it)\n",
    "    if (it > 0 and it < (dataFrame['Hora'].count() - 1)):\n",
    "        if ((abs(dataFrame.iloc[it - 1][PMV_label1]) >= abs(dataFrame.iloc[it][PMV_label1])) and\n",
    "            (abs(dataFrame.iloc[it - 1][PMV_label2]) >= abs(dataFrame.iloc[it][PMV_label2]))):\n",
    "            return True\n",
    "        else:\n",
    "            return False\n",
    "    else:\n",
    "        return False\n",
    "    \n",
    "    #return (dataFrame.iloc(it))"
   ]
  },
  {
   "cell_type": "code",
   "execution_count": 21,
   "metadata": {},
   "outputs": [],
   "source": [
    "conforto_melhora = []"
   ]
  },
  {
   "cell_type": "code",
   "execution_count": 22,
   "metadata": {},
   "outputs": [],
   "source": [
    "arquivo = pd.read_csv('Resultados/RN_t01_d3.csv')"
   ]
  },
  {
   "cell_type": "code",
   "execution_count": 23,
   "metadata": {},
   "outputs": [
    {
     "name": "stdout",
     "output_type": "stream",
     "text": [
      "Conforto: 34.1095890411% | total: 2988\n"
     ]
    }
   ],
   "source": [
    "selected = pd.DataFrame(columns=header)\n",
    "c = 0\n",
    "for i in xrange(1, arquivo['Hora'].count() - 1):\n",
    "    if (is_better(arquivo, i, 'Sala_PMV', 'Mezanino_PMV')):\n",
    "        c = c + 1\n",
    "        selected = selected.append(arquivo.iloc[i])\n",
    "\n",
    "conforto_melhora.append(\"Conforto: \" +  str((c * 100.0)/8760.0) + \"%\" + \" | total: \" + str(c))        \n",
    "print conforto_melhora[0]"
   ]
  },
  {
   "cell_type": "code",
   "execution_count": 24,
   "metadata": {},
   "outputs": [],
   "source": [
    "arquivo = pd.read_csv('Resultados/RN_t02_d3.csv')"
   ]
  },
  {
   "cell_type": "code",
   "execution_count": 25,
   "metadata": {},
   "outputs": [
    {
     "name": "stdout",
     "output_type": "stream",
     "text": [
      "Conforto: 33.401826484% | total: 2926\n"
     ]
    }
   ],
   "source": [
    "selected = pd.DataFrame(columns=header)\n",
    "c = 0\n",
    "for i in xrange(1, arquivo['Hora'].count() - 1):\n",
    "    if (is_better(arquivo, i, 'Sala_PMV', 'Mezanino_PMV')):\n",
    "        c = c + 1\n",
    "        selected = selected.append(arquivo.iloc[i])\n",
    "    \n",
    "conforto_melhora.append(\"Conforto: \" +  str((c * 100.0)/8760.0) + \"%\" + \" | total: \" + str(c))        \n",
    "print conforto_melhora[1]"
   ]
  },
  {
   "cell_type": "code",
   "execution_count": 26,
   "metadata": {},
   "outputs": [],
   "source": [
    "arquivo = pd.read_csv('Resultados/RN_t03_d3.csv')"
   ]
  },
  {
   "cell_type": "code",
   "execution_count": 27,
   "metadata": {},
   "outputs": [
    {
     "name": "stdout",
     "output_type": "stream",
     "text": [
      "Conforto: 34.5091324201% | total: 3023\n"
     ]
    }
   ],
   "source": [
    "selected = pd.DataFrame(columns=header)\n",
    "c = 0\n",
    "for i in xrange(1, arquivo['Hora'].count() - 1):\n",
    "    if (is_better(arquivo, i, 'Sala_PMV', 'Mezanino_PMV')):\n",
    "        c = c + 1\n",
    "        selected = selected.append(arquivo.iloc[i])\n",
    "    \n",
    "conforto_melhora.append(\"Conforto: \" +  str((c * 100.0)/8760.0) + \"%\" + \" | total: \" + str(c))        \n",
    "print conforto_melhora[2]"
   ]
  },
  {
   "cell_type": "code",
   "execution_count": 28,
   "metadata": {},
   "outputs": [],
   "source": [
    "arquivo = pd.read_csv('Resultados/RN_t04_d3.csv')"
   ]
  },
  {
   "cell_type": "code",
   "execution_count": 30,
   "metadata": {},
   "outputs": [
    {
     "name": "stdout",
     "output_type": "stream",
     "text": [
      "Conforto: 34.2808219178% | total: 3003\n"
     ]
    }
   ],
   "source": [
    "selected = pd.DataFrame(columns=header)\n",
    "c = 0\n",
    "for i in xrange(1, arquivo['Hora'].count() - 1):\n",
    "    if (is_better(arquivo, i, 'Sala_PMV', 'Mezanino_PMV')):\n",
    "        c = c + 1\n",
    "        selected = selected.append(arquivo.iloc[i])\n",
    "    \n",
    "conforto_melhora.append(\"Conforto: \" +  str((c * 100.0)/8760.0) + \"%\" + \" | total: \" + str(c))        \n",
    "print conforto_melhora[3]"
   ]
  },
  {
   "cell_type": "code",
   "execution_count": 31,
   "metadata": {},
   "outputs": [],
   "source": [
    "arquivo = pd.read_csv('Resultados/RN_t05_d3.csv')"
   ]
  },
  {
   "cell_type": "code",
   "execution_count": 32,
   "metadata": {},
   "outputs": [
    {
     "name": "stdout",
     "output_type": "stream",
     "text": [
      "Conforto: 34.3378995434% | total: 3008\n"
     ]
    }
   ],
   "source": [
    "selected = pd.DataFrame(columns=header)\n",
    "c = 0\n",
    "for i in xrange(1, arquivo['Hora'].count() - 1):\n",
    "    if (is_better(arquivo, i, 'Sala_PMV', 'Mezanino_PMV')):\n",
    "        c = c + 1\n",
    "        selected = selected.append(arquivo.iloc[i])\n",
    "    \n",
    "conforto_melhora.append(\"Conforto: \" +  str((c * 100.0)/8760.0) + \"%\" + \" | total: \" + str(c))        \n",
    "print conforto_melhora[len(conforto_melhora)-1]"
   ]
  },
  {
   "cell_type": "code",
   "execution_count": 33,
   "metadata": {},
   "outputs": [],
   "source": [
    "arquivo = pd.read_csv('Resultados/RN_t06_d3.csv')"
   ]
  },
  {
   "cell_type": "code",
   "execution_count": 34,
   "metadata": {},
   "outputs": [
    {
     "name": "stdout",
     "output_type": "stream",
     "text": [
      "Conforto: 34.5319634703% | total: 3025\n"
     ]
    }
   ],
   "source": [
    "selected = pd.DataFrame(columns=header)\n",
    "c = 0\n",
    "for i in xrange(1, arquivo['Hora'].count() - 1):\n",
    "    if (is_better(arquivo, i, 'Sala_PMV', 'Mezanino_PMV')):\n",
    "        c = c + 1\n",
    "        selected = selected.append(arquivo.iloc[i])\n",
    "    \n",
    "conforto_melhora.append(\"Conforto: \" +  str((c * 100.0)/8760.0) + \"%\" + \" | total: \" + str(c))        \n",
    "print conforto_melhora[len(conforto_melhora)-1]"
   ]
  },
  {
   "cell_type": "code",
   "execution_count": 35,
   "metadata": {},
   "outputs": [],
   "source": [
    "arquivo = pd.read_csv('Resultados/RN_t07_d3.csv')"
   ]
  },
  {
   "cell_type": "code",
   "execution_count": 36,
   "metadata": {},
   "outputs": [
    {
     "name": "stdout",
     "output_type": "stream",
     "text": [
      "Conforto: 34.4063926941% | total: 3014\n"
     ]
    }
   ],
   "source": [
    "selected = pd.DataFrame(columns=header)\n",
    "c = 0\n",
    "for i in xrange(1, arquivo['Hora'].count() - 1):\n",
    "    if (is_better(arquivo, i, 'Sala_PMV', 'Mezanino_PMV')):\n",
    "        c = c + 1\n",
    "        selected = selected.append(arquivo.iloc[i])\n",
    "    \n",
    "conforto_melhora.append(\"Conforto: \" +  str((c * 100.0)/8760.0) + \"%\" + \" | total: \" + str(c))        \n",
    "print conforto_melhora[len(conforto_melhora)-1]"
   ]
  },
  {
   "cell_type": "code",
   "execution_count": 37,
   "metadata": {},
   "outputs": [],
   "source": [
    "arquivo = pd.read_csv('Resultados/RN_t08_d3.csv')"
   ]
  },
  {
   "cell_type": "code",
   "execution_count": 38,
   "metadata": {},
   "outputs": [
    {
     "name": "stdout",
     "output_type": "stream",
     "text": [
      "Conforto: 34.1894977169% | total: 2995\n"
     ]
    }
   ],
   "source": [
    "selected = pd.DataFrame(columns=header)\n",
    "c = 0\n",
    "for i in xrange(1, arquivo['Hora'].count() - 1):\n",
    "    if (is_better(arquivo, i, 'Sala_PMV', 'Mezanino_PMV')):\n",
    "        c = c + 1\n",
    "        selected = selected.append(arquivo.iloc[i])\n",
    "    \n",
    "conforto_melhora.append(\"Conforto: \" +  str((c * 100.0)/8760.0) + \"%\" + \" | total: \" + str(c))        \n",
    "print conforto_melhora[len(conforto_melhora)-1]"
   ]
  },
  {
   "cell_type": "code",
   "execution_count": 40,
   "metadata": {},
   "outputs": [
    {
     "name": "stdout",
     "output_type": "stream",
     "text": [
      "Conforto: 34.1095890411% | total: 2988\n",
      "Conforto: 33.401826484% | total: 2926\n",
      "Conforto: 34.5091324201% | total: 3023\n",
      "Conforto: 34.2808219178% | total: 3003\n",
      "Conforto: 34.3378995434% | total: 3008\n",
      "Conforto: 34.5319634703% | total: 3025\n",
      "Conforto: 34.4063926941% | total: 3014\n",
      "Conforto: 34.1894977169% | total: 2995\n"
     ]
    }
   ],
   "source": [
    "for i in conforto_melhora:\n",
    "    print i"
   ]
  },
  {
   "cell_type": "code",
   "execution_count": null,
   "metadata": {},
   "outputs": [],
   "source": []
  }
 ],
 "metadata": {
  "kernelspec": {
   "display_name": "Python 2",
   "language": "python",
   "name": "python2"
  },
  "language_info": {
   "codemirror_mode": {
    "name": "ipython",
    "version": 2
   },
   "file_extension": ".py",
   "mimetype": "text/x-python",
   "name": "python",
   "nbconvert_exporter": "python",
   "pygments_lexer": "ipython2",
   "version": "2.7.12"
  }
 },
 "nbformat": 4,
 "nbformat_minor": 2
}
