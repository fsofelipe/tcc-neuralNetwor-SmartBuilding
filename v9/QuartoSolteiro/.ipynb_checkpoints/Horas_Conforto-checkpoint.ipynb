{
 "cells": [
  {
   "cell_type": "code",
   "execution_count": 1,
   "metadata": {},
   "outputs": [],
   "source": [
    "import pandas as pd\n",
    "import numpy as np"
   ]
  },
  {
   "cell_type": "code",
   "execution_count": 2,
   "metadata": {},
   "outputs": [
    {
     "name": "stdout",
     "output_type": "stream",
     "text": [
      "48\n",
      "23\n",
      "23\n"
     ]
    }
   ],
   "source": [
    "header = ['Mes', 'Dia', 'Hora', \n",
    "         'Temperature', 'Wind_Speed', 'Wind_Direction', 'Humidity', 'Air_Density', 'Rain_Status',\n",
    "         'AreaServico_PMV', 'AreaServico_Temp', 'Circulacao_PMV', 'Circulacao_Temp', 'Casal_PMV', 'Casal_Temp', 'Banheiro_PMV', 'Banheiro_Temp', 'Jardim_PMV', 'Jardim_Temp', 'Solteiro_PMV', 'Solteiro_Temp', 'Sala_PMV', 'Sala_Temp', 'Mezanino_PMV', 'Mezanino_Temp',\n",
    "         'PortaServicoLeste', 'JanelaServicoSul', 'JanelaCasalNorte', 'PortaCasalOeste', 'JanelaCasalOeste', 'JanelaBanheiroLeste', 'PortaBanheiroOeste', 'JanelaJardimNorte', 'JanelaJardimLeste', 'JanelaSolteiroNorte', 'PortaSolteiroSul', 'JanelaSolteiroSul', 'PortaSalaNorte', 'JanelaSalaNorte', 'PortaSalaLeste', 'JanelaSalaSul', 'JanelaSalaOeste', 'PortaCozinhaLeste', 'JanelaCozinhaSul', 'JanelaMezaninoNorte', 'JanelaMezaninoSul', 'JanelaMezaninoOeste', 'JanelaSegundoSul' \n",
    "         ]\n",
    "header_input = ['Hora', 'Temperature', 'Wind_Speed', 'Wind_Direction', 'Humidity', 'Air_Density', 'Rain_Status',\n",
    "               'AreaServico_PMV', 'AreaServico_Temp', 'Circulacao_PMV', 'Circulacao_Temp', 'Casal_PMV', 'Casal_Temp', 'Banheiro_PMV', 'Banheiro_Temp', 'Jardim_PMV', 'Jardim_Temp', 'Solteiro_PMV', 'Solteiro_Temp', 'Sala_PMV', 'Sala_Temp', 'Mezanino_PMV', 'Mezanino_Temp'\n",
    "               ]\n",
    "header_output = [\n",
    "                'PortaServicoLeste', 'JanelaServicoSul', 'JanelaCasalNorte', 'PortaCasalOeste', 'JanelaCasalOeste', 'JanelaBanheiroLeste', 'PortaBanheiroOeste', 'JanelaJardimNorte', 'JanelaJardimLeste', 'JanelaSolteiroNorte', 'PortaSolteiroSul', 'JanelaSolteiroSul', 'PortaSalaNorte', 'JanelaSalaNorte', 'PortaSalaLeste', 'JanelaSalaSul', 'JanelaSalaOeste', 'PortaCozinhaLeste', 'JanelaCozinhaSul', 'JanelaMezaninoNorte', 'JanelaMezaninoSul', 'JanelaMezaninoOeste', 'JanelaSegundoSul'\n",
    "                ]\n",
    "print len(header)\n",
    "print (len(header_input))\n",
    "print (len(header_output))"
   ]
  },
  {
   "cell_type": "code",
   "execution_count": null,
   "metadata": {},
   "outputs": [],
   "source": [
    "all1 = pd.read_csv('../Data/Canguçu/simulation_all1.csv')\n",
    "all0 = pd.read_csv('../Data/Canguçu/simulation_all0.csv')\n",
    "SE = pd.read_csv('../Data/Canguçu/simulation_SE_001.csv')"
   ]
  }
 ],
 "metadata": {
  "kernelspec": {
   "display_name": "Python 2",
   "language": "python",
   "name": "python2"
  },
  "language_info": {
   "codemirror_mode": {
    "name": "ipython",
    "version": 2
   },
   "file_extension": ".py",
   "mimetype": "text/x-python",
   "name": "python",
   "nbconvert_exporter": "python",
   "pygments_lexer": "ipython2",
   "version": "2.7.12"
  }
 },
 "nbformat": 4,
 "nbformat_minor": 2
}
