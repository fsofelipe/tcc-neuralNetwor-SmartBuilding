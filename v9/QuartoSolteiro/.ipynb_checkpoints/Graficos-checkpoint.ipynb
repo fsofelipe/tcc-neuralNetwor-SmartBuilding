{
 "cells": [
  {
   "cell_type": "code",
   "execution_count": 51,
   "metadata": {},
   "outputs": [],
   "source": [
    "import pandas as pd\n",
    "import numpy as np\n",
    "import matplotlib.pyplot as plt\n",
    "%matplotlib inline  "
   ]
  },
  {
   "cell_type": "code",
   "execution_count": 2,
   "metadata": {},
   "outputs": [],
   "source": [
    "headerInput = ['Hora', 'Temperature', 'Wind_Speed', 'Wind_Direction', 'Humidity', 'Air_Density', 'Rain_Status', 'Jardim_PMV','Jardim_Temp','Sala_PMV','Sala_Temp','Mezanino_PMV','Mezanino_Temp']\n",
    "headerOutput = ['PortaSalaNorte','JanelaSalaNorte','PortaSalaLeste','JanelaSalaSul','JanelaSalaOeste','PortaCozinhaLeste','JanelaCozinhaSul','JanelaMezaninoNorte','JanelaMezaninoSul','JanelaMezaninoOeste']\n",
    "header = headerInput+headerOutput"
   ]
  },
  {
   "cell_type": "code",
   "execution_count": 3,
   "metadata": {},
   "outputs": [],
   "source": [
    "all1 = pd.read_csv('../../Data/Canguçu/simulation_all1.csv')\n",
    "all0 = pd.read_csv('../../Data/Canguçu/simulation_all0.csv')\n",
    "SE   = pd.read_csv('../../Data/Canguçu/simulation_SE_001.csv')"
   ]
  },
  {
   "cell_type": "code",
   "execution_count": 60,
   "metadata": {},
   "outputs": [],
   "source": [
    "all1_new = all1.copy()"
   ]
  },
  {
   "cell_type": "code",
   "execution_count": 65,
   "metadata": {},
   "outputs": [],
   "source": [
    "def categoriza(row):\n",
    "    if -3.5 < min([row['Sala_PMV'], row['Mezanino_PMV']]) <= -2.5:\n",
    "        return -3\n",
    "    if -2.5 < min([row['Sala_PMV'], row['Mezanino_PMV']]) <= -1.5:\n",
    "        return -2\n",
    "    if -1.5 < min([row['Sala_PMV'], row['Mezanino_PMV']]) <= -0.5:\n",
    "        return -1\n",
    "    if -0.5 < min([row['Sala_PMV'], row['Mezanino_PMV']]) <= +0.5:\n",
    "        return 0\n",
    "    if +0.5 < max([row['Sala_PMV'], row['Mezanino_PMV']]) <= +1.5:\n",
    "        return 1\n",
    "    if +1.5 < max([row['Sala_PMV'], row['Mezanino_PMV']]) <= +2.5:\n",
    "        return 2\n",
    "    if +2.5 < max([row['Sala_PMV'], row['Mezanino_PMV']]) <= +3.5:\n",
    "        return 3\n",
    "    if min([row['Sala_PMV'], row['Mezanino_PMV']]) < -3.5:\n",
    "        return -4\n",
    "    if max([row['Sala_PMV'], row['Mezanino_PMV']]) > 3.5:\n",
    "        return 4\n",
    "    \n",
    "    \n",
    "\n",
    "#df['col2'] = df['col1'].apply(func)\n"
   ]
  },
  {
   "cell_type": "code",
   "execution_count": 66,
   "metadata": {},
   "outputs": [],
   "source": [
    "all1_new['Categoria'] = all1_new.apply(categoriza, axis=1)"
   ]
  },
  {
   "cell_type": "code",
   "execution_count": 67,
   "metadata": {
    "scrolled": true
   },
   "outputs": [
    {
     "data": {
      "text/plain": [
       "0      -2\n",
       "1      -3\n",
       "2      -3\n",
       "3      -3\n",
       "4      -3\n",
       "5      -3\n",
       "6      -3\n",
       "7      -3\n",
       "8      -3\n",
       "9      -3\n",
       "10     -2\n",
       "11     -2\n",
       "12     -2\n",
       "13     -1\n",
       "14     -2\n",
       "15     -2\n",
       "16     -2\n",
       "17     -3\n",
       "18     -3\n",
       "19     -3\n",
       "20     -3\n",
       "21     -3\n",
       "22     -3\n",
       "23     -3\n",
       "24     -3\n",
       "25     -3\n",
       "26     -4\n",
       "27     -4\n",
       "28     -4\n",
       "29     -4\n",
       "       ..\n",
       "8730   -1\n",
       "8731   -1\n",
       "8732   -2\n",
       "8733   -2\n",
       "8734   -2\n",
       "8735   -2\n",
       "8736   -3\n",
       "8737   -3\n",
       "8738   -3\n",
       "8739   -3\n",
       "8740   -3\n",
       "8741   -3\n",
       "8742   -3\n",
       "8743   -3\n",
       "8744   -2\n",
       "8745   -2\n",
       "8746   -2\n",
       "8747   -2\n",
       "8748   -2\n",
       "8749   -2\n",
       "8750   -2\n",
       "8751   -2\n",
       "8752   -2\n",
       "8753   -2\n",
       "8754   -2\n",
       "8755   -3\n",
       "8756   -3\n",
       "8757   -3\n",
       "8758   -3\n",
       "8759   -3\n",
       "Name: Categoria, Length: 8760, dtype: int64"
      ]
     },
     "execution_count": 67,
     "metadata": {},
     "output_type": "execute_result"
    }
   ],
   "source": [
    "all1_new['Categoria']"
   ]
  },
  {
   "cell_type": "code",
   "execution_count": 74,
   "metadata": {
    "scrolled": true
   },
   "outputs": [
    {
     "data": {
      "text/plain": [
       "<matplotlib.axes._subplots.AxesSubplot at 0x7fca92c27810>"
      ]
     },
     "execution_count": 74,
     "metadata": {},
     "output_type": "execute_result"
    },
    {
     "data": {
      "image/png": "[encoded data removed]",
      "text/plain": [
       "<matplotlib.figure.Figure at 0x7fca9294df10>"
      ]
     },
     "metadata": {},
     "output_type": "display_data"
    }
   ],
   "source": [
    "plt.rcParams['figure.figsize'] = (15,5)\n",
    "all1_new['Categoria'].plot(kind='hist', bins=[-4, -3, -2, -1, 0, 1, 2, 3, 4], )"
   ]
  },
  {
   "cell_type": "code",
   "execution_count": 80,
   "metadata": {},
   "outputs": [
    {
     "data": {
      "text/plain": [
       "476"
      ]
     },
     "execution_count": 80,
     "metadata": {},
     "output_type": "execute_result"
    }
   ],
   "source": [
    "all1_new[all1_new['Categoria'] == 0].Categoria.count()  "
   ]
  },
  {
   "cell_type": "code",
   "execution_count": 86,
   "metadata": {},
   "outputs": [
    {
     "data": {
      "image/png": "[encoded data removed]",
      "text/plain": [
       "<matplotlib.figure.Figure at 0x7fca90acc110>"
      ]
     },
     "metadata": {},
     "output_type": "display_data"
    }
   ],
   "source": [
    "height = [all1_new[all1_new['Categoria'] == -4].Categoria.count(),\n",
    "          all1_new[all1_new['Categoria'] == -3].Categoria.count(),\n",
    "          all1_new[all1_new['Categoria'] == -2].Categoria.count(),\n",
    "          all1_new[all1_new['Categoria'] == -1].Categoria.count(),\n",
    "          all1_new[all1_new['Categoria'] == 0].Categoria.count(),  \n",
    "          all1_new[all1_new['Categoria'] == 1].Categoria.count(), \n",
    "          all1_new[all1_new['Categoria'] == 2].Categoria.count(),  \n",
    "          all1_new[all1_new['Categoria'] == 3].Categoria.count(), \n",
    "          all1_new[all1_new['Categoria'] == 4].Categoria.count()]\n",
    "bars = ('-4', '-3', '-2', '-1', '0', '1', '2', '3', '4')\n",
    "y_pos = [0,1,2, 3, 4, 5, 6, 7, 8]\n",
    " \n",
    "# Create bars\n",
    "plt.bar(y_pos, height)\n",
    " \n",
    "# Create names on the x-axis\n",
    "plt.xticks(y_pos, bars)\n",
    " \n",
    "# Show graphic\n",
    "plt.show()\n",
    "\n"
   ]
  },
  {
   "cell_type": "code",
   "execution_count": 71,
   "metadata": {},
   "outputs": [
    {
     "data": {
      "text/plain": [
       "Mes                      2.000000\n",
       "Dia                      3.000000\n",
       "Hora                     8.000000\n",
       "Temperature             21.800000\n",
       "Wind_Speed               8.100000\n",
       "Wind_Direction         355.000000\n",
       "Humidity                82.000000\n",
       "Air_Density              1.108764\n",
       "Rain_Status              0.000000\n",
       "AreaServico_PMV         -1.713186\n",
       "AreaServico_Temp        21.311219\n",
       "Circulacao_PMV          -1.606318\n",
       "Circulacao_Temp         21.729896\n",
       "Casal_PMV               -4.265582\n",
       "Casal_Temp              22.049040\n",
       "Banheiro_PMV            -1.684123\n",
       "Banheiro_Temp           21.529304\n",
       "Jardim_PMV              -1.458138\n",
       "Jardim_Temp             21.556053\n",
       "Solteiro_PMV            -4.266934\n",
       "Solteiro_Temp           22.034894\n",
       "Sala_PMV                -2.194538\n",
       "Sala_Temp               21.555047\n",
       "Mezanino_PMV            -1.604278\n",
       "Mezanino_Temp           21.779528\n",
       "PortaServicoLeste        0.000000\n",
       "JanelaServicoSul         1.000000\n",
       "JanelaCasalNorte         1.000000\n",
       "PortaCasalOeste          0.000000\n",
       "JanelaCasalOeste         1.000000\n",
       "JanelaBanheiroLeste      1.000000\n",
       "PortaBanheiroOeste       0.000000\n",
       "JanelaJardimNorte        1.000000\n",
       "JanelaJardimLeste        1.000000\n",
       "JanelaSolteiroNorte      1.000000\n",
       "PortaSolteiroSul         0.000000\n",
       "JanelaSolteiroSul        1.000000\n",
       "PortaSalaNorte           0.000000\n",
       "JanelaSalaNorte          1.000000\n",
       "PortaSalaLeste           1.000000\n",
       "JanelaSalaSul            1.000000\n",
       "JanelaSalaOeste          1.000000\n",
       "PortaCozinhaLeste        1.000000\n",
       "JanelaCozinhaSul         1.000000\n",
       "JanelaMezaninoNorte      1.000000\n",
       "JanelaMezaninoSul        1.000000\n",
       "JanelaMezaninoOeste      1.000000\n",
       "JanelaSegundoSul         0.000000\n",
       "Categoria               -2.000000\n",
       "Name: 800, dtype: float64"
      ]
     },
     "execution_count": 71,
     "metadata": {},
     "output_type": "execute_result"
    }
   ],
   "source": [
    "all1_new.iloc[800]"
   ]
  },
  {
   "cell_type": "code",
   "execution_count": null,
   "metadata": {},
   "outputs": [],
   "source": []
  }
 ],
 "metadata": {
  "kernelspec": {
   "display_name": "Python 2",
   "language": "python",
   "name": "python2"
  },
  "language_info": {
   "codemirror_mode": {
    "name": "ipython",
    "version": 2
   },
   "file_extension": ".py",
   "mimetype": "text/x-python",
   "name": "python",
   "nbconvert_exporter": "python",
   "pygments_lexer": "ipython2",
   "version": "2.7.12"
  }
 },
 "nbformat": 4,
 "nbformat_minor": 2
}
