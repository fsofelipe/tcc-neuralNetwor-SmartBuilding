{
 "cells": [
  {
   "cell_type": "markdown",
   "metadata": {},
   "source": [
    "# Avaliacao da simulação com atuação da rede neural:\n",
    "Melhora qualquer <br>\n",
    "Melhora significativa"
   ]
  },
  {
   "cell_type": "code",
   "execution_count": 1,
   "metadata": {},
   "outputs": [],
   "source": [
    "import pandas as pd\n",
    "import numpy as np"
   ]
  },
  {
   "cell_type": "code",
   "execution_count": 2,
   "metadata": {},
   "outputs": [],
   "source": [
    "headerInput = ['Hora', 'Temperature', 'Wind_Speed', 'Wind_Direction', 'Humidity', 'Air_Density', 'Rain_Status', 'Solteiro_PMV', 'Solteiro_Temp', 'Circulacao_PMV', 'Circulacao_Temp']\n",
    "headerOutput = ['JanelaSolteiroNorte', 'PortaSolteiroSul', 'SolteiroSul']"
   ]
  },
  {
   "cell_type": "code",
   "execution_count": null,
   "metadata": {},
   "outputs": [],
   "source": [
    "headerInput = ['Temperature', 'Wind_Speed', 'Wind_Direction', 'Humidity', 'Air_Density', 'Solteiro_PMV', 'Solteiro_Temp', 'Circulacao_PMV', 'Circulacao_Temp']\n",
    "headerOutput = ['JanelaSolteiroNorte', 'PortaSolteiroSul', 'SolteiroSul']"
   ]
  },
  {
   "cell_type": "code",
   "execution_count": 3,
   "metadata": {},
   "outputs": [],
   "source": [
    "header = headerInput+headerOutput"
   ]
  },
  {
   "cell_type": "code",
   "execution_count": 2,
   "metadata": {},
   "outputs": [],
   "source": [
    "def is_better(dataFrame, it, PMV_label1):\n",
    "    \"\"\"it = iterator\"\"\"\n",
    "    it = int(it)\n",
    "    if (it > 0 and it < (dataFrame['Temperature'].count() - 1)):\n",
    "        if (abs(dataFrame.iloc[it - 1][PMV_label1]) >= abs(dataFrame.iloc[it][PMV_label1])):\n",
    "            return True\n",
    "        else:\n",
    "            return False\n",
    "    else:\n",
    "        return False\n",
    "    \n",
    "    #return (dataFrame.iloc(it))"
   ]
  },
  {
   "cell_type": "code",
   "execution_count": 3,
   "metadata": {},
   "outputs": [],
   "source": [
    "def is_better_sig(dataFrame, it, PMV_label1):\n",
    "    \"\"\"it = iterator\"\"\"\n",
    "    it = int(it)\n",
    "    if (it > 0 and it < (dataFrame['Temperature'].count() - 1)):\n",
    "        if ((abs(dataFrame.iloc[it - 1][PMV_label1]) - abs(dataFrame.iloc[it][PMV_label1])) >= (abs(dataFrame.iloc[it][PMV_label1]) * 0.1)):\n",
    "            return True\n",
    "        else:\n",
    "            return False\n",
    "    else:\n",
    "        return False"
   ]
  },
  {
   "cell_type": "markdown",
   "metadata": {},
   "source": [
    "#### Gera lista de leitura de arquivo \n",
    "#### Seleciona o dataset"
   ]
  },
  {
   "cell_type": "code",
   "execution_count": 15,
   "metadata": {},
   "outputs": [],
   "source": [
    "dataset = '11'\n",
    "pmv = 'Solteiro_PMV'"
   ]
  },
  {
   "cell_type": "code",
   "execution_count": 16,
   "metadata": {},
   "outputs": [],
   "source": [
    "all1 = pd.read_csv('../../Data/Canguçu/simulation_all1.csv')\n",
    "all0 = pd.read_csv('../../Data/Canguçu/simulation_all0.csv')\n",
    "SE   = pd.read_csv('../../Data/Canguçu/simulation_SE_Solteiro.csv')"
   ]
  },
  {
   "cell_type": "markdown",
   "metadata": {},
   "source": [
    "# Avalia qualquer melhora"
   ]
  },
  {
   "cell_type": "code",
   "execution_count": 6,
   "metadata": {},
   "outputs": [
    {
     "name": "stdout",
     "output_type": "stream",
     "text": [
      "SE: 46.7465753425% | total: 4095\n",
      "All_1: 92.0091324201% | total: 8060\n",
      "All_0: 49.0296803653% | total: 4295\n"
     ]
    }
   ],
   "source": [
    "c = 0\n",
    "for i in xrange(1, SE['Temperature'].count() - 1):\n",
    "    if (is_better(SE, i, pmv)):\n",
    "        c = c + 1\n",
    "\n",
    "print \"SE: \" +  str((c * 100.0)/8760.0) + \"%\" + \" | total: \" + str(c)\n",
    "\n",
    "for i in xrange(1, all1['Temperature'].count() - 1):\n",
    "    if (is_better(all1, i, pmv)):\n",
    "        c = c + 1\n",
    "\n",
    "print \"All_1: \" +  str((c * 100.0)/8760.0) + \"%\" + \" | total: \" + str(c)\n",
    "\n",
    "\n",
    "c = 0\n",
    "for i in xrange(1, all0['Temperature'].count() - 1):\n",
    "    if (is_better(all0, i, pmv)):\n",
    "        #print i\n",
    "        c = c + 1\n",
    "\n",
    "print \"All_0: \" +  str((c * 100.0)/8760.0) + \"%\" + \" | total: \" + str(c)"
   ]
  },
  {
   "cell_type": "code",
   "execution_count": 7,
   "metadata": {},
   "outputs": [],
   "source": [
    "testes = [\"%02d\" % i for i in xrange(1, 10)]"
   ]
  },
  {
   "cell_type": "code",
   "execution_count": 17,
   "metadata": {
    "scrolled": false
   },
   "outputs": [
    {
     "name": "stdout",
     "output_type": "stream",
     "text": [
      "Topologia: 01 | Conforto: 47.1347031963% | total: 4129\n",
      "Topologia: 02 | Conforto: 47.397260274% | total: 4152\n",
      "Topologia: 03 | Conforto: 47.7054794521% | total: 4179\n",
      "Topologia: 04 | Conforto: 47.5913242009% | total: 4169\n",
      "Topologia: 05 | Conforto: 47.4657534247% | total: 4158\n",
      "Topologia: 06 | Conforto: 47.3630136986% | total: 4149\n",
      "Topologia: 07 | Conforto: 47.3858447489% | total: 4151\n",
      "Topologia: 08 | Conforto: 47.6598173516% | total: 4175\n",
      "Topologia: 09 | Conforto: 47.4543378995% | total: 4157\n"
     ]
    }
   ],
   "source": [
    "for topologia in testes:\n",
    "    arquivo = pd.read_csv('Resultados/RN_d'+ dataset + '_t' + topologia +'.csv')\n",
    "    c = 0\n",
    "    for i in xrange(1, arquivo['Temperature'].count() - 1):\n",
    "        if (is_better(arquivo, i, pmv)):\n",
    "            c = c + 1\n",
    "    print (\"Topologia: \"  +topologia + \" | Conforto: \" +  str((c * 100.0)/8760.0) + \"%\" + \" | total: \" + str(c))        \n"
   ]
  },
  {
   "cell_type": "code",
   "execution_count": 12,
   "metadata": {},
   "outputs": [
    {
     "name": "stdout",
     "output_type": "stream",
     "text": [
      "150\n"
     ]
    }
   ],
   "source": [
    "randoms = [\"%03d\" % i for i in xrange(1, 151)]\n",
    "print len(randoms)"
   ]
  },
  {
   "cell_type": "code",
   "execution_count": 13,
   "metadata": {
    "scrolled": true
   },
   "outputs": [
    {
     "name": "stdout",
     "output_type": "stream",
     "text": [
      "4340\n",
      "4393\n",
      "4386\n",
      "4409\n",
      "4297\n",
      "4329\n",
      "4390\n",
      "4408\n",
      "4367\n",
      "4374\n",
      "4394\n",
      "4356\n",
      "4384\n",
      "4359\n",
      "4365\n",
      "4401\n",
      "4388\n",
      "4359\n",
      "4373\n",
      "4361\n",
      "4384\n",
      "4379\n",
      "4392\n",
      "4352\n",
      "4341\n",
      "4365\n",
      "4357\n",
      "4376\n",
      "4344\n",
      "4363\n",
      "4385\n",
      "4401\n",
      "4422\n",
      "4393\n",
      "4378\n",
      "4339\n",
      "4407\n",
      "4407\n",
      "4401\n",
      "4380\n",
      "4450\n",
      "4353\n",
      "4390\n",
      "4366\n",
      "4418\n",
      "4413\n",
      "4387\n",
      "4409\n",
      "4358\n",
      "4356\n",
      "4341\n",
      "4390\n",
      "4350\n",
      "4364\n",
      "4396\n",
      "4379\n",
      "4405\n",
      "4399\n",
      "4425\n",
      "4362\n",
      "4354\n",
      "4351\n",
      "4390\n",
      "4366\n",
      "4349\n",
      "4395\n",
      "4374\n",
      "4357\n",
      "4380\n",
      "4380\n",
      "4387\n",
      "4394\n",
      "4383\n",
      "4407\n",
      "4381\n",
      "4393\n",
      "4425\n",
      "4400\n",
      "4389\n",
      "4344\n",
      "4372\n",
      "4400\n",
      "4388\n",
      "4370\n",
      "4390\n",
      "4339\n",
      "4380\n",
      "4337\n",
      "4415\n",
      "4354\n",
      "4374\n",
      "4400\n",
      "4381\n",
      "4402\n",
      "4416\n",
      "4371\n",
      "4349\n",
      "4381\n",
      "4374\n",
      "4382\n",
      "4334\n",
      "4353\n",
      "4373\n",
      "4374\n",
      "4362\n",
      "4431\n",
      "4359\n",
      "4339\n",
      "4343\n",
      "4390\n",
      "4370\n",
      "4407\n",
      "4337\n",
      "4332\n",
      "4359\n",
      "4399\n",
      "4394\n",
      "4385\n",
      "4329\n",
      "4388\n",
      "4436\n",
      "4380\n",
      "4388\n",
      "4368\n",
      "4362\n",
      "4382\n",
      "4348\n",
      "4400\n",
      "4361\n",
      "4361\n",
      "4307\n",
      "4347\n",
      "4391\n",
      "4338\n",
      "4405\n",
      "4382\n",
      "4365\n",
      "4365\n",
      "4399\n",
      "4455\n",
      "4395\n",
      "4394\n",
      "4377\n",
      "4327\n",
      "4389\n",
      "4439\n",
      "4368\n",
      "4357\n",
      "4371\n",
      "4379\n"
     ]
    }
   ],
   "source": [
    "for arq in randoms:\n",
    "    arquivo = pd.read_csv('../../Data/Canguçu/simulation_random_' + str(arq) +'.csv')\n",
    "    c = 0\n",
    "    \n",
    "    for i in xrange(1, arquivo['Mes'].count() - 1):\n",
    "        if (is_better(arquivo, i, pmv)):\n",
    "            c = c + 1\n",
    "\n",
    "    \n",
    "    print str(c)\n",
    "\n"
   ]
  },
  {
   "cell_type": "markdown",
   "metadata": {},
   "source": [
    "# Avalia melhora significativa:"
   ]
  },
  {
   "cell_type": "code",
   "execution_count": 9,
   "metadata": {},
   "outputs": [
    {
     "name": "stdout",
     "output_type": "stream",
     "text": [
      "all0 | Conforto: 0.171232876712% | total: 15\n",
      "all1 | Conforto: 3.49315068493% | total: 306\n",
      "SE | Conforto: 6.35844748858% | total: 557\n"
     ]
    }
   ],
   "source": [
    "c = 0\n",
    "for i in xrange(1, all0['Hora'].count() - 1):\n",
    "    if (is_better_sig(all0, i, pmv)):\n",
    "        c = c + 1\n",
    "print (\"all0 | Conforto: \" +  str((c * 100.0)/8760.0) + \"%\" + \" | total: \" + str(c))  \n",
    "\n",
    "c = 0\n",
    "for i in xrange(1, all1['Hora'].count() - 1):\n",
    "    if (is_better_sig(all1, i, pmv)):\n",
    "        c = c + 1\n",
    "print (\"all1 | Conforto: \" +  str((c * 100.0)/8760.0) + \"%\" + \" | total: \" + str(c)) \n",
    "\n",
    "c=0\n",
    "for i in xrange(1, SE['Hora'].count() - 1):\n",
    "    if (is_better_sig(SE, i, pmv)):\n",
    "        c = c + 1\n",
    "print (\"SE | Conforto: \" +  str((c * 100.0)/8760.0) + \"%\" + \" | total: \" + str(c)) "
   ]
  },
  {
   "cell_type": "code",
   "execution_count": 31,
   "metadata": {},
   "outputs": [],
   "source": [
    "testes = [\"%02d\" % i for i in xrange(1, 10)]\n"
   ]
  },
  {
   "cell_type": "code",
   "execution_count": 18,
   "metadata": {
    "scrolled": true
   },
   "outputs": [
    {
     "name": "stdout",
     "output_type": "stream",
     "text": [
      "Topologia: 01 | Conforto: 4.23515981735% | total: 371\n",
      "Topologia: 02 | Conforto: 4.16666666667% | total: 365\n",
      "Topologia: 03 | Conforto: 4.04109589041% | total: 354\n",
      "Topologia: 04 | Conforto: 4.20091324201% | total: 368\n",
      "Topologia: 05 | Conforto: 4.12100456621% | total: 361\n",
      "Topologia: 06 | Conforto: 4.16666666667% | total: 365\n",
      "Topologia: 07 | Conforto: 4.23515981735% | total: 371\n",
      "Topologia: 08 | Conforto: 4.20091324201% | total: 368\n",
      "Topologia: 09 | Conforto: 4.21232876712% | total: 369\n"
     ]
    }
   ],
   "source": [
    "for topologia in testes:\n",
    "    arquivo = pd.read_csv('Resultados/RN_d'+ dataset + '_t' + topologia +'.csv')\n",
    "    c = 0\n",
    "    for i in xrange(1, arquivo['Temperature'].count() - 1):\n",
    "        if (is_better_sig(arquivo, i, pmv)):\n",
    "            c = c + 1\n",
    "    print (\"Topologia: \"  +topologia + \" | Conforto: \" +  str((c * 100.0)/8760.0) + \"%\" + \" | total: \" + str(c))        \n"
   ]
  },
  {
   "cell_type": "code",
   "execution_count": 34,
   "metadata": {},
   "outputs": [],
   "source": [
    "randoms = [\"%03d\" % i for i in xrange(1, 151)]"
   ]
  },
  {
   "cell_type": "code",
   "execution_count": 35,
   "metadata": {
    "scrolled": true
   },
   "outputs": [
    {
     "name": "stdout",
     "output_type": "stream",
     "text": [
      "655\n",
      "687\n",
      "668\n",
      "693\n",
      "655\n",
      "699\n",
      "669\n",
      "682\n",
      "682\n",
      "676\n",
      "684\n",
      "656\n",
      "632\n",
      "665\n",
      "647\n",
      "668\n",
      "660\n",
      "692\n",
      "682\n",
      "700\n",
      "647\n",
      "638\n",
      "659\n",
      "692\n",
      "685\n",
      "665\n",
      "672\n",
      "660\n",
      "661\n",
      "662\n",
      "667\n",
      "667\n",
      "675\n",
      "669\n",
      "687\n",
      "687\n",
      "664\n",
      "663\n",
      "639\n",
      "674\n",
      "652\n",
      "677\n",
      "669\n",
      "669\n",
      "688\n",
      "684\n",
      "682\n",
      "648\n",
      "669\n",
      "680\n",
      "659\n",
      "696\n",
      "692\n",
      "699\n",
      "690\n",
      "668\n",
      "665\n",
      "670\n",
      "651\n",
      "641\n",
      "663\n",
      "683\n",
      "693\n",
      "664\n",
      "658\n",
      "644\n",
      "661\n",
      "700\n",
      "709\n",
      "668\n",
      "688\n",
      "677\n",
      "676\n",
      "671\n",
      "714\n",
      "666\n",
      "689\n",
      "663\n",
      "657\n",
      "673\n",
      "668\n",
      "689\n",
      "652\n",
      "695\n",
      "672\n",
      "655\n",
      "653\n",
      "664\n",
      "659\n",
      "688\n",
      "667\n",
      "687\n",
      "676\n",
      "662\n",
      "692\n",
      "651\n",
      "652\n",
      "654\n",
      "670\n",
      "667\n",
      "665\n",
      "629\n",
      "687\n",
      "674\n",
      "674\n",
      "689\n",
      "666\n",
      "678\n",
      "690\n",
      "626\n",
      "667\n",
      "655\n",
      "666\n",
      "629\n",
      "671\n",
      "669\n",
      "689\n",
      "678\n",
      "669\n",
      "695\n",
      "686\n",
      "683\n",
      "653\n",
      "656\n",
      "694\n",
      "677\n",
      "695\n",
      "688\n",
      "680\n",
      "689\n",
      "682\n",
      "675\n",
      "674\n",
      "673\n",
      "688\n",
      "651\n",
      "645\n",
      "649\n",
      "694\n",
      "672\n",
      "639\n",
      "679\n",
      "655\n",
      "658\n",
      "676\n",
      "659\n",
      "654\n",
      "656\n",
      "661\n",
      "630\n"
     ]
    }
   ],
   "source": [
    "for arq in randoms:\n",
    "    arquivo = pd.read_csv('../../Data/Canguçu/simulation_random_' + str(arq) +'.csv')\n",
    "    c = 0\n",
    "    \n",
    "    for i in xrange(1, arquivo['Mes'].count() - 1):\n",
    "        if (is_better_sig(arquivo, i, pmv)):\n",
    "            c = c + 1\n",
    "\n",
    "    \n",
    "    print str(c)\n",
    "\n"
   ]
  },
  {
   "cell_type": "markdown",
   "metadata": {},
   "source": [
    "# Avalia horas em conforto:"
   ]
  },
  {
   "cell_type": "code",
   "execution_count": 11,
   "metadata": {},
   "outputs": [],
   "source": [
    "Range = 0.7"
   ]
  },
  {
   "cell_type": "code",
   "execution_count": 12,
   "metadata": {},
   "outputs": [
    {
     "name": "stdout",
     "output_type": "stream",
     "text": [
      "all1: 0.0% | total: 0\n",
      "all0: 1.18721461187% | total: 104\n",
      "SE: 0.0% | total: 0\n"
     ]
    }
   ],
   "source": [
    "c = all1[((all1[pmv] >= -Range) & (all1[pmv] <= Range))].Sala_PMV.count()\n",
    "print \"all1: \" + str((c * 100.0)/8760.0) + \"%\" + \" | total: \" + str(c)\n",
    "\n",
    "c = all0[((all0[pmv] >= -Range) & (all0[pmv] <= Range))].Sala_PMV.count()\n",
    "print \"all0: \" + str((c * 100.0)/8760.0) + \"%\" + \" | total: \" + str(c)\n",
    "\n",
    "c = SE[((SE[pmv] >= -Range) & (SE[pmv] <= Range))].Sala_PMV.count()\n",
    "print \"SE: \" + str((c * 100.0)/8760.0) + \"%\" + \" | total: \" + str(c)"
   ]
  },
  {
   "cell_type": "code",
   "execution_count": 20,
   "metadata": {},
   "outputs": [],
   "source": [
    "topologia = [\"%02d\" % i for i in xrange(1, 10)]"
   ]
  },
  {
   "cell_type": "code",
   "execution_count": 21,
   "metadata": {
    "scrolled": true
   },
   "outputs": [
    {
     "name": "stdout",
     "output_type": "stream",
     "text": [
      "01: 2.6598173516% | total: 233\n",
      "02: 2.70547945205% | total: 237\n",
      "03: 2.76255707763% | total: 242\n",
      "04: 2.7397260274% | total: 240\n",
      "05: 2.72831050228% | total: 239\n",
      "06: 2.71689497717% | total: 238\n",
      "07: 2.72831050228% | total: 239\n",
      "08: 2.70547945205% | total: 237\n",
      "09: 2.72831050228% | total: 239\n"
     ]
    }
   ],
   "source": [
    "for top in topologia:\n",
    "    arquivo = pd.read_csv('Resultados/RN_d'+ dataset + '_t' + top +'.csv')\n",
    "    c = 0\n",
    "    \n",
    "    x = arquivo[((arquivo[pmv] >= -Range) & (arquivo[pmv] <= Range))]\n",
    "    c = x.Temperature.count()\n",
    "    \n",
    "    print str(top)+\": \" + str((c * 100.0)/8760.0) + \"%\" + \" | total: \" + str(c)\n",
    "    \n",
    "    \n",
    "  "
   ]
  },
  {
   "cell_type": "code",
   "execution_count": 43,
   "metadata": {},
   "outputs": [],
   "source": [
    "randoms = [\"%03d\" % i for i in xrange(1, 151)]"
   ]
  },
  {
   "cell_type": "code",
   "execution_count": 44,
   "metadata": {
    "scrolled": true
   },
   "outputs": [
    {
     "name": "stdout",
     "output_type": "stream",
     "text": [
      "0\n",
      "0\n",
      "0\n",
      "0\n",
      "0\n",
      "0\n",
      "0\n",
      "0\n",
      "0\n",
      "0\n",
      "0\n",
      "0\n",
      "0\n",
      "0\n",
      "0\n",
      "0\n",
      "0\n",
      "0\n",
      "0\n",
      "0\n",
      "0\n",
      "0\n",
      "0\n",
      "0\n",
      "0\n",
      "0\n",
      "0\n",
      "0\n",
      "0\n",
      "0\n",
      "0\n",
      "0\n",
      "0\n",
      "0\n",
      "0\n",
      "0\n",
      "0\n",
      "0\n",
      "0\n",
      "0\n",
      "0\n",
      "0\n",
      "0\n",
      "0\n",
      "0\n",
      "0\n",
      "0\n",
      "0\n",
      "0\n",
      "0\n",
      "0\n",
      "0\n",
      "0\n",
      "0\n",
      "0\n",
      "0\n",
      "0\n",
      "0\n",
      "0\n",
      "0\n",
      "0\n",
      "0\n",
      "0\n",
      "0\n",
      "0\n",
      "0\n",
      "0\n",
      "0\n",
      "0\n",
      "0\n",
      "0\n",
      "0\n",
      "0\n",
      "0\n",
      "0\n",
      "0\n",
      "0\n",
      "0\n",
      "0\n",
      "0\n",
      "0\n",
      "0\n",
      "0\n",
      "0\n",
      "0\n",
      "0\n",
      "0\n",
      "0\n",
      "0\n",
      "0\n",
      "0\n",
      "0\n",
      "0\n",
      "0\n",
      "0\n",
      "0\n",
      "0\n",
      "0\n",
      "0\n",
      "0\n",
      "0\n",
      "0\n",
      "0\n",
      "0\n",
      "0\n",
      "0\n",
      "0\n",
      "0\n",
      "0\n",
      "0\n",
      "0\n",
      "0\n",
      "0\n",
      "0\n",
      "0\n",
      "0\n",
      "0\n",
      "0\n",
      "0\n",
      "0\n",
      "0\n",
      "0\n",
      "0\n",
      "0\n",
      "0\n",
      "0\n",
      "0\n",
      "0\n",
      "0\n",
      "0\n",
      "0\n",
      "0\n",
      "0\n",
      "0\n",
      "0\n",
      "0\n",
      "0\n",
      "0\n",
      "0\n",
      "0\n",
      "0\n",
      "0\n",
      "0\n",
      "0\n",
      "0\n",
      "0\n",
      "0\n",
      "0\n",
      "0\n",
      "0\n"
     ]
    }
   ],
   "source": [
    "for arq in randoms:\n",
    "    arquivo = pd.read_csv('../../Data/Canguçu/simulation_random_' + str(arq) +'.csv')\n",
    "    c = 0\n",
    "    x = arquivo[((arquivo[pmv] >= -Range) & (arquivo[pmv] <= Range))]\n",
    "    c = x.Temperature.count()\n",
    "\n",
    "    \n",
    "    print str(c)"
   ]
  },
  {
   "cell_type": "code",
   "execution_count": null,
   "metadata": {},
   "outputs": [],
   "source": []
  }
 ],
 "metadata": {
  "kernelspec": {
   "display_name": "Python 2",
   "language": "python",
   "name": "python2"
  },
  "language_info": {
   "codemirror_mode": {
    "name": "ipython",
    "version": 2
   },
   "file_extension": ".py",
   "mimetype": "text/x-python",
   "name": "python",
   "nbconvert_exporter": "python",
   "pygments_lexer": "ipython2",
   "version": "2.7.12"
  }
 },
 "nbformat": 4,
 "nbformat_minor": 2
}
