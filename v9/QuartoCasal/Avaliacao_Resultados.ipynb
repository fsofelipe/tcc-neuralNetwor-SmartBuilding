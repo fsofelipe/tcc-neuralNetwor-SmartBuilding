{
 "cells": [
  {
   "cell_type": "markdown",
   "metadata": {},
   "source": [
    "# Avaliacao da simulação com atuação da rede neural:\n",
    "Melhora qualquer <br>\n",
    "Melhora significativa"
   ]
  },
  {
   "cell_type": "code",
   "execution_count": 1,
   "metadata": {},
   "outputs": [],
   "source": [
    "import pandas as pd\n",
    "import numpy as np"
   ]
  },
  {
   "cell_type": "code",
   "execution_count": 2,
   "metadata": {},
   "outputs": [],
   "source": [
    "headerInput = ['Hora', 'Temperature', 'Wind_Speed', 'Wind_Direction', 'Humidity', 'Air_Density', 'Rain_Status', 'Casal_PMV', 'Casal_Temp', 'Circulacao_PMV', 'Circulacao_Temp']\n",
    "headerOutput = ['JanelaCasalNorte', 'PortaCasalOeste', 'JanelaCasalOeste']"
   ]
  },
  {
   "cell_type": "code",
   "execution_count": null,
   "metadata": {},
   "outputs": [],
   "source": [
    "headerInput = ['Temperature', 'Wind_Speed', 'Wind_Direction', 'Humidity', 'Air_Density', 'Casal_PMV', 'Casal_Temp', 'Circulacao_PMV', 'Circulacao_Temp']\n",
    "headerOutput = ['JanelaCasalNorte', 'PortaCasalOeste', 'JanelaCasalOeste']"
   ]
  },
  {
   "cell_type": "code",
   "execution_count": 3,
   "metadata": {},
   "outputs": [],
   "source": [
    "header = headerInput+headerOutput"
   ]
  },
  {
   "cell_type": "code",
   "execution_count": 2,
   "metadata": {},
   "outputs": [],
   "source": [
    "def is_better(dataFrame, it, PMV_label1):\n",
    "    \"\"\"it = iterator\"\"\"\n",
    "    it = int(it)\n",
    "    if (it > 0 and it < (dataFrame['Temperature'].count() - 1)):\n",
    "        if (abs(dataFrame.iloc[it - 1][PMV_label1]) >= abs(dataFrame.iloc[it][PMV_label1])):\n",
    "            return True\n",
    "        else:\n",
    "            return False\n",
    "    else:\n",
    "        return False\n",
    "    \n",
    "    #return (dataFrame.iloc(it))"
   ]
  },
  {
   "cell_type": "code",
   "execution_count": 3,
   "metadata": {},
   "outputs": [],
   "source": [
    "def is_better_sig(dataFrame, it, PMV_label1):\n",
    "    \"\"\"it = iterator\"\"\"\n",
    "    it = int(it)\n",
    "    if (it > 0 and it < (dataFrame['Temperature'].count() - 1)):\n",
    "        if ((abs(dataFrame.iloc[it - 1][PMV_label1]) - abs(dataFrame.iloc[it][PMV_label1])) >= (abs(dataFrame.iloc[it][PMV_label1]) * 0.1)):\n",
    "            return True\n",
    "        else:\n",
    "            return False\n",
    "    else:\n",
    "        return False"
   ]
  },
  {
   "cell_type": "markdown",
   "metadata": {},
   "source": [
    "#### Gera lista de leitura de arquivo \n",
    "#### Seleciona o dataset"
   ]
  },
  {
   "cell_type": "code",
   "execution_count": 16,
   "metadata": {},
   "outputs": [],
   "source": [
    "dataset = '11'\n",
    "pmv = 'Casal_PMV'"
   ]
  },
  {
   "cell_type": "code",
   "execution_count": 17,
   "metadata": {},
   "outputs": [],
   "source": [
    "all1 = pd.read_csv('../../Data/Canguçu/simulation_all1.csv')\n",
    "all0 = pd.read_csv('../../Data/Canguçu/simulation_all0.csv')\n",
    "SE   = pd.read_csv('../../Data/Canguçu/simulation_SE_Casal.csv')"
   ]
  },
  {
   "cell_type": "markdown",
   "metadata": {},
   "source": [
    "# Avalia qualquer melhora"
   ]
  },
  {
   "cell_type": "code",
   "execution_count": 6,
   "metadata": {},
   "outputs": [
    {
     "name": "stdout",
     "output_type": "stream",
     "text": [
      "SE: 50.5136986301% | total: 4425\n",
      "All_1: 96.4726027397% | total: 8451\n",
      "All_0: 52.3287671233% | total: 4584\n"
     ]
    }
   ],
   "source": [
    "c = 0\n",
    "for i in xrange(1, SE['Temperature'].count() - 1):\n",
    "    if (is_better(SE, i, pmv)):\n",
    "        c = c + 1\n",
    "\n",
    "print \"SE: \" +  str((c * 100.0)/8760.0) + \"%\" + \" | total: \" + str(c)\n",
    "\n",
    "for i in xrange(1, all1['Temperature'].count() - 1):\n",
    "    if (is_better(all1, i, pmv)):\n",
    "        c = c + 1\n",
    "\n",
    "print \"All_1: \" +  str((c * 100.0)/8760.0) + \"%\" + \" | total: \" + str(c)\n",
    "\n",
    "\n",
    "c = 0\n",
    "for i in xrange(1, all0['Temperature'].count() - 1):\n",
    "    if (is_better(all0, i, pmv)):\n",
    "        #print i\n",
    "        c = c + 1\n",
    "\n",
    "print \"All_0: \" +  str((c * 100.0)/8760.0) + \"%\" + \" | total: \" + str(c)"
   ]
  },
  {
   "cell_type": "code",
   "execution_count": 7,
   "metadata": {},
   "outputs": [],
   "source": [
    "testes = [\"%02d\" % i for i in xrange(1, 10)]"
   ]
  },
  {
   "cell_type": "code",
   "execution_count": 18,
   "metadata": {
    "scrolled": false
   },
   "outputs": [
    {
     "name": "stdout",
     "output_type": "stream",
     "text": [
      "Topologia: 01 | Conforto: 42.8538812785% | total: 3754\n",
      "Topologia: 02 | Conforto: 42.7397260274% | total: 3744\n",
      "Topologia: 03 | Conforto: 42.9680365297% | total: 3764\n",
      "Topologia: 04 | Conforto: 42.7397260274% | total: 3744\n",
      "Topologia: 05 | Conforto: 43.1050228311% | total: 3776\n",
      "Topologia: 06 | Conforto: 43.0821917808% | total: 3774\n",
      "Topologia: 07 | Conforto: 43.3333333333% | total: 3796\n",
      "Topologia: 08 | Conforto: 42.7853881279% | total: 3748\n",
      "Topologia: 09 | Conforto: 42.7168949772% | total: 3742\n"
     ]
    }
   ],
   "source": [
    "for topologia in testes:\n",
    "    arquivo = pd.read_csv('Resultados/RN_d'+ dataset + '_t' + topologia +'.csv')\n",
    "    c = 0\n",
    "    for i in xrange(1, arquivo['Temperature'].count() - 1):\n",
    "        if (is_better(arquivo, i, pmv)):\n",
    "            c = c + 1\n",
    "    print (\"Topologia: \"  + topologia + \" | Conforto: \" +  str((c * 100.0)/8760.0) + \"%\" + \" | total: \" + str(c))        \n"
   ]
  },
  {
   "cell_type": "code",
   "execution_count": 18,
   "metadata": {},
   "outputs": [
    {
     "name": "stdout",
     "output_type": "stream",
     "text": [
      "150\n"
     ]
    }
   ],
   "source": [
    "randoms = [\"%03d\" % i for i in xrange(1, 151)]\n",
    "print len(randoms)"
   ]
  },
  {
   "cell_type": "code",
   "execution_count": 19,
   "metadata": {
    "scrolled": true
   },
   "outputs": [
    {
     "name": "stdout",
     "output_type": "stream",
     "text": [
      "4612\n",
      "4510\n",
      "4573\n",
      "4560\n",
      "4610\n",
      "4509\n",
      "4623\n",
      "4581\n",
      "4589\n",
      "4555\n",
      "4530\n",
      "4567\n",
      "4569\n",
      "4581\n",
      "4558\n",
      "4547\n",
      "4598\n",
      "4607\n",
      "4584\n",
      "4601\n",
      "4570\n",
      "4565\n",
      "4607\n",
      "4548\n",
      "4580\n",
      "4577\n",
      "4604\n",
      "4581\n",
      "4557\n",
      "4576\n",
      "4607\n",
      "4565\n",
      "4610\n",
      "4597\n",
      "4567\n",
      "4578\n",
      "4589\n",
      "4593\n",
      "4570\n",
      "4558\n",
      "4622\n",
      "4560\n",
      "4616\n",
      "4541\n",
      "4517\n",
      "4592\n",
      "4589\n",
      "4582\n",
      "4580\n",
      "4578\n",
      "4544\n",
      "4620\n",
      "4622\n",
      "4578\n",
      "4598\n",
      "4554\n",
      "4566\n",
      "4546\n",
      "4567\n",
      "4607\n",
      "4594\n",
      "4625\n",
      "4622\n",
      "4574\n",
      "4620\n",
      "4588\n",
      "4522\n",
      "4588\n",
      "4564\n",
      "4615\n",
      "4572\n",
      "4567\n",
      "4580\n",
      "4573\n",
      "4580\n",
      "4583\n",
      "4574\n",
      "4555\n",
      "4584\n",
      "4581\n",
      "4565\n",
      "4503\n",
      "4551\n",
      "4621\n",
      "4561\n",
      "4576\n",
      "4590\n",
      "4571\n",
      "4606\n",
      "4615\n",
      "4568\n",
      "4589\n",
      "4576\n",
      "4526\n",
      "4568\n",
      "4618\n",
      "4580\n",
      "4607\n",
      "4550\n",
      "4537\n",
      "4585\n",
      "4534\n",
      "4576\n",
      "4528\n",
      "4565\n",
      "4579\n",
      "4577\n",
      "4551\n",
      "4574\n",
      "4560\n",
      "4605\n",
      "4591\n",
      "4593\n",
      "4535\n",
      "4592\n",
      "4566\n",
      "4556\n",
      "4543\n",
      "4599\n",
      "4521\n",
      "4574\n",
      "4563\n",
      "4536\n",
      "4534\n",
      "4539\n",
      "4618\n",
      "4585\n",
      "4551\n",
      "4628\n",
      "4527\n",
      "4610\n",
      "4570\n",
      "4531\n",
      "4600\n",
      "4575\n",
      "4565\n",
      "4627\n",
      "4654\n",
      "4562\n",
      "4618\n",
      "4580\n",
      "4563\n",
      "4599\n",
      "4600\n",
      "4560\n",
      "4509\n",
      "4586\n",
      "4576\n",
      "4530\n",
      "4531\n"
     ]
    }
   ],
   "source": [
    "for arq in randoms:\n",
    "    arquivo = pd.read_csv('../../Data/Canguçu/simulation_random_' + str(arq) +'.csv')\n",
    "    c = 0\n",
    "    \n",
    "    for i in xrange(1, arquivo['Mes'].count() - 1):\n",
    "        if (is_better(arquivo, i, pmv)):\n",
    "            c = c + 1\n",
    "\n",
    "    \n",
    "    print str(c)\n",
    "\n"
   ]
  },
  {
   "cell_type": "markdown",
   "metadata": {},
   "source": [
    "# Avalia melhora significativa:"
   ]
  },
  {
   "cell_type": "code",
   "execution_count": 9,
   "metadata": {},
   "outputs": [
    {
     "name": "stdout",
     "output_type": "stream",
     "text": [
      "all0 | Conforto: 3.98401826484% | total: 349\n",
      "all1 | Conforto: 4.22374429224% | total: 370\n",
      "SE | Conforto: 5.44520547945% | total: 477\n"
     ]
    }
   ],
   "source": [
    "c = 0\n",
    "for i in xrange(1, all0['Hora'].count() - 1):\n",
    "    if (is_better_sig(all0, i, pmv)):\n",
    "        c = c + 1\n",
    "print (\"all0 | Conforto: \" +  str((c * 100.0)/8760.0) + \"%\" + \" | total: \" + str(c))  \n",
    "\n",
    "c = 0\n",
    "for i in xrange(1, all1['Hora'].count() - 1):\n",
    "    if (is_better_sig(all1, i, pmv)):\n",
    "        c = c + 1\n",
    "print (\"all1 | Conforto: \" +  str((c * 100.0)/8760.0) + \"%\" + \" | total: \" + str(c)) \n",
    "\n",
    "c=0\n",
    "for i in xrange(1, SE['Hora'].count() - 1):\n",
    "    if (is_better_sig(SE, i, pmv)):\n",
    "        c = c + 1\n",
    "print (\"SE | Conforto: \" +  str((c * 100.0)/8760.0) + \"%\" + \" | total: \" + str(c)) "
   ]
  },
  {
   "cell_type": "code",
   "execution_count": 19,
   "metadata": {
    "scrolled": true
   },
   "outputs": [
    {
     "name": "stdout",
     "output_type": "stream",
     "text": [
      "Topologia: 01 | Conforto: 11.5525114155% | total: 1012\n",
      "Topologia: 02 | Conforto: 11.5410958904% | total: 1011\n",
      "Topologia: 03 | Conforto: 11.5296803653% | total: 1010\n",
      "Topologia: 04 | Conforto: 11.5296803653% | total: 1010\n",
      "Topologia: 05 | Conforto: 11.5296803653% | total: 1010\n",
      "Topologia: 06 | Conforto: 11.5639269406% | total: 1013\n",
      "Topologia: 07 | Conforto: 11.5639269406% | total: 1013\n",
      "Topologia: 08 | Conforto: 11.5639269406% | total: 1013\n",
      "Topologia: 09 | Conforto: 11.598173516% | total: 1016\n"
     ]
    }
   ],
   "source": [
    "for topologia in testes:\n",
    "    arquivo = pd.read_csv('Resultados/RN_d'+ dataset + '_t' + topologia +'.csv')\n",
    "    c = 0\n",
    "    for i in xrange(1, arquivo['Temperature'].count() - 1):\n",
    "        if (is_better_sig(arquivo, i, pmv)):\n",
    "            c = c + 1\n",
    "    print (\"Topologia: \"  +topologia + \" | Conforto: \" +  str((c * 100.0)/8760.0) + \"%\" + \" | total: \" + str(c))        \n"
   ]
  },
  {
   "cell_type": "code",
   "execution_count": 23,
   "metadata": {},
   "outputs": [],
   "source": [
    "randoms = [\"%03d\" % i for i in xrange(1, 151)]"
   ]
  },
  {
   "cell_type": "code",
   "execution_count": 24,
   "metadata": {
    "scrolled": true
   },
   "outputs": [
    {
     "name": "stdout",
     "output_type": "stream",
     "text": [
      "872\n",
      "908\n",
      "883\n",
      "857\n",
      "873\n",
      "880\n",
      "870\n",
      "931\n",
      "888\n",
      "831\n",
      "875\n",
      "882\n",
      "924\n",
      "885\n",
      "866\n",
      "912\n",
      "865\n",
      "879\n",
      "930\n",
      "911\n",
      "849\n",
      "913\n",
      "902\n",
      "856\n",
      "865\n",
      "881\n",
      "899\n",
      "855\n",
      "903\n",
      "895\n",
      "841\n",
      "847\n",
      "852\n",
      "879\n",
      "890\n",
      "881\n",
      "870\n",
      "863\n",
      "886\n",
      "867\n",
      "891\n",
      "828\n",
      "911\n",
      "872\n",
      "852\n",
      "896\n",
      "859\n",
      "871\n",
      "855\n",
      "911\n",
      "863\n",
      "917\n",
      "873\n",
      "886\n",
      "882\n",
      "907\n",
      "919\n",
      "831\n",
      "891\n",
      "883\n",
      "894\n",
      "881\n",
      "888\n",
      "892\n",
      "888\n",
      "862\n",
      "877\n",
      "852\n",
      "888\n",
      "852\n",
      "893\n",
      "869\n",
      "904\n",
      "898\n",
      "901\n",
      "900\n",
      "879\n",
      "888\n",
      "854\n",
      "842\n",
      "845\n",
      "881\n",
      "856\n",
      "843\n",
      "913\n",
      "900\n",
      "829\n",
      "885\n",
      "883\n",
      "903\n",
      "893\n",
      "902\n",
      "885\n",
      "871\n",
      "875\n",
      "893\n",
      "876\n",
      "901\n",
      "895\n",
      "913\n",
      "879\n",
      "875\n",
      "875\n",
      "853\n",
      "886\n",
      "899\n",
      "854\n",
      "866\n",
      "906\n",
      "876\n",
      "862\n",
      "894\n",
      "879\n",
      "875\n",
      "880\n",
      "867\n",
      "901\n",
      "878\n",
      "842\n",
      "878\n",
      "899\n",
      "902\n",
      "874\n",
      "916\n",
      "909\n",
      "880\n",
      "900\n",
      "872\n",
      "842\n",
      "836\n",
      "885\n",
      "907\n",
      "886\n",
      "870\n",
      "888\n",
      "865\n",
      "855\n",
      "863\n",
      "877\n",
      "821\n",
      "883\n",
      "909\n",
      "873\n",
      "883\n",
      "848\n",
      "875\n",
      "882\n",
      "851\n",
      "883\n",
      "902\n"
     ]
    }
   ],
   "source": [
    "for arq in randoms:\n",
    "    arquivo = pd.read_csv('../../Data/Canguçu/simulation_random_' + str(arq) +'.csv')\n",
    "    c = 0\n",
    "    \n",
    "    for i in xrange(1, arquivo['Mes'].count() - 1):\n",
    "        if (is_better_sig(arquivo, i, pmv)):\n",
    "            c = c + 1\n",
    "\n",
    "    \n",
    "    print str(c)\n",
    "\n"
   ]
  },
  {
   "cell_type": "markdown",
   "metadata": {},
   "source": [
    "# Avalia horas em conforto:"
   ]
  },
  {
   "cell_type": "code",
   "execution_count": 12,
   "metadata": {},
   "outputs": [],
   "source": [
    "Range = 0.7"
   ]
  },
  {
   "cell_type": "code",
   "execution_count": 13,
   "metadata": {},
   "outputs": [
    {
     "name": "stdout",
     "output_type": "stream",
     "text": [
      "all1: 0.0342465753425% | total: 3\n",
      "all0: 16.6894977169% | total: 1462\n",
      "SE: 1.14155251142% | total: 100\n"
     ]
    }
   ],
   "source": [
    "c = all1[((all1[pmv] >= -Range) & (all1[pmv] <= Range))].Sala_PMV.count()\n",
    "print \"all1: \" + str((c * 100.0)/8760.0) + \"%\" + \" | total: \" + str(c)\n",
    "\n",
    "c = all0[((all0[pmv] >= -Range) & (all0[pmv] <= Range))].Sala_PMV.count()\n",
    "print \"all0: \" + str((c * 100.0)/8760.0) + \"%\" + \" | total: \" + str(c)\n",
    "\n",
    "c = SE[((SE[pmv] >= -Range) & (SE[pmv] <= Range))].Sala_PMV.count()\n",
    "print \"SE: \" + str((c * 100.0)/8760.0) + \"%\" + \" | total: \" + str(c)"
   ]
  },
  {
   "cell_type": "code",
   "execution_count": 14,
   "metadata": {},
   "outputs": [],
   "source": [
    "topologia = [\"%02d\" % i for i in xrange(1, 10)]"
   ]
  },
  {
   "cell_type": "code",
   "execution_count": 20,
   "metadata": {
    "scrolled": true
   },
   "outputs": [
    {
     "name": "stdout",
     "output_type": "stream",
     "text": [
      "01: 11.8264840183% | total: 1036\n",
      "02: 12.0091324201% | total: 1052\n",
      "03: 12.5799086758% | total: 1102\n",
      "04: 11.7808219178% | total: 1032\n",
      "05: 12.5799086758% | total: 1102\n",
      "06: 12.3287671233% | total: 1080\n",
      "07: 13.2534246575% | total: 1161\n",
      "08: 12.1575342466% | total: 1065\n",
      "09: 11.8835616438% | total: 1041\n"
     ]
    }
   ],
   "source": [
    "for top in testes:\n",
    "    arquivo = pd.read_csv('Resultados/RN_d'+ dataset + '_t' + top +'.csv')\n",
    "    c = 0\n",
    "    \n",
    "    x = arquivo[((arquivo[pmv] >= -Range) & (arquivo[pmv] <= Range))]\n",
    "    c = x.Temperature.count()\n",
    "    \n",
    "    print str(top)+\": \" + str((c * 100.0)/8760.0) + \"%\" + \" | total: \" + str(c)\n",
    "    \n",
    "    \n",
    "  "
   ]
  },
  {
   "cell_type": "code",
   "execution_count": 29,
   "metadata": {},
   "outputs": [],
   "source": [
    "randoms = [\"%03d\" % i for i in xrange(1, 151)]"
   ]
  },
  {
   "cell_type": "code",
   "execution_count": 30,
   "metadata": {
    "scrolled": true
   },
   "outputs": [
    {
     "name": "stdout",
     "output_type": "stream",
     "text": [
      "5\n",
      "3\n",
      "4\n",
      "3\n",
      "5\n",
      "4\n",
      "4\n",
      "4\n",
      "2\n",
      "6\n",
      "3\n",
      "7\n",
      "5\n",
      "4\n",
      "8\n",
      "6\n",
      "5\n",
      "6\n",
      "2\n",
      "4\n",
      "2\n",
      "4\n",
      "5\n",
      "2\n",
      "5\n",
      "3\n",
      "2\n",
      "6\n",
      "5\n",
      "4\n",
      "5\n",
      "5\n",
      "3\n",
      "5\n",
      "6\n",
      "2\n",
      "6\n",
      "2\n",
      "5\n",
      "5\n",
      "4\n",
      "5\n",
      "4\n",
      "4\n",
      "2\n",
      "3\n",
      "6\n",
      "4\n",
      "5\n",
      "5\n",
      "4\n",
      "5\n",
      "4\n",
      "3\n",
      "4\n",
      "5\n",
      "3\n",
      "2\n",
      "4\n",
      "4\n",
      "4\n",
      "5\n",
      "3\n",
      "3\n",
      "3\n",
      "4\n",
      "5\n",
      "3\n",
      "5\n",
      "5\n",
      "5\n",
      "5\n",
      "3\n",
      "7\n",
      "6\n",
      "6\n",
      "7\n",
      "4\n",
      "3\n",
      "4\n",
      "3\n",
      "5\n",
      "3\n",
      "5\n",
      "4\n",
      "4\n",
      "5\n",
      "3\n",
      "6\n",
      "4\n",
      "3\n",
      "4\n",
      "7\n",
      "6\n",
      "3\n",
      "4\n",
      "3\n",
      "6\n",
      "4\n",
      "4\n",
      "6\n",
      "2\n",
      "8\n",
      "5\n",
      "8\n",
      "2\n",
      "3\n",
      "6\n",
      "4\n",
      "4\n",
      "3\n",
      "8\n",
      "3\n",
      "3\n",
      "4\n",
      "5\n",
      "5\n",
      "5\n",
      "4\n",
      "5\n",
      "4\n",
      "5\n",
      "3\n",
      "3\n",
      "5\n",
      "3\n",
      "6\n",
      "1\n",
      "4\n",
      "5\n",
      "4\n",
      "4\n",
      "3\n",
      "5\n",
      "2\n",
      "4\n",
      "7\n",
      "5\n",
      "7\n",
      "4\n",
      "4\n",
      "4\n",
      "4\n",
      "5\n",
      "4\n",
      "3\n",
      "4\n",
      "5\n",
      "4\n",
      "5\n"
     ]
    }
   ],
   "source": [
    "for arq in randoms:\n",
    "    arquivo = pd.read_csv('../../Data/Canguçu/simulation_random_' + str(arq) +'.csv')\n",
    "    c = 0\n",
    "    x = arquivo[((arquivo[pmv] >= -Range) & (arquivo[pmv] <= Range))]\n",
    "    c = x.Temperature.count()\n",
    "\n",
    "    \n",
    "    print str(c)"
   ]
  },
  {
   "cell_type": "code",
   "execution_count": null,
   "metadata": {},
   "outputs": [],
   "source": []
  }
 ],
 "metadata": {
  "kernelspec": {
   "display_name": "Python 2",
   "language": "python",
   "name": "python2"
  },
  "language_info": {
   "codemirror_mode": {
    "name": "ipython",
    "version": 2
   },
   "file_extension": ".py",
   "mimetype": "text/x-python",
   "name": "python",
   "nbconvert_exporter": "python",
   "pygments_lexer": "ipython2",
   "version": "2.7.12"
  }
 },
 "nbformat": 4,
 "nbformat_minor": 2
}
