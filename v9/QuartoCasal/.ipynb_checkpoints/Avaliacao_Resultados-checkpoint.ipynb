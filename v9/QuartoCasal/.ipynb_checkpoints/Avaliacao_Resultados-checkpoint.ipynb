{
 "cells": [
  {
   "cell_type": "markdown",
   "metadata": {},
   "source": [
    "# Avaliacao da simulação com atuação da rede neural:\n",
    "Melhora qualquer <br>\n",
    "Melhora significativa"
   ]
  },
  {
   "cell_type": "code",
   "execution_count": 1,
   "metadata": {},
   "outputs": [],
   "source": [
    "import pandas as pd\n",
    "import numpy as np"
   ]
  },
  {
   "cell_type": "code",
   "execution_count": 2,
   "metadata": {},
   "outputs": [],
   "source": [
    "headerInput = ['Hora', 'Temperature', 'Wind_Speed', 'Wind_Direction', 'Humidity', 'Air_Density', 'Rain_Status', 'Casal_PMV', 'Casal_Temp', 'Circulacao_PMV', 'Circulacao_Temp']\n",
    "headerOutput = ['JanelaCasalNorte', 'PortaCasalOeste', 'JanelaCasalOeste']"
   ]
  },
  {
   "cell_type": "code",
   "execution_count": null,
   "metadata": {},
   "outputs": [],
   "source": [
    "headerInput = ['Temperature', 'Wind_Speed', 'Wind_Direction', 'Humidity', 'Air_Density', 'Casal_PMV', 'Casal_Temp', 'Circulacao_PMV', 'Circulacao_Temp']\n",
    "headerOutput = ['JanelaCasalNorte', 'PortaCasalOeste', 'JanelaCasalOeste']"
   ]
  },
  {
   "cell_type": "code",
   "execution_count": 3,
   "metadata": {},
   "outputs": [],
   "source": [
    "header = headerInput+headerOutput"
   ]
  },
  {
   "cell_type": "code",
   "execution_count": 4,
   "metadata": {},
   "outputs": [],
   "source": [
    "def is_better(dataFrame, it, PMV_label1):\n",
    "    \"\"\"it = iterator\"\"\"\n",
    "    it = int(it)\n",
    "    if (it > 0 and it < (dataFrame['Temperature'].count() - 1)):\n",
    "        if (abs(dataFrame.iloc[it - 1][PMV_label1]) >= abs(dataFrame.iloc[it][PMV_label1])):\n",
    "            return True\n",
    "        else:\n",
    "            return False\n",
    "    else:\n",
    "        return False\n",
    "    \n",
    "    #return (dataFrame.iloc(it))"
   ]
  },
  {
   "cell_type": "code",
   "execution_count": 5,
   "metadata": {},
   "outputs": [],
   "source": [
    "def is_better_sig(dataFrame, it, PMV_label1):\n",
    "    \"\"\"it = iterator\"\"\"\n",
    "    it = int(it)\n",
    "    if (it > 0 and it < (dataFrame['Temperature'].count() - 1)):\n",
    "        if ((abs(dataFrame.iloc[it - 1][PMV_label1]) - abs(dataFrame.iloc[it][PMV_label1])) >= (abs(dataFrame.iloc[it][PMV_label1]) * 0.1)):\n",
    "            return True\n",
    "        else:\n",
    "            return False\n",
    "    else:\n",
    "        return False"
   ]
  },
  {
   "cell_type": "markdown",
   "metadata": {},
   "source": [
    "#### Gera lista de leitura de arquivo \n",
    "#### Seleciona o dataset"
   ]
  },
  {
   "cell_type": "code",
   "execution_count": 6,
   "metadata": {},
   "outputs": [],
   "source": [
    "dataset = '05'\n",
    "pmv = 'Casal_PMV'"
   ]
  },
  {
   "cell_type": "code",
   "execution_count": 7,
   "metadata": {},
   "outputs": [],
   "source": [
    "all1 = pd.read_csv('../../Data/Canguçu/simulation_all1.csv')\n",
    "all0 = pd.read_csv('../../Data/Canguçu/simulation_all0.csv')\n",
    "SE   = pd.read_csv('../../Data/Canguçu/simulation_SE_Casal.csv')"
   ]
  },
  {
   "cell_type": "markdown",
   "metadata": {},
   "source": [
    "# Avalia qualquer melhora"
   ]
  },
  {
   "cell_type": "code",
   "execution_count": 8,
   "metadata": {},
   "outputs": [
    {
     "name": "stdout",
     "output_type": "stream",
     "text": [
      "SE: 50.5136986301% | total: 4425\n",
      "All_1: 96.4726027397% | total: 8451\n",
      "All_0: 52.3287671233% | total: 4584\n"
     ]
    }
   ],
   "source": [
    "c = 0\n",
    "for i in xrange(1, SE['Temperature'].count() - 1):\n",
    "    if (is_better(SE, i, pmv)):\n",
    "        c = c + 1\n",
    "\n",
    "print \"SE: \" +  str((c * 100.0)/8760.0) + \"%\" + \" | total: \" + str(c)\n",
    "\n",
    "for i in xrange(1, all1['Temperature'].count() - 1):\n",
    "    if (is_better(all1, i, pmv)):\n",
    "        c = c + 1\n",
    "\n",
    "print \"All_1: \" +  str((c * 100.0)/8760.0) + \"%\" + \" | total: \" + str(c)\n",
    "\n",
    "\n",
    "c = 0\n",
    "for i in xrange(1, all0['Temperature'].count() - 1):\n",
    "    if (is_better(all0, i, pmv)):\n",
    "        #print i\n",
    "        c = c + 1\n",
    "\n",
    "print \"All_0: \" +  str((c * 100.0)/8760.0) + \"%\" + \" | total: \" + str(c)"
   ]
  },
  {
   "cell_type": "code",
   "execution_count": null,
   "metadata": {},
   "outputs": [],
   "source": []
  },
  {
   "cell_type": "code",
   "execution_count": 10,
   "metadata": {},
   "outputs": [],
   "source": [
    "testes = [\"%02d\" % i for i in xrange(1, 10)]"
   ]
  },
  {
   "cell_type": "code",
   "execution_count": 11,
   "metadata": {
    "scrolled": false
   },
   "outputs": [
    {
     "ename": "KeyError",
     "evalue": "'Casal_PMV'",
     "output_type": "error",
     "traceback": [
      "\u001b[0;31m---------------------------------------------------------------------------\u001b[0m",
      "\u001b[0;31mKeyError\u001b[0m                                  Traceback (most recent call last)",
      "\u001b[0;32m<ipython-input-11-f1009635ed0a>\u001b[0m in \u001b[0;36m<module>\u001b[0;34m()\u001b[0m\n\u001b[1;32m      3\u001b[0m     \u001b[0mc\u001b[0m \u001b[0;34m=\u001b[0m \u001b[0;36m0\u001b[0m\u001b[0;34m\u001b[0m\u001b[0m\n\u001b[1;32m      4\u001b[0m     \u001b[0;32mfor\u001b[0m \u001b[0mi\u001b[0m \u001b[0;32min\u001b[0m \u001b[0mxrange\u001b[0m\u001b[0;34m(\u001b[0m\u001b[0;36m1\u001b[0m\u001b[0;34m,\u001b[0m \u001b[0marquivo\u001b[0m\u001b[0;34m[\u001b[0m\u001b[0;34m'Temperature'\u001b[0m\u001b[0;34m]\u001b[0m\u001b[0;34m.\u001b[0m\u001b[0mcount\u001b[0m\u001b[0;34m(\u001b[0m\u001b[0;34m)\u001b[0m \u001b[0;34m-\u001b[0m \u001b[0;36m1\u001b[0m\u001b[0;34m)\u001b[0m\u001b[0;34m:\u001b[0m\u001b[0;34m\u001b[0m\u001b[0m\n\u001b[0;32m----> 5\u001b[0;31m         \u001b[0;32mif\u001b[0m \u001b[0;34m(\u001b[0m\u001b[0mis_better\u001b[0m\u001b[0;34m(\u001b[0m\u001b[0marquivo\u001b[0m\u001b[0;34m,\u001b[0m \u001b[0mi\u001b[0m\u001b[0;34m,\u001b[0m \u001b[0mpmv\u001b[0m\u001b[0;34m)\u001b[0m\u001b[0;34m)\u001b[0m\u001b[0;34m:\u001b[0m\u001b[0;34m\u001b[0m\u001b[0m\n\u001b[0m\u001b[1;32m      6\u001b[0m             \u001b[0mc\u001b[0m \u001b[0;34m=\u001b[0m \u001b[0mc\u001b[0m \u001b[0;34m+\u001b[0m \u001b[0;36m1\u001b[0m\u001b[0;34m\u001b[0m\u001b[0m\n\u001b[1;32m      7\u001b[0m     \u001b[0;32mprint\u001b[0m \u001b[0;34m(\u001b[0m\u001b[0;34m\"Topologia: \"\u001b[0m  \u001b[0;34m+\u001b[0m\u001b[0mtopologia\u001b[0m \u001b[0;34m+\u001b[0m \u001b[0;34m\" | Conforto: \"\u001b[0m \u001b[0;34m+\u001b[0m  \u001b[0mstr\u001b[0m\u001b[0;34m(\u001b[0m\u001b[0;34m(\u001b[0m\u001b[0mc\u001b[0m \u001b[0;34m*\u001b[0m \u001b[0;36m100.0\u001b[0m\u001b[0;34m)\u001b[0m\u001b[0;34m/\u001b[0m\u001b[0;36m8760.0\u001b[0m\u001b[0;34m)\u001b[0m \u001b[0;34m+\u001b[0m \u001b[0;34m\"%\"\u001b[0m \u001b[0;34m+\u001b[0m \u001b[0;34m\" | total: \"\u001b[0m \u001b[0;34m+\u001b[0m \u001b[0mstr\u001b[0m\u001b[0;34m(\u001b[0m\u001b[0mc\u001b[0m\u001b[0;34m)\u001b[0m\u001b[0;34m)\u001b[0m\u001b[0;34m\u001b[0m\u001b[0m\n",
      "\u001b[0;32m<ipython-input-4-be15fc56cfa4>\u001b[0m in \u001b[0;36mis_better\u001b[0;34m(dataFrame, it, PMV_label1)\u001b[0m\n\u001b[1;32m      3\u001b[0m     \u001b[0mit\u001b[0m \u001b[0;34m=\u001b[0m \u001b[0mint\u001b[0m\u001b[0;34m(\u001b[0m\u001b[0mit\u001b[0m\u001b[0;34m)\u001b[0m\u001b[0;34m\u001b[0m\u001b[0m\n\u001b[1;32m      4\u001b[0m     \u001b[0;32mif\u001b[0m \u001b[0;34m(\u001b[0m\u001b[0mit\u001b[0m \u001b[0;34m>\u001b[0m \u001b[0;36m0\u001b[0m \u001b[0;32mand\u001b[0m \u001b[0mit\u001b[0m \u001b[0;34m<\u001b[0m \u001b[0;34m(\u001b[0m\u001b[0mdataFrame\u001b[0m\u001b[0;34m[\u001b[0m\u001b[0;34m'Temperature'\u001b[0m\u001b[0;34m]\u001b[0m\u001b[0;34m.\u001b[0m\u001b[0mcount\u001b[0m\u001b[0;34m(\u001b[0m\u001b[0;34m)\u001b[0m \u001b[0;34m-\u001b[0m \u001b[0;36m1\u001b[0m\u001b[0;34m)\u001b[0m\u001b[0;34m)\u001b[0m\u001b[0;34m:\u001b[0m\u001b[0;34m\u001b[0m\u001b[0m\n\u001b[0;32m----> 5\u001b[0;31m         \u001b[0;32mif\u001b[0m \u001b[0;34m(\u001b[0m\u001b[0mabs\u001b[0m\u001b[0;34m(\u001b[0m\u001b[0mdataFrame\u001b[0m\u001b[0;34m.\u001b[0m\u001b[0miloc\u001b[0m\u001b[0;34m[\u001b[0m\u001b[0mit\u001b[0m \u001b[0;34m-\u001b[0m \u001b[0;36m1\u001b[0m\u001b[0;34m]\u001b[0m\u001b[0;34m[\u001b[0m\u001b[0mPMV_label1\u001b[0m\u001b[0;34m]\u001b[0m\u001b[0;34m)\u001b[0m \u001b[0;34m>=\u001b[0m \u001b[0mabs\u001b[0m\u001b[0;34m(\u001b[0m\u001b[0mdataFrame\u001b[0m\u001b[0;34m.\u001b[0m\u001b[0miloc\u001b[0m\u001b[0;34m[\u001b[0m\u001b[0mit\u001b[0m\u001b[0;34m]\u001b[0m\u001b[0;34m[\u001b[0m\u001b[0mPMV_label1\u001b[0m\u001b[0;34m]\u001b[0m\u001b[0;34m)\u001b[0m\u001b[0;34m)\u001b[0m\u001b[0;34m:\u001b[0m\u001b[0;34m\u001b[0m\u001b[0m\n\u001b[0m\u001b[1;32m      6\u001b[0m             \u001b[0;32mreturn\u001b[0m \u001b[0mTrue\u001b[0m\u001b[0;34m\u001b[0m\u001b[0m\n\u001b[1;32m      7\u001b[0m         \u001b[0;32melse\u001b[0m\u001b[0;34m:\u001b[0m\u001b[0;34m\u001b[0m\u001b[0m\n",
      "\u001b[0;32m/usr/local/lib/python2.7/dist-packages/pandas/core/series.pyc\u001b[0m in \u001b[0;36m__getitem__\u001b[0;34m(self, key)\u001b[0m\n\u001b[1;32m    599\u001b[0m         \u001b[0mkey\u001b[0m \u001b[0;34m=\u001b[0m \u001b[0mcom\u001b[0m\u001b[0;34m.\u001b[0m\u001b[0m_apply_if_callable\u001b[0m\u001b[0;34m(\u001b[0m\u001b[0mkey\u001b[0m\u001b[0;34m,\u001b[0m \u001b[0mself\u001b[0m\u001b[0;34m)\u001b[0m\u001b[0;34m\u001b[0m\u001b[0m\n\u001b[1;32m    600\u001b[0m         \u001b[0;32mtry\u001b[0m\u001b[0;34m:\u001b[0m\u001b[0;34m\u001b[0m\u001b[0m\n\u001b[0;32m--> 601\u001b[0;31m             \u001b[0mresult\u001b[0m \u001b[0;34m=\u001b[0m \u001b[0mself\u001b[0m\u001b[0;34m.\u001b[0m\u001b[0mindex\u001b[0m\u001b[0;34m.\u001b[0m\u001b[0mget_value\u001b[0m\u001b[0;34m(\u001b[0m\u001b[0mself\u001b[0m\u001b[0;34m,\u001b[0m \u001b[0mkey\u001b[0m\u001b[0;34m)\u001b[0m\u001b[0;34m\u001b[0m\u001b[0m\n\u001b[0m\u001b[1;32m    602\u001b[0m \u001b[0;34m\u001b[0m\u001b[0m\n\u001b[1;32m    603\u001b[0m             \u001b[0;32mif\u001b[0m \u001b[0;32mnot\u001b[0m \u001b[0mis_scalar\u001b[0m\u001b[0;34m(\u001b[0m\u001b[0mresult\u001b[0m\u001b[0;34m)\u001b[0m\u001b[0;34m:\u001b[0m\u001b[0;34m\u001b[0m\u001b[0m\n",
      "\u001b[0;32m/usr/local/lib/python2.7/dist-packages/pandas/core/indexes/base.pyc\u001b[0m in \u001b[0;36mget_value\u001b[0;34m(self, series, key)\u001b[0m\n\u001b[1;32m   2489\u001b[0m                     \u001b[0;32mraise\u001b[0m \u001b[0mInvalidIndexError\u001b[0m\u001b[0;34m(\u001b[0m\u001b[0mkey\u001b[0m\u001b[0;34m)\u001b[0m\u001b[0;34m\u001b[0m\u001b[0m\n\u001b[1;32m   2490\u001b[0m                 \u001b[0;32melse\u001b[0m\u001b[0;34m:\u001b[0m\u001b[0;34m\u001b[0m\u001b[0m\n\u001b[0;32m-> 2491\u001b[0;31m                     \u001b[0;32mraise\u001b[0m \u001b[0me1\u001b[0m\u001b[0;34m\u001b[0m\u001b[0m\n\u001b[0m\u001b[1;32m   2492\u001b[0m             \u001b[0;32mexcept\u001b[0m \u001b[0mException\u001b[0m\u001b[0;34m:\u001b[0m  \u001b[0;31m# pragma: no cover\u001b[0m\u001b[0;34m\u001b[0m\u001b[0m\n\u001b[1;32m   2493\u001b[0m                 \u001b[0;32mraise\u001b[0m \u001b[0me1\u001b[0m\u001b[0;34m\u001b[0m\u001b[0m\n",
      "\u001b[0;31mKeyError\u001b[0m: 'Casal_PMV'"
     ]
    }
   ],
   "source": [
    "for topologia in testes:\n",
    "    arquivo = pd.read_csv('Resultados/RN_d'+ dataset + '_t' + topologia +'.csv')\n",
    "    c = 0\n",
    "    for i in xrange(1, arquivo['Temperature'].count() - 1):\n",
    "        if (is_better(arquivo, i, pmv)):\n",
    "            c = c + 1\n",
    "    print (\"Topologia: \"  + topologia + \" | Conforto: \" +  str((c * 100.0)/8760.0) + \"%\" + \" | total: \" + str(c))        \n"
   ]
  },
  {
   "cell_type": "code",
   "execution_count": 28,
   "metadata": {},
   "outputs": [
    {
     "name": "stdout",
     "output_type": "stream",
     "text": [
      "150\n"
     ]
    }
   ],
   "source": [
    "randoms = [\"%03d\" % i for i in xrange(1, 151)]\n",
    "print len(randoms)"
   ]
  },
  {
   "cell_type": "code",
   "execution_count": 29,
   "metadata": {
    "scrolled": true
   },
   "outputs": [
    {
     "name": "stdout",
     "output_type": "stream",
     "text": [
      "4340\n",
      "4393\n",
      "4386\n",
      "4409\n",
      "4297\n",
      "4329\n",
      "4390\n",
      "4408\n",
      "4367\n",
      "4374\n",
      "4394\n",
      "4356\n",
      "4384\n",
      "4359\n",
      "4365\n",
      "4401\n",
      "4388\n",
      "4359\n",
      "4373\n",
      "4361\n",
      "4384\n",
      "4379\n",
      "4392\n",
      "4352\n",
      "4341\n",
      "4365\n",
      "4357\n",
      "4376\n",
      "4344\n",
      "4363\n",
      "4385\n",
      "4401\n",
      "4422\n",
      "4393\n",
      "4378\n",
      "4339\n",
      "4407\n",
      "4407\n",
      "4401\n",
      "4380\n",
      "4450\n",
      "4353\n",
      "4390\n",
      "4366\n",
      "4418\n",
      "4413\n",
      "4387\n",
      "4409\n",
      "4358\n",
      "4356\n",
      "4341\n",
      "4390\n",
      "4350\n",
      "4364\n",
      "4396\n",
      "4379\n",
      "4405\n",
      "4399\n",
      "4425\n",
      "4362\n",
      "4354\n",
      "4351\n",
      "4390\n",
      "4366\n",
      "4349\n",
      "4395\n",
      "4374\n",
      "4357\n",
      "4380\n",
      "4380\n",
      "4387\n",
      "4394\n",
      "4383\n",
      "4407\n",
      "4381\n",
      "4393\n",
      "4425\n",
      "4400\n",
      "4389\n",
      "4344\n",
      "4372\n",
      "4400\n",
      "4388\n",
      "4370\n",
      "4390\n",
      "4339\n",
      "4380\n",
      "4337\n",
      "4415\n",
      "4354\n",
      "4374\n",
      "4400\n",
      "4381\n",
      "4402\n",
      "4416\n",
      "4371\n",
      "4349\n",
      "4381\n",
      "4374\n",
      "4382\n",
      "4334\n",
      "4353\n",
      "4373\n",
      "4374\n",
      "4362\n",
      "4431\n",
      "4359\n",
      "4339\n",
      "4343\n",
      "4390\n",
      "4370\n",
      "4407\n",
      "4337\n",
      "4332\n",
      "4359\n",
      "4399\n",
      "4394\n",
      "4385\n",
      "4329\n",
      "4388\n",
      "4436\n",
      "4380\n",
      "4388\n",
      "4368\n",
      "4362\n",
      "4382\n",
      "4348\n",
      "4400\n",
      "4361\n",
      "4361\n",
      "4307\n",
      "4347\n",
      "4391\n",
      "4338\n",
      "4405\n",
      "4382\n",
      "4365\n",
      "4365\n",
      "4399\n",
      "4455\n",
      "4395\n",
      "4394\n",
      "4377\n",
      "4327\n",
      "4389\n",
      "4439\n",
      "4368\n",
      "4357\n",
      "4371\n",
      "4379\n"
     ]
    }
   ],
   "source": [
    "for arq in randoms:\n",
    "    arquivo = pd.read_csv('../../Data/Canguçu/simulation_random_' + str(arq) +'.csv')\n",
    "    c = 0\n",
    "    \n",
    "    for i in xrange(1, arquivo['Mes'].count() - 1):\n",
    "        if (is_better(arquivo, i, pmv)):\n",
    "            c = c + 1\n",
    "\n",
    "    \n",
    "    print str(c)\n",
    "\n"
   ]
  },
  {
   "cell_type": "markdown",
   "metadata": {},
   "source": [
    "# Avalia melhora significativa:"
   ]
  },
  {
   "cell_type": "code",
   "execution_count": 30,
   "metadata": {},
   "outputs": [
    {
     "name": "stdout",
     "output_type": "stream",
     "text": [
      "all0 | Conforto: 0.171232876712% | total: 15\n",
      "all1 | Conforto: 3.49315068493% | total: 306\n",
      "SE | Conforto: 6.35844748858% | total: 557\n"
     ]
    }
   ],
   "source": [
    "c = 0\n",
    "for i in xrange(1, all0['Hora'].count() - 1):\n",
    "    if (is_better_sig(all0, i, pmv)):\n",
    "        c = c + 1\n",
    "print (\"all0 | Conforto: \" +  str((c * 100.0)/8760.0) + \"%\" + \" | total: \" + str(c))  \n",
    "\n",
    "c = 0\n",
    "for i in xrange(1, all1['Hora'].count() - 1):\n",
    "    if (is_better_sig(all1, i, pmv)):\n",
    "        c = c + 1\n",
    "print (\"all1 | Conforto: \" +  str((c * 100.0)/8760.0) + \"%\" + \" | total: \" + str(c)) \n",
    "\n",
    "c=0\n",
    "for i in xrange(1, SE['Hora'].count() - 1):\n",
    "    if (is_better_sig(SE, i, pmv)):\n",
    "        c = c + 1\n",
    "print (\"SE | Conforto: \" +  str((c * 100.0)/8760.0) + \"%\" + \" | total: \" + str(c)) "
   ]
  },
  {
   "cell_type": "code",
   "execution_count": 31,
   "metadata": {},
   "outputs": [],
   "source": [
    "testes = [\"%02d\" % i for i in xrange(1, 10)]\n"
   ]
  },
  {
   "cell_type": "code",
   "execution_count": 33,
   "metadata": {
    "scrolled": true
   },
   "outputs": [
    {
     "name": "stdout",
     "output_type": "stream",
     "text": [
      "Topologia: 01 | Conforto: 6.09589041096% | total: 534\n",
      "Topologia: 02 | Conforto: 6.0502283105% | total: 530\n",
      "Topologia: 03 | Conforto: 6.07305936073% | total: 532\n",
      "Topologia: 04 | Conforto: 6.11872146119% | total: 536\n",
      "Topologia: 05 | Conforto: 6.00456621005% | total: 526\n",
      "Topologia: 06 | Conforto: 6.09589041096% | total: 534\n",
      "Topologia: 07 | Conforto: 6.08447488584% | total: 533\n",
      "Topologia: 08 | Conforto: 6.09589041096% | total: 534\n",
      "Topologia: 09 | Conforto: 6.09589041096% | total: 534\n"
     ]
    }
   ],
   "source": [
    "for topologia in testes:\n",
    "    arquivo = pd.read_csv('Resultados/RN_d'+ dataset + '_t' + topologia +'.csv')\n",
    "    c = 0\n",
    "    for i in xrange(1, arquivo['Temperature'].count() - 1):\n",
    "        if (is_better_sig(arquivo, i, pmv)):\n",
    "            c = c + 1\n",
    "    print (\"Topologia: \"  +topologia + \" | Conforto: \" +  str((c * 100.0)/8760.0) + \"%\" + \" | total: \" + str(c))        \n"
   ]
  },
  {
   "cell_type": "code",
   "execution_count": 34,
   "metadata": {},
   "outputs": [],
   "source": [
    "randoms = [\"%03d\" % i for i in xrange(1, 151)]"
   ]
  },
  {
   "cell_type": "code",
   "execution_count": 35,
   "metadata": {
    "scrolled": true
   },
   "outputs": [
    {
     "name": "stdout",
     "output_type": "stream",
     "text": [
      "655\n",
      "687\n",
      "668\n",
      "693\n",
      "655\n",
      "699\n",
      "669\n",
      "682\n",
      "682\n",
      "676\n",
      "684\n",
      "656\n",
      "632\n",
      "665\n",
      "647\n",
      "668\n",
      "660\n",
      "692\n",
      "682\n",
      "700\n",
      "647\n",
      "638\n",
      "659\n",
      "692\n",
      "685\n",
      "665\n",
      "672\n",
      "660\n",
      "661\n",
      "662\n",
      "667\n",
      "667\n",
      "675\n",
      "669\n",
      "687\n",
      "687\n",
      "664\n",
      "663\n",
      "639\n",
      "674\n",
      "652\n",
      "677\n",
      "669\n",
      "669\n",
      "688\n",
      "684\n",
      "682\n",
      "648\n",
      "669\n",
      "680\n",
      "659\n",
      "696\n",
      "692\n",
      "699\n",
      "690\n",
      "668\n",
      "665\n",
      "670\n",
      "651\n",
      "641\n",
      "663\n",
      "683\n",
      "693\n",
      "664\n",
      "658\n",
      "644\n",
      "661\n",
      "700\n",
      "709\n",
      "668\n",
      "688\n",
      "677\n",
      "676\n",
      "671\n",
      "714\n",
      "666\n",
      "689\n",
      "663\n",
      "657\n",
      "673\n",
      "668\n",
      "689\n",
      "652\n",
      "695\n",
      "672\n",
      "655\n",
      "653\n",
      "664\n",
      "659\n",
      "688\n",
      "667\n",
      "687\n",
      "676\n",
      "662\n",
      "692\n",
      "651\n",
      "652\n",
      "654\n",
      "670\n",
      "667\n",
      "665\n",
      "629\n",
      "687\n",
      "674\n",
      "674\n",
      "689\n",
      "666\n",
      "678\n",
      "690\n",
      "626\n",
      "667\n",
      "655\n",
      "666\n",
      "629\n",
      "671\n",
      "669\n",
      "689\n",
      "678\n",
      "669\n",
      "695\n",
      "686\n",
      "683\n",
      "653\n",
      "656\n",
      "694\n",
      "677\n",
      "695\n",
      "688\n",
      "680\n",
      "689\n",
      "682\n",
      "675\n",
      "674\n",
      "673\n",
      "688\n",
      "651\n",
      "645\n",
      "649\n",
      "694\n",
      "672\n",
      "639\n",
      "679\n",
      "655\n",
      "658\n",
      "676\n",
      "659\n",
      "654\n",
      "656\n",
      "661\n",
      "630\n"
     ]
    }
   ],
   "source": [
    "for arq in randoms:\n",
    "    arquivo = pd.read_csv('../../Data/Canguçu/simulation_random_' + str(arq) +'.csv')\n",
    "    c = 0\n",
    "    \n",
    "    for i in xrange(1, arquivo['Mes'].count() - 1):\n",
    "        if (is_better_sig(arquivo, i, pmv)):\n",
    "            c = c + 1\n",
    "\n",
    "    \n",
    "    print str(c)\n",
    "\n"
   ]
  },
  {
   "cell_type": "markdown",
   "metadata": {},
   "source": [
    "# Avalia horas em conforto:"
   ]
  },
  {
   "cell_type": "code",
   "execution_count": 37,
   "metadata": {},
   "outputs": [],
   "source": [
    "Range = 0.7"
   ]
  },
  {
   "cell_type": "code",
   "execution_count": 38,
   "metadata": {},
   "outputs": [
    {
     "name": "stdout",
     "output_type": "stream",
     "text": [
      "all1: 0.0% | total: 0\n",
      "all0: 1.18721461187% | total: 104\n",
      "SE: 0.0% | total: 0\n"
     ]
    }
   ],
   "source": [
    "c = all1[((all1[pmv] >= -Range) & (all1[pmv] <= Range))].Sala_PMV.count()\n",
    "print \"all1: \" + str((c * 100.0)/8760.0) + \"%\" + \" | total: \" + str(c)\n",
    "\n",
    "c = all0[((all0[pmv] >= -Range) & (all0[pmv] <= Range))].Sala_PMV.count()\n",
    "print \"all0: \" + str((c * 100.0)/8760.0) + \"%\" + \" | total: \" + str(c)\n",
    "\n",
    "c = SE[((SE[pmv] >= -Range) & (SE[pmv] <= Range))].Sala_PMV.count()\n",
    "print \"SE: \" + str((c * 100.0)/8760.0) + \"%\" + \" | total: \" + str(c)"
   ]
  },
  {
   "cell_type": "code",
   "execution_count": 39,
   "metadata": {},
   "outputs": [],
   "source": [
    "topologia = [\"%02d\" % i for i in xrange(1, 10)]"
   ]
  },
  {
   "cell_type": "code",
   "execution_count": 43,
   "metadata": {
    "scrolled": true
   },
   "outputs": [
    {
     "name": "stdout",
     "output_type": "stream",
     "text": [
      "01: 1.84931506849% | total: 162\n",
      "02: 1.84931506849% | total: 162\n",
      "03: 1.84931506849% | total: 162\n",
      "04: 1.83789954338% | total: 161\n",
      "05: 1.86073059361% | total: 163\n",
      "06: 1.86073059361% | total: 163\n",
      "07: 1.84931506849% | total: 162\n",
      "08: 1.86073059361% | total: 163\n",
      "09: 1.83789954338% | total: 161\n"
     ]
    }
   ],
   "source": [
    "for top in topologia:\n",
    "    arquivo = pd.read_csv('Resultados/RN_d'+ dataset + '_t' + top +'.csv')\n",
    "    c = 0\n",
    "    \n",
    "    x = arquivo[((arquivo[pmv] >= -Range) & (arquivo[pmv] <= Range))]\n",
    "    c = x.Temperature.count()\n",
    "    \n",
    "    print str(top)+\": \" + str((c * 100.0)/8760.0) + \"%\" + \" | total: \" + str(c)\n",
    "    \n",
    "    \n",
    "  "
   ]
  },
  {
   "cell_type": "code",
   "execution_count": 43,
   "metadata": {},
   "outputs": [],
   "source": [
    "randoms = [\"%03d\" % i for i in xrange(1, 151)]"
   ]
  },
  {
   "cell_type": "code",
   "execution_count": 44,
   "metadata": {
    "scrolled": true
   },
   "outputs": [
    {
     "name": "stdout",
     "output_type": "stream",
     "text": [
      "0\n",
      "0\n",
      "0\n",
      "0\n",
      "0\n",
      "0\n",
      "0\n",
      "0\n",
      "0\n",
      "0\n",
      "0\n",
      "0\n",
      "0\n",
      "0\n",
      "0\n",
      "0\n",
      "0\n",
      "0\n",
      "0\n",
      "0\n",
      "0\n",
      "0\n",
      "0\n",
      "0\n",
      "0\n",
      "0\n",
      "0\n",
      "0\n",
      "0\n",
      "0\n",
      "0\n",
      "0\n",
      "0\n",
      "0\n",
      "0\n",
      "0\n",
      "0\n",
      "0\n",
      "0\n",
      "0\n",
      "0\n",
      "0\n",
      "0\n",
      "0\n",
      "0\n",
      "0\n",
      "0\n",
      "0\n",
      "0\n",
      "0\n",
      "0\n",
      "0\n",
      "0\n",
      "0\n",
      "0\n",
      "0\n",
      "0\n",
      "0\n",
      "0\n",
      "0\n",
      "0\n",
      "0\n",
      "0\n",
      "0\n",
      "0\n",
      "0\n",
      "0\n",
      "0\n",
      "0\n",
      "0\n",
      "0\n",
      "0\n",
      "0\n",
      "0\n",
      "0\n",
      "0\n",
      "0\n",
      "0\n",
      "0\n",
      "0\n",
      "0\n",
      "0\n",
      "0\n",
      "0\n",
      "0\n",
      "0\n",
      "0\n",
      "0\n",
      "0\n",
      "0\n",
      "0\n",
      "0\n",
      "0\n",
      "0\n",
      "0\n",
      "0\n",
      "0\n",
      "0\n",
      "0\n",
      "0\n",
      "0\n",
      "0\n",
      "0\n",
      "0\n",
      "0\n",
      "0\n",
      "0\n",
      "0\n",
      "0\n",
      "0\n",
      "0\n",
      "0\n",
      "0\n",
      "0\n",
      "0\n",
      "0\n",
      "0\n",
      "0\n",
      "0\n",
      "0\n",
      "0\n",
      "0\n",
      "0\n",
      "0\n",
      "0\n",
      "0\n",
      "0\n",
      "0\n",
      "0\n",
      "0\n",
      "0\n",
      "0\n",
      "0\n",
      "0\n",
      "0\n",
      "0\n",
      "0\n",
      "0\n",
      "0\n",
      "0\n",
      "0\n",
      "0\n",
      "0\n",
      "0\n",
      "0\n",
      "0\n",
      "0\n",
      "0\n",
      "0\n",
      "0\n"
     ]
    }
   ],
   "source": [
    "for arq in randoms:\n",
    "    arquivo = pd.read_csv('../../Data/Canguçu/simulation_random_' + str(arq) +'.csv')\n",
    "    c = 0\n",
    "    x = arquivo[((arquivo[pmv] >= -Range) & (arquivo[pmv] <= Range))]\n",
    "    c = x.Temperature.count()\n",
    "\n",
    "    \n",
    "    print str(c)"
   ]
  },
  {
   "cell_type": "code",
   "execution_count": null,
   "metadata": {},
   "outputs": [],
   "source": []
  }
 ],
 "metadata": {
  "kernelspec": {
   "display_name": "Python 2",
   "language": "python",
   "name": "python2"
  },
  "language_info": {
   "codemirror_mode": {
    "name": "ipython",
    "version": 2
   },
   "file_extension": ".py",
   "mimetype": "text/x-python",
   "name": "python",
   "nbconvert_exporter": "python",
   "pygments_lexer": "ipython2",
   "version": "2.7.12"
  }
 },
 "nbformat": 4,
 "nbformat_minor": 2
}
